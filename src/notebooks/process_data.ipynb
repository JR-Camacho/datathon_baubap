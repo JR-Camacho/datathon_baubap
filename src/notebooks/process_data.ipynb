{
 "cells": [
  {
   "cell_type": "markdown",
   "source": [
    "Data processing"
   ],
   "metadata": {
    "collapsed": false
   }
  },
  {
   "cell_type": "code",
   "execution_count": 1,
   "outputs": [],
   "source": [
    "#Import libraries\n",
    "import pandas as pd\n",
    "import numpy as np\n",
    "import pickle\n",
    "from sklearn.impute import SimpleImputer\n",
    "from sklearn.preprocessing import LabelEncoder\n",
    "from sklearn.preprocessing import RobustScaler\n",
    "\n",
    "from src.utils.split_data import train_val_split, split_features\n",
    "from src.utils.preprocess_data import preprocess_data"
   ],
   "metadata": {
    "collapsed": false,
    "ExecuteTime": {
     "end_time": "2023-08-27T18:38:48.611941Z",
     "start_time": "2023-08-27T18:38:48.203783Z"
    }
   }
  },
  {
   "cell_type": "code",
   "execution_count": 2,
   "outputs": [],
   "source": [
    "#Load the data\n",
    "DATASET_PATH = \"../../data/raw/nn_challenge_train.pkl\"\n",
    "df = pd.read_pickle(DATASET_PATH)"
   ],
   "metadata": {
    "collapsed": false,
    "ExecuteTime": {
     "end_time": "2023-08-27T18:38:50.459203Z",
     "start_time": "2023-08-27T18:38:48.617662Z"
    }
   }
  },
  {
   "cell_type": "code",
   "execution_count": 3,
   "outputs": [],
   "source": [
    "df_t_0 = df[df[\"target\"] == 0]\n",
    "df_t_1 = df[df[\"target\"] != 0]"
   ],
   "metadata": {
    "collapsed": false,
    "ExecuteTime": {
     "end_time": "2023-08-27T18:38:53.377675Z",
     "start_time": "2023-08-27T18:38:50.463381Z"
    }
   }
  },
  {
   "cell_type": "code",
   "execution_count": 4,
   "outputs": [
    {
     "name": "stdout",
     "output_type": "stream",
     "text": [
      "66466\n",
      "405956\n"
     ]
    }
   ],
   "source": [
    "print(len(df_t_0))\n",
    "print(len(df_t_1))"
   ],
   "metadata": {
    "collapsed": false,
    "ExecuteTime": {
     "end_time": "2023-08-27T18:38:53.390824Z",
     "start_time": "2023-08-27T18:38:53.381181Z"
    }
   }
  },
  {
   "cell_type": "code",
   "execution_count": 5,
   "outputs": [],
   "source": [
    "df_t_1_sub = df_t_1.sample(n=len(df_t_0), random_state=42)"
   ],
   "metadata": {
    "collapsed": false,
    "ExecuteTime": {
     "end_time": "2023-08-27T18:38:54.775673Z",
     "start_time": "2023-08-27T18:38:54.174164Z"
    }
   }
  },
  {
   "cell_type": "code",
   "execution_count": 6,
   "outputs": [],
   "source": [
    "balanced_df = pd.concat([df_t_0, df_t_1_sub])"
   ],
   "metadata": {
    "collapsed": false,
    "ExecuteTime": {
     "end_time": "2023-08-27T18:38:57.188167Z",
     "start_time": "2023-08-27T18:38:56.990970Z"
    }
   }
  },
  {
   "cell_type": "code",
   "execution_count": 7,
   "outputs": [
    {
     "data": {
      "text/plain": "        feature_1  feature_2  feature_3  feature_4  feature_5  feature_6  \\\n22       0.661364        1.0        0.0   0.000120   0.310606   0.009740   \n23       0.672847        0.5        0.0   0.000131   0.327720   0.035065   \n36       0.728351        0.5        0.0   0.000068   0.245778   0.001299   \n67       0.575738        0.5        0.0   0.000000   0.259794   0.011688   \n72       0.505637        0.0        0.0        NaN   0.332217   0.001948   \n...           ...        ...        ...        ...        ...        ...   \n397076   0.532182        1.0        0.0   0.000031   0.203233   0.001299   \n234658   0.607332        1.0        0.0   0.000106   0.404031   0.023377   \n431068   0.677294        0.0        0.0   0.000000   0.200944   0.001948   \n103629   0.607917        1.0        0.0   0.001009   0.278486   0.012987   \n456611   0.479491        1.0        0.0   0.000277   0.615271   0.002597   \n\n        feature_7  feature_8  feature_9  feature_10  ...  feature_210  \\\n22       0.180457   0.752510   0.001050    0.500000  ...     0.000000   \n23       0.685714   0.777475   0.003627    0.000000  ...     0.054111   \n36       0.571429   0.712884   0.000604    0.000000  ...     0.000000   \n67       0.228571   0.624854   0.000986    0.000000  ...     0.000000   \n72       0.380914   0.847067   0.001845    0.666667  ...     0.055426   \n...           ...        ...        ...         ...  ...          ...   \n397076   0.000000   0.757268   0.000000         NaN  ...     0.196904   \n234658   0.285714   0.873888   0.002322    0.000000  ...     0.000000   \n431068   0.190514   0.740053   0.001559    0.500000  ...     0.035081   \n103629   0.380914   0.754901   0.001145    1.000000  ...     0.217268   \n456611   0.457143   0.659247   0.001145    0.000000  ...     0.000000   \n\n        feature_211  feature_212  feature_213  feature_214  feature_215  \\\n22         0.000000     0.000000      0.00000     0.000000     0.000000   \n23         0.097624     0.005062      0.86365     0.033398     0.156841   \n36         0.000000     0.000000      0.00000     0.000000     0.000000   \n67         0.000000     0.000000      0.00000     0.000000     0.000000   \n72         0.058180     0.001687      0.75000     0.037872     0.134145   \n...             ...          ...          ...          ...          ...   \n397076     0.181991     0.000562      0.50000     0.087432     0.261677   \n234658     0.000000     0.000000      0.00000     0.000000     0.000000   \n431068     0.075729     0.001687      0.83335     0.031148     0.103993   \n103629     0.035608     0.003937      0.77275     0.057811     0.319861   \n456611     0.000000     0.000000      0.00000     0.000000     0.000000   \n\n       feature_216  feature_217  feature_218  target  \n22        0.000000     0.000000          1.0       0  \n23        0.025219     0.002243          0.0       0  \n36        0.000000     0.000000          1.0       0  \n67        0.000000     0.000000          0.0       0  \n72        0.020597     0.003380          0.0       0  \n...            ...          ...          ...     ...  \n397076    0.181991     0.009904          1.0       1  \n234658    0.000000     0.000000          1.0       1  \n431068    0.073463     0.001517          0.0       1  \n103629    0.020597     0.004438          1.0       1  \n456611    0.000000     0.000000          0.0       1  \n\n[132932 rows x 219 columns]",
      "text/html": "<div>\n<style scoped>\n    .dataframe tbody tr th:only-of-type {\n        vertical-align: middle;\n    }\n\n    .dataframe tbody tr th {\n        vertical-align: top;\n    }\n\n    .dataframe thead th {\n        text-align: right;\n    }\n</style>\n<table border=\"1\" class=\"dataframe\">\n  <thead>\n    <tr style=\"text-align: right;\">\n      <th></th>\n      <th>feature_1</th>\n      <th>feature_2</th>\n      <th>feature_3</th>\n      <th>feature_4</th>\n      <th>feature_5</th>\n      <th>feature_6</th>\n      <th>feature_7</th>\n      <th>feature_8</th>\n      <th>feature_9</th>\n      <th>feature_10</th>\n      <th>...</th>\n      <th>feature_210</th>\n      <th>feature_211</th>\n      <th>feature_212</th>\n      <th>feature_213</th>\n      <th>feature_214</th>\n      <th>feature_215</th>\n      <th>feature_216</th>\n      <th>feature_217</th>\n      <th>feature_218</th>\n      <th>target</th>\n    </tr>\n  </thead>\n  <tbody>\n    <tr>\n      <th>22</th>\n      <td>0.661364</td>\n      <td>1.0</td>\n      <td>0.0</td>\n      <td>0.000120</td>\n      <td>0.310606</td>\n      <td>0.009740</td>\n      <td>0.180457</td>\n      <td>0.752510</td>\n      <td>0.001050</td>\n      <td>0.500000</td>\n      <td>...</td>\n      <td>0.000000</td>\n      <td>0.000000</td>\n      <td>0.000000</td>\n      <td>0.00000</td>\n      <td>0.000000</td>\n      <td>0.000000</td>\n      <td>0.000000</td>\n      <td>0.000000</td>\n      <td>1.0</td>\n      <td>0</td>\n    </tr>\n    <tr>\n      <th>23</th>\n      <td>0.672847</td>\n      <td>0.5</td>\n      <td>0.0</td>\n      <td>0.000131</td>\n      <td>0.327720</td>\n      <td>0.035065</td>\n      <td>0.685714</td>\n      <td>0.777475</td>\n      <td>0.003627</td>\n      <td>0.000000</td>\n      <td>...</td>\n      <td>0.054111</td>\n      <td>0.097624</td>\n      <td>0.005062</td>\n      <td>0.86365</td>\n      <td>0.033398</td>\n      <td>0.156841</td>\n      <td>0.025219</td>\n      <td>0.002243</td>\n      <td>0.0</td>\n      <td>0</td>\n    </tr>\n    <tr>\n      <th>36</th>\n      <td>0.728351</td>\n      <td>0.5</td>\n      <td>0.0</td>\n      <td>0.000068</td>\n      <td>0.245778</td>\n      <td>0.001299</td>\n      <td>0.571429</td>\n      <td>0.712884</td>\n      <td>0.000604</td>\n      <td>0.000000</td>\n      <td>...</td>\n      <td>0.000000</td>\n      <td>0.000000</td>\n      <td>0.000000</td>\n      <td>0.00000</td>\n      <td>0.000000</td>\n      <td>0.000000</td>\n      <td>0.000000</td>\n      <td>0.000000</td>\n      <td>1.0</td>\n      <td>0</td>\n    </tr>\n    <tr>\n      <th>67</th>\n      <td>0.575738</td>\n      <td>0.5</td>\n      <td>0.0</td>\n      <td>0.000000</td>\n      <td>0.259794</td>\n      <td>0.011688</td>\n      <td>0.228571</td>\n      <td>0.624854</td>\n      <td>0.000986</td>\n      <td>0.000000</td>\n      <td>...</td>\n      <td>0.000000</td>\n      <td>0.000000</td>\n      <td>0.000000</td>\n      <td>0.00000</td>\n      <td>0.000000</td>\n      <td>0.000000</td>\n      <td>0.000000</td>\n      <td>0.000000</td>\n      <td>0.0</td>\n      <td>0</td>\n    </tr>\n    <tr>\n      <th>72</th>\n      <td>0.505637</td>\n      <td>0.0</td>\n      <td>0.0</td>\n      <td>NaN</td>\n      <td>0.332217</td>\n      <td>0.001948</td>\n      <td>0.380914</td>\n      <td>0.847067</td>\n      <td>0.001845</td>\n      <td>0.666667</td>\n      <td>...</td>\n      <td>0.055426</td>\n      <td>0.058180</td>\n      <td>0.001687</td>\n      <td>0.75000</td>\n      <td>0.037872</td>\n      <td>0.134145</td>\n      <td>0.020597</td>\n      <td>0.003380</td>\n      <td>0.0</td>\n      <td>0</td>\n    </tr>\n    <tr>\n      <th>...</th>\n      <td>...</td>\n      <td>...</td>\n      <td>...</td>\n      <td>...</td>\n      <td>...</td>\n      <td>...</td>\n      <td>...</td>\n      <td>...</td>\n      <td>...</td>\n      <td>...</td>\n      <td>...</td>\n      <td>...</td>\n      <td>...</td>\n      <td>...</td>\n      <td>...</td>\n      <td>...</td>\n      <td>...</td>\n      <td>...</td>\n      <td>...</td>\n      <td>...</td>\n      <td>...</td>\n    </tr>\n    <tr>\n      <th>397076</th>\n      <td>0.532182</td>\n      <td>1.0</td>\n      <td>0.0</td>\n      <td>0.000031</td>\n      <td>0.203233</td>\n      <td>0.001299</td>\n      <td>0.000000</td>\n      <td>0.757268</td>\n      <td>0.000000</td>\n      <td>NaN</td>\n      <td>...</td>\n      <td>0.196904</td>\n      <td>0.181991</td>\n      <td>0.000562</td>\n      <td>0.50000</td>\n      <td>0.087432</td>\n      <td>0.261677</td>\n      <td>0.181991</td>\n      <td>0.009904</td>\n      <td>1.0</td>\n      <td>1</td>\n    </tr>\n    <tr>\n      <th>234658</th>\n      <td>0.607332</td>\n      <td>1.0</td>\n      <td>0.0</td>\n      <td>0.000106</td>\n      <td>0.404031</td>\n      <td>0.023377</td>\n      <td>0.285714</td>\n      <td>0.873888</td>\n      <td>0.002322</td>\n      <td>0.000000</td>\n      <td>...</td>\n      <td>0.000000</td>\n      <td>0.000000</td>\n      <td>0.000000</td>\n      <td>0.00000</td>\n      <td>0.000000</td>\n      <td>0.000000</td>\n      <td>0.000000</td>\n      <td>0.000000</td>\n      <td>1.0</td>\n      <td>1</td>\n    </tr>\n    <tr>\n      <th>431068</th>\n      <td>0.677294</td>\n      <td>0.0</td>\n      <td>0.0</td>\n      <td>0.000000</td>\n      <td>0.200944</td>\n      <td>0.001948</td>\n      <td>0.190514</td>\n      <td>0.740053</td>\n      <td>0.001559</td>\n      <td>0.500000</td>\n      <td>...</td>\n      <td>0.035081</td>\n      <td>0.075729</td>\n      <td>0.001687</td>\n      <td>0.83335</td>\n      <td>0.031148</td>\n      <td>0.103993</td>\n      <td>0.073463</td>\n      <td>0.001517</td>\n      <td>0.0</td>\n      <td>1</td>\n    </tr>\n    <tr>\n      <th>103629</th>\n      <td>0.607917</td>\n      <td>1.0</td>\n      <td>0.0</td>\n      <td>0.001009</td>\n      <td>0.278486</td>\n      <td>0.012987</td>\n      <td>0.380914</td>\n      <td>0.754901</td>\n      <td>0.001145</td>\n      <td>1.000000</td>\n      <td>...</td>\n      <td>0.217268</td>\n      <td>0.035608</td>\n      <td>0.003937</td>\n      <td>0.77275</td>\n      <td>0.057811</td>\n      <td>0.319861</td>\n      <td>0.020597</td>\n      <td>0.004438</td>\n      <td>1.0</td>\n      <td>1</td>\n    </tr>\n    <tr>\n      <th>456611</th>\n      <td>0.479491</td>\n      <td>1.0</td>\n      <td>0.0</td>\n      <td>0.000277</td>\n      <td>0.615271</td>\n      <td>0.002597</td>\n      <td>0.457143</td>\n      <td>0.659247</td>\n      <td>0.001145</td>\n      <td>0.000000</td>\n      <td>...</td>\n      <td>0.000000</td>\n      <td>0.000000</td>\n      <td>0.000000</td>\n      <td>0.00000</td>\n      <td>0.000000</td>\n      <td>0.000000</td>\n      <td>0.000000</td>\n      <td>0.000000</td>\n      <td>0.0</td>\n      <td>1</td>\n    </tr>\n  </tbody>\n</table>\n<p>132932 rows × 219 columns</p>\n</div>"
     },
     "execution_count": 7,
     "metadata": {},
     "output_type": "execute_result"
    }
   ],
   "source": [
    "balanced_df"
   ],
   "metadata": {
    "collapsed": false,
    "ExecuteTime": {
     "end_time": "2023-08-27T18:38:57.728562Z",
     "start_time": "2023-08-27T18:38:57.636115Z"
    }
   }
  },
  {
   "cell_type": "code",
   "execution_count": 8,
   "outputs": [
    {
     "data": {
      "text/plain": "target\n0    66466\n1    66466\nName: count, dtype: int64"
     },
     "execution_count": 8,
     "metadata": {},
     "output_type": "execute_result"
    }
   ],
   "source": [
    "balanced_df[\"target\"].value_counts()"
   ],
   "metadata": {
    "collapsed": false,
    "ExecuteTime": {
     "end_time": "2023-08-27T18:39:14.228671Z",
     "start_time": "2023-08-27T18:39:14.203864Z"
    }
   }
  },
  {
   "cell_type": "code",
   "execution_count": 9,
   "outputs": [],
   "source": [
    "balanced_df = balanced_df.drop([\"feature_15\", \"feature_119\", \"feature_139\", \"feature_148\"], axis=1)"
   ],
   "metadata": {
    "collapsed": false,
    "ExecuteTime": {
     "end_time": "2023-08-27T18:39:36.521539Z",
     "start_time": "2023-08-27T18:39:35.366913Z"
    }
   }
  },
  {
   "cell_type": "code",
   "execution_count": 10,
   "outputs": [
    {
     "data": {
      "text/plain": "feature_1      float64\nfeature_2      float32\nfeature_3      float32\nfeature_4      float32\nfeature_5      float64\n                ...   \nfeature_215    float32\nfeature_216    float32\nfeature_217    float32\nfeature_218    float32\ntarget           int32\nLength: 215, dtype: object"
     },
     "execution_count": 10,
     "metadata": {},
     "output_type": "execute_result"
    }
   ],
   "source": [
    "balanced_df.dtypes"
   ],
   "metadata": {
    "collapsed": false,
    "ExecuteTime": {
     "end_time": "2023-08-27T18:39:38.481071Z",
     "start_time": "2023-08-27T18:39:38.404612Z"
    }
   }
  },
  {
   "cell_type": "code",
   "execution_count": 11,
   "outputs": [],
   "source": [
    "X = balanced_df.drop(\"target\", axis=1)\n",
    "y = balanced_df[\"target\"].copy()"
   ],
   "metadata": {
    "collapsed": false,
    "ExecuteTime": {
     "end_time": "2023-08-27T18:39:47.961252Z",
     "start_time": "2023-08-27T18:39:47.027493Z"
    }
   }
  },
  {
   "cell_type": "code",
   "execution_count": 12,
   "outputs": [],
   "source": [
    "y = pd.DataFrame(y, columns=[\"target\"])"
   ],
   "metadata": {
    "collapsed": false,
    "ExecuteTime": {
     "end_time": "2023-08-27T18:39:56.842361Z",
     "start_time": "2023-08-27T18:39:56.812614Z"
    }
   }
  },
  {
   "cell_type": "code",
   "execution_count": 13,
   "outputs": [],
   "source": [
    "column_data_types = X.dtypes\n",
    "category_columns = column_data_types[column_data_types == 'category'].index.tolist()\n",
    "\n",
    "X_category = X[category_columns].copy()\n",
    "X_numeric = X.drop(category_columns, axis=1)"
   ],
   "metadata": {
    "collapsed": false,
    "ExecuteTime": {
     "end_time": "2023-08-27T18:41:36.180032Z",
     "start_time": "2023-08-27T18:41:34.699289Z"
    }
   }
  },
  {
   "cell_type": "code",
   "execution_count": 14,
   "outputs": [
    {
     "data": {
      "text/plain": "feature_1      float64\nfeature_2      float32\nfeature_3      float32\nfeature_4      float32\nfeature_5      float64\n                ...   \nfeature_214    float32\nfeature_215    float32\nfeature_216    float32\nfeature_217    float32\nfeature_218    float32\nLength: 206, dtype: object"
     },
     "execution_count": 14,
     "metadata": {},
     "output_type": "execute_result"
    }
   ],
   "source": [
    "X_numeric.dtypes"
   ],
   "metadata": {
    "collapsed": false,
    "ExecuteTime": {
     "end_time": "2023-08-27T18:41:38.164498Z",
     "start_time": "2023-08-27T18:41:38.120042Z"
    }
   }
  },
  {
   "cell_type": "code",
   "execution_count": 15,
   "outputs": [
    {
     "data": {
      "text/plain": "feature_17     category\nfeature_87     category\nfeature_118    category\nfeature_144    category\nfeature_147    category\nfeature_158    category\nfeature_159    category\nfeature_195    category\ndtype: object"
     },
     "execution_count": 15,
     "metadata": {},
     "output_type": "execute_result"
    }
   ],
   "source": [
    "X_category.dtypes"
   ],
   "metadata": {
    "collapsed": false,
    "ExecuteTime": {
     "end_time": "2023-08-27T18:41:39.595513Z",
     "start_time": "2023-08-27T18:41:39.540613Z"
    }
   }
  },
  {
   "cell_type": "code",
   "execution_count": 16,
   "outputs": [],
   "source": [
    "#Null values are padded\n",
    "numeric_imputer = SimpleImputer(strategy='median')\n",
    "X_numeric_padded = numeric_imputer.fit_transform(X_numeric)"
   ],
   "metadata": {
    "collapsed": false,
    "ExecuteTime": {
     "end_time": "2023-08-27T18:42:58.034992Z",
     "start_time": "2023-08-27T18:42:48.012976Z"
    }
   }
  },
  {
   "cell_type": "code",
   "execution_count": 17,
   "outputs": [],
   "source": [
    "#Null values are padded\n",
    "category_imputer = SimpleImputer(strategy='most_frequent')\n",
    "X_category_padded = category_imputer.fit_transform(X_category)"
   ],
   "metadata": {
    "collapsed": false,
    "ExecuteTime": {
     "end_time": "2023-08-27T18:42:58.295722Z",
     "start_time": "2023-08-27T18:42:58.047912Z"
    }
   }
  },
  {
   "cell_type": "code",
   "execution_count": 18,
   "outputs": [],
   "source": [
    "X_numeric_df = pd.DataFrame(X_numeric_padded, columns=X_numeric.columns, index=y.index)\n",
    "X_category_df = pd.DataFrame(X_category_padded, columns=X_category.columns, index=y.index)"
   ],
   "metadata": {
    "collapsed": false,
    "ExecuteTime": {
     "end_time": "2023-08-27T18:42:58.317089Z",
     "start_time": "2023-08-27T18:42:58.293597Z"
    }
   }
  },
  {
   "cell_type": "code",
   "execution_count": 19,
   "outputs": [],
   "source": [
    "#Encoding category features\n",
    "X_category_encoded = pd.DataFrame(index=y.index)\n",
    "\n",
    "encoders = {}\n",
    "\n",
    "for column in X_category_df.columns:\n",
    "    encoder = LabelEncoder()\n",
    "    X_category_encoded[column] = encoder.fit_transform(X_category_df[column])\n",
    "    encoders[column] = encoder"
   ],
   "metadata": {
    "collapsed": false,
    "ExecuteTime": {
     "end_time": "2023-08-27T18:43:01.364652Z",
     "start_time": "2023-08-27T18:43:00.677500Z"
    }
   }
  },
  {
   "cell_type": "code",
   "execution_count": 20,
   "outputs": [],
   "source": [
    "#Save the transformers\n",
    "EXPORT_PATH = \"../../exports/\"\n",
    "\n",
    "with open(EXPORT_PATH+'category_label_encoders.pkl', 'wb') as f:\n",
    "    pickle.dump(encoders, f)\n",
    "\n",
    "with open(EXPORT_PATH+'category_imputer.pkl', 'wb') as f:\n",
    "    pickle.dump(category_imputer, f)\n",
    "\n",
    "with open(EXPORT_PATH+'numeric_imputer.pkl', 'wb') as f:\n",
    "    pickle.dump(numeric_imputer, f)"
   ],
   "metadata": {
    "collapsed": false,
    "ExecuteTime": {
     "end_time": "2023-08-27T18:43:20.364643Z",
     "start_time": "2023-08-27T18:43:20.342537Z"
    }
   }
  },
  {
   "cell_type": "code",
   "execution_count": 21,
   "outputs": [
    {
     "data": {
      "text/plain": "feature_17     0\nfeature_87     0\nfeature_118    0\nfeature_144    0\nfeature_147    0\nfeature_158    0\nfeature_159    0\nfeature_195    0\ndtype: int64"
     },
     "execution_count": 21,
     "metadata": {},
     "output_type": "execute_result"
    }
   ],
   "source": [
    "X_category_encoded.isna().sum()"
   ],
   "metadata": {
    "collapsed": false,
    "ExecuteTime": {
     "end_time": "2023-08-27T18:43:24.213764Z",
     "start_time": "2023-08-27T18:43:24.164772Z"
    }
   }
  },
  {
   "cell_type": "code",
   "execution_count": 22,
   "outputs": [],
   "source": [
    "X_df_processed = pd.concat([X_numeric_df, X_category_encoded], axis=1)"
   ],
   "metadata": {
    "collapsed": false,
    "ExecuteTime": {
     "end_time": "2023-08-27T18:43:27.772110Z",
     "start_time": "2023-08-27T18:43:27.407020Z"
    }
   }
  },
  {
   "cell_type": "code",
   "execution_count": 23,
   "outputs": [
    {
     "data": {
      "text/plain": "feature_1      0\nfeature_2      0\nfeature_3      0\nfeature_4      0\nfeature_5      0\n              ..\nfeature_144    0\nfeature_147    0\nfeature_158    0\nfeature_159    0\nfeature_195    0\nLength: 214, dtype: int64"
     },
     "execution_count": 23,
     "metadata": {},
     "output_type": "execute_result"
    }
   ],
   "source": [
    "X_df_processed.isna().sum()"
   ],
   "metadata": {
    "collapsed": false,
    "ExecuteTime": {
     "end_time": "2023-08-27T18:43:28.571087Z",
     "start_time": "2023-08-27T18:43:28.422337Z"
    }
   }
  },
  {
   "cell_type": "code",
   "execution_count": 24,
   "outputs": [
    {
     "data": {
      "text/plain": "        feature_1  feature_2  feature_3  feature_4  feature_5  feature_6  \\\n22       0.661364        1.0        0.0   0.000120   0.310606   0.009740   \n23       0.672847        0.5        0.0   0.000131   0.327720   0.035065   \n36       0.728351        0.5        0.0   0.000068   0.245778   0.001299   \n67       0.575738        0.5        0.0   0.000000   0.259794   0.011688   \n72       0.505637        0.0        0.0   0.000049   0.332217   0.001948   \n...           ...        ...        ...        ...        ...        ...   \n397076   0.532182        1.0        0.0   0.000031   0.203233   0.001299   \n234658   0.607332        1.0        0.0   0.000106   0.404031   0.023377   \n431068   0.677294        0.0        0.0   0.000000   0.200944   0.001948   \n103629   0.607917        1.0        0.0   0.001009   0.278486   0.012987   \n456611   0.479491        1.0        0.0   0.000277   0.615271   0.002597   \n\n        feature_7  feature_8  feature_9  feature_10  ...  feature_217  \\\n22       0.180457   0.752510   0.001050    0.500000  ...     0.000000   \n23       0.685714   0.777475   0.003627    0.000000  ...     0.002243   \n36       0.571429   0.712884   0.000604    0.000000  ...     0.000000   \n67       0.228571   0.624854   0.000986    0.000000  ...     0.000000   \n72       0.380914   0.847067   0.001845    0.666667  ...     0.003380   \n...           ...        ...        ...         ...  ...          ...   \n397076   0.000000   0.757268   0.000000    0.500000  ...     0.009904   \n234658   0.285714   0.873888   0.002322    0.000000  ...     0.000000   \n431068   0.190514   0.740053   0.001559    0.500000  ...     0.001517   \n103629   0.380914   0.754901   0.001145    1.000000  ...     0.004438   \n456611   0.457143   0.659247   0.001145    0.000000  ...     0.000000   \n\n        feature_218  feature_17  feature_87  feature_118  feature_144  \\\n22              1.0           7           2            1            3   \n23              0.0           4           0            0            1   \n36              1.0           6           1            1            3   \n67              0.0           3           1            1            2   \n72              0.0           3           1            1            3   \n...             ...         ...         ...          ...          ...   \n397076          1.0           3           0            0            1   \n234658          1.0           0           2            0            1   \n431068          0.0           7           0            0            3   \n103629          1.0           3           0            2            3   \n456611          0.0           6           4            0            1   \n\n        feature_147  feature_158  feature_159  feature_195  \n22                3            5           11            4  \n23                1            6            6            2  \n36                4            6           11            4  \n67                5            0            5            5  \n72                2            1            2            1  \n...             ...          ...          ...          ...  \n397076            5            3            6            2  \n234658            1            5            6            4  \n431068            4            0           13            2  \n103629            0            1            7            1  \n456611            2            3            3            4  \n\n[132932 rows x 214 columns]",
      "text/html": "<div>\n<style scoped>\n    .dataframe tbody tr th:only-of-type {\n        vertical-align: middle;\n    }\n\n    .dataframe tbody tr th {\n        vertical-align: top;\n    }\n\n    .dataframe thead th {\n        text-align: right;\n    }\n</style>\n<table border=\"1\" class=\"dataframe\">\n  <thead>\n    <tr style=\"text-align: right;\">\n      <th></th>\n      <th>feature_1</th>\n      <th>feature_2</th>\n      <th>feature_3</th>\n      <th>feature_4</th>\n      <th>feature_5</th>\n      <th>feature_6</th>\n      <th>feature_7</th>\n      <th>feature_8</th>\n      <th>feature_9</th>\n      <th>feature_10</th>\n      <th>...</th>\n      <th>feature_217</th>\n      <th>feature_218</th>\n      <th>feature_17</th>\n      <th>feature_87</th>\n      <th>feature_118</th>\n      <th>feature_144</th>\n      <th>feature_147</th>\n      <th>feature_158</th>\n      <th>feature_159</th>\n      <th>feature_195</th>\n    </tr>\n  </thead>\n  <tbody>\n    <tr>\n      <th>22</th>\n      <td>0.661364</td>\n      <td>1.0</td>\n      <td>0.0</td>\n      <td>0.000120</td>\n      <td>0.310606</td>\n      <td>0.009740</td>\n      <td>0.180457</td>\n      <td>0.752510</td>\n      <td>0.001050</td>\n      <td>0.500000</td>\n      <td>...</td>\n      <td>0.000000</td>\n      <td>1.0</td>\n      <td>7</td>\n      <td>2</td>\n      <td>1</td>\n      <td>3</td>\n      <td>3</td>\n      <td>5</td>\n      <td>11</td>\n      <td>4</td>\n    </tr>\n    <tr>\n      <th>23</th>\n      <td>0.672847</td>\n      <td>0.5</td>\n      <td>0.0</td>\n      <td>0.000131</td>\n      <td>0.327720</td>\n      <td>0.035065</td>\n      <td>0.685714</td>\n      <td>0.777475</td>\n      <td>0.003627</td>\n      <td>0.000000</td>\n      <td>...</td>\n      <td>0.002243</td>\n      <td>0.0</td>\n      <td>4</td>\n      <td>0</td>\n      <td>0</td>\n      <td>1</td>\n      <td>1</td>\n      <td>6</td>\n      <td>6</td>\n      <td>2</td>\n    </tr>\n    <tr>\n      <th>36</th>\n      <td>0.728351</td>\n      <td>0.5</td>\n      <td>0.0</td>\n      <td>0.000068</td>\n      <td>0.245778</td>\n      <td>0.001299</td>\n      <td>0.571429</td>\n      <td>0.712884</td>\n      <td>0.000604</td>\n      <td>0.000000</td>\n      <td>...</td>\n      <td>0.000000</td>\n      <td>1.0</td>\n      <td>6</td>\n      <td>1</td>\n      <td>1</td>\n      <td>3</td>\n      <td>4</td>\n      <td>6</td>\n      <td>11</td>\n      <td>4</td>\n    </tr>\n    <tr>\n      <th>67</th>\n      <td>0.575738</td>\n      <td>0.5</td>\n      <td>0.0</td>\n      <td>0.000000</td>\n      <td>0.259794</td>\n      <td>0.011688</td>\n      <td>0.228571</td>\n      <td>0.624854</td>\n      <td>0.000986</td>\n      <td>0.000000</td>\n      <td>...</td>\n      <td>0.000000</td>\n      <td>0.0</td>\n      <td>3</td>\n      <td>1</td>\n      <td>1</td>\n      <td>2</td>\n      <td>5</td>\n      <td>0</td>\n      <td>5</td>\n      <td>5</td>\n    </tr>\n    <tr>\n      <th>72</th>\n      <td>0.505637</td>\n      <td>0.0</td>\n      <td>0.0</td>\n      <td>0.000049</td>\n      <td>0.332217</td>\n      <td>0.001948</td>\n      <td>0.380914</td>\n      <td>0.847067</td>\n      <td>0.001845</td>\n      <td>0.666667</td>\n      <td>...</td>\n      <td>0.003380</td>\n      <td>0.0</td>\n      <td>3</td>\n      <td>1</td>\n      <td>1</td>\n      <td>3</td>\n      <td>2</td>\n      <td>1</td>\n      <td>2</td>\n      <td>1</td>\n    </tr>\n    <tr>\n      <th>...</th>\n      <td>...</td>\n      <td>...</td>\n      <td>...</td>\n      <td>...</td>\n      <td>...</td>\n      <td>...</td>\n      <td>...</td>\n      <td>...</td>\n      <td>...</td>\n      <td>...</td>\n      <td>...</td>\n      <td>...</td>\n      <td>...</td>\n      <td>...</td>\n      <td>...</td>\n      <td>...</td>\n      <td>...</td>\n      <td>...</td>\n      <td>...</td>\n      <td>...</td>\n      <td>...</td>\n    </tr>\n    <tr>\n      <th>397076</th>\n      <td>0.532182</td>\n      <td>1.0</td>\n      <td>0.0</td>\n      <td>0.000031</td>\n      <td>0.203233</td>\n      <td>0.001299</td>\n      <td>0.000000</td>\n      <td>0.757268</td>\n      <td>0.000000</td>\n      <td>0.500000</td>\n      <td>...</td>\n      <td>0.009904</td>\n      <td>1.0</td>\n      <td>3</td>\n      <td>0</td>\n      <td>0</td>\n      <td>1</td>\n      <td>5</td>\n      <td>3</td>\n      <td>6</td>\n      <td>2</td>\n    </tr>\n    <tr>\n      <th>234658</th>\n      <td>0.607332</td>\n      <td>1.0</td>\n      <td>0.0</td>\n      <td>0.000106</td>\n      <td>0.404031</td>\n      <td>0.023377</td>\n      <td>0.285714</td>\n      <td>0.873888</td>\n      <td>0.002322</td>\n      <td>0.000000</td>\n      <td>...</td>\n      <td>0.000000</td>\n      <td>1.0</td>\n      <td>0</td>\n      <td>2</td>\n      <td>0</td>\n      <td>1</td>\n      <td>1</td>\n      <td>5</td>\n      <td>6</td>\n      <td>4</td>\n    </tr>\n    <tr>\n      <th>431068</th>\n      <td>0.677294</td>\n      <td>0.0</td>\n      <td>0.0</td>\n      <td>0.000000</td>\n      <td>0.200944</td>\n      <td>0.001948</td>\n      <td>0.190514</td>\n      <td>0.740053</td>\n      <td>0.001559</td>\n      <td>0.500000</td>\n      <td>...</td>\n      <td>0.001517</td>\n      <td>0.0</td>\n      <td>7</td>\n      <td>0</td>\n      <td>0</td>\n      <td>3</td>\n      <td>4</td>\n      <td>0</td>\n      <td>13</td>\n      <td>2</td>\n    </tr>\n    <tr>\n      <th>103629</th>\n      <td>0.607917</td>\n      <td>1.0</td>\n      <td>0.0</td>\n      <td>0.001009</td>\n      <td>0.278486</td>\n      <td>0.012987</td>\n      <td>0.380914</td>\n      <td>0.754901</td>\n      <td>0.001145</td>\n      <td>1.000000</td>\n      <td>...</td>\n      <td>0.004438</td>\n      <td>1.0</td>\n      <td>3</td>\n      <td>0</td>\n      <td>2</td>\n      <td>3</td>\n      <td>0</td>\n      <td>1</td>\n      <td>7</td>\n      <td>1</td>\n    </tr>\n    <tr>\n      <th>456611</th>\n      <td>0.479491</td>\n      <td>1.0</td>\n      <td>0.0</td>\n      <td>0.000277</td>\n      <td>0.615271</td>\n      <td>0.002597</td>\n      <td>0.457143</td>\n      <td>0.659247</td>\n      <td>0.001145</td>\n      <td>0.000000</td>\n      <td>...</td>\n      <td>0.000000</td>\n      <td>0.0</td>\n      <td>6</td>\n      <td>4</td>\n      <td>0</td>\n      <td>1</td>\n      <td>2</td>\n      <td>3</td>\n      <td>3</td>\n      <td>4</td>\n    </tr>\n  </tbody>\n</table>\n<p>132932 rows × 214 columns</p>\n</div>"
     },
     "execution_count": 24,
     "metadata": {},
     "output_type": "execute_result"
    }
   ],
   "source": [
    "X_df_processed"
   ],
   "metadata": {
    "collapsed": false,
    "ExecuteTime": {
     "end_time": "2023-08-27T18:43:31.173952Z",
     "start_time": "2023-08-27T18:43:31.049607Z"
    }
   }
  },
  {
   "cell_type": "code",
   "execution_count": 25,
   "outputs": [],
   "source": [
    "balanced_processed_df = pd.concat([X_df_processed, y], axis=1)"
   ],
   "metadata": {
    "collapsed": false,
    "ExecuteTime": {
     "end_time": "2023-08-27T18:43:34.332146Z",
     "start_time": "2023-08-27T18:43:33.709253Z"
    }
   }
  },
  {
   "cell_type": "code",
   "execution_count": 26,
   "outputs": [
    {
     "data": {
      "text/plain": "        feature_1  feature_2  feature_3  feature_4  feature_5  feature_6  \\\n22       0.661364        1.0        0.0   0.000120   0.310606   0.009740   \n23       0.672847        0.5        0.0   0.000131   0.327720   0.035065   \n36       0.728351        0.5        0.0   0.000068   0.245778   0.001299   \n67       0.575738        0.5        0.0   0.000000   0.259794   0.011688   \n72       0.505637        0.0        0.0   0.000049   0.332217   0.001948   \n...           ...        ...        ...        ...        ...        ...   \n397076   0.532182        1.0        0.0   0.000031   0.203233   0.001299   \n234658   0.607332        1.0        0.0   0.000106   0.404031   0.023377   \n431068   0.677294        0.0        0.0   0.000000   0.200944   0.001948   \n103629   0.607917        1.0        0.0   0.001009   0.278486   0.012987   \n456611   0.479491        1.0        0.0   0.000277   0.615271   0.002597   \n\n        feature_7  feature_8  feature_9  feature_10  ...  feature_218  \\\n22       0.180457   0.752510   0.001050    0.500000  ...          1.0   \n23       0.685714   0.777475   0.003627    0.000000  ...          0.0   \n36       0.571429   0.712884   0.000604    0.000000  ...          1.0   \n67       0.228571   0.624854   0.000986    0.000000  ...          0.0   \n72       0.380914   0.847067   0.001845    0.666667  ...          0.0   \n...           ...        ...        ...         ...  ...          ...   \n397076   0.000000   0.757268   0.000000    0.500000  ...          1.0   \n234658   0.285714   0.873888   0.002322    0.000000  ...          1.0   \n431068   0.190514   0.740053   0.001559    0.500000  ...          0.0   \n103629   0.380914   0.754901   0.001145    1.000000  ...          1.0   \n456611   0.457143   0.659247   0.001145    0.000000  ...          0.0   \n\n        feature_17  feature_87  feature_118  feature_144  feature_147  \\\n22               7           2            1            3            3   \n23               4           0            0            1            1   \n36               6           1            1            3            4   \n67               3           1            1            2            5   \n72               3           1            1            3            2   \n...            ...         ...          ...          ...          ...   \n397076           3           0            0            1            5   \n234658           0           2            0            1            1   \n431068           7           0            0            3            4   \n103629           3           0            2            3            0   \n456611           6           4            0            1            2   \n\n        feature_158  feature_159  feature_195  target  \n22                5           11            4       0  \n23                6            6            2       0  \n36                6           11            4       0  \n67                0            5            5       0  \n72                1            2            1       0  \n...             ...          ...          ...     ...  \n397076            3            6            2       1  \n234658            5            6            4       1  \n431068            0           13            2       1  \n103629            1            7            1       1  \n456611            3            3            4       1  \n\n[132932 rows x 215 columns]",
      "text/html": "<div>\n<style scoped>\n    .dataframe tbody tr th:only-of-type {\n        vertical-align: middle;\n    }\n\n    .dataframe tbody tr th {\n        vertical-align: top;\n    }\n\n    .dataframe thead th {\n        text-align: right;\n    }\n</style>\n<table border=\"1\" class=\"dataframe\">\n  <thead>\n    <tr style=\"text-align: right;\">\n      <th></th>\n      <th>feature_1</th>\n      <th>feature_2</th>\n      <th>feature_3</th>\n      <th>feature_4</th>\n      <th>feature_5</th>\n      <th>feature_6</th>\n      <th>feature_7</th>\n      <th>feature_8</th>\n      <th>feature_9</th>\n      <th>feature_10</th>\n      <th>...</th>\n      <th>feature_218</th>\n      <th>feature_17</th>\n      <th>feature_87</th>\n      <th>feature_118</th>\n      <th>feature_144</th>\n      <th>feature_147</th>\n      <th>feature_158</th>\n      <th>feature_159</th>\n      <th>feature_195</th>\n      <th>target</th>\n    </tr>\n  </thead>\n  <tbody>\n    <tr>\n      <th>22</th>\n      <td>0.661364</td>\n      <td>1.0</td>\n      <td>0.0</td>\n      <td>0.000120</td>\n      <td>0.310606</td>\n      <td>0.009740</td>\n      <td>0.180457</td>\n      <td>0.752510</td>\n      <td>0.001050</td>\n      <td>0.500000</td>\n      <td>...</td>\n      <td>1.0</td>\n      <td>7</td>\n      <td>2</td>\n      <td>1</td>\n      <td>3</td>\n      <td>3</td>\n      <td>5</td>\n      <td>11</td>\n      <td>4</td>\n      <td>0</td>\n    </tr>\n    <tr>\n      <th>23</th>\n      <td>0.672847</td>\n      <td>0.5</td>\n      <td>0.0</td>\n      <td>0.000131</td>\n      <td>0.327720</td>\n      <td>0.035065</td>\n      <td>0.685714</td>\n      <td>0.777475</td>\n      <td>0.003627</td>\n      <td>0.000000</td>\n      <td>...</td>\n      <td>0.0</td>\n      <td>4</td>\n      <td>0</td>\n      <td>0</td>\n      <td>1</td>\n      <td>1</td>\n      <td>6</td>\n      <td>6</td>\n      <td>2</td>\n      <td>0</td>\n    </tr>\n    <tr>\n      <th>36</th>\n      <td>0.728351</td>\n      <td>0.5</td>\n      <td>0.0</td>\n      <td>0.000068</td>\n      <td>0.245778</td>\n      <td>0.001299</td>\n      <td>0.571429</td>\n      <td>0.712884</td>\n      <td>0.000604</td>\n      <td>0.000000</td>\n      <td>...</td>\n      <td>1.0</td>\n      <td>6</td>\n      <td>1</td>\n      <td>1</td>\n      <td>3</td>\n      <td>4</td>\n      <td>6</td>\n      <td>11</td>\n      <td>4</td>\n      <td>0</td>\n    </tr>\n    <tr>\n      <th>67</th>\n      <td>0.575738</td>\n      <td>0.5</td>\n      <td>0.0</td>\n      <td>0.000000</td>\n      <td>0.259794</td>\n      <td>0.011688</td>\n      <td>0.228571</td>\n      <td>0.624854</td>\n      <td>0.000986</td>\n      <td>0.000000</td>\n      <td>...</td>\n      <td>0.0</td>\n      <td>3</td>\n      <td>1</td>\n      <td>1</td>\n      <td>2</td>\n      <td>5</td>\n      <td>0</td>\n      <td>5</td>\n      <td>5</td>\n      <td>0</td>\n    </tr>\n    <tr>\n      <th>72</th>\n      <td>0.505637</td>\n      <td>0.0</td>\n      <td>0.0</td>\n      <td>0.000049</td>\n      <td>0.332217</td>\n      <td>0.001948</td>\n      <td>0.380914</td>\n      <td>0.847067</td>\n      <td>0.001845</td>\n      <td>0.666667</td>\n      <td>...</td>\n      <td>0.0</td>\n      <td>3</td>\n      <td>1</td>\n      <td>1</td>\n      <td>3</td>\n      <td>2</td>\n      <td>1</td>\n      <td>2</td>\n      <td>1</td>\n      <td>0</td>\n    </tr>\n    <tr>\n      <th>...</th>\n      <td>...</td>\n      <td>...</td>\n      <td>...</td>\n      <td>...</td>\n      <td>...</td>\n      <td>...</td>\n      <td>...</td>\n      <td>...</td>\n      <td>...</td>\n      <td>...</td>\n      <td>...</td>\n      <td>...</td>\n      <td>...</td>\n      <td>...</td>\n      <td>...</td>\n      <td>...</td>\n      <td>...</td>\n      <td>...</td>\n      <td>...</td>\n      <td>...</td>\n      <td>...</td>\n    </tr>\n    <tr>\n      <th>397076</th>\n      <td>0.532182</td>\n      <td>1.0</td>\n      <td>0.0</td>\n      <td>0.000031</td>\n      <td>0.203233</td>\n      <td>0.001299</td>\n      <td>0.000000</td>\n      <td>0.757268</td>\n      <td>0.000000</td>\n      <td>0.500000</td>\n      <td>...</td>\n      <td>1.0</td>\n      <td>3</td>\n      <td>0</td>\n      <td>0</td>\n      <td>1</td>\n      <td>5</td>\n      <td>3</td>\n      <td>6</td>\n      <td>2</td>\n      <td>1</td>\n    </tr>\n    <tr>\n      <th>234658</th>\n      <td>0.607332</td>\n      <td>1.0</td>\n      <td>0.0</td>\n      <td>0.000106</td>\n      <td>0.404031</td>\n      <td>0.023377</td>\n      <td>0.285714</td>\n      <td>0.873888</td>\n      <td>0.002322</td>\n      <td>0.000000</td>\n      <td>...</td>\n      <td>1.0</td>\n      <td>0</td>\n      <td>2</td>\n      <td>0</td>\n      <td>1</td>\n      <td>1</td>\n      <td>5</td>\n      <td>6</td>\n      <td>4</td>\n      <td>1</td>\n    </tr>\n    <tr>\n      <th>431068</th>\n      <td>0.677294</td>\n      <td>0.0</td>\n      <td>0.0</td>\n      <td>0.000000</td>\n      <td>0.200944</td>\n      <td>0.001948</td>\n      <td>0.190514</td>\n      <td>0.740053</td>\n      <td>0.001559</td>\n      <td>0.500000</td>\n      <td>...</td>\n      <td>0.0</td>\n      <td>7</td>\n      <td>0</td>\n      <td>0</td>\n      <td>3</td>\n      <td>4</td>\n      <td>0</td>\n      <td>13</td>\n      <td>2</td>\n      <td>1</td>\n    </tr>\n    <tr>\n      <th>103629</th>\n      <td>0.607917</td>\n      <td>1.0</td>\n      <td>0.0</td>\n      <td>0.001009</td>\n      <td>0.278486</td>\n      <td>0.012987</td>\n      <td>0.380914</td>\n      <td>0.754901</td>\n      <td>0.001145</td>\n      <td>1.000000</td>\n      <td>...</td>\n      <td>1.0</td>\n      <td>3</td>\n      <td>0</td>\n      <td>2</td>\n      <td>3</td>\n      <td>0</td>\n      <td>1</td>\n      <td>7</td>\n      <td>1</td>\n      <td>1</td>\n    </tr>\n    <tr>\n      <th>456611</th>\n      <td>0.479491</td>\n      <td>1.0</td>\n      <td>0.0</td>\n      <td>0.000277</td>\n      <td>0.615271</td>\n      <td>0.002597</td>\n      <td>0.457143</td>\n      <td>0.659247</td>\n      <td>0.001145</td>\n      <td>0.000000</td>\n      <td>...</td>\n      <td>0.0</td>\n      <td>6</td>\n      <td>4</td>\n      <td>0</td>\n      <td>1</td>\n      <td>2</td>\n      <td>3</td>\n      <td>3</td>\n      <td>4</td>\n      <td>1</td>\n    </tr>\n  </tbody>\n</table>\n<p>132932 rows × 215 columns</p>\n</div>"
     },
     "execution_count": 26,
     "metadata": {},
     "output_type": "execute_result"
    }
   ],
   "source": [
    "balanced_processed_df"
   ],
   "metadata": {
    "collapsed": false,
    "ExecuteTime": {
     "end_time": "2023-08-27T18:43:35.371075Z",
     "start_time": "2023-08-27T18:43:35.251698Z"
    }
   }
  },
  {
   "cell_type": "code",
   "execution_count": 27,
   "outputs": [
    {
     "data": {
      "text/plain": "target\n0    66466\n1    66466\nName: count, dtype: int64"
     },
     "execution_count": 27,
     "metadata": {},
     "output_type": "execute_result"
    }
   ],
   "source": [
    "balanced_processed_df['target'].value_counts()"
   ],
   "metadata": {
    "collapsed": false,
    "ExecuteTime": {
     "end_time": "2023-08-27T18:43:39.276955Z",
     "start_time": "2023-08-27T18:43:39.254703Z"
    }
   }
  },
  {
   "cell_type": "code",
   "execution_count": 28,
   "outputs": [
    {
     "data": {
      "text/plain": "array([0, 1], dtype=int32)"
     },
     "execution_count": 28,
     "metadata": {},
     "output_type": "execute_result"
    }
   ],
   "source": [
    "balanced_processed_df['target'].unique()"
   ],
   "metadata": {
    "collapsed": false,
    "ExecuteTime": {
     "end_time": "2023-08-27T18:43:42.797560Z",
     "start_time": "2023-08-27T18:43:42.756927Z"
    }
   }
  },
  {
   "cell_type": "code",
   "execution_count": 29,
   "outputs": [
    {
     "data": {
      "text/plain": "Series([], dtype: bool)"
     },
     "execution_count": 29,
     "metadata": {},
     "output_type": "execute_result"
    }
   ],
   "source": [
    "is_null = balanced_processed_df.isna().any()\n",
    "is_null[is_null]"
   ],
   "metadata": {
    "collapsed": false,
    "ExecuteTime": {
     "end_time": "2023-08-27T18:43:47.217887Z",
     "start_time": "2023-08-27T18:43:46.011654Z"
    }
   }
  },
  {
   "cell_type": "code",
   "execution_count": 30,
   "outputs": [],
   "source": [
    "X_processed = balanced_processed_df.drop(\"target\", axis=1)"
   ],
   "metadata": {
    "collapsed": false,
    "ExecuteTime": {
     "end_time": "2023-08-27T18:43:59.910429Z",
     "start_time": "2023-08-27T18:43:59.895126Z"
    }
   }
  },
  {
   "cell_type": "code",
   "execution_count": 31,
   "outputs": [],
   "source": [
    "#Scale data\n",
    "scaler = RobustScaler()\n",
    "X_balanced_processed = scaler.fit_transform(X_processed.copy())\n",
    "\n",
    "X_balanced_processed_scaled_df = pd.DataFrame(X_balanced_processed, columns=X_df_processed.columns, index=y.index)"
   ],
   "metadata": {
    "collapsed": false,
    "ExecuteTime": {
     "end_time": "2023-08-27T18:44:09.972645Z",
     "start_time": "2023-08-27T18:44:07.220746Z"
    }
   }
  },
  {
   "cell_type": "code",
   "execution_count": 32,
   "outputs": [],
   "source": [
    "balanced_processed_scaled_df = pd.concat([X_balanced_processed_scaled_df, y], axis=1)"
   ],
   "metadata": {
    "collapsed": false,
    "ExecuteTime": {
     "end_time": "2023-08-27T18:44:14.817993Z",
     "start_time": "2023-08-27T18:44:14.646405Z"
    }
   }
  },
  {
   "cell_type": "code",
   "execution_count": 33,
   "outputs": [
    {
     "data": {
      "text/plain": "feature_1      0\nfeature_2      0\nfeature_3      0\nfeature_4      0\nfeature_5      0\n              ..\nfeature_147    0\nfeature_158    0\nfeature_159    0\nfeature_195    0\ntarget         0\nLength: 215, dtype: int64"
     },
     "execution_count": 33,
     "metadata": {},
     "output_type": "execute_result"
    }
   ],
   "source": [
    "balanced_processed_scaled_df.isna().sum()"
   ],
   "metadata": {
    "collapsed": false,
    "ExecuteTime": {
     "end_time": "2023-08-27T18:44:15.784641Z",
     "start_time": "2023-08-27T18:44:15.707546Z"
    }
   }
  },
  {
   "cell_type": "code",
   "execution_count": 34,
   "outputs": [],
   "source": [
    "#Split the train, and validation set\n",
    "train_set, val_set = train_val_split(balanced_processed_scaled_df)"
   ],
   "metadata": {
    "collapsed": false,
    "ExecuteTime": {
     "end_time": "2023-08-27T18:44:35.475097Z",
     "start_time": "2023-08-27T18:44:34.626754Z"
    }
   }
  },
  {
   "cell_type": "code",
   "execution_count": 35,
   "outputs": [],
   "source": [
    "#Split the train, and validation set without scaled\n",
    "train_set_original, val_set_original = train_val_split(balanced_processed_df)"
   ],
   "metadata": {
    "collapsed": false,
    "ExecuteTime": {
     "end_time": "2023-08-27T18:44:49.527795Z",
     "start_time": "2023-08-27T18:44:48.227211Z"
    }
   }
  },
  {
   "cell_type": "code",
   "execution_count": 36,
   "outputs": [
    {
     "name": "stdout",
     "output_type": "stream",
     "text": [
      "112992\n",
      "19940\n",
      "112992\n",
      "19940\n"
     ]
    }
   ],
   "source": [
    "print(len(train_set))\n",
    "print(len(val_set))\n",
    "print(len(train_set_original))\n",
    "print(len(val_set_original))"
   ],
   "metadata": {
    "collapsed": false,
    "ExecuteTime": {
     "end_time": "2023-08-27T18:44:56.620774Z",
     "start_time": "2023-08-27T18:44:56.609115Z"
    }
   }
  },
  {
   "cell_type": "code",
   "execution_count": 37,
   "outputs": [],
   "source": [
    "#Split the inputs and labels\n",
    "X_train, y_train = split_features(train_set, \"target\")\n",
    "X_val, y_val = split_features(val_set, \"target\")"
   ],
   "metadata": {
    "collapsed": false,
    "ExecuteTime": {
     "end_time": "2023-08-27T18:45:10.634713Z",
     "start_time": "2023-08-27T18:45:10.463821Z"
    }
   }
  },
  {
   "cell_type": "code",
   "execution_count": 38,
   "outputs": [],
   "source": [
    "X_train_original, y_train_original = split_features(train_set_original, \"target\")\n",
    "X_val_original, y_val_original = split_features(val_set_original, \"target\")"
   ],
   "metadata": {
    "collapsed": false,
    "ExecuteTime": {
     "end_time": "2023-08-27T18:45:14.039816Z",
     "start_time": "2023-08-27T18:45:12.407841Z"
    }
   }
  },
  {
   "cell_type": "code",
   "execution_count": 39,
   "outputs": [
    {
     "data": {
      "text/plain": "        feature_1  feature_2  feature_3  feature_4  feature_5  feature_6  \\\n22026   -0.115445        0.0        0.0  -0.373402  -0.243591   0.916667   \n187587   0.002386       -1.0        0.0  61.453959  -0.227537   0.500000   \n386192   0.071340        0.0        0.0  -0.373402  -0.232410  -0.041667   \n353343  -0.448292        0.0        0.0  -0.373402  -0.487079   0.750000   \n186313  -1.052741        0.0        0.0   0.000000  -0.032318   6.208333   \n...           ...        ...        ...        ...        ...        ...   \n153537  -1.348937        1.0        0.0  -0.373402   1.253944   1.583333   \n270676  -0.642716        0.0        0.0  -0.019182  -0.371776   1.625000   \n100803   0.091785        0.0        0.0   0.014066  -0.308113  -0.083333   \n63977   -0.984365       -1.0        0.0   2.109974  -0.819176   4.000000   \n366120   0.538687        1.0        0.0   2.607417   0.631466   0.416667   \n\n        feature_7  feature_8  feature_9  feature_10  ...  feature_217  \\\n22026    1.500000  -0.132275   3.540540        0.30  ...     0.168777   \n187587  -0.119423   0.174540  -0.945946        0.00  ...    -0.739808   \n386192   0.145669  -0.345741  -0.162162       -1.50  ...    -0.739808   \n353343  -1.312336  -0.758409   1.108108       -0.50  ...    -0.335459   \n186313  -0.843832   0.161558  -0.432432        0.00  ...     0.934671   \n...           ...        ...        ...         ...  ...          ...   \n153537  -1.312336   0.929271   1.324324        0.00  ...     0.235030   \n270676   0.202100   0.680236   0.702703       -0.75  ...     5.263463   \n100803  -1.312336  -1.188681  -0.243243       -0.50  ...    -0.739808   \n63977    0.000000   0.181636   2.081081       -1.50  ...    -0.058316   \n366120   0.874672   0.448877  -0.837838        1.50  ...     0.436297   \n\n        feature_218  feature_17  feature_87  feature_118  feature_144  \\\n22026           0.0         0.0         0.0          0.0          0.0   \n187587          0.0        -3.0         0.0         -1.0          0.0   \n386192         -1.0         4.0         0.0         -1.0         -1.0   \n353343         -1.0         0.0         1.0         -1.0          0.0   \n186313          0.0         0.0         1.0          0.0          0.0   \n...             ...         ...         ...          ...          ...   \n153537          0.0         0.0         1.0         -1.0         -1.0   \n270676         -1.0         0.0         1.0          1.0          0.0   \n100803          0.0         3.0         1.0         -1.0         -1.0   \n63977          -1.0        -3.0         1.0          0.0          0.0   \n366120          0.0         0.0         1.0          1.0          0.0   \n\n        feature_147  feature_158  feature_159  feature_195  \n22026           0.0         0.75          1.0          0.0  \n187587          0.0         0.50         -0.2          3.0  \n386192         -1.0        -0.25         -0.4         -2.0  \n353343          0.5         0.75         -1.2          0.0  \n186313          0.0        -0.50         -1.0         -1.0  \n...             ...          ...          ...          ...  \n153537         -1.0         0.50         -0.4          0.0  \n270676         -1.0        -0.75          0.8         -1.0  \n100803          0.5         0.00          0.0         -2.0  \n63977           0.5        -0.25          1.2         -1.0  \n366120          0.0         0.75          0.4          0.0  \n\n[112992 rows x 214 columns]",
      "text/html": "<div>\n<style scoped>\n    .dataframe tbody tr th:only-of-type {\n        vertical-align: middle;\n    }\n\n    .dataframe tbody tr th {\n        vertical-align: top;\n    }\n\n    .dataframe thead th {\n        text-align: right;\n    }\n</style>\n<table border=\"1\" class=\"dataframe\">\n  <thead>\n    <tr style=\"text-align: right;\">\n      <th></th>\n      <th>feature_1</th>\n      <th>feature_2</th>\n      <th>feature_3</th>\n      <th>feature_4</th>\n      <th>feature_5</th>\n      <th>feature_6</th>\n      <th>feature_7</th>\n      <th>feature_8</th>\n      <th>feature_9</th>\n      <th>feature_10</th>\n      <th>...</th>\n      <th>feature_217</th>\n      <th>feature_218</th>\n      <th>feature_17</th>\n      <th>feature_87</th>\n      <th>feature_118</th>\n      <th>feature_144</th>\n      <th>feature_147</th>\n      <th>feature_158</th>\n      <th>feature_159</th>\n      <th>feature_195</th>\n    </tr>\n  </thead>\n  <tbody>\n    <tr>\n      <th>22026</th>\n      <td>-0.115445</td>\n      <td>0.0</td>\n      <td>0.0</td>\n      <td>-0.373402</td>\n      <td>-0.243591</td>\n      <td>0.916667</td>\n      <td>1.500000</td>\n      <td>-0.132275</td>\n      <td>3.540540</td>\n      <td>0.30</td>\n      <td>...</td>\n      <td>0.168777</td>\n      <td>0.0</td>\n      <td>0.0</td>\n      <td>0.0</td>\n      <td>0.0</td>\n      <td>0.0</td>\n      <td>0.0</td>\n      <td>0.75</td>\n      <td>1.0</td>\n      <td>0.0</td>\n    </tr>\n    <tr>\n      <th>187587</th>\n      <td>0.002386</td>\n      <td>-1.0</td>\n      <td>0.0</td>\n      <td>61.453959</td>\n      <td>-0.227537</td>\n      <td>0.500000</td>\n      <td>-0.119423</td>\n      <td>0.174540</td>\n      <td>-0.945946</td>\n      <td>0.00</td>\n      <td>...</td>\n      <td>-0.739808</td>\n      <td>0.0</td>\n      <td>-3.0</td>\n      <td>0.0</td>\n      <td>-1.0</td>\n      <td>0.0</td>\n      <td>0.0</td>\n      <td>0.50</td>\n      <td>-0.2</td>\n      <td>3.0</td>\n    </tr>\n    <tr>\n      <th>386192</th>\n      <td>0.071340</td>\n      <td>0.0</td>\n      <td>0.0</td>\n      <td>-0.373402</td>\n      <td>-0.232410</td>\n      <td>-0.041667</td>\n      <td>0.145669</td>\n      <td>-0.345741</td>\n      <td>-0.162162</td>\n      <td>-1.50</td>\n      <td>...</td>\n      <td>-0.739808</td>\n      <td>-1.0</td>\n      <td>4.0</td>\n      <td>0.0</td>\n      <td>-1.0</td>\n      <td>-1.0</td>\n      <td>-1.0</td>\n      <td>-0.25</td>\n      <td>-0.4</td>\n      <td>-2.0</td>\n    </tr>\n    <tr>\n      <th>353343</th>\n      <td>-0.448292</td>\n      <td>0.0</td>\n      <td>0.0</td>\n      <td>-0.373402</td>\n      <td>-0.487079</td>\n      <td>0.750000</td>\n      <td>-1.312336</td>\n      <td>-0.758409</td>\n      <td>1.108108</td>\n      <td>-0.50</td>\n      <td>...</td>\n      <td>-0.335459</td>\n      <td>-1.0</td>\n      <td>0.0</td>\n      <td>1.0</td>\n      <td>-1.0</td>\n      <td>0.0</td>\n      <td>0.5</td>\n      <td>0.75</td>\n      <td>-1.2</td>\n      <td>0.0</td>\n    </tr>\n    <tr>\n      <th>186313</th>\n      <td>-1.052741</td>\n      <td>0.0</td>\n      <td>0.0</td>\n      <td>0.000000</td>\n      <td>-0.032318</td>\n      <td>6.208333</td>\n      <td>-0.843832</td>\n      <td>0.161558</td>\n      <td>-0.432432</td>\n      <td>0.00</td>\n      <td>...</td>\n      <td>0.934671</td>\n      <td>0.0</td>\n      <td>0.0</td>\n      <td>1.0</td>\n      <td>0.0</td>\n      <td>0.0</td>\n      <td>0.0</td>\n      <td>-0.50</td>\n      <td>-1.0</td>\n      <td>-1.0</td>\n    </tr>\n    <tr>\n      <th>...</th>\n      <td>...</td>\n      <td>...</td>\n      <td>...</td>\n      <td>...</td>\n      <td>...</td>\n      <td>...</td>\n      <td>...</td>\n      <td>...</td>\n      <td>...</td>\n      <td>...</td>\n      <td>...</td>\n      <td>...</td>\n      <td>...</td>\n      <td>...</td>\n      <td>...</td>\n      <td>...</td>\n      <td>...</td>\n      <td>...</td>\n      <td>...</td>\n      <td>...</td>\n      <td>...</td>\n    </tr>\n    <tr>\n      <th>153537</th>\n      <td>-1.348937</td>\n      <td>1.0</td>\n      <td>0.0</td>\n      <td>-0.373402</td>\n      <td>1.253944</td>\n      <td>1.583333</td>\n      <td>-1.312336</td>\n      <td>0.929271</td>\n      <td>1.324324</td>\n      <td>0.00</td>\n      <td>...</td>\n      <td>0.235030</td>\n      <td>0.0</td>\n      <td>0.0</td>\n      <td>1.0</td>\n      <td>-1.0</td>\n      <td>-1.0</td>\n      <td>-1.0</td>\n      <td>0.50</td>\n      <td>-0.4</td>\n      <td>0.0</td>\n    </tr>\n    <tr>\n      <th>270676</th>\n      <td>-0.642716</td>\n      <td>0.0</td>\n      <td>0.0</td>\n      <td>-0.019182</td>\n      <td>-0.371776</td>\n      <td>1.625000</td>\n      <td>0.202100</td>\n      <td>0.680236</td>\n      <td>0.702703</td>\n      <td>-0.75</td>\n      <td>...</td>\n      <td>5.263463</td>\n      <td>-1.0</td>\n      <td>0.0</td>\n      <td>1.0</td>\n      <td>1.0</td>\n      <td>0.0</td>\n      <td>-1.0</td>\n      <td>-0.75</td>\n      <td>0.8</td>\n      <td>-1.0</td>\n    </tr>\n    <tr>\n      <th>100803</th>\n      <td>0.091785</td>\n      <td>0.0</td>\n      <td>0.0</td>\n      <td>0.014066</td>\n      <td>-0.308113</td>\n      <td>-0.083333</td>\n      <td>-1.312336</td>\n      <td>-1.188681</td>\n      <td>-0.243243</td>\n      <td>-0.50</td>\n      <td>...</td>\n      <td>-0.739808</td>\n      <td>0.0</td>\n      <td>3.0</td>\n      <td>1.0</td>\n      <td>-1.0</td>\n      <td>-1.0</td>\n      <td>0.5</td>\n      <td>0.00</td>\n      <td>0.0</td>\n      <td>-2.0</td>\n    </tr>\n    <tr>\n      <th>63977</th>\n      <td>-0.984365</td>\n      <td>-1.0</td>\n      <td>0.0</td>\n      <td>2.109974</td>\n      <td>-0.819176</td>\n      <td>4.000000</td>\n      <td>0.000000</td>\n      <td>0.181636</td>\n      <td>2.081081</td>\n      <td>-1.50</td>\n      <td>...</td>\n      <td>-0.058316</td>\n      <td>-1.0</td>\n      <td>-3.0</td>\n      <td>1.0</td>\n      <td>0.0</td>\n      <td>0.0</td>\n      <td>0.5</td>\n      <td>-0.25</td>\n      <td>1.2</td>\n      <td>-1.0</td>\n    </tr>\n    <tr>\n      <th>366120</th>\n      <td>0.538687</td>\n      <td>1.0</td>\n      <td>0.0</td>\n      <td>2.607417</td>\n      <td>0.631466</td>\n      <td>0.416667</td>\n      <td>0.874672</td>\n      <td>0.448877</td>\n      <td>-0.837838</td>\n      <td>1.50</td>\n      <td>...</td>\n      <td>0.436297</td>\n      <td>0.0</td>\n      <td>0.0</td>\n      <td>1.0</td>\n      <td>1.0</td>\n      <td>0.0</td>\n      <td>0.0</td>\n      <td>0.75</td>\n      <td>0.4</td>\n      <td>0.0</td>\n    </tr>\n  </tbody>\n</table>\n<p>112992 rows × 214 columns</p>\n</div>"
     },
     "execution_count": 39,
     "metadata": {},
     "output_type": "execute_result"
    }
   ],
   "source": [
    "X_train"
   ],
   "metadata": {
    "collapsed": false,
    "ExecuteTime": {
     "end_time": "2023-08-27T18:45:15.555541Z",
     "start_time": "2023-08-27T18:45:15.441018Z"
    }
   }
  },
  {
   "cell_type": "code",
   "execution_count": 40,
   "outputs": [],
   "source": [
    "SAVE_PATH = \"../../data/processed/\"\n",
    "balanced_processed_df.to_csv(SAVE_PATH+\"processed_data.csv\", index=False)\n",
    "balanced_processed_scaled_df.to_csv(SAVE_PATH+\"processed_scaled_data.csv\", index=False)"
   ],
   "metadata": {
    "collapsed": false,
    "ExecuteTime": {
     "end_time": "2023-08-27T18:46:34.504988Z",
     "start_time": "2023-08-27T18:45:19.716011Z"
    }
   }
  },
  {
   "cell_type": "code",
   "execution_count": 41,
   "outputs": [],
   "source": [
    "#Save the data in npz format\n",
    "np.savez(SAVE_PATH + 'train_data', inputs=X_train, labels=y_train)\n",
    "np.savez(SAVE_PATH + 'validation_data', inputs=X_val, labels=y_val)\n",
    "\n",
    "np.savez(SAVE_PATH + 'train_data_original', inputs=X_train_original, labels=y_train_original)\n",
    "np.savez(SAVE_PATH + 'validation_data_original', inputs=X_val_original, labels=y_val_original)"
   ],
   "metadata": {
    "collapsed": false,
    "ExecuteTime": {
     "end_time": "2023-08-27T18:46:38.449593Z",
     "start_time": "2023-08-27T18:46:34.506288Z"
    }
   }
  },
  {
   "cell_type": "markdown",
   "source": [
    "Validation data"
   ],
   "metadata": {
    "collapsed": false
   }
  },
  {
   "cell_type": "code",
   "execution_count": 42,
   "outputs": [],
   "source": [
    "val_df = pd.read_pickle(\"../../data/raw/validation_sample_1.pkl\")"
   ],
   "metadata": {
    "collapsed": false,
    "ExecuteTime": {
     "end_time": "2023-08-27T18:46:38.535491Z",
     "start_time": "2023-08-27T18:46:38.420318Z"
    }
   }
  },
  {
   "cell_type": "code",
   "execution_count": 43,
   "outputs": [
    {
     "data": {
      "text/plain": "     feature_1  feature_2  feature_3  feature_4  feature_5  feature_6  \\\n0     0.616277        0.5        0.0   0.000000   0.099574   0.009777   \n1     0.239266        0.0        0.0   0.000189   0.391774   0.006983   \n2     0.486676        0.5        0.0   0.000000   0.427581   0.000000   \n3     0.455066        0.5        0.0        NaN   0.363796   0.001397   \n4     0.490666        0.0        0.0   0.000000   0.253376   0.009777   \n..         ...        ...        ...        ...        ...        ...   \n495   0.602765        0.5        0.0   0.003109   0.268040   0.008380   \n496   0.213441        0.5        0.0   0.000946   0.213526   0.009777   \n497   0.409559        0.5        0.0   0.000327   0.275425   0.000000   \n498   0.462198        1.0        0.0        NaN   0.261926   0.000000   \n499   0.171950        0.0        0.0        NaN   0.303110   0.000000   \n\n     feature_7  feature_8  feature_9  feature_10  ...  feature_209  \\\n0     0.250000   0.777850   0.004666    0.666667  ...      0.55000   \n1     0.208375   0.561785   0.001886    0.500000  ...      0.50000   \n2     0.277750   0.582175   0.006553    0.500000  ...      0.00000   \n3     0.096125   0.657557   0.002383    0.666667  ...      0.00000   \n4     0.500000   0.632926   0.000000         NaN  ...      0.00000   \n..         ...        ...        ...         ...  ...          ...   \n495   0.367625   0.822913   0.004269    1.000000  ...      0.00000   \n496   0.113625   0.692089   0.004170    0.500000  ...      0.00000   \n497   0.000000   0.835031   0.004865    0.000000  ...      0.50000   \n498   0.500000   0.708778   0.002482    0.000000  ...      0.66665   \n499   0.277750   0.708078   0.000000         NaN  ...      0.50000   \n\n     feature_210  feature_211  feature_212  feature_213  feature_214  \\\n0       0.084877     0.084301     0.009744      0.85000     0.053579   \n1       0.027562     0.034084     0.003654      1.00000     0.035562   \n2       0.000000     0.000000     0.000000      0.00000     0.000000   \n3       0.000000     0.000000     0.000000      0.00000     0.000000   \n4       0.000000     0.000000     0.000000      0.00000     0.000000   \n..           ...          ...          ...          ...          ...   \n495     0.000000     0.000000     0.000000      0.00000     0.000000   \n496     0.000000     0.000000     0.000000      0.00000     0.000000   \n497     0.036565     0.222277     0.006090      1.00000     0.039430   \n498     0.199577     0.240511     0.002436      0.58335     0.111624   \n499     0.053615     0.028083     0.001218      0.50000     0.071014   \n\n    feature_215  feature_216  feature_217  feature_218  \n0      0.205928     0.084301     0.014128          0.0  \n1      0.118498     0.028083     0.004438          1.0  \n2      0.000000     0.000000     0.000000          1.0  \n3      0.000000     0.000000     0.000000          0.0  \n4      0.000000     0.000000     0.000000          1.0  \n..          ...          ...          ...          ...  \n495    0.000000     0.000000     0.000000          0.0  \n496    0.000000     0.000000     0.000000          0.0  \n497    0.128271     0.191911     0.004304          0.0  \n498    0.381345     0.049855     0.024964          1.0  \n499    0.133719     0.028083     0.007115          0.0  \n\n[500 rows x 218 columns]",
      "text/html": "<div>\n<style scoped>\n    .dataframe tbody tr th:only-of-type {\n        vertical-align: middle;\n    }\n\n    .dataframe tbody tr th {\n        vertical-align: top;\n    }\n\n    .dataframe thead th {\n        text-align: right;\n    }\n</style>\n<table border=\"1\" class=\"dataframe\">\n  <thead>\n    <tr style=\"text-align: right;\">\n      <th></th>\n      <th>feature_1</th>\n      <th>feature_2</th>\n      <th>feature_3</th>\n      <th>feature_4</th>\n      <th>feature_5</th>\n      <th>feature_6</th>\n      <th>feature_7</th>\n      <th>feature_8</th>\n      <th>feature_9</th>\n      <th>feature_10</th>\n      <th>...</th>\n      <th>feature_209</th>\n      <th>feature_210</th>\n      <th>feature_211</th>\n      <th>feature_212</th>\n      <th>feature_213</th>\n      <th>feature_214</th>\n      <th>feature_215</th>\n      <th>feature_216</th>\n      <th>feature_217</th>\n      <th>feature_218</th>\n    </tr>\n  </thead>\n  <tbody>\n    <tr>\n      <th>0</th>\n      <td>0.616277</td>\n      <td>0.5</td>\n      <td>0.0</td>\n      <td>0.000000</td>\n      <td>0.099574</td>\n      <td>0.009777</td>\n      <td>0.250000</td>\n      <td>0.777850</td>\n      <td>0.004666</td>\n      <td>0.666667</td>\n      <td>...</td>\n      <td>0.55000</td>\n      <td>0.084877</td>\n      <td>0.084301</td>\n      <td>0.009744</td>\n      <td>0.85000</td>\n      <td>0.053579</td>\n      <td>0.205928</td>\n      <td>0.084301</td>\n      <td>0.014128</td>\n      <td>0.0</td>\n    </tr>\n    <tr>\n      <th>1</th>\n      <td>0.239266</td>\n      <td>0.0</td>\n      <td>0.0</td>\n      <td>0.000189</td>\n      <td>0.391774</td>\n      <td>0.006983</td>\n      <td>0.208375</td>\n      <td>0.561785</td>\n      <td>0.001886</td>\n      <td>0.500000</td>\n      <td>...</td>\n      <td>0.50000</td>\n      <td>0.027562</td>\n      <td>0.034084</td>\n      <td>0.003654</td>\n      <td>1.00000</td>\n      <td>0.035562</td>\n      <td>0.118498</td>\n      <td>0.028083</td>\n      <td>0.004438</td>\n      <td>1.0</td>\n    </tr>\n    <tr>\n      <th>2</th>\n      <td>0.486676</td>\n      <td>0.5</td>\n      <td>0.0</td>\n      <td>0.000000</td>\n      <td>0.427581</td>\n      <td>0.000000</td>\n      <td>0.277750</td>\n      <td>0.582175</td>\n      <td>0.006553</td>\n      <td>0.500000</td>\n      <td>...</td>\n      <td>0.00000</td>\n      <td>0.000000</td>\n      <td>0.000000</td>\n      <td>0.000000</td>\n      <td>0.00000</td>\n      <td>0.000000</td>\n      <td>0.000000</td>\n      <td>0.000000</td>\n      <td>0.000000</td>\n      <td>1.0</td>\n    </tr>\n    <tr>\n      <th>3</th>\n      <td>0.455066</td>\n      <td>0.5</td>\n      <td>0.0</td>\n      <td>NaN</td>\n      <td>0.363796</td>\n      <td>0.001397</td>\n      <td>0.096125</td>\n      <td>0.657557</td>\n      <td>0.002383</td>\n      <td>0.666667</td>\n      <td>...</td>\n      <td>0.00000</td>\n      <td>0.000000</td>\n      <td>0.000000</td>\n      <td>0.000000</td>\n      <td>0.00000</td>\n      <td>0.000000</td>\n      <td>0.000000</td>\n      <td>0.000000</td>\n      <td>0.000000</td>\n      <td>0.0</td>\n    </tr>\n    <tr>\n      <th>4</th>\n      <td>0.490666</td>\n      <td>0.0</td>\n      <td>0.0</td>\n      <td>0.000000</td>\n      <td>0.253376</td>\n      <td>0.009777</td>\n      <td>0.500000</td>\n      <td>0.632926</td>\n      <td>0.000000</td>\n      <td>NaN</td>\n      <td>...</td>\n      <td>0.00000</td>\n      <td>0.000000</td>\n      <td>0.000000</td>\n      <td>0.000000</td>\n      <td>0.00000</td>\n      <td>0.000000</td>\n      <td>0.000000</td>\n      <td>0.000000</td>\n      <td>0.000000</td>\n      <td>1.0</td>\n    </tr>\n    <tr>\n      <th>...</th>\n      <td>...</td>\n      <td>...</td>\n      <td>...</td>\n      <td>...</td>\n      <td>...</td>\n      <td>...</td>\n      <td>...</td>\n      <td>...</td>\n      <td>...</td>\n      <td>...</td>\n      <td>...</td>\n      <td>...</td>\n      <td>...</td>\n      <td>...</td>\n      <td>...</td>\n      <td>...</td>\n      <td>...</td>\n      <td>...</td>\n      <td>...</td>\n      <td>...</td>\n      <td>...</td>\n    </tr>\n    <tr>\n      <th>495</th>\n      <td>0.602765</td>\n      <td>0.5</td>\n      <td>0.0</td>\n      <td>0.003109</td>\n      <td>0.268040</td>\n      <td>0.008380</td>\n      <td>0.367625</td>\n      <td>0.822913</td>\n      <td>0.004269</td>\n      <td>1.000000</td>\n      <td>...</td>\n      <td>0.00000</td>\n      <td>0.000000</td>\n      <td>0.000000</td>\n      <td>0.000000</td>\n      <td>0.00000</td>\n      <td>0.000000</td>\n      <td>0.000000</td>\n      <td>0.000000</td>\n      <td>0.000000</td>\n      <td>0.0</td>\n    </tr>\n    <tr>\n      <th>496</th>\n      <td>0.213441</td>\n      <td>0.5</td>\n      <td>0.0</td>\n      <td>0.000946</td>\n      <td>0.213526</td>\n      <td>0.009777</td>\n      <td>0.113625</td>\n      <td>0.692089</td>\n      <td>0.004170</td>\n      <td>0.500000</td>\n      <td>...</td>\n      <td>0.00000</td>\n      <td>0.000000</td>\n      <td>0.000000</td>\n      <td>0.000000</td>\n      <td>0.00000</td>\n      <td>0.000000</td>\n      <td>0.000000</td>\n      <td>0.000000</td>\n      <td>0.000000</td>\n      <td>0.0</td>\n    </tr>\n    <tr>\n      <th>497</th>\n      <td>0.409559</td>\n      <td>0.5</td>\n      <td>0.0</td>\n      <td>0.000327</td>\n      <td>0.275425</td>\n      <td>0.000000</td>\n      <td>0.000000</td>\n      <td>0.835031</td>\n      <td>0.004865</td>\n      <td>0.000000</td>\n      <td>...</td>\n      <td>0.50000</td>\n      <td>0.036565</td>\n      <td>0.222277</td>\n      <td>0.006090</td>\n      <td>1.00000</td>\n      <td>0.039430</td>\n      <td>0.128271</td>\n      <td>0.191911</td>\n      <td>0.004304</td>\n      <td>0.0</td>\n    </tr>\n    <tr>\n      <th>498</th>\n      <td>0.462198</td>\n      <td>1.0</td>\n      <td>0.0</td>\n      <td>NaN</td>\n      <td>0.261926</td>\n      <td>0.000000</td>\n      <td>0.500000</td>\n      <td>0.708778</td>\n      <td>0.002482</td>\n      <td>0.000000</td>\n      <td>...</td>\n      <td>0.66665</td>\n      <td>0.199577</td>\n      <td>0.240511</td>\n      <td>0.002436</td>\n      <td>0.58335</td>\n      <td>0.111624</td>\n      <td>0.381345</td>\n      <td>0.049855</td>\n      <td>0.024964</td>\n      <td>1.0</td>\n    </tr>\n    <tr>\n      <th>499</th>\n      <td>0.171950</td>\n      <td>0.0</td>\n      <td>0.0</td>\n      <td>NaN</td>\n      <td>0.303110</td>\n      <td>0.000000</td>\n      <td>0.277750</td>\n      <td>0.708078</td>\n      <td>0.000000</td>\n      <td>NaN</td>\n      <td>...</td>\n      <td>0.50000</td>\n      <td>0.053615</td>\n      <td>0.028083</td>\n      <td>0.001218</td>\n      <td>0.50000</td>\n      <td>0.071014</td>\n      <td>0.133719</td>\n      <td>0.028083</td>\n      <td>0.007115</td>\n      <td>0.0</td>\n    </tr>\n  </tbody>\n</table>\n<p>500 rows × 218 columns</p>\n</div>"
     },
     "execution_count": 43,
     "metadata": {},
     "output_type": "execute_result"
    }
   ],
   "source": [
    "val_df"
   ],
   "metadata": {
    "collapsed": false,
    "ExecuteTime": {
     "end_time": "2023-08-27T18:46:38.688885Z",
     "start_time": "2023-08-27T18:46:38.504790Z"
    }
   }
  },
  {
   "cell_type": "code",
   "execution_count": 44,
   "outputs": [],
   "source": [
    "val_df = val_df.drop([\"feature_15\", \"feature_119\", \"feature_139\", \"feature_148\"], axis=1)"
   ],
   "metadata": {
    "collapsed": false,
    "ExecuteTime": {
     "end_time": "2023-08-27T18:46:39.994917Z",
     "start_time": "2023-08-27T18:46:39.500104Z"
    }
   }
  },
  {
   "cell_type": "code",
   "execution_count": 45,
   "outputs": [
    {
     "data": {
      "text/plain": "['feature_17',\n 'feature_87',\n 'feature_118',\n 'feature_144',\n 'feature_147',\n 'feature_158',\n 'feature_159',\n 'feature_195']"
     },
     "execution_count": 45,
     "metadata": {},
     "output_type": "execute_result"
    }
   ],
   "source": [
    "category_columns"
   ],
   "metadata": {
    "collapsed": false,
    "ExecuteTime": {
     "end_time": "2023-08-27T18:48:28.028683Z",
     "start_time": "2023-08-27T18:48:27.951081Z"
    }
   }
  },
  {
   "cell_type": "code",
   "execution_count": 46,
   "outputs": [],
   "source": [
    "X_category_val = val_df[category_columns].copy()\n",
    "X_numeric_val = val_df.drop(category_columns, axis=1)"
   ],
   "metadata": {
    "collapsed": false,
    "ExecuteTime": {
     "end_time": "2023-08-27T18:48:49.084314Z",
     "start_time": "2023-08-27T18:48:49.051684Z"
    }
   }
  },
  {
   "cell_type": "code",
   "execution_count": 47,
   "outputs": [],
   "source": [
    "with open(EXPORT_PATH+\"category_label_encoders.pkl\", 'rb') as file:\n",
    "    category_label_encoders = pickle.load(file)"
   ],
   "metadata": {
    "collapsed": false,
    "ExecuteTime": {
     "end_time": "2023-08-27T18:48:54.152042Z",
     "start_time": "2023-08-27T18:48:54.011635Z"
    }
   }
  },
  {
   "cell_type": "code",
   "execution_count": 48,
   "outputs": [],
   "source": [
    "# p_d_t = preprocess_data(X_numeric=X_numeric_val, X_category=X_category_val, numeric_transformer=numeric_imputer, category_transformer=category_imputer, label_encoders=category_label_encoders)"
   ],
   "metadata": {
    "collapsed": false,
    "ExecuteTime": {
     "end_time": "2023-08-27T18:49:04.878392Z",
     "start_time": "2023-08-27T18:49:04.684145Z"
    }
   }
  },
  {
   "cell_type": "code",
   "execution_count": 49,
   "outputs": [],
   "source": [
    "#Null values are padded\n",
    "X_numeric_padded_val = numeric_imputer.transform(X_numeric_val)"
   ],
   "metadata": {
    "collapsed": false,
    "ExecuteTime": {
     "end_time": "2023-08-27T18:49:13.839707Z",
     "start_time": "2023-08-27T18:49:13.821852Z"
    }
   }
  },
  {
   "cell_type": "code",
   "execution_count": 50,
   "outputs": [],
   "source": [
    "X_category_padded_val = category_imputer.transform(X_category_val)"
   ],
   "metadata": {
    "collapsed": false,
    "ExecuteTime": {
     "end_time": "2023-08-27T18:49:17.989096Z",
     "start_time": "2023-08-27T18:49:17.952017Z"
    }
   }
  },
  {
   "cell_type": "code",
   "execution_count": 51,
   "outputs": [],
   "source": [
    "X_numeric_df_val = pd.DataFrame(X_numeric_padded_val, columns=X_numeric_val.columns)\n",
    "X_category_df_val = pd.DataFrame(X_category_padded_val, columns=X_category_val.columns)"
   ],
   "metadata": {
    "collapsed": false,
    "ExecuteTime": {
     "end_time": "2023-08-27T18:50:28.547882Z",
     "start_time": "2023-08-27T18:50:28.130428Z"
    }
   }
  },
  {
   "cell_type": "code",
   "execution_count": 52,
   "outputs": [],
   "source": [
    "X_val_category_encoded = pd.DataFrame()\n",
    "\n",
    "for column in X_category_df_val.columns:\n",
    "    encoder = encoders[column]\n",
    "    X_val_category_encoded[column] = encoder.transform(X_category_df_val[column])\n"
   ],
   "metadata": {
    "collapsed": false,
    "ExecuteTime": {
     "end_time": "2023-08-27T18:50:48.861029Z",
     "start_time": "2023-08-27T18:50:48.479782Z"
    }
   }
  },
  {
   "cell_type": "code",
   "execution_count": 53,
   "outputs": [
    {
     "data": {
      "text/plain": "     feature_17  feature_87  feature_118  feature_144  feature_147  \\\n0             3           0            1            2            4   \n1             6           0            1            3            5   \n2             3           0            2            3            4   \n3             0           1            0            2            1   \n4             0           2            0            1            1   \n..          ...         ...          ...          ...          ...   \n495           0           2            0            1            2   \n496           0           1            2            1            3   \n497           7           2            0            1            4   \n498           3           2            0            1            3   \n499           3           2            1            3            3   \n\n     feature_158  feature_159  feature_195  \n0              5           13            2  \n1              3            7            1  \n2              5            6            4  \n3              6           14            5  \n4              6            6            5  \n..           ...          ...          ...  \n495            5           11            5  \n496            2            7            5  \n497            5            6            2  \n498            6            6            2  \n499            1            3            1  \n\n[500 rows x 8 columns]",
      "text/html": "<div>\n<style scoped>\n    .dataframe tbody tr th:only-of-type {\n        vertical-align: middle;\n    }\n\n    .dataframe tbody tr th {\n        vertical-align: top;\n    }\n\n    .dataframe thead th {\n        text-align: right;\n    }\n</style>\n<table border=\"1\" class=\"dataframe\">\n  <thead>\n    <tr style=\"text-align: right;\">\n      <th></th>\n      <th>feature_17</th>\n      <th>feature_87</th>\n      <th>feature_118</th>\n      <th>feature_144</th>\n      <th>feature_147</th>\n      <th>feature_158</th>\n      <th>feature_159</th>\n      <th>feature_195</th>\n    </tr>\n  </thead>\n  <tbody>\n    <tr>\n      <th>0</th>\n      <td>3</td>\n      <td>0</td>\n      <td>1</td>\n      <td>2</td>\n      <td>4</td>\n      <td>5</td>\n      <td>13</td>\n      <td>2</td>\n    </tr>\n    <tr>\n      <th>1</th>\n      <td>6</td>\n      <td>0</td>\n      <td>1</td>\n      <td>3</td>\n      <td>5</td>\n      <td>3</td>\n      <td>7</td>\n      <td>1</td>\n    </tr>\n    <tr>\n      <th>2</th>\n      <td>3</td>\n      <td>0</td>\n      <td>2</td>\n      <td>3</td>\n      <td>4</td>\n      <td>5</td>\n      <td>6</td>\n      <td>4</td>\n    </tr>\n    <tr>\n      <th>3</th>\n      <td>0</td>\n      <td>1</td>\n      <td>0</td>\n      <td>2</td>\n      <td>1</td>\n      <td>6</td>\n      <td>14</td>\n      <td>5</td>\n    </tr>\n    <tr>\n      <th>4</th>\n      <td>0</td>\n      <td>2</td>\n      <td>0</td>\n      <td>1</td>\n      <td>1</td>\n      <td>6</td>\n      <td>6</td>\n      <td>5</td>\n    </tr>\n    <tr>\n      <th>...</th>\n      <td>...</td>\n      <td>...</td>\n      <td>...</td>\n      <td>...</td>\n      <td>...</td>\n      <td>...</td>\n      <td>...</td>\n      <td>...</td>\n    </tr>\n    <tr>\n      <th>495</th>\n      <td>0</td>\n      <td>2</td>\n      <td>0</td>\n      <td>1</td>\n      <td>2</td>\n      <td>5</td>\n      <td>11</td>\n      <td>5</td>\n    </tr>\n    <tr>\n      <th>496</th>\n      <td>0</td>\n      <td>1</td>\n      <td>2</td>\n      <td>1</td>\n      <td>3</td>\n      <td>2</td>\n      <td>7</td>\n      <td>5</td>\n    </tr>\n    <tr>\n      <th>497</th>\n      <td>7</td>\n      <td>2</td>\n      <td>0</td>\n      <td>1</td>\n      <td>4</td>\n      <td>5</td>\n      <td>6</td>\n      <td>2</td>\n    </tr>\n    <tr>\n      <th>498</th>\n      <td>3</td>\n      <td>2</td>\n      <td>0</td>\n      <td>1</td>\n      <td>3</td>\n      <td>6</td>\n      <td>6</td>\n      <td>2</td>\n    </tr>\n    <tr>\n      <th>499</th>\n      <td>3</td>\n      <td>2</td>\n      <td>1</td>\n      <td>3</td>\n      <td>3</td>\n      <td>1</td>\n      <td>3</td>\n      <td>1</td>\n    </tr>\n  </tbody>\n</table>\n<p>500 rows × 8 columns</p>\n</div>"
     },
     "execution_count": 53,
     "metadata": {},
     "output_type": "execute_result"
    }
   ],
   "source": [
    "X_val_category_encoded"
   ],
   "metadata": {
    "collapsed": false,
    "ExecuteTime": {
     "end_time": "2023-08-27T18:50:55.768011Z",
     "start_time": "2023-08-27T18:50:55.685750Z"
    }
   }
  },
  {
   "cell_type": "code",
   "execution_count": 54,
   "outputs": [
    {
     "data": {
      "text/plain": "feature_17     0\nfeature_87     0\nfeature_118    0\nfeature_144    0\nfeature_147    0\nfeature_158    0\nfeature_159    0\nfeature_195    0\ndtype: int64"
     },
     "execution_count": 54,
     "metadata": {},
     "output_type": "execute_result"
    }
   ],
   "source": [
    "X_val_category_encoded.isna().sum()"
   ],
   "metadata": {
    "collapsed": false,
    "ExecuteTime": {
     "end_time": "2023-08-27T18:50:55.894471Z",
     "start_time": "2023-08-27T18:50:55.774787Z"
    }
   }
  },
  {
   "cell_type": "code",
   "execution_count": 55,
   "outputs": [],
   "source": [
    "X_df_processed_val = pd.concat([X_numeric_df_val, X_val_category_encoded], axis=1)"
   ],
   "metadata": {
    "collapsed": false,
    "ExecuteTime": {
     "end_time": "2023-08-27T18:51:18.258250Z",
     "start_time": "2023-08-27T18:51:17.853654Z"
    }
   }
  },
  {
   "cell_type": "code",
   "execution_count": 56,
   "outputs": [
    {
     "data": {
      "text/plain": "     feature_1  feature_2  feature_3  feature_4  feature_5  feature_6  \\\n0     0.616277        0.5        0.0   0.000000   0.099574   0.009777   \n1     0.239266        0.0        0.0   0.000189   0.391774   0.006983   \n2     0.486676        0.5        0.0   0.000000   0.427581   0.000000   \n3     0.455066        0.5        0.0   0.000049   0.363796   0.001397   \n4     0.490666        0.0        0.0   0.000000   0.253376   0.009777   \n..         ...        ...        ...        ...        ...        ...   \n495   0.602765        0.5        0.0   0.003109   0.268040   0.008380   \n496   0.213441        0.5        0.0   0.000946   0.213526   0.009777   \n497   0.409559        0.5        0.0   0.000327   0.275425   0.000000   \n498   0.462198        1.0        0.0   0.000049   0.261926   0.000000   \n499   0.171950        0.0        0.0   0.000049   0.303110   0.000000   \n\n     feature_7  feature_8  feature_9  feature_10  ...  feature_217  \\\n0     0.250000   0.777850   0.004666    0.666667  ...     0.014128   \n1     0.208375   0.561785   0.001886    0.500000  ...     0.004438   \n2     0.277750   0.582175   0.006553    0.500000  ...     0.000000   \n3     0.096125   0.657557   0.002383    0.666667  ...     0.000000   \n4     0.500000   0.632926   0.000000    0.500000  ...     0.000000   \n..         ...        ...        ...         ...  ...          ...   \n495   0.367625   0.822913   0.004269    1.000000  ...     0.000000   \n496   0.113625   0.692089   0.004170    0.500000  ...     0.000000   \n497   0.000000   0.835031   0.004865    0.000000  ...     0.004304   \n498   0.500000   0.708778   0.002482    0.000000  ...     0.024964   \n499   0.277750   0.708078   0.000000    0.500000  ...     0.007115   \n\n     feature_218  feature_17  feature_87  feature_118  feature_144  \\\n0            0.0           3           0            1            2   \n1            1.0           6           0            1            3   \n2            1.0           3           0            2            3   \n3            0.0           0           1            0            2   \n4            1.0           0           2            0            1   \n..           ...         ...         ...          ...          ...   \n495          0.0           0           2            0            1   \n496          0.0           0           1            2            1   \n497          0.0           7           2            0            1   \n498          1.0           3           2            0            1   \n499          0.0           3           2            1            3   \n\n     feature_147  feature_158  feature_159  feature_195  \n0              4            5           13            2  \n1              5            3            7            1  \n2              4            5            6            4  \n3              1            6           14            5  \n4              1            6            6            5  \n..           ...          ...          ...          ...  \n495            2            5           11            5  \n496            3            2            7            5  \n497            4            5            6            2  \n498            3            6            6            2  \n499            3            1            3            1  \n\n[500 rows x 214 columns]",
      "text/html": "<div>\n<style scoped>\n    .dataframe tbody tr th:only-of-type {\n        vertical-align: middle;\n    }\n\n    .dataframe tbody tr th {\n        vertical-align: top;\n    }\n\n    .dataframe thead th {\n        text-align: right;\n    }\n</style>\n<table border=\"1\" class=\"dataframe\">\n  <thead>\n    <tr style=\"text-align: right;\">\n      <th></th>\n      <th>feature_1</th>\n      <th>feature_2</th>\n      <th>feature_3</th>\n      <th>feature_4</th>\n      <th>feature_5</th>\n      <th>feature_6</th>\n      <th>feature_7</th>\n      <th>feature_8</th>\n      <th>feature_9</th>\n      <th>feature_10</th>\n      <th>...</th>\n      <th>feature_217</th>\n      <th>feature_218</th>\n      <th>feature_17</th>\n      <th>feature_87</th>\n      <th>feature_118</th>\n      <th>feature_144</th>\n      <th>feature_147</th>\n      <th>feature_158</th>\n      <th>feature_159</th>\n      <th>feature_195</th>\n    </tr>\n  </thead>\n  <tbody>\n    <tr>\n      <th>0</th>\n      <td>0.616277</td>\n      <td>0.5</td>\n      <td>0.0</td>\n      <td>0.000000</td>\n      <td>0.099574</td>\n      <td>0.009777</td>\n      <td>0.250000</td>\n      <td>0.777850</td>\n      <td>0.004666</td>\n      <td>0.666667</td>\n      <td>...</td>\n      <td>0.014128</td>\n      <td>0.0</td>\n      <td>3</td>\n      <td>0</td>\n      <td>1</td>\n      <td>2</td>\n      <td>4</td>\n      <td>5</td>\n      <td>13</td>\n      <td>2</td>\n    </tr>\n    <tr>\n      <th>1</th>\n      <td>0.239266</td>\n      <td>0.0</td>\n      <td>0.0</td>\n      <td>0.000189</td>\n      <td>0.391774</td>\n      <td>0.006983</td>\n      <td>0.208375</td>\n      <td>0.561785</td>\n      <td>0.001886</td>\n      <td>0.500000</td>\n      <td>...</td>\n      <td>0.004438</td>\n      <td>1.0</td>\n      <td>6</td>\n      <td>0</td>\n      <td>1</td>\n      <td>3</td>\n      <td>5</td>\n      <td>3</td>\n      <td>7</td>\n      <td>1</td>\n    </tr>\n    <tr>\n      <th>2</th>\n      <td>0.486676</td>\n      <td>0.5</td>\n      <td>0.0</td>\n      <td>0.000000</td>\n      <td>0.427581</td>\n      <td>0.000000</td>\n      <td>0.277750</td>\n      <td>0.582175</td>\n      <td>0.006553</td>\n      <td>0.500000</td>\n      <td>...</td>\n      <td>0.000000</td>\n      <td>1.0</td>\n      <td>3</td>\n      <td>0</td>\n      <td>2</td>\n      <td>3</td>\n      <td>4</td>\n      <td>5</td>\n      <td>6</td>\n      <td>4</td>\n    </tr>\n    <tr>\n      <th>3</th>\n      <td>0.455066</td>\n      <td>0.5</td>\n      <td>0.0</td>\n      <td>0.000049</td>\n      <td>0.363796</td>\n      <td>0.001397</td>\n      <td>0.096125</td>\n      <td>0.657557</td>\n      <td>0.002383</td>\n      <td>0.666667</td>\n      <td>...</td>\n      <td>0.000000</td>\n      <td>0.0</td>\n      <td>0</td>\n      <td>1</td>\n      <td>0</td>\n      <td>2</td>\n      <td>1</td>\n      <td>6</td>\n      <td>14</td>\n      <td>5</td>\n    </tr>\n    <tr>\n      <th>4</th>\n      <td>0.490666</td>\n      <td>0.0</td>\n      <td>0.0</td>\n      <td>0.000000</td>\n      <td>0.253376</td>\n      <td>0.009777</td>\n      <td>0.500000</td>\n      <td>0.632926</td>\n      <td>0.000000</td>\n      <td>0.500000</td>\n      <td>...</td>\n      <td>0.000000</td>\n      <td>1.0</td>\n      <td>0</td>\n      <td>2</td>\n      <td>0</td>\n      <td>1</td>\n      <td>1</td>\n      <td>6</td>\n      <td>6</td>\n      <td>5</td>\n    </tr>\n    <tr>\n      <th>...</th>\n      <td>...</td>\n      <td>...</td>\n      <td>...</td>\n      <td>...</td>\n      <td>...</td>\n      <td>...</td>\n      <td>...</td>\n      <td>...</td>\n      <td>...</td>\n      <td>...</td>\n      <td>...</td>\n      <td>...</td>\n      <td>...</td>\n      <td>...</td>\n      <td>...</td>\n      <td>...</td>\n      <td>...</td>\n      <td>...</td>\n      <td>...</td>\n      <td>...</td>\n      <td>...</td>\n    </tr>\n    <tr>\n      <th>495</th>\n      <td>0.602765</td>\n      <td>0.5</td>\n      <td>0.0</td>\n      <td>0.003109</td>\n      <td>0.268040</td>\n      <td>0.008380</td>\n      <td>0.367625</td>\n      <td>0.822913</td>\n      <td>0.004269</td>\n      <td>1.000000</td>\n      <td>...</td>\n      <td>0.000000</td>\n      <td>0.0</td>\n      <td>0</td>\n      <td>2</td>\n      <td>0</td>\n      <td>1</td>\n      <td>2</td>\n      <td>5</td>\n      <td>11</td>\n      <td>5</td>\n    </tr>\n    <tr>\n      <th>496</th>\n      <td>0.213441</td>\n      <td>0.5</td>\n      <td>0.0</td>\n      <td>0.000946</td>\n      <td>0.213526</td>\n      <td>0.009777</td>\n      <td>0.113625</td>\n      <td>0.692089</td>\n      <td>0.004170</td>\n      <td>0.500000</td>\n      <td>...</td>\n      <td>0.000000</td>\n      <td>0.0</td>\n      <td>0</td>\n      <td>1</td>\n      <td>2</td>\n      <td>1</td>\n      <td>3</td>\n      <td>2</td>\n      <td>7</td>\n      <td>5</td>\n    </tr>\n    <tr>\n      <th>497</th>\n      <td>0.409559</td>\n      <td>0.5</td>\n      <td>0.0</td>\n      <td>0.000327</td>\n      <td>0.275425</td>\n      <td>0.000000</td>\n      <td>0.000000</td>\n      <td>0.835031</td>\n      <td>0.004865</td>\n      <td>0.000000</td>\n      <td>...</td>\n      <td>0.004304</td>\n      <td>0.0</td>\n      <td>7</td>\n      <td>2</td>\n      <td>0</td>\n      <td>1</td>\n      <td>4</td>\n      <td>5</td>\n      <td>6</td>\n      <td>2</td>\n    </tr>\n    <tr>\n      <th>498</th>\n      <td>0.462198</td>\n      <td>1.0</td>\n      <td>0.0</td>\n      <td>0.000049</td>\n      <td>0.261926</td>\n      <td>0.000000</td>\n      <td>0.500000</td>\n      <td>0.708778</td>\n      <td>0.002482</td>\n      <td>0.000000</td>\n      <td>...</td>\n      <td>0.024964</td>\n      <td>1.0</td>\n      <td>3</td>\n      <td>2</td>\n      <td>0</td>\n      <td>1</td>\n      <td>3</td>\n      <td>6</td>\n      <td>6</td>\n      <td>2</td>\n    </tr>\n    <tr>\n      <th>499</th>\n      <td>0.171950</td>\n      <td>0.0</td>\n      <td>0.0</td>\n      <td>0.000049</td>\n      <td>0.303110</td>\n      <td>0.000000</td>\n      <td>0.277750</td>\n      <td>0.708078</td>\n      <td>0.000000</td>\n      <td>0.500000</td>\n      <td>...</td>\n      <td>0.007115</td>\n      <td>0.0</td>\n      <td>3</td>\n      <td>2</td>\n      <td>1</td>\n      <td>3</td>\n      <td>3</td>\n      <td>1</td>\n      <td>3</td>\n      <td>1</td>\n    </tr>\n  </tbody>\n</table>\n<p>500 rows × 214 columns</p>\n</div>"
     },
     "execution_count": 56,
     "metadata": {},
     "output_type": "execute_result"
    }
   ],
   "source": [
    "X_df_processed_val"
   ],
   "metadata": {
    "collapsed": false,
    "ExecuteTime": {
     "end_time": "2023-08-27T18:51:20.767921Z",
     "start_time": "2023-08-27T18:51:20.597551Z"
    }
   }
  },
  {
   "cell_type": "code",
   "execution_count": 57,
   "outputs": [
    {
     "data": {
      "text/plain": "feature_1      0\nfeature_2      0\nfeature_3      0\nfeature_4      0\nfeature_5      0\n              ..\nfeature_144    0\nfeature_147    0\nfeature_158    0\nfeature_159    0\nfeature_195    0\nLength: 214, dtype: int64"
     },
     "execution_count": 57,
     "metadata": {},
     "output_type": "execute_result"
    }
   ],
   "source": [
    "X_df_processed_val.isna().sum()"
   ],
   "metadata": {
    "collapsed": false,
    "ExecuteTime": {
     "end_time": "2023-08-27T18:51:24.318736Z",
     "start_time": "2023-08-27T18:51:24.283665Z"
    }
   }
  },
  {
   "cell_type": "code",
   "execution_count": 58,
   "outputs": [],
   "source": [
    "X_balanced_processed_val = scaler.transform(X_df_processed_val.copy())\n",
    "\n",
    "X_balanced_processed_scaled_df_val = pd.DataFrame(X_balanced_processed_val, columns=X_df_processed_val.columns)"
   ],
   "metadata": {
    "collapsed": false,
    "ExecuteTime": {
     "end_time": "2023-08-27T18:51:28.844614Z",
     "start_time": "2023-08-27T18:51:28.818937Z"
    }
   }
  },
  {
   "cell_type": "code",
   "execution_count": 59,
   "outputs": [
    {
     "data": {
      "text/plain": "feature_1      0\nfeature_2      0\nfeature_3      0\nfeature_4      0\nfeature_5      0\n              ..\nfeature_144    0\nfeature_147    0\nfeature_158    0\nfeature_159    0\nfeature_195    0\nLength: 214, dtype: int64"
     },
     "execution_count": 59,
     "metadata": {},
     "output_type": "execute_result"
    }
   ],
   "source": [
    "X_balanced_processed_scaled_df_val.isna().sum()"
   ],
   "metadata": {
    "collapsed": false,
    "ExecuteTime": {
     "end_time": "2023-08-27T18:51:31.888549Z",
     "start_time": "2023-08-27T18:51:31.817534Z"
    }
   }
  },
  {
   "cell_type": "code",
   "execution_count": 60,
   "outputs": [
    {
     "data": {
      "text/plain": "     feature_1  feature_2  feature_3  feature_4  feature_5  feature_6  \\\n0     0.663893        0.0        0.0  -0.373402  -1.275314   0.210661   \n1    -1.915673       -1.0        0.0   1.060806   0.652474   0.031425   \n2    -0.222856        0.0        0.0  -0.373402   0.888714  -0.416667   \n3    -0.439138        0.0        0.0   0.000000   0.467888  -0.327048   \n4    -0.195553       -1.0        0.0  -0.373402  -0.260605   0.210661   \n..         ...        ...        ...        ...        ...        ...   \n495   0.571445        0.0        0.0  23.211343  -0.163859   0.121043   \n496  -2.092372        0.0        0.0   6.804879  -0.523517   0.210661   \n497  -0.750503        0.0        0.0   2.103866  -0.115135  -0.416667   \n498  -0.390338        1.0        0.0   0.000000  -0.204196  -0.416667   \n499  -2.376257       -1.0        0.0   0.000000   0.067515  -0.416667   \n\n     feature_7  feature_8  feature_9  feature_10  ...  feature_217  \\\n0     0.123031   0.204859   3.018225         0.5  ...     3.661344   \n1    -0.115957  -1.245085   0.656591         0.0  ...     0.642557   \n2     0.282357  -1.108257   4.620763         0.0  ...    -0.739808   \n3    -0.760437  -0.602389   1.078312         0.5  ...    -0.739808   \n4     1.558399  -0.767678  -0.945946         0.0  ...    -0.739808   \n..         ...        ...        ...         ...  ...          ...   \n495   0.798372   0.507263   2.680849         1.5  ...    -0.739808   \n496  -0.659962  -0.370658   2.596505         0.0  ...    -0.739808   \n497  -1.312336   0.588580   3.186914        -1.5  ...     0.600840   \n498   1.558399  -0.258662   1.162656        -1.5  ...     7.036896   \n499   0.282357  -0.263358  -0.945946         0.0  ...     1.476781   \n\n     feature_218  feature_17  feature_87  feature_118  feature_144  \\\n0           -1.0         0.0        -1.0          0.0         -0.5   \n1            0.0         3.0        -1.0          0.0          0.0   \n2            0.0         0.0        -1.0          1.0          0.0   \n3           -1.0        -3.0         0.0         -1.0         -0.5   \n4            0.0        -3.0         1.0         -1.0         -1.0   \n..           ...         ...         ...          ...          ...   \n495         -1.0        -3.0         1.0         -1.0         -1.0   \n496         -1.0        -3.0         0.0          1.0         -1.0   \n497         -1.0         4.0         1.0         -1.0         -1.0   \n498          0.0         0.0         1.0         -1.0         -1.0   \n499         -1.0         0.0         1.0          0.0          0.0   \n\n     feature_147  feature_158  feature_159  feature_195  \n0            0.5         0.50          1.0          0.0  \n1            1.0         0.00         -0.2         -1.0  \n2            0.5         0.50         -0.4          2.0  \n3           -1.0         0.75          1.2          3.0  \n4           -1.0         0.75         -0.4          3.0  \n..           ...          ...          ...          ...  \n495         -0.5         0.50          0.6          3.0  \n496          0.0        -0.25         -0.2          3.0  \n497          0.5         0.50         -0.4          0.0  \n498          0.0         0.75         -0.4          0.0  \n499          0.0        -0.50         -1.0         -1.0  \n\n[500 rows x 214 columns]",
      "text/html": "<div>\n<style scoped>\n    .dataframe tbody tr th:only-of-type {\n        vertical-align: middle;\n    }\n\n    .dataframe tbody tr th {\n        vertical-align: top;\n    }\n\n    .dataframe thead th {\n        text-align: right;\n    }\n</style>\n<table border=\"1\" class=\"dataframe\">\n  <thead>\n    <tr style=\"text-align: right;\">\n      <th></th>\n      <th>feature_1</th>\n      <th>feature_2</th>\n      <th>feature_3</th>\n      <th>feature_4</th>\n      <th>feature_5</th>\n      <th>feature_6</th>\n      <th>feature_7</th>\n      <th>feature_8</th>\n      <th>feature_9</th>\n      <th>feature_10</th>\n      <th>...</th>\n      <th>feature_217</th>\n      <th>feature_218</th>\n      <th>feature_17</th>\n      <th>feature_87</th>\n      <th>feature_118</th>\n      <th>feature_144</th>\n      <th>feature_147</th>\n      <th>feature_158</th>\n      <th>feature_159</th>\n      <th>feature_195</th>\n    </tr>\n  </thead>\n  <tbody>\n    <tr>\n      <th>0</th>\n      <td>0.663893</td>\n      <td>0.0</td>\n      <td>0.0</td>\n      <td>-0.373402</td>\n      <td>-1.275314</td>\n      <td>0.210661</td>\n      <td>0.123031</td>\n      <td>0.204859</td>\n      <td>3.018225</td>\n      <td>0.5</td>\n      <td>...</td>\n      <td>3.661344</td>\n      <td>-1.0</td>\n      <td>0.0</td>\n      <td>-1.0</td>\n      <td>0.0</td>\n      <td>-0.5</td>\n      <td>0.5</td>\n      <td>0.50</td>\n      <td>1.0</td>\n      <td>0.0</td>\n    </tr>\n    <tr>\n      <th>1</th>\n      <td>-1.915673</td>\n      <td>-1.0</td>\n      <td>0.0</td>\n      <td>1.060806</td>\n      <td>0.652474</td>\n      <td>0.031425</td>\n      <td>-0.115957</td>\n      <td>-1.245085</td>\n      <td>0.656591</td>\n      <td>0.0</td>\n      <td>...</td>\n      <td>0.642557</td>\n      <td>0.0</td>\n      <td>3.0</td>\n      <td>-1.0</td>\n      <td>0.0</td>\n      <td>0.0</td>\n      <td>1.0</td>\n      <td>0.00</td>\n      <td>-0.2</td>\n      <td>-1.0</td>\n    </tr>\n    <tr>\n      <th>2</th>\n      <td>-0.222856</td>\n      <td>0.0</td>\n      <td>0.0</td>\n      <td>-0.373402</td>\n      <td>0.888714</td>\n      <td>-0.416667</td>\n      <td>0.282357</td>\n      <td>-1.108257</td>\n      <td>4.620763</td>\n      <td>0.0</td>\n      <td>...</td>\n      <td>-0.739808</td>\n      <td>0.0</td>\n      <td>0.0</td>\n      <td>-1.0</td>\n      <td>1.0</td>\n      <td>0.0</td>\n      <td>0.5</td>\n      <td>0.50</td>\n      <td>-0.4</td>\n      <td>2.0</td>\n    </tr>\n    <tr>\n      <th>3</th>\n      <td>-0.439138</td>\n      <td>0.0</td>\n      <td>0.0</td>\n      <td>0.000000</td>\n      <td>0.467888</td>\n      <td>-0.327048</td>\n      <td>-0.760437</td>\n      <td>-0.602389</td>\n      <td>1.078312</td>\n      <td>0.5</td>\n      <td>...</td>\n      <td>-0.739808</td>\n      <td>-1.0</td>\n      <td>-3.0</td>\n      <td>0.0</td>\n      <td>-1.0</td>\n      <td>-0.5</td>\n      <td>-1.0</td>\n      <td>0.75</td>\n      <td>1.2</td>\n      <td>3.0</td>\n    </tr>\n    <tr>\n      <th>4</th>\n      <td>-0.195553</td>\n      <td>-1.0</td>\n      <td>0.0</td>\n      <td>-0.373402</td>\n      <td>-0.260605</td>\n      <td>0.210661</td>\n      <td>1.558399</td>\n      <td>-0.767678</td>\n      <td>-0.945946</td>\n      <td>0.0</td>\n      <td>...</td>\n      <td>-0.739808</td>\n      <td>0.0</td>\n      <td>-3.0</td>\n      <td>1.0</td>\n      <td>-1.0</td>\n      <td>-1.0</td>\n      <td>-1.0</td>\n      <td>0.75</td>\n      <td>-0.4</td>\n      <td>3.0</td>\n    </tr>\n    <tr>\n      <th>...</th>\n      <td>...</td>\n      <td>...</td>\n      <td>...</td>\n      <td>...</td>\n      <td>...</td>\n      <td>...</td>\n      <td>...</td>\n      <td>...</td>\n      <td>...</td>\n      <td>...</td>\n      <td>...</td>\n      <td>...</td>\n      <td>...</td>\n      <td>...</td>\n      <td>...</td>\n      <td>...</td>\n      <td>...</td>\n      <td>...</td>\n      <td>...</td>\n      <td>...</td>\n      <td>...</td>\n    </tr>\n    <tr>\n      <th>495</th>\n      <td>0.571445</td>\n      <td>0.0</td>\n      <td>0.0</td>\n      <td>23.211343</td>\n      <td>-0.163859</td>\n      <td>0.121043</td>\n      <td>0.798372</td>\n      <td>0.507263</td>\n      <td>2.680849</td>\n      <td>1.5</td>\n      <td>...</td>\n      <td>-0.739808</td>\n      <td>-1.0</td>\n      <td>-3.0</td>\n      <td>1.0</td>\n      <td>-1.0</td>\n      <td>-1.0</td>\n      <td>-0.5</td>\n      <td>0.50</td>\n      <td>0.6</td>\n      <td>3.0</td>\n    </tr>\n    <tr>\n      <th>496</th>\n      <td>-2.092372</td>\n      <td>0.0</td>\n      <td>0.0</td>\n      <td>6.804879</td>\n      <td>-0.523517</td>\n      <td>0.210661</td>\n      <td>-0.659962</td>\n      <td>-0.370658</td>\n      <td>2.596505</td>\n      <td>0.0</td>\n      <td>...</td>\n      <td>-0.739808</td>\n      <td>-1.0</td>\n      <td>-3.0</td>\n      <td>0.0</td>\n      <td>1.0</td>\n      <td>-1.0</td>\n      <td>0.0</td>\n      <td>-0.25</td>\n      <td>-0.2</td>\n      <td>3.0</td>\n    </tr>\n    <tr>\n      <th>497</th>\n      <td>-0.750503</td>\n      <td>0.0</td>\n      <td>0.0</td>\n      <td>2.103866</td>\n      <td>-0.115135</td>\n      <td>-0.416667</td>\n      <td>-1.312336</td>\n      <td>0.588580</td>\n      <td>3.186914</td>\n      <td>-1.5</td>\n      <td>...</td>\n      <td>0.600840</td>\n      <td>-1.0</td>\n      <td>4.0</td>\n      <td>1.0</td>\n      <td>-1.0</td>\n      <td>-1.0</td>\n      <td>0.5</td>\n      <td>0.50</td>\n      <td>-0.4</td>\n      <td>0.0</td>\n    </tr>\n    <tr>\n      <th>498</th>\n      <td>-0.390338</td>\n      <td>1.0</td>\n      <td>0.0</td>\n      <td>0.000000</td>\n      <td>-0.204196</td>\n      <td>-0.416667</td>\n      <td>1.558399</td>\n      <td>-0.258662</td>\n      <td>1.162656</td>\n      <td>-1.5</td>\n      <td>...</td>\n      <td>7.036896</td>\n      <td>0.0</td>\n      <td>0.0</td>\n      <td>1.0</td>\n      <td>-1.0</td>\n      <td>-1.0</td>\n      <td>0.0</td>\n      <td>0.75</td>\n      <td>-0.4</td>\n      <td>0.0</td>\n    </tr>\n    <tr>\n      <th>499</th>\n      <td>-2.376257</td>\n      <td>-1.0</td>\n      <td>0.0</td>\n      <td>0.000000</td>\n      <td>0.067515</td>\n      <td>-0.416667</td>\n      <td>0.282357</td>\n      <td>-0.263358</td>\n      <td>-0.945946</td>\n      <td>0.0</td>\n      <td>...</td>\n      <td>1.476781</td>\n      <td>-1.0</td>\n      <td>0.0</td>\n      <td>1.0</td>\n      <td>0.0</td>\n      <td>0.0</td>\n      <td>0.0</td>\n      <td>-0.50</td>\n      <td>-1.0</td>\n      <td>-1.0</td>\n    </tr>\n  </tbody>\n</table>\n<p>500 rows × 214 columns</p>\n</div>"
     },
     "execution_count": 60,
     "metadata": {},
     "output_type": "execute_result"
    }
   ],
   "source": [
    "X_balanced_processed_scaled_df_val"
   ],
   "metadata": {
    "collapsed": false,
    "ExecuteTime": {
     "end_time": "2023-08-27T18:51:34.097419Z",
     "start_time": "2023-08-27T18:51:34.050845Z"
    }
   }
  },
  {
   "cell_type": "code",
   "execution_count": 61,
   "outputs": [],
   "source": [
    "#Save the data in npz format\n",
    "np.savez(SAVE_PATH + 'validation_inputs_data', inputs=X_balanced_processed_scaled_df_val)"
   ],
   "metadata": {
    "collapsed": false,
    "ExecuteTime": {
     "end_time": "2023-08-27T18:51:39.908671Z",
     "start_time": "2023-08-27T18:51:39.857188Z"
    }
   }
  },
  {
   "cell_type": "code",
   "execution_count": 62,
   "outputs": [],
   "source": [
    "with open(EXPORT_PATH+\"scaler.pkl\", 'rb') as file:\n",
    "    scaler = pickle.load(file)"
   ],
   "metadata": {
    "collapsed": false,
    "ExecuteTime": {
     "end_time": "2023-08-27T19:18:19.214400Z",
     "start_time": "2023-08-27T19:18:19.154891Z"
    }
   }
  },
  {
   "cell_type": "code",
   "execution_count": null,
   "outputs": [],
   "source": [],
   "metadata": {
    "collapsed": false
   }
  }
 ],
 "metadata": {
  "kernelspec": {
   "display_name": "Python 3",
   "language": "python",
   "name": "python3"
  },
  "language_info": {
   "codemirror_mode": {
    "name": "ipython",
    "version": 2
   },
   "file_extension": ".py",
   "mimetype": "text/x-python",
   "name": "python",
   "nbconvert_exporter": "python",
   "pygments_lexer": "ipython2",
   "version": "2.7.6"
  }
 },
 "nbformat": 4,
 "nbformat_minor": 0
}
