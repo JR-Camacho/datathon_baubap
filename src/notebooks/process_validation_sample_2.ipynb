{
 "cells": [
  {
   "cell_type": "code",
   "execution_count": 1,
   "metadata": {
    "collapsed": true,
    "ExecuteTime": {
     "end_time": "2023-08-26T20:50:53.212492Z",
     "start_time": "2023-08-26T20:50:53.179383Z"
    }
   },
   "outputs": [],
   "source": [
    "#Import libraries\n",
    "import pandas as pd\n",
    "import numpy as np\n",
    "import pickle\n",
    "from src.utils.preprocess_data import preprocess_data"
   ]
  },
  {
   "cell_type": "code",
   "execution_count": 2,
   "outputs": [],
   "source": [
    "#Load the data\n",
    "DATASET_PATH = \"../../data/raw/\"\n",
    "df = pd.read_pickle(DATASET_PATH+\"validation_sample_2.pkl\")"
   ],
   "metadata": {
    "collapsed": false,
    "ExecuteTime": {
     "end_time": "2023-08-26T20:50:53.495582Z",
     "start_time": "2023-08-26T20:50:53.458947Z"
    }
   }
  },
  {
   "cell_type": "code",
   "execution_count": 3,
   "outputs": [
    {
     "data": {
      "text/plain": "      feature_1  feature_2  feature_3  feature_4  feature_5  feature_6  \\\n1000   0.401274        0.5        0.0   0.019095   0.292064   0.009777   \n1001   0.566226        0.5        0.0   0.000232   0.273491   0.000000   \n1002   0.611535        0.5        0.0   0.000000   0.169363   0.019553   \n1003   0.395096        0.5        0.0   0.000000   0.209058   0.008380   \n1004   0.453976        0.5        0.0   0.000000   0.374536   0.012570   \n...         ...        ...        ...        ...        ...        ...   \n1995   0.435666        0.5        0.0   0.001096   0.307577   0.005587   \n1996   0.443993        0.0        0.0   0.000000   0.377347   0.000000   \n1997   0.547499        0.5        0.0   0.000095   0.102638   0.015363   \n1998   0.606223        0.0        0.0   0.000000   0.282586   0.008380   \n1999   0.428512        1.0        0.0   0.000000   0.191226   0.033520   \n\n      feature_7  feature_8  feature_9  feature_10  ...  feature_209  \\\n1000   0.208375   0.770723   0.006652    0.000000  ...      0.50000   \n1001   0.000000   0.587792   0.003078    0.500000  ...      0.75000   \n1002   0.208375   0.648957   0.000794    1.000000  ...      0.00000   \n1003   0.468750   0.785318   0.010822    0.666667  ...      0.00000   \n1004   0.312500   0.672679   0.003177    0.666667  ...      0.54545   \n...         ...        ...        ...         ...  ...          ...   \n1995   0.500000   0.700427   0.001886    0.666667  ...      0.50000   \n1996   0.625000   0.655078   0.002581    0.000000  ...      0.50000   \n1997   0.208375   0.455576   0.003078    0.500000  ...      0.00000   \n1998   0.000000   0.665021   0.026708    0.500000  ...      0.00000   \n1999   0.416625   0.746139   0.000000         NaN  ...      0.00000   \n\n      feature_210  feature_211  feature_212  feature_213  feature_214  \\\n1000     0.033228     0.165263     0.007308      1.00000     0.038533   \n1001     0.176846     0.878071     0.001218      0.50000     0.148745   \n1002     0.000000     0.000000     0.000000      0.00000     0.000000   \n1003     0.000000     0.000000     0.000000      0.00000     0.000000   \n1004     0.259219     0.127585     0.013398      0.95455     0.064810   \n...           ...          ...          ...          ...          ...   \n1995     0.050885     0.301400     0.035323      0.98275     0.039851   \n1996     0.035106     0.164865     0.002436      1.00000     0.046498   \n1997     0.000000     0.000000     0.000000      0.00000     0.000000   \n1998     0.000000     0.000000     0.000000      0.00000     0.000000   \n1999     0.000000     0.000000     0.000000      0.00000     0.000000   \n\n     feature_215  feature_216  feature_217  feature_218  \n1000    0.127958     0.028083     0.006377          1.0  \n1001    0.222019     0.878071     0.016134          1.0  \n1002    0.000000     0.000000     0.000000          0.0  \n1003    0.000000     0.000000     0.000000          1.0  \n1004    0.308742     0.127585     0.008443          1.0  \n...          ...          ...          ...          ...  \n1995    0.197628     0.301400     0.006616          0.0  \n1996    0.123749     0.164865     0.004043          0.0  \n1997    0.000000     0.000000     0.000000          0.0  \n1998    0.000000     0.000000     0.000000          0.0  \n1999    0.000000     0.000000     0.000000          1.0  \n\n[1000 rows x 218 columns]",
      "text/html": "<div>\n<style scoped>\n    .dataframe tbody tr th:only-of-type {\n        vertical-align: middle;\n    }\n\n    .dataframe tbody tr th {\n        vertical-align: top;\n    }\n\n    .dataframe thead th {\n        text-align: right;\n    }\n</style>\n<table border=\"1\" class=\"dataframe\">\n  <thead>\n    <tr style=\"text-align: right;\">\n      <th></th>\n      <th>feature_1</th>\n      <th>feature_2</th>\n      <th>feature_3</th>\n      <th>feature_4</th>\n      <th>feature_5</th>\n      <th>feature_6</th>\n      <th>feature_7</th>\n      <th>feature_8</th>\n      <th>feature_9</th>\n      <th>feature_10</th>\n      <th>...</th>\n      <th>feature_209</th>\n      <th>feature_210</th>\n      <th>feature_211</th>\n      <th>feature_212</th>\n      <th>feature_213</th>\n      <th>feature_214</th>\n      <th>feature_215</th>\n      <th>feature_216</th>\n      <th>feature_217</th>\n      <th>feature_218</th>\n    </tr>\n  </thead>\n  <tbody>\n    <tr>\n      <th>1000</th>\n      <td>0.401274</td>\n      <td>0.5</td>\n      <td>0.0</td>\n      <td>0.019095</td>\n      <td>0.292064</td>\n      <td>0.009777</td>\n      <td>0.208375</td>\n      <td>0.770723</td>\n      <td>0.006652</td>\n      <td>0.000000</td>\n      <td>...</td>\n      <td>0.50000</td>\n      <td>0.033228</td>\n      <td>0.165263</td>\n      <td>0.007308</td>\n      <td>1.00000</td>\n      <td>0.038533</td>\n      <td>0.127958</td>\n      <td>0.028083</td>\n      <td>0.006377</td>\n      <td>1.0</td>\n    </tr>\n    <tr>\n      <th>1001</th>\n      <td>0.566226</td>\n      <td>0.5</td>\n      <td>0.0</td>\n      <td>0.000232</td>\n      <td>0.273491</td>\n      <td>0.000000</td>\n      <td>0.000000</td>\n      <td>0.587792</td>\n      <td>0.003078</td>\n      <td>0.500000</td>\n      <td>...</td>\n      <td>0.75000</td>\n      <td>0.176846</td>\n      <td>0.878071</td>\n      <td>0.001218</td>\n      <td>0.50000</td>\n      <td>0.148745</td>\n      <td>0.222019</td>\n      <td>0.878071</td>\n      <td>0.016134</td>\n      <td>1.0</td>\n    </tr>\n    <tr>\n      <th>1002</th>\n      <td>0.611535</td>\n      <td>0.5</td>\n      <td>0.0</td>\n      <td>0.000000</td>\n      <td>0.169363</td>\n      <td>0.019553</td>\n      <td>0.208375</td>\n      <td>0.648957</td>\n      <td>0.000794</td>\n      <td>1.000000</td>\n      <td>...</td>\n      <td>0.00000</td>\n      <td>0.000000</td>\n      <td>0.000000</td>\n      <td>0.000000</td>\n      <td>0.00000</td>\n      <td>0.000000</td>\n      <td>0.000000</td>\n      <td>0.000000</td>\n      <td>0.000000</td>\n      <td>0.0</td>\n    </tr>\n    <tr>\n      <th>1003</th>\n      <td>0.395096</td>\n      <td>0.5</td>\n      <td>0.0</td>\n      <td>0.000000</td>\n      <td>0.209058</td>\n      <td>0.008380</td>\n      <td>0.468750</td>\n      <td>0.785318</td>\n      <td>0.010822</td>\n      <td>0.666667</td>\n      <td>...</td>\n      <td>0.00000</td>\n      <td>0.000000</td>\n      <td>0.000000</td>\n      <td>0.000000</td>\n      <td>0.00000</td>\n      <td>0.000000</td>\n      <td>0.000000</td>\n      <td>0.000000</td>\n      <td>0.000000</td>\n      <td>1.0</td>\n    </tr>\n    <tr>\n      <th>1004</th>\n      <td>0.453976</td>\n      <td>0.5</td>\n      <td>0.0</td>\n      <td>0.000000</td>\n      <td>0.374536</td>\n      <td>0.012570</td>\n      <td>0.312500</td>\n      <td>0.672679</td>\n      <td>0.003177</td>\n      <td>0.666667</td>\n      <td>...</td>\n      <td>0.54545</td>\n      <td>0.259219</td>\n      <td>0.127585</td>\n      <td>0.013398</td>\n      <td>0.95455</td>\n      <td>0.064810</td>\n      <td>0.308742</td>\n      <td>0.127585</td>\n      <td>0.008443</td>\n      <td>1.0</td>\n    </tr>\n    <tr>\n      <th>...</th>\n      <td>...</td>\n      <td>...</td>\n      <td>...</td>\n      <td>...</td>\n      <td>...</td>\n      <td>...</td>\n      <td>...</td>\n      <td>...</td>\n      <td>...</td>\n      <td>...</td>\n      <td>...</td>\n      <td>...</td>\n      <td>...</td>\n      <td>...</td>\n      <td>...</td>\n      <td>...</td>\n      <td>...</td>\n      <td>...</td>\n      <td>...</td>\n      <td>...</td>\n      <td>...</td>\n    </tr>\n    <tr>\n      <th>1995</th>\n      <td>0.435666</td>\n      <td>0.5</td>\n      <td>0.0</td>\n      <td>0.001096</td>\n      <td>0.307577</td>\n      <td>0.005587</td>\n      <td>0.500000</td>\n      <td>0.700427</td>\n      <td>0.001886</td>\n      <td>0.666667</td>\n      <td>...</td>\n      <td>0.50000</td>\n      <td>0.050885</td>\n      <td>0.301400</td>\n      <td>0.035323</td>\n      <td>0.98275</td>\n      <td>0.039851</td>\n      <td>0.197628</td>\n      <td>0.301400</td>\n      <td>0.006616</td>\n      <td>0.0</td>\n    </tr>\n    <tr>\n      <th>1996</th>\n      <td>0.443993</td>\n      <td>0.0</td>\n      <td>0.0</td>\n      <td>0.000000</td>\n      <td>0.377347</td>\n      <td>0.000000</td>\n      <td>0.625000</td>\n      <td>0.655078</td>\n      <td>0.002581</td>\n      <td>0.000000</td>\n      <td>...</td>\n      <td>0.50000</td>\n      <td>0.035106</td>\n      <td>0.164865</td>\n      <td>0.002436</td>\n      <td>1.00000</td>\n      <td>0.046498</td>\n      <td>0.123749</td>\n      <td>0.164865</td>\n      <td>0.004043</td>\n      <td>0.0</td>\n    </tr>\n    <tr>\n      <th>1997</th>\n      <td>0.547499</td>\n      <td>0.5</td>\n      <td>0.0</td>\n      <td>0.000095</td>\n      <td>0.102638</td>\n      <td>0.015363</td>\n      <td>0.208375</td>\n      <td>0.455576</td>\n      <td>0.003078</td>\n      <td>0.500000</td>\n      <td>...</td>\n      <td>0.00000</td>\n      <td>0.000000</td>\n      <td>0.000000</td>\n      <td>0.000000</td>\n      <td>0.00000</td>\n      <td>0.000000</td>\n      <td>0.000000</td>\n      <td>0.000000</td>\n      <td>0.000000</td>\n      <td>0.0</td>\n    </tr>\n    <tr>\n      <th>1998</th>\n      <td>0.606223</td>\n      <td>0.0</td>\n      <td>0.0</td>\n      <td>0.000000</td>\n      <td>0.282586</td>\n      <td>0.008380</td>\n      <td>0.000000</td>\n      <td>0.665021</td>\n      <td>0.026708</td>\n      <td>0.500000</td>\n      <td>...</td>\n      <td>0.00000</td>\n      <td>0.000000</td>\n      <td>0.000000</td>\n      <td>0.000000</td>\n      <td>0.00000</td>\n      <td>0.000000</td>\n      <td>0.000000</td>\n      <td>0.000000</td>\n      <td>0.000000</td>\n      <td>0.0</td>\n    </tr>\n    <tr>\n      <th>1999</th>\n      <td>0.428512</td>\n      <td>1.0</td>\n      <td>0.0</td>\n      <td>0.000000</td>\n      <td>0.191226</td>\n      <td>0.033520</td>\n      <td>0.416625</td>\n      <td>0.746139</td>\n      <td>0.000000</td>\n      <td>NaN</td>\n      <td>...</td>\n      <td>0.00000</td>\n      <td>0.000000</td>\n      <td>0.000000</td>\n      <td>0.000000</td>\n      <td>0.00000</td>\n      <td>0.000000</td>\n      <td>0.000000</td>\n      <td>0.000000</td>\n      <td>0.000000</td>\n      <td>1.0</td>\n    </tr>\n  </tbody>\n</table>\n<p>1000 rows × 218 columns</p>\n</div>"
     },
     "execution_count": 3,
     "metadata": {},
     "output_type": "execute_result"
    }
   ],
   "source": [
    "df"
   ],
   "metadata": {
    "collapsed": false,
    "ExecuteTime": {
     "end_time": "2023-08-26T20:50:53.815012Z",
     "start_time": "2023-08-26T20:50:53.790290Z"
    }
   }
  },
  {
   "cell_type": "code",
   "execution_count": 4,
   "outputs": [],
   "source": [
    "df = df.drop([\"feature_15\", \"feature_19\", \"feature_39\", \"feature_148\"], axis=1)"
   ],
   "metadata": {
    "collapsed": false,
    "ExecuteTime": {
     "end_time": "2023-08-26T20:50:53.991341Z",
     "start_time": "2023-08-26T20:50:53.954151Z"
    }
   }
  },
  {
   "cell_type": "code",
   "execution_count": 5,
   "outputs": [],
   "source": [
    "category_columns = [\"feature_17\", \"feature_87\", \"feature_118\", \"feature_119\", \"feature_139\", \"feature_144\", \"feature_147\", \"feature_158\", \"feature_159\", \"feature_195\"]\n",
    "\n",
    "X_category = df[category_columns].copy()\n",
    "X_numeric = df.drop(category_columns, axis=1)"
   ],
   "metadata": {
    "collapsed": false,
    "ExecuteTime": {
     "end_time": "2023-08-26T20:50:54.314519Z",
     "start_time": "2023-08-26T20:50:54.311589Z"
    }
   }
  },
  {
   "cell_type": "code",
   "execution_count": 6,
   "outputs": [
    {
     "data": {
      "text/plain": "      feature_1  feature_2  feature_3  feature_4  feature_5  feature_6  \\\n1000   0.401274        0.5        0.0   0.019095   0.292064   0.009777   \n1001   0.566226        0.5        0.0   0.000232   0.273491   0.000000   \n1002   0.611535        0.5        0.0   0.000000   0.169363   0.019553   \n1003   0.395096        0.5        0.0   0.000000   0.209058   0.008380   \n1004   0.453976        0.5        0.0   0.000000   0.374536   0.012570   \n...         ...        ...        ...        ...        ...        ...   \n1995   0.435666        0.5        0.0   0.001096   0.307577   0.005587   \n1996   0.443993        0.0        0.0   0.000000   0.377347   0.000000   \n1997   0.547499        0.5        0.0   0.000095   0.102638   0.015363   \n1998   0.606223        0.0        0.0   0.000000   0.282586   0.008380   \n1999   0.428512        1.0        0.0   0.000000   0.191226   0.033520   \n\n      feature_7  feature_8  feature_9  feature_10  ...  feature_209  \\\n1000   0.208375   0.770723   0.006652    0.000000  ...      0.50000   \n1001   0.000000   0.587792   0.003078    0.500000  ...      0.75000   \n1002   0.208375   0.648957   0.000794    1.000000  ...      0.00000   \n1003   0.468750   0.785318   0.010822    0.666667  ...      0.00000   \n1004   0.312500   0.672679   0.003177    0.666667  ...      0.54545   \n...         ...        ...        ...         ...  ...          ...   \n1995   0.500000   0.700427   0.001886    0.666667  ...      0.50000   \n1996   0.625000   0.655078   0.002581    0.000000  ...      0.50000   \n1997   0.208375   0.455576   0.003078    0.500000  ...      0.00000   \n1998   0.000000   0.665021   0.026708    0.500000  ...      0.00000   \n1999   0.416625   0.746139   0.000000         NaN  ...      0.00000   \n\n      feature_210  feature_211  feature_212  feature_213  feature_214  \\\n1000     0.033228     0.165263     0.007308      1.00000     0.038533   \n1001     0.176846     0.878071     0.001218      0.50000     0.148745   \n1002     0.000000     0.000000     0.000000      0.00000     0.000000   \n1003     0.000000     0.000000     0.000000      0.00000     0.000000   \n1004     0.259219     0.127585     0.013398      0.95455     0.064810   \n...           ...          ...          ...          ...          ...   \n1995     0.050885     0.301400     0.035323      0.98275     0.039851   \n1996     0.035106     0.164865     0.002436      1.00000     0.046498   \n1997     0.000000     0.000000     0.000000      0.00000     0.000000   \n1998     0.000000     0.000000     0.000000      0.00000     0.000000   \n1999     0.000000     0.000000     0.000000      0.00000     0.000000   \n\n      feature_215  feature_216  feature_217  feature_218  \n1000     0.127958     0.028083     0.006377          1.0  \n1001     0.222019     0.878071     0.016134          1.0  \n1002     0.000000     0.000000     0.000000          0.0  \n1003     0.000000     0.000000     0.000000          1.0  \n1004     0.308742     0.127585     0.008443          1.0  \n...           ...          ...          ...          ...  \n1995     0.197628     0.301400     0.006616          0.0  \n1996     0.123749     0.164865     0.004043          0.0  \n1997     0.000000     0.000000     0.000000          0.0  \n1998     0.000000     0.000000     0.000000          0.0  \n1999     0.000000     0.000000     0.000000          1.0  \n\n[1000 rows x 204 columns]",
      "text/html": "<div>\n<style scoped>\n    .dataframe tbody tr th:only-of-type {\n        vertical-align: middle;\n    }\n\n    .dataframe tbody tr th {\n        vertical-align: top;\n    }\n\n    .dataframe thead th {\n        text-align: right;\n    }\n</style>\n<table border=\"1\" class=\"dataframe\">\n  <thead>\n    <tr style=\"text-align: right;\">\n      <th></th>\n      <th>feature_1</th>\n      <th>feature_2</th>\n      <th>feature_3</th>\n      <th>feature_4</th>\n      <th>feature_5</th>\n      <th>feature_6</th>\n      <th>feature_7</th>\n      <th>feature_8</th>\n      <th>feature_9</th>\n      <th>feature_10</th>\n      <th>...</th>\n      <th>feature_209</th>\n      <th>feature_210</th>\n      <th>feature_211</th>\n      <th>feature_212</th>\n      <th>feature_213</th>\n      <th>feature_214</th>\n      <th>feature_215</th>\n      <th>feature_216</th>\n      <th>feature_217</th>\n      <th>feature_218</th>\n    </tr>\n  </thead>\n  <tbody>\n    <tr>\n      <th>1000</th>\n      <td>0.401274</td>\n      <td>0.5</td>\n      <td>0.0</td>\n      <td>0.019095</td>\n      <td>0.292064</td>\n      <td>0.009777</td>\n      <td>0.208375</td>\n      <td>0.770723</td>\n      <td>0.006652</td>\n      <td>0.000000</td>\n      <td>...</td>\n      <td>0.50000</td>\n      <td>0.033228</td>\n      <td>0.165263</td>\n      <td>0.007308</td>\n      <td>1.00000</td>\n      <td>0.038533</td>\n      <td>0.127958</td>\n      <td>0.028083</td>\n      <td>0.006377</td>\n      <td>1.0</td>\n    </tr>\n    <tr>\n      <th>1001</th>\n      <td>0.566226</td>\n      <td>0.5</td>\n      <td>0.0</td>\n      <td>0.000232</td>\n      <td>0.273491</td>\n      <td>0.000000</td>\n      <td>0.000000</td>\n      <td>0.587792</td>\n      <td>0.003078</td>\n      <td>0.500000</td>\n      <td>...</td>\n      <td>0.75000</td>\n      <td>0.176846</td>\n      <td>0.878071</td>\n      <td>0.001218</td>\n      <td>0.50000</td>\n      <td>0.148745</td>\n      <td>0.222019</td>\n      <td>0.878071</td>\n      <td>0.016134</td>\n      <td>1.0</td>\n    </tr>\n    <tr>\n      <th>1002</th>\n      <td>0.611535</td>\n      <td>0.5</td>\n      <td>0.0</td>\n      <td>0.000000</td>\n      <td>0.169363</td>\n      <td>0.019553</td>\n      <td>0.208375</td>\n      <td>0.648957</td>\n      <td>0.000794</td>\n      <td>1.000000</td>\n      <td>...</td>\n      <td>0.00000</td>\n      <td>0.000000</td>\n      <td>0.000000</td>\n      <td>0.000000</td>\n      <td>0.00000</td>\n      <td>0.000000</td>\n      <td>0.000000</td>\n      <td>0.000000</td>\n      <td>0.000000</td>\n      <td>0.0</td>\n    </tr>\n    <tr>\n      <th>1003</th>\n      <td>0.395096</td>\n      <td>0.5</td>\n      <td>0.0</td>\n      <td>0.000000</td>\n      <td>0.209058</td>\n      <td>0.008380</td>\n      <td>0.468750</td>\n      <td>0.785318</td>\n      <td>0.010822</td>\n      <td>0.666667</td>\n      <td>...</td>\n      <td>0.00000</td>\n      <td>0.000000</td>\n      <td>0.000000</td>\n      <td>0.000000</td>\n      <td>0.00000</td>\n      <td>0.000000</td>\n      <td>0.000000</td>\n      <td>0.000000</td>\n      <td>0.000000</td>\n      <td>1.0</td>\n    </tr>\n    <tr>\n      <th>1004</th>\n      <td>0.453976</td>\n      <td>0.5</td>\n      <td>0.0</td>\n      <td>0.000000</td>\n      <td>0.374536</td>\n      <td>0.012570</td>\n      <td>0.312500</td>\n      <td>0.672679</td>\n      <td>0.003177</td>\n      <td>0.666667</td>\n      <td>...</td>\n      <td>0.54545</td>\n      <td>0.259219</td>\n      <td>0.127585</td>\n      <td>0.013398</td>\n      <td>0.95455</td>\n      <td>0.064810</td>\n      <td>0.308742</td>\n      <td>0.127585</td>\n      <td>0.008443</td>\n      <td>1.0</td>\n    </tr>\n    <tr>\n      <th>...</th>\n      <td>...</td>\n      <td>...</td>\n      <td>...</td>\n      <td>...</td>\n      <td>...</td>\n      <td>...</td>\n      <td>...</td>\n      <td>...</td>\n      <td>...</td>\n      <td>...</td>\n      <td>...</td>\n      <td>...</td>\n      <td>...</td>\n      <td>...</td>\n      <td>...</td>\n      <td>...</td>\n      <td>...</td>\n      <td>...</td>\n      <td>...</td>\n      <td>...</td>\n      <td>...</td>\n    </tr>\n    <tr>\n      <th>1995</th>\n      <td>0.435666</td>\n      <td>0.5</td>\n      <td>0.0</td>\n      <td>0.001096</td>\n      <td>0.307577</td>\n      <td>0.005587</td>\n      <td>0.500000</td>\n      <td>0.700427</td>\n      <td>0.001886</td>\n      <td>0.666667</td>\n      <td>...</td>\n      <td>0.50000</td>\n      <td>0.050885</td>\n      <td>0.301400</td>\n      <td>0.035323</td>\n      <td>0.98275</td>\n      <td>0.039851</td>\n      <td>0.197628</td>\n      <td>0.301400</td>\n      <td>0.006616</td>\n      <td>0.0</td>\n    </tr>\n    <tr>\n      <th>1996</th>\n      <td>0.443993</td>\n      <td>0.0</td>\n      <td>0.0</td>\n      <td>0.000000</td>\n      <td>0.377347</td>\n      <td>0.000000</td>\n      <td>0.625000</td>\n      <td>0.655078</td>\n      <td>0.002581</td>\n      <td>0.000000</td>\n      <td>...</td>\n      <td>0.50000</td>\n      <td>0.035106</td>\n      <td>0.164865</td>\n      <td>0.002436</td>\n      <td>1.00000</td>\n      <td>0.046498</td>\n      <td>0.123749</td>\n      <td>0.164865</td>\n      <td>0.004043</td>\n      <td>0.0</td>\n    </tr>\n    <tr>\n      <th>1997</th>\n      <td>0.547499</td>\n      <td>0.5</td>\n      <td>0.0</td>\n      <td>0.000095</td>\n      <td>0.102638</td>\n      <td>0.015363</td>\n      <td>0.208375</td>\n      <td>0.455576</td>\n      <td>0.003078</td>\n      <td>0.500000</td>\n      <td>...</td>\n      <td>0.00000</td>\n      <td>0.000000</td>\n      <td>0.000000</td>\n      <td>0.000000</td>\n      <td>0.00000</td>\n      <td>0.000000</td>\n      <td>0.000000</td>\n      <td>0.000000</td>\n      <td>0.000000</td>\n      <td>0.0</td>\n    </tr>\n    <tr>\n      <th>1998</th>\n      <td>0.606223</td>\n      <td>0.0</td>\n      <td>0.0</td>\n      <td>0.000000</td>\n      <td>0.282586</td>\n      <td>0.008380</td>\n      <td>0.000000</td>\n      <td>0.665021</td>\n      <td>0.026708</td>\n      <td>0.500000</td>\n      <td>...</td>\n      <td>0.00000</td>\n      <td>0.000000</td>\n      <td>0.000000</td>\n      <td>0.000000</td>\n      <td>0.00000</td>\n      <td>0.000000</td>\n      <td>0.000000</td>\n      <td>0.000000</td>\n      <td>0.000000</td>\n      <td>0.0</td>\n    </tr>\n    <tr>\n      <th>1999</th>\n      <td>0.428512</td>\n      <td>1.0</td>\n      <td>0.0</td>\n      <td>0.000000</td>\n      <td>0.191226</td>\n      <td>0.033520</td>\n      <td>0.416625</td>\n      <td>0.746139</td>\n      <td>0.000000</td>\n      <td>NaN</td>\n      <td>...</td>\n      <td>0.00000</td>\n      <td>0.000000</td>\n      <td>0.000000</td>\n      <td>0.000000</td>\n      <td>0.00000</td>\n      <td>0.000000</td>\n      <td>0.000000</td>\n      <td>0.000000</td>\n      <td>0.000000</td>\n      <td>1.0</td>\n    </tr>\n  </tbody>\n</table>\n<p>1000 rows × 204 columns</p>\n</div>"
     },
     "execution_count": 6,
     "metadata": {},
     "output_type": "execute_result"
    }
   ],
   "source": [
    "X_numeric"
   ],
   "metadata": {
    "collapsed": false,
    "ExecuteTime": {
     "end_time": "2023-08-26T20:50:54.556994Z",
     "start_time": "2023-08-26T20:50:54.484552Z"
    }
   }
  },
  {
   "cell_type": "code",
   "execution_count": 7,
   "outputs": [
    {
     "data": {
      "text/plain": "        feature_17     feature_87    feature_118   feature_119   feature_139  \\\n1000  !!j2.0270.36  [!q2.51140.71  pZv4.01770.92   w@k2.0440.4  fPo2.5940.40   \n1001  (!q4.0800.54  [!q2.51140.71   R!g1.0180.30  d!j2.0330.33  P!g1.5140.13   \n1002  !!l3.0370.36  Ybs3.51260.71   ccl2.0570.53   aOn2.0890.6  :Ui1.5220.18   \n1003  (!q4.0800.54   [!p3.0990.64   ccl2.0570.53           NaN           NaN   \n1004  (!q4.0800.54  Ybs3.51260.71   R!g1.0180.30  d!j2.0330.33  :Ui1.5220.18   \n...            ...            ...            ...           ...           ...   \n1995  !!j2.0270.36  [!q2.51140.71   R!g1.0180.30  d!j2.0330.33  P!g1.5140.13   \n1996  !!j2.0270.36  Ybs3.51260.71   R!g1.0180.30  d!j2.0330.33  fPo2.5940.40   \n1997  !!j2.0270.36  Ybs3.51260.71   R!g1.0180.30           NaN           NaN   \n1998  F!p3.0830.72   [!p3.0990.64   R!g1.0180.30   w@k2.0440.4  aOo2.5940.40   \n1999  (!q4.0800.54   [!p3.0990.64   ccl2.0570.53   aOn2.0890.6  aOo2.5940.40   \n\n        feature_144    feature_147    feature_158    feature_159  \\\n1000  i!y5.02200.72   ccp3.5890.47    T0n2.0730.5  aOv4.01770.75   \n1001  bYz5.02470.77  MMp3.01010.52   F!l2.0450.37  ](r3.01190.62   \n1002  i!v4.01770.66  ^1a5.02760.88  WNq3.01000.56  aOv4.01770.75   \n1003  i!y5.02200.72  Yby5.52060.70   S&l2.0450.37  ](r3.01190.62   \n1004  bYz5.02470.77  ^1a5.02760.88   MMl2.0450.37  eeq3.51060.56   \n...             ...            ...            ...            ...   \n1995  bYz5.02470.77  Yby5.52060.70   MMl2.0450.37  ccq3.01000.56   \n1996  bYz5.02470.77  Yby5.52060.70  WNq3.01000.56  ](r3.01190.62   \n1997  bYz5.02470.77   Z!h1.5210.23  WNq3.01000.56  h&h7.04251.12   \n1998  bYz5.02470.77   Z!h1.5210.23   MMl2.0450.37  aOw4.52100.81   \n1999  i!v4.01770.66   ccp3.5890.47   S&l2.0450.37  _;w4.02040.81   \n\n        feature_195  \n1000   ^1s7.58460.9  \n1001  ^1w8.59900.96  \n1002  eec5.03120.53  \n1003  Yby5.02200.43  \n1004  ^1w8.59900.96  \n...             ...  \n1995  ^1w8.59900.96  \n1996  ^1w8.59900.96  \n1997  Yby5.02200.43  \n1998  eec5.03120.53  \n1999  Yby5.02200.43  \n\n[1000 rows x 10 columns]",
      "text/html": "<div>\n<style scoped>\n    .dataframe tbody tr th:only-of-type {\n        vertical-align: middle;\n    }\n\n    .dataframe tbody tr th {\n        vertical-align: top;\n    }\n\n    .dataframe thead th {\n        text-align: right;\n    }\n</style>\n<table border=\"1\" class=\"dataframe\">\n  <thead>\n    <tr style=\"text-align: right;\">\n      <th></th>\n      <th>feature_17</th>\n      <th>feature_87</th>\n      <th>feature_118</th>\n      <th>feature_119</th>\n      <th>feature_139</th>\n      <th>feature_144</th>\n      <th>feature_147</th>\n      <th>feature_158</th>\n      <th>feature_159</th>\n      <th>feature_195</th>\n    </tr>\n  </thead>\n  <tbody>\n    <tr>\n      <th>1000</th>\n      <td>!!j2.0270.36</td>\n      <td>[!q2.51140.71</td>\n      <td>pZv4.01770.92</td>\n      <td>w@k2.0440.4</td>\n      <td>fPo2.5940.40</td>\n      <td>i!y5.02200.72</td>\n      <td>ccp3.5890.47</td>\n      <td>T0n2.0730.5</td>\n      <td>aOv4.01770.75</td>\n      <td>^1s7.58460.9</td>\n    </tr>\n    <tr>\n      <th>1001</th>\n      <td>(!q4.0800.54</td>\n      <td>[!q2.51140.71</td>\n      <td>R!g1.0180.30</td>\n      <td>d!j2.0330.33</td>\n      <td>P!g1.5140.13</td>\n      <td>bYz5.02470.77</td>\n      <td>MMp3.01010.52</td>\n      <td>F!l2.0450.37</td>\n      <td>](r3.01190.62</td>\n      <td>^1w8.59900.96</td>\n    </tr>\n    <tr>\n      <th>1002</th>\n      <td>!!l3.0370.36</td>\n      <td>Ybs3.51260.71</td>\n      <td>ccl2.0570.53</td>\n      <td>aOn2.0890.6</td>\n      <td>:Ui1.5220.18</td>\n      <td>i!v4.01770.66</td>\n      <td>^1a5.02760.88</td>\n      <td>WNq3.01000.56</td>\n      <td>aOv4.01770.75</td>\n      <td>eec5.03120.53</td>\n    </tr>\n    <tr>\n      <th>1003</th>\n      <td>(!q4.0800.54</td>\n      <td>[!p3.0990.64</td>\n      <td>ccl2.0570.53</td>\n      <td>NaN</td>\n      <td>NaN</td>\n      <td>i!y5.02200.72</td>\n      <td>Yby5.52060.70</td>\n      <td>S&amp;l2.0450.37</td>\n      <td>](r3.01190.62</td>\n      <td>Yby5.02200.43</td>\n    </tr>\n    <tr>\n      <th>1004</th>\n      <td>(!q4.0800.54</td>\n      <td>Ybs3.51260.71</td>\n      <td>R!g1.0180.30</td>\n      <td>d!j2.0330.33</td>\n      <td>:Ui1.5220.18</td>\n      <td>bYz5.02470.77</td>\n      <td>^1a5.02760.88</td>\n      <td>MMl2.0450.37</td>\n      <td>eeq3.51060.56</td>\n      <td>^1w8.59900.96</td>\n    </tr>\n    <tr>\n      <th>...</th>\n      <td>...</td>\n      <td>...</td>\n      <td>...</td>\n      <td>...</td>\n      <td>...</td>\n      <td>...</td>\n      <td>...</td>\n      <td>...</td>\n      <td>...</td>\n      <td>...</td>\n    </tr>\n    <tr>\n      <th>1995</th>\n      <td>!!j2.0270.36</td>\n      <td>[!q2.51140.71</td>\n      <td>R!g1.0180.30</td>\n      <td>d!j2.0330.33</td>\n      <td>P!g1.5140.13</td>\n      <td>bYz5.02470.77</td>\n      <td>Yby5.52060.70</td>\n      <td>MMl2.0450.37</td>\n      <td>ccq3.01000.56</td>\n      <td>^1w8.59900.96</td>\n    </tr>\n    <tr>\n      <th>1996</th>\n      <td>!!j2.0270.36</td>\n      <td>Ybs3.51260.71</td>\n      <td>R!g1.0180.30</td>\n      <td>d!j2.0330.33</td>\n      <td>fPo2.5940.40</td>\n      <td>bYz5.02470.77</td>\n      <td>Yby5.52060.70</td>\n      <td>WNq3.01000.56</td>\n      <td>](r3.01190.62</td>\n      <td>^1w8.59900.96</td>\n    </tr>\n    <tr>\n      <th>1997</th>\n      <td>!!j2.0270.36</td>\n      <td>Ybs3.51260.71</td>\n      <td>R!g1.0180.30</td>\n      <td>NaN</td>\n      <td>NaN</td>\n      <td>bYz5.02470.77</td>\n      <td>Z!h1.5210.23</td>\n      <td>WNq3.01000.56</td>\n      <td>h&amp;h7.04251.12</td>\n      <td>Yby5.02200.43</td>\n    </tr>\n    <tr>\n      <th>1998</th>\n      <td>F!p3.0830.72</td>\n      <td>[!p3.0990.64</td>\n      <td>R!g1.0180.30</td>\n      <td>w@k2.0440.4</td>\n      <td>aOo2.5940.40</td>\n      <td>bYz5.02470.77</td>\n      <td>Z!h1.5210.23</td>\n      <td>MMl2.0450.37</td>\n      <td>aOw4.52100.81</td>\n      <td>eec5.03120.53</td>\n    </tr>\n    <tr>\n      <th>1999</th>\n      <td>(!q4.0800.54</td>\n      <td>[!p3.0990.64</td>\n      <td>ccl2.0570.53</td>\n      <td>aOn2.0890.6</td>\n      <td>aOo2.5940.40</td>\n      <td>i!v4.01770.66</td>\n      <td>ccp3.5890.47</td>\n      <td>S&amp;l2.0450.37</td>\n      <td>_;w4.02040.81</td>\n      <td>Yby5.02200.43</td>\n    </tr>\n  </tbody>\n</table>\n<p>1000 rows × 10 columns</p>\n</div>"
     },
     "execution_count": 7,
     "metadata": {},
     "output_type": "execute_result"
    }
   ],
   "source": [
    "X_category"
   ],
   "metadata": {
    "collapsed": false,
    "ExecuteTime": {
     "end_time": "2023-08-26T20:50:55.000514Z",
     "start_time": "2023-08-26T20:50:54.943054Z"
    }
   }
  },
  {
   "cell_type": "code",
   "execution_count": 8,
   "outputs": [],
   "source": [
    "EXPORT_PATH = \"../../exports/\"\n",
    "\n",
    "with open(EXPORT_PATH+\"category_label_encoders.pkl\", 'rb') as file:\n",
    "    category_label_encoders = pickle.load(file)\n",
    "\n",
    "with open(EXPORT_PATH+\"category_imputer.pkl\", 'rb') as file:\n",
    "    category_imputer = pickle.load(file)\n",
    "\n",
    "with open(EXPORT_PATH+\"numeric_imputer.pkl\", 'rb') as file:\n",
    "    numeric_imputer = pickle.load(file)\n",
    "\n",
    "with open(EXPORT_PATH+\"scaler.pkl\", 'rb') as file:\n",
    "    scaler = pickle.load(file)"
   ],
   "metadata": {
    "collapsed": false,
    "ExecuteTime": {
     "end_time": "2023-08-26T20:50:55.981713Z",
     "start_time": "2023-08-26T20:50:55.307414Z"
    }
   }
  },
  {
   "cell_type": "code",
   "execution_count": 9,
   "outputs": [],
   "source": [
    "preprocessed_data = preprocess_data(X_numeric=X_numeric, X_category=X_category, numeric_transformer=numeric_imputer, category_transformer=category_imputer, label_encoders=category_label_encoders)"
   ],
   "metadata": {
    "collapsed": false,
    "ExecuteTime": {
     "end_time": "2023-08-26T20:50:56.004619Z",
     "start_time": "2023-08-26T20:50:55.988218Z"
    }
   }
  },
  {
   "cell_type": "code",
   "execution_count": 10,
   "outputs": [
    {
     "data": {
      "text/plain": "feature_1      0\nfeature_2      0\nfeature_3      0\nfeature_4      0\nfeature_5      0\n              ..\nfeature_144    0\nfeature_147    0\nfeature_158    0\nfeature_159    0\nfeature_195    0\nLength: 214, dtype: int64"
     },
     "execution_count": 10,
     "metadata": {},
     "output_type": "execute_result"
    }
   ],
   "source": [
    "preprocessed_data.isna().sum()"
   ],
   "metadata": {
    "collapsed": false,
    "ExecuteTime": {
     "end_time": "2023-08-26T20:50:56.519323Z",
     "start_time": "2023-08-26T20:50:56.501022Z"
    }
   }
  },
  {
   "cell_type": "code",
   "execution_count": 11,
   "outputs": [],
   "source": [
    "scaled_validation_data = scaler.transform(preprocessed_data.copy())\n",
    "scaled_validation_data = pd.DataFrame(scaled_validation_data, columns=preprocessed_data.columns)"
   ],
   "metadata": {
    "collapsed": false,
    "ExecuteTime": {
     "end_time": "2023-08-26T20:50:57.092218Z",
     "start_time": "2023-08-26T20:50:57.077108Z"
    }
   }
  },
  {
   "cell_type": "code",
   "execution_count": 12,
   "outputs": [
    {
     "data": {
      "text/plain": "     feature_1  feature_2  feature_3   feature_4  feature_5  feature_6  \\\n0    -0.807187        0.0        0.0  144.496024  -0.005359   0.210661   \n1     0.321441        0.0        0.0    1.386762  -0.127898  -0.416667   \n2     0.631452        0.0        0.0   -0.373402  -0.814885   0.837989   \n3    -0.849460        0.0        0.0   -0.373402  -0.552993   0.121043   \n4    -0.446590        0.0        0.0   -0.373402   0.538751   0.389898   \n..         ...        ...        ...         ...        ...        ...   \n995  -0.571872        0.0        0.0    7.942104   0.096985  -0.058194   \n996  -0.514901       -1.0        0.0   -0.373402   0.557295  -0.416667   \n997   0.193304        0.0        0.0    0.350946  -1.255099   0.569134   \n998   0.595101       -1.0        0.0   -0.373402  -0.067892   0.121043   \n999  -0.620825        1.0        0.0   -0.373402  -0.670645   1.734171   \n\n     feature_7  feature_8  feature_9  feature_10  ...  feature_17  feature_87  \\\n0    -0.115957   0.157033   4.705107        -1.5  ...        -3.0         1.0   \n1    -1.312336  -1.070563   1.668720         0.0  ...         0.0         1.0   \n2    -0.115957  -0.660102  -0.271193         1.5  ...        -1.0        -1.0   \n3     1.378978   0.254975   8.247558         0.5  ...         0.0         0.0   \n4     0.481873  -0.500909   1.753064         0.5  ...         0.0        -1.0   \n..         ...        ...        ...         ...  ...         ...         ...   \n995   1.558399  -0.314703   0.656591         0.5  ...        -3.0         1.0   \n996   2.276082  -0.619024   1.247000        -1.5  ...        -3.0        -1.0   \n997  -0.115957  -1.957820   1.668720         0.0  ...        -3.0        -1.0   \n998  -1.312336  -0.552301  21.742609         0.0  ...         3.0         0.0   \n999   1.079704  -0.007947  -0.945946         0.0  ...         0.0         0.0   \n\n     feature_118  feature_119  feature_139  feature_144  feature_147  \\\n0            1.0         1.00     0.333333          0.0          1.0   \n1           -1.0         0.25    -0.666667         -1.0         -1.5   \n2            0.0         0.00    -0.833333         -0.5          0.5   \n3            0.0         0.00     0.333333          0.0         -0.5   \n4           -1.0         0.25    -0.833333         -1.0          0.5   \n..           ...          ...          ...          ...          ...   \n995         -1.0         0.25    -0.666667         -1.0         -0.5   \n996         -1.0         0.25     0.333333         -1.0         -0.5   \n997         -1.0         0.00     0.333333         -1.0          0.0   \n998         -1.0         1.00    -0.166667         -1.0          0.0   \n999          0.0         0.00    -0.166667         -0.5          1.0   \n\n     feature_158  feature_159  feature_195  \n0           0.25          0.0         -1.0  \n1          -0.75         -0.4          0.0  \n2           0.75          0.0          3.0  \n3          -0.25         -0.4         -2.0  \n4          -0.50          0.6          0.0  \n..           ...          ...          ...  \n995        -0.50          0.4          0.0  \n996         0.75         -0.4          0.0  \n997         0.75          1.2         -2.0  \n998        -0.50          0.2          3.0  \n999        -0.25         -0.2         -2.0  \n\n[1000 rows x 214 columns]",
      "text/html": "<div>\n<style scoped>\n    .dataframe tbody tr th:only-of-type {\n        vertical-align: middle;\n    }\n\n    .dataframe tbody tr th {\n        vertical-align: top;\n    }\n\n    .dataframe thead th {\n        text-align: right;\n    }\n</style>\n<table border=\"1\" class=\"dataframe\">\n  <thead>\n    <tr style=\"text-align: right;\">\n      <th></th>\n      <th>feature_1</th>\n      <th>feature_2</th>\n      <th>feature_3</th>\n      <th>feature_4</th>\n      <th>feature_5</th>\n      <th>feature_6</th>\n      <th>feature_7</th>\n      <th>feature_8</th>\n      <th>feature_9</th>\n      <th>feature_10</th>\n      <th>...</th>\n      <th>feature_17</th>\n      <th>feature_87</th>\n      <th>feature_118</th>\n      <th>feature_119</th>\n      <th>feature_139</th>\n      <th>feature_144</th>\n      <th>feature_147</th>\n      <th>feature_158</th>\n      <th>feature_159</th>\n      <th>feature_195</th>\n    </tr>\n  </thead>\n  <tbody>\n    <tr>\n      <th>0</th>\n      <td>-0.807187</td>\n      <td>0.0</td>\n      <td>0.0</td>\n      <td>144.496024</td>\n      <td>-0.005359</td>\n      <td>0.210661</td>\n      <td>-0.115957</td>\n      <td>0.157033</td>\n      <td>4.705107</td>\n      <td>-1.5</td>\n      <td>...</td>\n      <td>-3.0</td>\n      <td>1.0</td>\n      <td>1.0</td>\n      <td>1.00</td>\n      <td>0.333333</td>\n      <td>0.0</td>\n      <td>1.0</td>\n      <td>0.25</td>\n      <td>0.0</td>\n      <td>-1.0</td>\n    </tr>\n    <tr>\n      <th>1</th>\n      <td>0.321441</td>\n      <td>0.0</td>\n      <td>0.0</td>\n      <td>1.386762</td>\n      <td>-0.127898</td>\n      <td>-0.416667</td>\n      <td>-1.312336</td>\n      <td>-1.070563</td>\n      <td>1.668720</td>\n      <td>0.0</td>\n      <td>...</td>\n      <td>0.0</td>\n      <td>1.0</td>\n      <td>-1.0</td>\n      <td>0.25</td>\n      <td>-0.666667</td>\n      <td>-1.0</td>\n      <td>-1.5</td>\n      <td>-0.75</td>\n      <td>-0.4</td>\n      <td>0.0</td>\n    </tr>\n    <tr>\n      <th>2</th>\n      <td>0.631452</td>\n      <td>0.0</td>\n      <td>0.0</td>\n      <td>-0.373402</td>\n      <td>-0.814885</td>\n      <td>0.837989</td>\n      <td>-0.115957</td>\n      <td>-0.660102</td>\n      <td>-0.271193</td>\n      <td>1.5</td>\n      <td>...</td>\n      <td>-1.0</td>\n      <td>-1.0</td>\n      <td>0.0</td>\n      <td>0.00</td>\n      <td>-0.833333</td>\n      <td>-0.5</td>\n      <td>0.5</td>\n      <td>0.75</td>\n      <td>0.0</td>\n      <td>3.0</td>\n    </tr>\n    <tr>\n      <th>3</th>\n      <td>-0.849460</td>\n      <td>0.0</td>\n      <td>0.0</td>\n      <td>-0.373402</td>\n      <td>-0.552993</td>\n      <td>0.121043</td>\n      <td>1.378978</td>\n      <td>0.254975</td>\n      <td>8.247558</td>\n      <td>0.5</td>\n      <td>...</td>\n      <td>0.0</td>\n      <td>0.0</td>\n      <td>0.0</td>\n      <td>0.00</td>\n      <td>0.333333</td>\n      <td>0.0</td>\n      <td>-0.5</td>\n      <td>-0.25</td>\n      <td>-0.4</td>\n      <td>-2.0</td>\n    </tr>\n    <tr>\n      <th>4</th>\n      <td>-0.446590</td>\n      <td>0.0</td>\n      <td>0.0</td>\n      <td>-0.373402</td>\n      <td>0.538751</td>\n      <td>0.389898</td>\n      <td>0.481873</td>\n      <td>-0.500909</td>\n      <td>1.753064</td>\n      <td>0.5</td>\n      <td>...</td>\n      <td>0.0</td>\n      <td>-1.0</td>\n      <td>-1.0</td>\n      <td>0.25</td>\n      <td>-0.833333</td>\n      <td>-1.0</td>\n      <td>0.5</td>\n      <td>-0.50</td>\n      <td>0.6</td>\n      <td>0.0</td>\n    </tr>\n    <tr>\n      <th>...</th>\n      <td>...</td>\n      <td>...</td>\n      <td>...</td>\n      <td>...</td>\n      <td>...</td>\n      <td>...</td>\n      <td>...</td>\n      <td>...</td>\n      <td>...</td>\n      <td>...</td>\n      <td>...</td>\n      <td>...</td>\n      <td>...</td>\n      <td>...</td>\n      <td>...</td>\n      <td>...</td>\n      <td>...</td>\n      <td>...</td>\n      <td>...</td>\n      <td>...</td>\n      <td>...</td>\n    </tr>\n    <tr>\n      <th>995</th>\n      <td>-0.571872</td>\n      <td>0.0</td>\n      <td>0.0</td>\n      <td>7.942104</td>\n      <td>0.096985</td>\n      <td>-0.058194</td>\n      <td>1.558399</td>\n      <td>-0.314703</td>\n      <td>0.656591</td>\n      <td>0.5</td>\n      <td>...</td>\n      <td>-3.0</td>\n      <td>1.0</td>\n      <td>-1.0</td>\n      <td>0.25</td>\n      <td>-0.666667</td>\n      <td>-1.0</td>\n      <td>-0.5</td>\n      <td>-0.50</td>\n      <td>0.4</td>\n      <td>0.0</td>\n    </tr>\n    <tr>\n      <th>996</th>\n      <td>-0.514901</td>\n      <td>-1.0</td>\n      <td>0.0</td>\n      <td>-0.373402</td>\n      <td>0.557295</td>\n      <td>-0.416667</td>\n      <td>2.276082</td>\n      <td>-0.619024</td>\n      <td>1.247000</td>\n      <td>-1.5</td>\n      <td>...</td>\n      <td>-3.0</td>\n      <td>-1.0</td>\n      <td>-1.0</td>\n      <td>0.25</td>\n      <td>0.333333</td>\n      <td>-1.0</td>\n      <td>-0.5</td>\n      <td>0.75</td>\n      <td>-0.4</td>\n      <td>0.0</td>\n    </tr>\n    <tr>\n      <th>997</th>\n      <td>0.193304</td>\n      <td>0.0</td>\n      <td>0.0</td>\n      <td>0.350946</td>\n      <td>-1.255099</td>\n      <td>0.569134</td>\n      <td>-0.115957</td>\n      <td>-1.957820</td>\n      <td>1.668720</td>\n      <td>0.0</td>\n      <td>...</td>\n      <td>-3.0</td>\n      <td>-1.0</td>\n      <td>-1.0</td>\n      <td>0.00</td>\n      <td>0.333333</td>\n      <td>-1.0</td>\n      <td>0.0</td>\n      <td>0.75</td>\n      <td>1.2</td>\n      <td>-2.0</td>\n    </tr>\n    <tr>\n      <th>998</th>\n      <td>0.595101</td>\n      <td>-1.0</td>\n      <td>0.0</td>\n      <td>-0.373402</td>\n      <td>-0.067892</td>\n      <td>0.121043</td>\n      <td>-1.312336</td>\n      <td>-0.552301</td>\n      <td>21.742609</td>\n      <td>0.0</td>\n      <td>...</td>\n      <td>3.0</td>\n      <td>0.0</td>\n      <td>-1.0</td>\n      <td>1.00</td>\n      <td>-0.166667</td>\n      <td>-1.0</td>\n      <td>0.0</td>\n      <td>-0.50</td>\n      <td>0.2</td>\n      <td>3.0</td>\n    </tr>\n    <tr>\n      <th>999</th>\n      <td>-0.620825</td>\n      <td>1.0</td>\n      <td>0.0</td>\n      <td>-0.373402</td>\n      <td>-0.670645</td>\n      <td>1.734171</td>\n      <td>1.079704</td>\n      <td>-0.007947</td>\n      <td>-0.945946</td>\n      <td>0.0</td>\n      <td>...</td>\n      <td>0.0</td>\n      <td>0.0</td>\n      <td>0.0</td>\n      <td>0.00</td>\n      <td>-0.166667</td>\n      <td>-0.5</td>\n      <td>1.0</td>\n      <td>-0.25</td>\n      <td>-0.2</td>\n      <td>-2.0</td>\n    </tr>\n  </tbody>\n</table>\n<p>1000 rows × 214 columns</p>\n</div>"
     },
     "execution_count": 12,
     "metadata": {},
     "output_type": "execute_result"
    }
   ],
   "source": [
    "scaled_validation_data"
   ],
   "metadata": {
    "collapsed": false,
    "ExecuteTime": {
     "end_time": "2023-08-26T20:50:57.624244Z",
     "start_time": "2023-08-26T20:50:57.580062Z"
    }
   }
  },
  {
   "cell_type": "code",
   "execution_count": 14,
   "outputs": [],
   "source": [
    "scaled_validation_data.to_csv(\"../../data/processed/scaled_validation_data2.csv\", index=False)"
   ],
   "metadata": {
    "collapsed": false,
    "ExecuteTime": {
     "end_time": "2023-08-26T20:58:29.149830Z",
     "start_time": "2023-08-26T20:58:28.782922Z"
    }
   }
  },
  {
   "cell_type": "code",
   "execution_count": null,
   "outputs": [],
   "source": [],
   "metadata": {
    "collapsed": false
   }
  }
 ],
 "metadata": {
  "kernelspec": {
   "display_name": "Python 3",
   "language": "python",
   "name": "python3"
  },
  "language_info": {
   "codemirror_mode": {
    "name": "ipython",
    "version": 2
   },
   "file_extension": ".py",
   "mimetype": "text/x-python",
   "name": "python",
   "nbconvert_exporter": "python",
   "pygments_lexer": "ipython2",
   "version": "2.7.6"
  }
 },
 "nbformat": 4,
 "nbformat_minor": 0
}
