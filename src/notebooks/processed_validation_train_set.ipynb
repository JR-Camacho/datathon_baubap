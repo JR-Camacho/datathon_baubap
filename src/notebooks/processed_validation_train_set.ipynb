{
 "cells": [
  {
   "cell_type": "code",
   "execution_count": 2,
   "metadata": {
    "collapsed": true,
    "ExecuteTime": {
     "end_time": "2023-08-26T14:49:46.771746Z",
     "start_time": "2023-08-26T14:49:46.755437Z"
    }
   },
   "outputs": [],
   "source": [
    "#Import libraries\n",
    "import pandas as pd\n",
    "import numpy as np\n",
    "import pickle\n",
    "from sklearn.preprocessing import RobustScaler\n",
    "\n",
    "from src.utils.split_data import train_val_split, split_features\n",
    "from src.utils.preprocess_data import preprocess_data"
   ]
  },
  {
   "cell_type": "code",
   "execution_count": 17,
   "outputs": [],
   "source": [
    "#Load the data\n",
    "DATASET_PATH = \"../../data/raw/\"\n",
    "df = pd.read_pickle(DATASET_PATH+\"nn_challenge_test.pkl\")"
   ],
   "metadata": {
    "collapsed": false,
    "ExecuteTime": {
     "end_time": "2023-08-26T16:26:25.511744Z",
     "start_time": "2023-08-26T16:26:23.547955Z"
    }
   }
  },
  {
   "cell_type": "code",
   "execution_count": 4,
   "outputs": [
    {
     "data": {
      "text/plain": "        feature_1  feature_2  feature_3  feature_4  feature_5  feature_6  \\\n0        0.485838        0.5        0.0        NaN   0.364916   0.000682   \n1        0.471255        0.5        0.0   0.000000   0.432846   0.001364   \n2        0.619600        0.5        0.0   0.000000   0.208381   0.002046   \n3        0.600626        1.0        0.0   0.000018   0.146909   0.015007   \n4        0.642833        1.0        0.0   0.000259   0.177191   0.042974   \n...           ...        ...        ...        ...        ...        ...   \n270950   0.514214        0.0        0.0   0.000000   0.089995   0.019100   \n270951   0.405381        0.5        0.0   0.000105   0.249793   0.006139   \n270952   0.691027        0.5        0.0   0.000164   0.355698   0.003411   \n270953   0.712737        0.5        0.0   0.000000   0.231467   0.010914   \n270954   0.670764        0.0        0.0   0.000000   0.276833   0.004775   \n\n        feature_7  feature_8  feature_9  feature_10  ...  feature_210  \\\n0        0.000000   0.559775   0.000692    0.000000  ...     0.000000   \n1        0.089721   0.740107   0.002308    0.333333  ...     0.026009   \n2        0.424221   0.668134   0.000857    0.000000  ...     0.000000   \n3        0.583363   0.858019   0.001088    0.500000  ...     0.176415   \n4        0.583363   0.691851   0.000956    0.750000  ...     0.211176   \n...           ...        ...        ...         ...  ...          ...   \n270950   0.291681   0.440296   0.004814    0.333333  ...     0.000000   \n270951   0.116673   0.552868   0.002638    0.500000  ...     0.112360   \n270952   0.145841   0.869412   0.000890    0.666667  ...     0.064070   \n270953   0.291681   0.701853   0.000725    0.000000  ...     0.039394   \n270954   0.291681   0.615141   0.001187    0.000000  ...     0.045928   \n\n        feature_211  feature_212  feature_213  feature_214  feature_215  \\\n0          0.000000     0.000000      0.00000     0.000000     0.000000   \n1          0.074658     0.003963      1.00000     0.025595     0.106699   \n2          0.000000     0.000000      0.00000     0.000000     0.000000   \n3          0.238134     0.005945      0.80770     0.043148     0.250982   \n4          0.106760     0.001321      0.75000     0.122571     0.238861   \n...             ...          ...          ...          ...          ...   \n270950     0.000000     0.000000      0.00000     0.000000     0.000000   \n270951     0.020824     0.005284      0.85000     0.042598     0.207764   \n270952     0.030698     0.019815      0.92645     0.031424     0.221957   \n270953     0.112085     0.000661      0.50000     0.040467     0.110831   \n270954     0.059760     0.003303      0.90000     0.030159     0.125187   \n\n       feature_216  feature_217  feature_218  target  \n0         0.000000     0.000000          1.0       1  \n1         0.020597     0.002580          0.0       1  \n2         0.000000     0.000000          1.0       1  \n3         0.199603     0.004473          0.0       1  \n4         0.106760     0.005346          0.0       1  \n...            ...          ...          ...     ...  \n270950    0.000000     0.000000          1.0       1  \n270951    0.020597     0.003336          1.0       1  \n270952    0.020597     0.004713          0.0       1  \n270953    0.112085     0.001517          1.0       1  \n270954    0.023433     0.003758          1.0       1  \n\n[270955 rows x 219 columns]",
      "text/html": "<div>\n<style scoped>\n    .dataframe tbody tr th:only-of-type {\n        vertical-align: middle;\n    }\n\n    .dataframe tbody tr th {\n        vertical-align: top;\n    }\n\n    .dataframe thead th {\n        text-align: right;\n    }\n</style>\n<table border=\"1\" class=\"dataframe\">\n  <thead>\n    <tr style=\"text-align: right;\">\n      <th></th>\n      <th>feature_1</th>\n      <th>feature_2</th>\n      <th>feature_3</th>\n      <th>feature_4</th>\n      <th>feature_5</th>\n      <th>feature_6</th>\n      <th>feature_7</th>\n      <th>feature_8</th>\n      <th>feature_9</th>\n      <th>feature_10</th>\n      <th>...</th>\n      <th>feature_210</th>\n      <th>feature_211</th>\n      <th>feature_212</th>\n      <th>feature_213</th>\n      <th>feature_214</th>\n      <th>feature_215</th>\n      <th>feature_216</th>\n      <th>feature_217</th>\n      <th>feature_218</th>\n      <th>target</th>\n    </tr>\n  </thead>\n  <tbody>\n    <tr>\n      <th>0</th>\n      <td>0.485838</td>\n      <td>0.5</td>\n      <td>0.0</td>\n      <td>NaN</td>\n      <td>0.364916</td>\n      <td>0.000682</td>\n      <td>0.000000</td>\n      <td>0.559775</td>\n      <td>0.000692</td>\n      <td>0.000000</td>\n      <td>...</td>\n      <td>0.000000</td>\n      <td>0.000000</td>\n      <td>0.000000</td>\n      <td>0.00000</td>\n      <td>0.000000</td>\n      <td>0.000000</td>\n      <td>0.000000</td>\n      <td>0.000000</td>\n      <td>1.0</td>\n      <td>1</td>\n    </tr>\n    <tr>\n      <th>1</th>\n      <td>0.471255</td>\n      <td>0.5</td>\n      <td>0.0</td>\n      <td>0.000000</td>\n      <td>0.432846</td>\n      <td>0.001364</td>\n      <td>0.089721</td>\n      <td>0.740107</td>\n      <td>0.002308</td>\n      <td>0.333333</td>\n      <td>...</td>\n      <td>0.026009</td>\n      <td>0.074658</td>\n      <td>0.003963</td>\n      <td>1.00000</td>\n      <td>0.025595</td>\n      <td>0.106699</td>\n      <td>0.020597</td>\n      <td>0.002580</td>\n      <td>0.0</td>\n      <td>1</td>\n    </tr>\n    <tr>\n      <th>2</th>\n      <td>0.619600</td>\n      <td>0.5</td>\n      <td>0.0</td>\n      <td>0.000000</td>\n      <td>0.208381</td>\n      <td>0.002046</td>\n      <td>0.424221</td>\n      <td>0.668134</td>\n      <td>0.000857</td>\n      <td>0.000000</td>\n      <td>...</td>\n      <td>0.000000</td>\n      <td>0.000000</td>\n      <td>0.000000</td>\n      <td>0.00000</td>\n      <td>0.000000</td>\n      <td>0.000000</td>\n      <td>0.000000</td>\n      <td>0.000000</td>\n      <td>1.0</td>\n      <td>1</td>\n    </tr>\n    <tr>\n      <th>3</th>\n      <td>0.600626</td>\n      <td>1.0</td>\n      <td>0.0</td>\n      <td>0.000018</td>\n      <td>0.146909</td>\n      <td>0.015007</td>\n      <td>0.583363</td>\n      <td>0.858019</td>\n      <td>0.001088</td>\n      <td>0.500000</td>\n      <td>...</td>\n      <td>0.176415</td>\n      <td>0.238134</td>\n      <td>0.005945</td>\n      <td>0.80770</td>\n      <td>0.043148</td>\n      <td>0.250982</td>\n      <td>0.199603</td>\n      <td>0.004473</td>\n      <td>0.0</td>\n      <td>1</td>\n    </tr>\n    <tr>\n      <th>4</th>\n      <td>0.642833</td>\n      <td>1.0</td>\n      <td>0.0</td>\n      <td>0.000259</td>\n      <td>0.177191</td>\n      <td>0.042974</td>\n      <td>0.583363</td>\n      <td>0.691851</td>\n      <td>0.000956</td>\n      <td>0.750000</td>\n      <td>...</td>\n      <td>0.211176</td>\n      <td>0.106760</td>\n      <td>0.001321</td>\n      <td>0.75000</td>\n      <td>0.122571</td>\n      <td>0.238861</td>\n      <td>0.106760</td>\n      <td>0.005346</td>\n      <td>0.0</td>\n      <td>1</td>\n    </tr>\n    <tr>\n      <th>...</th>\n      <td>...</td>\n      <td>...</td>\n      <td>...</td>\n      <td>...</td>\n      <td>...</td>\n      <td>...</td>\n      <td>...</td>\n      <td>...</td>\n      <td>...</td>\n      <td>...</td>\n      <td>...</td>\n      <td>...</td>\n      <td>...</td>\n      <td>...</td>\n      <td>...</td>\n      <td>...</td>\n      <td>...</td>\n      <td>...</td>\n      <td>...</td>\n      <td>...</td>\n      <td>...</td>\n    </tr>\n    <tr>\n      <th>270950</th>\n      <td>0.514214</td>\n      <td>0.0</td>\n      <td>0.0</td>\n      <td>0.000000</td>\n      <td>0.089995</td>\n      <td>0.019100</td>\n      <td>0.291681</td>\n      <td>0.440296</td>\n      <td>0.004814</td>\n      <td>0.333333</td>\n      <td>...</td>\n      <td>0.000000</td>\n      <td>0.000000</td>\n      <td>0.000000</td>\n      <td>0.00000</td>\n      <td>0.000000</td>\n      <td>0.000000</td>\n      <td>0.000000</td>\n      <td>0.000000</td>\n      <td>1.0</td>\n      <td>1</td>\n    </tr>\n    <tr>\n      <th>270951</th>\n      <td>0.405381</td>\n      <td>0.5</td>\n      <td>0.0</td>\n      <td>0.000105</td>\n      <td>0.249793</td>\n      <td>0.006139</td>\n      <td>0.116673</td>\n      <td>0.552868</td>\n      <td>0.002638</td>\n      <td>0.500000</td>\n      <td>...</td>\n      <td>0.112360</td>\n      <td>0.020824</td>\n      <td>0.005284</td>\n      <td>0.85000</td>\n      <td>0.042598</td>\n      <td>0.207764</td>\n      <td>0.020597</td>\n      <td>0.003336</td>\n      <td>1.0</td>\n      <td>1</td>\n    </tr>\n    <tr>\n      <th>270952</th>\n      <td>0.691027</td>\n      <td>0.5</td>\n      <td>0.0</td>\n      <td>0.000164</td>\n      <td>0.355698</td>\n      <td>0.003411</td>\n      <td>0.145841</td>\n      <td>0.869412</td>\n      <td>0.000890</td>\n      <td>0.666667</td>\n      <td>...</td>\n      <td>0.064070</td>\n      <td>0.030698</td>\n      <td>0.019815</td>\n      <td>0.92645</td>\n      <td>0.031424</td>\n      <td>0.221957</td>\n      <td>0.020597</td>\n      <td>0.004713</td>\n      <td>0.0</td>\n      <td>1</td>\n    </tr>\n    <tr>\n      <th>270953</th>\n      <td>0.712737</td>\n      <td>0.5</td>\n      <td>0.0</td>\n      <td>0.000000</td>\n      <td>0.231467</td>\n      <td>0.010914</td>\n      <td>0.291681</td>\n      <td>0.701853</td>\n      <td>0.000725</td>\n      <td>0.000000</td>\n      <td>...</td>\n      <td>0.039394</td>\n      <td>0.112085</td>\n      <td>0.000661</td>\n      <td>0.50000</td>\n      <td>0.040467</td>\n      <td>0.110831</td>\n      <td>0.112085</td>\n      <td>0.001517</td>\n      <td>1.0</td>\n      <td>1</td>\n    </tr>\n    <tr>\n      <th>270954</th>\n      <td>0.670764</td>\n      <td>0.0</td>\n      <td>0.0</td>\n      <td>0.000000</td>\n      <td>0.276833</td>\n      <td>0.004775</td>\n      <td>0.291681</td>\n      <td>0.615141</td>\n      <td>0.001187</td>\n      <td>0.000000</td>\n      <td>...</td>\n      <td>0.045928</td>\n      <td>0.059760</td>\n      <td>0.003303</td>\n      <td>0.90000</td>\n      <td>0.030159</td>\n      <td>0.125187</td>\n      <td>0.023433</td>\n      <td>0.003758</td>\n      <td>1.0</td>\n      <td>1</td>\n    </tr>\n  </tbody>\n</table>\n<p>270955 rows × 219 columns</p>\n</div>"
     },
     "execution_count": 4,
     "metadata": {},
     "output_type": "execute_result"
    }
   ],
   "source": [
    "df"
   ],
   "metadata": {
    "collapsed": false,
    "ExecuteTime": {
     "end_time": "2023-08-26T14:50:19.827395Z",
     "start_time": "2023-08-26T14:50:19.726465Z"
    }
   }
  },
  {
   "cell_type": "code",
   "execution_count": 5,
   "outputs": [
    {
     "data": {
      "text/plain": "target\n1    230749\n0     40206\nName: count, dtype: int64"
     },
     "execution_count": 5,
     "metadata": {},
     "output_type": "execute_result"
    }
   ],
   "source": [
    "df[\"target\"].value_counts()"
   ],
   "metadata": {
    "collapsed": false,
    "ExecuteTime": {
     "end_time": "2023-08-26T14:50:55.278127Z",
     "start_time": "2023-08-26T14:50:55.265013Z"
    }
   }
  },
  {
   "cell_type": "code",
   "execution_count": 6,
   "outputs": [],
   "source": [
    "df = df.drop([\"feature_15\", \"feature_119\", \"feature_139\", \"feature_148\"], axis=1)"
   ],
   "metadata": {
    "collapsed": false,
    "ExecuteTime": {
     "end_time": "2023-08-26T14:54:18.375190Z",
     "start_time": "2023-08-26T14:54:17.495894Z"
    }
   }
  },
  {
   "cell_type": "code",
   "execution_count": 7,
   "outputs": [],
   "source": [
    "X = df.drop(\"target\", axis=1)\n",
    "y = df[\"target\"].copy()"
   ],
   "metadata": {
    "collapsed": false,
    "ExecuteTime": {
     "end_time": "2023-08-26T14:55:50.859262Z",
     "start_time": "2023-08-26T14:55:49.757088Z"
    }
   }
  },
  {
   "cell_type": "code",
   "execution_count": 8,
   "outputs": [],
   "source": [
    "category_columns = [\"feature_17\", \"feature_87\", \"feature_118\", \"feature_119\", \"feature_139\", \"feature_144\", \"feature_147\", \"feature_158\", \"feature_159\", \"feature_195\"]\n",
    "\n",
    "X_category = X[category_columns].copy()\n",
    "X_numeric = X.drop(category_columns, axis=1)"
   ],
   "metadata": {
    "collapsed": false,
    "ExecuteTime": {
     "end_time": "2023-08-26T14:55:55.118956Z",
     "start_time": "2023-08-26T14:55:54.569083Z"
    }
   }
  },
  {
   "cell_type": "code",
   "execution_count": 9,
   "outputs": [],
   "source": [
    "EXPORT_PATH = \"../../exports/\"\n",
    "\n",
    "with open(EXPORT_PATH+\"category_label_encoders.pkl\", 'rb') as file:\n",
    "    category_label_encoders = pickle.load(file)\n",
    "\n",
    "with open(EXPORT_PATH+\"category_imputer.pkl\", 'rb') as file:\n",
    "    category_imputer = pickle.load(file)\n",
    "\n",
    "with open(EXPORT_PATH+\"numeric_imputer.pkl\", 'rb') as file:\n",
    "    numeric_imputer = pickle.load(file)"
   ],
   "metadata": {
    "collapsed": false,
    "ExecuteTime": {
     "end_time": "2023-08-26T14:58:34.605746Z",
     "start_time": "2023-08-26T14:58:34.576303Z"
    }
   }
  },
  {
   "cell_type": "code",
   "execution_count": 10,
   "outputs": [],
   "source": [
    "preprocessed_data = preprocess_data(X_numeric=X_numeric, X_category=X_category, numeric_transformer=numeric_imputer, category_transformer=category_imputer, label_encoders=category_label_encoders, index=y.index)"
   ],
   "metadata": {
    "collapsed": false,
    "ExecuteTime": {
     "end_time": "2023-08-26T14:59:40.349273Z",
     "start_time": "2023-08-26T14:59:35.823335Z"
    }
   }
  },
  {
   "cell_type": "code",
   "execution_count": 11,
   "outputs": [
    {
     "data": {
      "text/plain": "        feature_1  feature_2  feature_3  feature_4  feature_5  feature_6  \\\n0        0.485838        0.5        0.0   0.000049   0.364916   0.000682   \n1        0.471255        0.5        0.0   0.000000   0.432846   0.001364   \n2        0.619600        0.5        0.0   0.000000   0.208381   0.002046   \n3        0.600626        1.0        0.0   0.000018   0.146909   0.015007   \n4        0.642833        1.0        0.0   0.000259   0.177191   0.042974   \n...           ...        ...        ...        ...        ...        ...   \n270950   0.514214        0.0        0.0   0.000000   0.089995   0.019100   \n270951   0.405381        0.5        0.0   0.000105   0.249793   0.006139   \n270952   0.691027        0.5        0.0   0.000164   0.355698   0.003411   \n270953   0.712737        0.5        0.0   0.000000   0.231467   0.010914   \n270954   0.670764        0.0        0.0   0.000000   0.276833   0.004775   \n\n        feature_7  feature_8  feature_9  feature_10  ...  feature_17  \\\n0        0.000000   0.559775   0.000692    0.000000  ...           3   \n1        0.089721   0.740107   0.002308    0.333333  ...           2   \n2        0.424221   0.668134   0.000857    0.000000  ...           7   \n3        0.583363   0.858019   0.001088    0.500000  ...           3   \n4        0.583363   0.691851   0.000956    0.750000  ...           3   \n...           ...        ...        ...         ...  ...         ...   \n270950   0.291681   0.440296   0.004814    0.333333  ...           3   \n270951   0.116673   0.552868   0.002638    0.500000  ...           3   \n270952   0.145841   0.869412   0.000890    0.666667  ...           3   \n270953   0.291681   0.701853   0.000725    0.000000  ...           4   \n270954   0.291681   0.615141   0.001187    0.000000  ...           3   \n\n        feature_87  feature_118  feature_119  feature_139  feature_144  \\\n0                0            1            1            7            3   \n1                1            2            1            4            3   \n2                1            2            3            7            3   \n3                2            2            1            7            3   \n4                2            0            1            4            1   \n...            ...          ...          ...          ...          ...   \n270950           2            0            5            7            3   \n270951           1            1            1            7            2   \n270952           2            1            1            4            3   \n270953           0            0            5            7            3   \n270954           2            0            1            7            1   \n\n        feature_147  feature_158  feature_159  feature_195  \n0                 3            2           11            4  \n1                 2            5            9            1  \n2                 4            6            7            0  \n3                 2            4           14            2  \n4                 3            3            6            2  \n...             ...          ...          ...          ...  \n270950            4            6           12            5  \n270951            3            6           17            1  \n270952            3            6            5            1  \n270953            2            6            3            2  \n270954            1            6           12            2  \n\n[270955 rows x 214 columns]",
      "text/html": "<div>\n<style scoped>\n    .dataframe tbody tr th:only-of-type {\n        vertical-align: middle;\n    }\n\n    .dataframe tbody tr th {\n        vertical-align: top;\n    }\n\n    .dataframe thead th {\n        text-align: right;\n    }\n</style>\n<table border=\"1\" class=\"dataframe\">\n  <thead>\n    <tr style=\"text-align: right;\">\n      <th></th>\n      <th>feature_1</th>\n      <th>feature_2</th>\n      <th>feature_3</th>\n      <th>feature_4</th>\n      <th>feature_5</th>\n      <th>feature_6</th>\n      <th>feature_7</th>\n      <th>feature_8</th>\n      <th>feature_9</th>\n      <th>feature_10</th>\n      <th>...</th>\n      <th>feature_17</th>\n      <th>feature_87</th>\n      <th>feature_118</th>\n      <th>feature_119</th>\n      <th>feature_139</th>\n      <th>feature_144</th>\n      <th>feature_147</th>\n      <th>feature_158</th>\n      <th>feature_159</th>\n      <th>feature_195</th>\n    </tr>\n  </thead>\n  <tbody>\n    <tr>\n      <th>0</th>\n      <td>0.485838</td>\n      <td>0.5</td>\n      <td>0.0</td>\n      <td>0.000049</td>\n      <td>0.364916</td>\n      <td>0.000682</td>\n      <td>0.000000</td>\n      <td>0.559775</td>\n      <td>0.000692</td>\n      <td>0.000000</td>\n      <td>...</td>\n      <td>3</td>\n      <td>0</td>\n      <td>1</td>\n      <td>1</td>\n      <td>7</td>\n      <td>3</td>\n      <td>3</td>\n      <td>2</td>\n      <td>11</td>\n      <td>4</td>\n    </tr>\n    <tr>\n      <th>1</th>\n      <td>0.471255</td>\n      <td>0.5</td>\n      <td>0.0</td>\n      <td>0.000000</td>\n      <td>0.432846</td>\n      <td>0.001364</td>\n      <td>0.089721</td>\n      <td>0.740107</td>\n      <td>0.002308</td>\n      <td>0.333333</td>\n      <td>...</td>\n      <td>2</td>\n      <td>1</td>\n      <td>2</td>\n      <td>1</td>\n      <td>4</td>\n      <td>3</td>\n      <td>2</td>\n      <td>5</td>\n      <td>9</td>\n      <td>1</td>\n    </tr>\n    <tr>\n      <th>2</th>\n      <td>0.619600</td>\n      <td>0.5</td>\n      <td>0.0</td>\n      <td>0.000000</td>\n      <td>0.208381</td>\n      <td>0.002046</td>\n      <td>0.424221</td>\n      <td>0.668134</td>\n      <td>0.000857</td>\n      <td>0.000000</td>\n      <td>...</td>\n      <td>7</td>\n      <td>1</td>\n      <td>2</td>\n      <td>3</td>\n      <td>7</td>\n      <td>3</td>\n      <td>4</td>\n      <td>6</td>\n      <td>7</td>\n      <td>0</td>\n    </tr>\n    <tr>\n      <th>3</th>\n      <td>0.600626</td>\n      <td>1.0</td>\n      <td>0.0</td>\n      <td>0.000018</td>\n      <td>0.146909</td>\n      <td>0.015007</td>\n      <td>0.583363</td>\n      <td>0.858019</td>\n      <td>0.001088</td>\n      <td>0.500000</td>\n      <td>...</td>\n      <td>3</td>\n      <td>2</td>\n      <td>2</td>\n      <td>1</td>\n      <td>7</td>\n      <td>3</td>\n      <td>2</td>\n      <td>4</td>\n      <td>14</td>\n      <td>2</td>\n    </tr>\n    <tr>\n      <th>4</th>\n      <td>0.642833</td>\n      <td>1.0</td>\n      <td>0.0</td>\n      <td>0.000259</td>\n      <td>0.177191</td>\n      <td>0.042974</td>\n      <td>0.583363</td>\n      <td>0.691851</td>\n      <td>0.000956</td>\n      <td>0.750000</td>\n      <td>...</td>\n      <td>3</td>\n      <td>2</td>\n      <td>0</td>\n      <td>1</td>\n      <td>4</td>\n      <td>1</td>\n      <td>3</td>\n      <td>3</td>\n      <td>6</td>\n      <td>2</td>\n    </tr>\n    <tr>\n      <th>...</th>\n      <td>...</td>\n      <td>...</td>\n      <td>...</td>\n      <td>...</td>\n      <td>...</td>\n      <td>...</td>\n      <td>...</td>\n      <td>...</td>\n      <td>...</td>\n      <td>...</td>\n      <td>...</td>\n      <td>...</td>\n      <td>...</td>\n      <td>...</td>\n      <td>...</td>\n      <td>...</td>\n      <td>...</td>\n      <td>...</td>\n      <td>...</td>\n      <td>...</td>\n      <td>...</td>\n    </tr>\n    <tr>\n      <th>270950</th>\n      <td>0.514214</td>\n      <td>0.0</td>\n      <td>0.0</td>\n      <td>0.000000</td>\n      <td>0.089995</td>\n      <td>0.019100</td>\n      <td>0.291681</td>\n      <td>0.440296</td>\n      <td>0.004814</td>\n      <td>0.333333</td>\n      <td>...</td>\n      <td>3</td>\n      <td>2</td>\n      <td>0</td>\n      <td>5</td>\n      <td>7</td>\n      <td>3</td>\n      <td>4</td>\n      <td>6</td>\n      <td>12</td>\n      <td>5</td>\n    </tr>\n    <tr>\n      <th>270951</th>\n      <td>0.405381</td>\n      <td>0.5</td>\n      <td>0.0</td>\n      <td>0.000105</td>\n      <td>0.249793</td>\n      <td>0.006139</td>\n      <td>0.116673</td>\n      <td>0.552868</td>\n      <td>0.002638</td>\n      <td>0.500000</td>\n      <td>...</td>\n      <td>3</td>\n      <td>1</td>\n      <td>1</td>\n      <td>1</td>\n      <td>7</td>\n      <td>2</td>\n      <td>3</td>\n      <td>6</td>\n      <td>17</td>\n      <td>1</td>\n    </tr>\n    <tr>\n      <th>270952</th>\n      <td>0.691027</td>\n      <td>0.5</td>\n      <td>0.0</td>\n      <td>0.000164</td>\n      <td>0.355698</td>\n      <td>0.003411</td>\n      <td>0.145841</td>\n      <td>0.869412</td>\n      <td>0.000890</td>\n      <td>0.666667</td>\n      <td>...</td>\n      <td>3</td>\n      <td>2</td>\n      <td>1</td>\n      <td>1</td>\n      <td>4</td>\n      <td>3</td>\n      <td>3</td>\n      <td>6</td>\n      <td>5</td>\n      <td>1</td>\n    </tr>\n    <tr>\n      <th>270953</th>\n      <td>0.712737</td>\n      <td>0.5</td>\n      <td>0.0</td>\n      <td>0.000000</td>\n      <td>0.231467</td>\n      <td>0.010914</td>\n      <td>0.291681</td>\n      <td>0.701853</td>\n      <td>0.000725</td>\n      <td>0.000000</td>\n      <td>...</td>\n      <td>4</td>\n      <td>0</td>\n      <td>0</td>\n      <td>5</td>\n      <td>7</td>\n      <td>3</td>\n      <td>2</td>\n      <td>6</td>\n      <td>3</td>\n      <td>2</td>\n    </tr>\n    <tr>\n      <th>270954</th>\n      <td>0.670764</td>\n      <td>0.0</td>\n      <td>0.0</td>\n      <td>0.000000</td>\n      <td>0.276833</td>\n      <td>0.004775</td>\n      <td>0.291681</td>\n      <td>0.615141</td>\n      <td>0.001187</td>\n      <td>0.000000</td>\n      <td>...</td>\n      <td>3</td>\n      <td>2</td>\n      <td>0</td>\n      <td>1</td>\n      <td>7</td>\n      <td>1</td>\n      <td>1</td>\n      <td>6</td>\n      <td>12</td>\n      <td>2</td>\n    </tr>\n  </tbody>\n</table>\n<p>270955 rows × 214 columns</p>\n</div>"
     },
     "execution_count": 11,
     "metadata": {},
     "output_type": "execute_result"
    }
   ],
   "source": [
    "preprocessed_data"
   ],
   "metadata": {
    "collapsed": false,
    "ExecuteTime": {
     "end_time": "2023-08-26T14:59:43.522583Z",
     "start_time": "2023-08-26T14:59:43.363359Z"
    }
   }
  },
  {
   "cell_type": "code",
   "execution_count": 12,
   "outputs": [
    {
     "data": {
      "text/plain": "feature_1      0\nfeature_2      0\nfeature_3      0\nfeature_4      0\nfeature_5      0\n              ..\nfeature_144    0\nfeature_147    0\nfeature_158    0\nfeature_159    0\nfeature_195    0\nLength: 214, dtype: int64"
     },
     "execution_count": 12,
     "metadata": {},
     "output_type": "execute_result"
    }
   ],
   "source": [
    "preprocessed_data.isna().sum()"
   ],
   "metadata": {
    "collapsed": false,
    "ExecuteTime": {
     "end_time": "2023-08-26T15:00:27.495258Z",
     "start_time": "2023-08-26T15:00:27.363504Z"
    }
   }
  },
  {
   "cell_type": "code",
   "execution_count": 13,
   "outputs": [],
   "source": [
    "preprocessed_data = pd.concat([preprocessed_data, y], axis=1)"
   ],
   "metadata": {
    "collapsed": false,
    "ExecuteTime": {
     "end_time": "2023-08-26T15:03:05.089768Z",
     "start_time": "2023-08-26T15:03:03.837642Z"
    }
   }
  },
  {
   "cell_type": "code",
   "execution_count": 15,
   "outputs": [
    {
     "data": {
      "text/plain": "feature_1      0\nfeature_2      0\nfeature_3      0\nfeature_4      0\nfeature_5      0\n              ..\nfeature_147    0\nfeature_158    0\nfeature_159    0\nfeature_195    0\ntarget         0\nLength: 215, dtype: int64"
     },
     "execution_count": 15,
     "metadata": {},
     "output_type": "execute_result"
    }
   ],
   "source": [
    "preprocessed_data.isna().sum()"
   ],
   "metadata": {
    "collapsed": false,
    "ExecuteTime": {
     "end_time": "2023-08-26T15:03:31.038618Z",
     "start_time": "2023-08-26T15:03:30.754249Z"
    }
   }
  },
  {
   "cell_type": "code",
   "execution_count": 20,
   "outputs": [],
   "source": [
    "test_data = preprocessed_data\n",
    "train_data = pd.read_csv(\"../../data/processed/processed_data.csv\")"
   ],
   "metadata": {
    "collapsed": false,
    "ExecuteTime": {
     "end_time": "2023-08-26T16:33:44.005595Z",
     "start_time": "2023-08-26T16:33:38.182246Z"
    }
   }
  },
  {
   "cell_type": "code",
   "execution_count": 22,
   "outputs": [],
   "source": [
    "X_train, y_train = split_features(train_data, \"target\")\n",
    "X_test, y_test = split_features(test_data, \"target\")"
   ],
   "metadata": {
    "collapsed": false,
    "ExecuteTime": {
     "end_time": "2023-08-26T16:36:13.396615Z",
     "start_time": "2023-08-26T16:36:12.202619Z"
    }
   }
  },
  {
   "cell_type": "code",
   "execution_count": 23,
   "outputs": [],
   "source": [
    "#Scale data\n",
    "scaler = RobustScaler()\n",
    "X_train_scaled = scaler.fit_transform(X_train.copy())\n",
    "X_train_scaled = pd.DataFrame(X_train_scaled, columns=X_train.columns, index=y_train.index)\n",
    "\n",
    "X_test_scaled = scaler.transform(X_test.copy())\n",
    "X_test_scaled = pd.DataFrame(X_test_scaled, columns=X_test.columns, index=y_test.index)"
   ],
   "metadata": {
    "collapsed": false,
    "ExecuteTime": {
     "end_time": "2023-08-26T16:39:29.503251Z",
     "start_time": "2023-08-26T16:39:22.899800Z"
    }
   }
  },
  {
   "cell_type": "code",
   "execution_count": 24,
   "outputs": [],
   "source": [
    "train_data_scaled = pd.concat([X_train_scaled, y_train], axis=1)\n",
    "test_data_scaled = pd.concat([X_test_scaled, y_test], axis=1)"
   ],
   "metadata": {
    "collapsed": false,
    "ExecuteTime": {
     "end_time": "2023-08-26T16:47:20.504356Z",
     "start_time": "2023-08-26T16:47:17.104057Z"
    }
   }
  },
  {
   "cell_type": "code",
   "execution_count": 50,
   "outputs": [
    {
     "data": {
      "text/plain": "        feature_1  feature_2  feature_3  feature_4  feature_5  feature_6  \\\n0        0.972384        1.0        0.0   0.534527   0.116966   0.208333   \n1        1.050953        0.0        0.0   0.618926   0.229877   1.833333   \n2        1.430725        0.0        0.0   0.144501  -0.310734  -0.333333   \n3        0.386520        0.0        0.0  -0.373402  -0.218263   0.333333   \n4       -0.093120       -1.0        0.0   0.000000   0.259550  -0.291667   \n...           ...        ...        ...        ...        ...        ...   \n132927   0.088503        1.0        0.0  -0.136829  -0.591425  -0.333333   \n132928   0.602689        1.0        0.0   0.433504   0.733338   1.083333   \n132929   1.081379       -1.0        0.0  -0.373402  -0.606529  -0.291667   \n132930   0.606696        1.0        0.0   7.285165  -0.094945   0.416667   \n132931  -0.272016        1.0        0.0   1.731458   2.127000  -0.250000   \n\n        feature_7  feature_8  feature_9  feature_10  ...  feature_87  \\\n0       -0.276247   0.034810  -0.054054         0.0  ...         1.0   \n1        2.624672   0.202340   2.135135        -1.5  ...        -1.0   \n2        1.968504  -0.231107  -0.432432        -1.5  ...         0.0   \n3        0.000000  -0.821849  -0.108108        -1.5  ...         0.0   \n4        0.874672   0.669351   0.621622         0.5  ...         0.0   \n...           ...        ...        ...         ...  ...         ...   \n132927  -1.312336   0.066739  -0.945946         0.0  ...        -1.0   \n132928   0.328084   0.849343   1.027027        -1.5  ...         1.0   \n132929  -0.218504  -0.048785   0.378378         0.0  ...        -1.0   \n132930   0.874672   0.050856   0.027027         1.5  ...        -1.0   \n132931   1.312336  -0.591047   0.027027        -1.5  ...         3.0   \n\n        feature_118  feature_119  feature_139  feature_144  feature_147  \\\n0               0.0        -0.25    -0.833333          0.0          0.0   \n1              -1.0        -0.25    -0.833333         -1.0         -1.0   \n2               0.0         0.00    -0.166667          0.0          0.5   \n3               0.0         0.00    -0.666667         -0.5          1.0   \n4               0.0         1.00     0.333333          0.0         -0.5   \n...             ...          ...          ...          ...          ...   \n132927         -1.0         0.25    -0.666667         -1.0          1.0   \n132928         -1.0         1.00    -0.833333         -1.0         -1.0   \n132929         -1.0         0.50     0.333333          0.0          0.5   \n132930          1.0         0.75     0.333333          0.0         -1.5   \n132931         -1.0         0.25    -0.666667         -1.0         -0.5   \n\n        feature_158  feature_159  feature_195  target  \n0              0.50          0.6          2.0       0  \n1              0.75         -0.4          0.0       0  \n2              0.75          0.6          2.0       0  \n3             -0.75         -0.6          3.0       0  \n4             -0.50         -1.2         -1.0       0  \n...             ...          ...          ...     ...  \n132927         0.00         -0.4          0.0       1  \n132928         0.50         -0.4          2.0       1  \n132929        -0.75          1.0          0.0       1  \n132930        -0.50         -0.2         -1.0       1  \n132931         0.00         -1.0          2.0       1  \n\n[132932 rows x 215 columns]",
      "text/html": "<div>\n<style scoped>\n    .dataframe tbody tr th:only-of-type {\n        vertical-align: middle;\n    }\n\n    .dataframe tbody tr th {\n        vertical-align: top;\n    }\n\n    .dataframe thead th {\n        text-align: right;\n    }\n</style>\n<table border=\"1\" class=\"dataframe\">\n  <thead>\n    <tr style=\"text-align: right;\">\n      <th></th>\n      <th>feature_1</th>\n      <th>feature_2</th>\n      <th>feature_3</th>\n      <th>feature_4</th>\n      <th>feature_5</th>\n      <th>feature_6</th>\n      <th>feature_7</th>\n      <th>feature_8</th>\n      <th>feature_9</th>\n      <th>feature_10</th>\n      <th>...</th>\n      <th>feature_87</th>\n      <th>feature_118</th>\n      <th>feature_119</th>\n      <th>feature_139</th>\n      <th>feature_144</th>\n      <th>feature_147</th>\n      <th>feature_158</th>\n      <th>feature_159</th>\n      <th>feature_195</th>\n      <th>target</th>\n    </tr>\n  </thead>\n  <tbody>\n    <tr>\n      <th>0</th>\n      <td>0.972384</td>\n      <td>1.0</td>\n      <td>0.0</td>\n      <td>0.534527</td>\n      <td>0.116966</td>\n      <td>0.208333</td>\n      <td>-0.276247</td>\n      <td>0.034810</td>\n      <td>-0.054054</td>\n      <td>0.0</td>\n      <td>...</td>\n      <td>1.0</td>\n      <td>0.0</td>\n      <td>-0.25</td>\n      <td>-0.833333</td>\n      <td>0.0</td>\n      <td>0.0</td>\n      <td>0.50</td>\n      <td>0.6</td>\n      <td>2.0</td>\n      <td>0</td>\n    </tr>\n    <tr>\n      <th>1</th>\n      <td>1.050953</td>\n      <td>0.0</td>\n      <td>0.0</td>\n      <td>0.618926</td>\n      <td>0.229877</td>\n      <td>1.833333</td>\n      <td>2.624672</td>\n      <td>0.202340</td>\n      <td>2.135135</td>\n      <td>-1.5</td>\n      <td>...</td>\n      <td>-1.0</td>\n      <td>-1.0</td>\n      <td>-0.25</td>\n      <td>-0.833333</td>\n      <td>-1.0</td>\n      <td>-1.0</td>\n      <td>0.75</td>\n      <td>-0.4</td>\n      <td>0.0</td>\n      <td>0</td>\n    </tr>\n    <tr>\n      <th>2</th>\n      <td>1.430725</td>\n      <td>0.0</td>\n      <td>0.0</td>\n      <td>0.144501</td>\n      <td>-0.310734</td>\n      <td>-0.333333</td>\n      <td>1.968504</td>\n      <td>-0.231107</td>\n      <td>-0.432432</td>\n      <td>-1.5</td>\n      <td>...</td>\n      <td>0.0</td>\n      <td>0.0</td>\n      <td>0.00</td>\n      <td>-0.166667</td>\n      <td>0.0</td>\n      <td>0.5</td>\n      <td>0.75</td>\n      <td>0.6</td>\n      <td>2.0</td>\n      <td>0</td>\n    </tr>\n    <tr>\n      <th>3</th>\n      <td>0.386520</td>\n      <td>0.0</td>\n      <td>0.0</td>\n      <td>-0.373402</td>\n      <td>-0.218263</td>\n      <td>0.333333</td>\n      <td>0.000000</td>\n      <td>-0.821849</td>\n      <td>-0.108108</td>\n      <td>-1.5</td>\n      <td>...</td>\n      <td>0.0</td>\n      <td>0.0</td>\n      <td>0.00</td>\n      <td>-0.666667</td>\n      <td>-0.5</td>\n      <td>1.0</td>\n      <td>-0.75</td>\n      <td>-0.6</td>\n      <td>3.0</td>\n      <td>0</td>\n    </tr>\n    <tr>\n      <th>4</th>\n      <td>-0.093120</td>\n      <td>-1.0</td>\n      <td>0.0</td>\n      <td>0.000000</td>\n      <td>0.259550</td>\n      <td>-0.291667</td>\n      <td>0.874672</td>\n      <td>0.669351</td>\n      <td>0.621622</td>\n      <td>0.5</td>\n      <td>...</td>\n      <td>0.0</td>\n      <td>0.0</td>\n      <td>1.00</td>\n      <td>0.333333</td>\n      <td>0.0</td>\n      <td>-0.5</td>\n      <td>-0.50</td>\n      <td>-1.2</td>\n      <td>-1.0</td>\n      <td>0</td>\n    </tr>\n    <tr>\n      <th>...</th>\n      <td>...</td>\n      <td>...</td>\n      <td>...</td>\n      <td>...</td>\n      <td>...</td>\n      <td>...</td>\n      <td>...</td>\n      <td>...</td>\n      <td>...</td>\n      <td>...</td>\n      <td>...</td>\n      <td>...</td>\n      <td>...</td>\n      <td>...</td>\n      <td>...</td>\n      <td>...</td>\n      <td>...</td>\n      <td>...</td>\n      <td>...</td>\n      <td>...</td>\n      <td>...</td>\n    </tr>\n    <tr>\n      <th>132927</th>\n      <td>0.088503</td>\n      <td>1.0</td>\n      <td>0.0</td>\n      <td>-0.136829</td>\n      <td>-0.591425</td>\n      <td>-0.333333</td>\n      <td>-1.312336</td>\n      <td>0.066739</td>\n      <td>-0.945946</td>\n      <td>0.0</td>\n      <td>...</td>\n      <td>-1.0</td>\n      <td>-1.0</td>\n      <td>0.25</td>\n      <td>-0.666667</td>\n      <td>-1.0</td>\n      <td>1.0</td>\n      <td>0.00</td>\n      <td>-0.4</td>\n      <td>0.0</td>\n      <td>1</td>\n    </tr>\n    <tr>\n      <th>132928</th>\n      <td>0.602689</td>\n      <td>1.0</td>\n      <td>0.0</td>\n      <td>0.433504</td>\n      <td>0.733338</td>\n      <td>1.083333</td>\n      <td>0.328084</td>\n      <td>0.849343</td>\n      <td>1.027027</td>\n      <td>-1.5</td>\n      <td>...</td>\n      <td>1.0</td>\n      <td>-1.0</td>\n      <td>1.00</td>\n      <td>-0.833333</td>\n      <td>-1.0</td>\n      <td>-1.0</td>\n      <td>0.50</td>\n      <td>-0.4</td>\n      <td>2.0</td>\n      <td>1</td>\n    </tr>\n    <tr>\n      <th>132929</th>\n      <td>1.081379</td>\n      <td>-1.0</td>\n      <td>0.0</td>\n      <td>-0.373402</td>\n      <td>-0.606529</td>\n      <td>-0.291667</td>\n      <td>-0.218504</td>\n      <td>-0.048785</td>\n      <td>0.378378</td>\n      <td>0.0</td>\n      <td>...</td>\n      <td>-1.0</td>\n      <td>-1.0</td>\n      <td>0.50</td>\n      <td>0.333333</td>\n      <td>0.0</td>\n      <td>0.5</td>\n      <td>-0.75</td>\n      <td>1.0</td>\n      <td>0.0</td>\n      <td>1</td>\n    </tr>\n    <tr>\n      <th>132930</th>\n      <td>0.606696</td>\n      <td>1.0</td>\n      <td>0.0</td>\n      <td>7.285165</td>\n      <td>-0.094945</td>\n      <td>0.416667</td>\n      <td>0.874672</td>\n      <td>0.050856</td>\n      <td>0.027027</td>\n      <td>1.5</td>\n      <td>...</td>\n      <td>-1.0</td>\n      <td>1.0</td>\n      <td>0.75</td>\n      <td>0.333333</td>\n      <td>0.0</td>\n      <td>-1.5</td>\n      <td>-0.50</td>\n      <td>-0.2</td>\n      <td>-1.0</td>\n      <td>1</td>\n    </tr>\n    <tr>\n      <th>132931</th>\n      <td>-0.272016</td>\n      <td>1.0</td>\n      <td>0.0</td>\n      <td>1.731458</td>\n      <td>2.127000</td>\n      <td>-0.250000</td>\n      <td>1.312336</td>\n      <td>-0.591047</td>\n      <td>0.027027</td>\n      <td>-1.5</td>\n      <td>...</td>\n      <td>3.0</td>\n      <td>-1.0</td>\n      <td>0.25</td>\n      <td>-0.666667</td>\n      <td>-1.0</td>\n      <td>-0.5</td>\n      <td>0.00</td>\n      <td>-1.0</td>\n      <td>2.0</td>\n      <td>1</td>\n    </tr>\n  </tbody>\n</table>\n<p>132932 rows × 215 columns</p>\n</div>"
     },
     "execution_count": 50,
     "metadata": {},
     "output_type": "execute_result"
    }
   ],
   "source": [
    "train_data_scaled"
   ],
   "metadata": {
    "collapsed": false,
    "ExecuteTime": {
     "end_time": "2023-08-26T20:49:48.240054Z",
     "start_time": "2023-08-26T20:49:48.101799Z"
    }
   }
  },
  {
   "cell_type": "code",
   "execution_count": 26,
   "outputs": [
    {
     "data": {
      "text/plain": "feature_1      0\nfeature_2      0\nfeature_3      0\nfeature_4      0\nfeature_5      0\n              ..\nfeature_147    0\nfeature_158    0\nfeature_159    0\nfeature_195    0\ntarget         0\nLength: 215, dtype: int64"
     },
     "execution_count": 26,
     "metadata": {},
     "output_type": "execute_result"
    }
   ],
   "source": [
    "train_data_scaled.isna().sum()"
   ],
   "metadata": {
    "collapsed": false,
    "ExecuteTime": {
     "end_time": "2023-08-26T16:47:57.221319Z",
     "start_time": "2023-08-26T16:47:55.963231Z"
    }
   }
  },
  {
   "cell_type": "code",
   "execution_count": 27,
   "outputs": [
    {
     "data": {
      "text/plain": "feature_1      0\nfeature_2      0\nfeature_3      0\nfeature_4      0\nfeature_5      0\n              ..\nfeature_147    0\nfeature_158    0\nfeature_159    0\nfeature_195    0\ntarget         0\nLength: 215, dtype: int64"
     },
     "execution_count": 27,
     "metadata": {},
     "output_type": "execute_result"
    }
   ],
   "source": [
    "test_data_scaled.isna().sum()"
   ],
   "metadata": {
    "collapsed": false,
    "ExecuteTime": {
     "end_time": "2023-08-26T16:48:47.317083Z",
     "start_time": "2023-08-26T16:48:44.705321Z"
    }
   }
  },
  {
   "cell_type": "code",
   "execution_count": 16,
   "outputs": [],
   "source": [
    "SAVE_PATH = \"../../data/processed/\"\n",
    "preprocessed_data.to_csv(SAVE_PATH+\"processed_validation_data.csv\", index=False)"
   ],
   "metadata": {
    "collapsed": false,
    "ExecuteTime": {
     "end_time": "2023-08-26T15:13:53.558872Z",
     "start_time": "2023-08-26T15:12:45.169240Z"
    }
   }
  },
  {
   "cell_type": "code",
   "execution_count": 29,
   "outputs": [],
   "source": [
    "train_data_scaled.to_csv(SAVE_PATH+'final/scaled_train_data.csv', index=False)\n",
    "test_data_scaled.to_csv(SAVE_PATH+'final/scaled_test_data.csv', index=False)"
   ],
   "metadata": {
    "collapsed": false,
    "ExecuteTime": {
     "end_time": "2023-08-26T16:57:56.167211Z",
     "start_time": "2023-08-26T16:56:12.778399Z"
    }
   }
  },
  {
   "cell_type": "code",
   "execution_count": 30,
   "outputs": [],
   "source": [
    "EXPORT_PATH = \"../../exports/\"\n",
    "\n",
    "with open(EXPORT_PATH+'scaler.pkl', 'wb') as f:\n",
    "    pickle.dump(scaler, f)"
   ],
   "metadata": {
    "collapsed": false,
    "ExecuteTime": {
     "end_time": "2023-08-26T17:01:19.970404Z",
     "start_time": "2023-08-26T17:01:19.935666Z"
    }
   }
  },
  {
   "cell_type": "markdown",
   "source": [
    "Reduced dataset"
   ],
   "metadata": {
    "collapsed": false
   }
  },
  {
   "cell_type": "code",
   "execution_count": 31,
   "outputs": [],
   "source": [
    "columns = ['feature_122',\n",
    " 'feature_199',\n",
    " 'feature_198',\n",
    " 'feature_171',\n",
    " 'feature_200',\n",
    " 'feature_68',\n",
    " 'feature_167',\n",
    " 'feature_69',\n",
    " 'feature_143',\n",
    " 'feature_70',\n",
    " 'feature_141',\n",
    " 'feature_72',\n",
    " 'feature_146',\n",
    " 'feature_79',\n",
    " 'feature_34',\n",
    " 'feature_142',\n",
    " 'feature_208',\n",
    " 'feature_78',\n",
    " 'feature_33',\n",
    " 'feature_210',\n",
    " 'feature_217',\n",
    " 'feature_214',\n",
    " 'feature_191',\n",
    " 'feature_58',\n",
    " 'feature_53',\n",
    " 'feature_22',\n",
    " 'feature_6',\n",
    " 'feature_164',\n",
    " 'feature_37',\n",
    " 'feature_16',\n",
    " 'feature_215',\n",
    " 'feature_160',\n",
    " 'feature_21',\n",
    " 'feature_51',\n",
    " 'feature_172',\n",
    " 'feature_52',\n",
    " 'feature_50',\n",
    " 'feature_187',\n",
    " 'feature_73',\n",
    " 'feature_48',\n",
    " 'feature_206',\n",
    " 'feature_44',\n",
    " 'feature_128',\n",
    " 'feature_175',\n",
    " 'feature_24',\n",
    " 'feature_8',\n",
    " 'feature_26',\n",
    " 'feature_40',\n",
    " 'feature_170',\n",
    " 'feature_202']"
   ],
   "metadata": {
    "collapsed": false,
    "ExecuteTime": {
     "end_time": "2023-08-26T17:04:27.373640Z",
     "start_time": "2023-08-26T17:04:27.345868Z"
    }
   }
  },
  {
   "cell_type": "code",
   "execution_count": 33,
   "outputs": [],
   "source": [
    "#Reduce dataset to the most important feactures\n",
    "X_train_reduced = X_train[columns].copy()\n",
    "X_test_reduced = X_test[columns].copy()"
   ],
   "metadata": {
    "collapsed": false,
    "ExecuteTime": {
     "end_time": "2023-08-26T17:08:54.611403Z",
     "start_time": "2023-08-26T17:08:52.873639Z"
    }
   }
  },
  {
   "cell_type": "code",
   "execution_count": 34,
   "outputs": [
    {
     "data": {
      "text/plain": "        feature_122  feature_199  feature_198  feature_171  feature_200  \\\n0          0.851892     0.897436     0.857143     0.142857     0.897436   \n1          0.838714     0.952026     0.945057     0.047619     0.955144   \n2          0.782480     0.897436     0.857143     0.190476     0.897436   \n3          0.824579     0.897436     0.857143     0.095238     0.897436   \n4          0.783160     0.953446     0.935714     0.047619     0.953446   \n...             ...          ...          ...          ...          ...   \n132927     0.805057     0.951585     0.939443     0.142857     0.897436   \n132928     0.895918     0.897436     0.857143     0.000000     0.897436   \n132929     0.850009     0.958087     0.920250     0.000000     0.958087   \n132930     0.863265     0.953918     0.934086     0.238095     0.949959   \n132931     0.758371     0.897436     0.857143     0.047619     0.897436   \n\n        feature_68  feature_167  feature_69  feature_143  feature_70  ...  \\\n0         0.030710     0.094604    0.036909     0.004728    1.000000  ...   \n1         0.013436     0.097020    0.013841     0.000000    0.857143  ...   \n2         0.023992     0.134114    0.016148     0.002364    0.560000  ...   \n3         0.019194     0.094594    0.019608     0.000000    0.850000  ...   \n4         0.000000     0.054769    0.000000     0.002364    0.000000  ...   \n...            ...          ...         ...          ...         ...  ...   \n132927    0.003839     0.139562    0.004614     0.007092    1.000000  ...   \n132928    0.085413     0.059805    0.098039     0.016548    0.955056  ...   \n132929    0.000000     0.074138    0.000000     0.000000    0.000000  ...   \n132930    0.109405     0.056133    0.096886     0.021277    0.736842  ...   \n132931    0.010557     0.085567    0.012687     0.011820    1.000000  ...   \n\n        feature_206  feature_44  feature_128  feature_175  feature_24  \\\n0          0.000000         0.0       0.0117     0.135608      0.0872   \n1          0.072322         1.0       0.0307     0.483058      0.2136   \n2          0.000000         1.0       0.1628     0.740071      0.1200   \n3          0.000000         0.0       0.2348     0.001397      0.1912   \n4          0.180547         1.0       0.8571     0.004415      0.2920   \n...             ...         ...          ...          ...         ...   \n132927     0.050407         1.0       0.3237     0.000939      0.0576   \n132928     0.000000         1.0       0.0554     0.910083      0.2488   \n132929     0.050025         1.0       0.0591     0.000000      0.1952   \n132930     0.139140         1.0       0.5850     0.004415      0.1624   \n132931     0.000000         0.0       0.0703     0.001397      0.1696   \n\n        feature_8  feature_26  feature_40  feature_170  feature_202  \n0        0.752510    0.106368    0.047305     0.127251     0.642390  \n1        0.777475    0.037089    0.117712     0.349584     0.644080  \n2        0.712884    0.000000    0.055005     0.619735     0.642390  \n3        0.624854    0.067180    0.210121     0.001134     0.642390  \n4        0.847067    0.069979    0.146315     0.282645     0.657221  \n...           ...         ...         ...          ...          ...  \n132927   0.757268    0.025192    0.039604     0.001040     0.646073  \n132928   0.873888    0.024493    0.075908     0.764380     0.642390  \n132929   0.740053    0.085374    0.089109     0.000000     0.643289  \n132930   0.754901    0.000000    0.027503     0.006092     0.646341  \n132931   0.659247    0.000000    0.116612     0.000896     0.642390  \n\n[132932 rows x 50 columns]",
      "text/html": "<div>\n<style scoped>\n    .dataframe tbody tr th:only-of-type {\n        vertical-align: middle;\n    }\n\n    .dataframe tbody tr th {\n        vertical-align: top;\n    }\n\n    .dataframe thead th {\n        text-align: right;\n    }\n</style>\n<table border=\"1\" class=\"dataframe\">\n  <thead>\n    <tr style=\"text-align: right;\">\n      <th></th>\n      <th>feature_122</th>\n      <th>feature_199</th>\n      <th>feature_198</th>\n      <th>feature_171</th>\n      <th>feature_200</th>\n      <th>feature_68</th>\n      <th>feature_167</th>\n      <th>feature_69</th>\n      <th>feature_143</th>\n      <th>feature_70</th>\n      <th>...</th>\n      <th>feature_206</th>\n      <th>feature_44</th>\n      <th>feature_128</th>\n      <th>feature_175</th>\n      <th>feature_24</th>\n      <th>feature_8</th>\n      <th>feature_26</th>\n      <th>feature_40</th>\n      <th>feature_170</th>\n      <th>feature_202</th>\n    </tr>\n  </thead>\n  <tbody>\n    <tr>\n      <th>0</th>\n      <td>0.851892</td>\n      <td>0.897436</td>\n      <td>0.857143</td>\n      <td>0.142857</td>\n      <td>0.897436</td>\n      <td>0.030710</td>\n      <td>0.094604</td>\n      <td>0.036909</td>\n      <td>0.004728</td>\n      <td>1.000000</td>\n      <td>...</td>\n      <td>0.000000</td>\n      <td>0.0</td>\n      <td>0.0117</td>\n      <td>0.135608</td>\n      <td>0.0872</td>\n      <td>0.752510</td>\n      <td>0.106368</td>\n      <td>0.047305</td>\n      <td>0.127251</td>\n      <td>0.642390</td>\n    </tr>\n    <tr>\n      <th>1</th>\n      <td>0.838714</td>\n      <td>0.952026</td>\n      <td>0.945057</td>\n      <td>0.047619</td>\n      <td>0.955144</td>\n      <td>0.013436</td>\n      <td>0.097020</td>\n      <td>0.013841</td>\n      <td>0.000000</td>\n      <td>0.857143</td>\n      <td>...</td>\n      <td>0.072322</td>\n      <td>1.0</td>\n      <td>0.0307</td>\n      <td>0.483058</td>\n      <td>0.2136</td>\n      <td>0.777475</td>\n      <td>0.037089</td>\n      <td>0.117712</td>\n      <td>0.349584</td>\n      <td>0.644080</td>\n    </tr>\n    <tr>\n      <th>2</th>\n      <td>0.782480</td>\n      <td>0.897436</td>\n      <td>0.857143</td>\n      <td>0.190476</td>\n      <td>0.897436</td>\n      <td>0.023992</td>\n      <td>0.134114</td>\n      <td>0.016148</td>\n      <td>0.002364</td>\n      <td>0.560000</td>\n      <td>...</td>\n      <td>0.000000</td>\n      <td>1.0</td>\n      <td>0.1628</td>\n      <td>0.740071</td>\n      <td>0.1200</td>\n      <td>0.712884</td>\n      <td>0.000000</td>\n      <td>0.055005</td>\n      <td>0.619735</td>\n      <td>0.642390</td>\n    </tr>\n    <tr>\n      <th>3</th>\n      <td>0.824579</td>\n      <td>0.897436</td>\n      <td>0.857143</td>\n      <td>0.095238</td>\n      <td>0.897436</td>\n      <td>0.019194</td>\n      <td>0.094594</td>\n      <td>0.019608</td>\n      <td>0.000000</td>\n      <td>0.850000</td>\n      <td>...</td>\n      <td>0.000000</td>\n      <td>0.0</td>\n      <td>0.2348</td>\n      <td>0.001397</td>\n      <td>0.1912</td>\n      <td>0.624854</td>\n      <td>0.067180</td>\n      <td>0.210121</td>\n      <td>0.001134</td>\n      <td>0.642390</td>\n    </tr>\n    <tr>\n      <th>4</th>\n      <td>0.783160</td>\n      <td>0.953446</td>\n      <td>0.935714</td>\n      <td>0.047619</td>\n      <td>0.953446</td>\n      <td>0.000000</td>\n      <td>0.054769</td>\n      <td>0.000000</td>\n      <td>0.002364</td>\n      <td>0.000000</td>\n      <td>...</td>\n      <td>0.180547</td>\n      <td>1.0</td>\n      <td>0.8571</td>\n      <td>0.004415</td>\n      <td>0.2920</td>\n      <td>0.847067</td>\n      <td>0.069979</td>\n      <td>0.146315</td>\n      <td>0.282645</td>\n      <td>0.657221</td>\n    </tr>\n    <tr>\n      <th>...</th>\n      <td>...</td>\n      <td>...</td>\n      <td>...</td>\n      <td>...</td>\n      <td>...</td>\n      <td>...</td>\n      <td>...</td>\n      <td>...</td>\n      <td>...</td>\n      <td>...</td>\n      <td>...</td>\n      <td>...</td>\n      <td>...</td>\n      <td>...</td>\n      <td>...</td>\n      <td>...</td>\n      <td>...</td>\n      <td>...</td>\n      <td>...</td>\n      <td>...</td>\n      <td>...</td>\n    </tr>\n    <tr>\n      <th>132927</th>\n      <td>0.805057</td>\n      <td>0.951585</td>\n      <td>0.939443</td>\n      <td>0.142857</td>\n      <td>0.897436</td>\n      <td>0.003839</td>\n      <td>0.139562</td>\n      <td>0.004614</td>\n      <td>0.007092</td>\n      <td>1.000000</td>\n      <td>...</td>\n      <td>0.050407</td>\n      <td>1.0</td>\n      <td>0.3237</td>\n      <td>0.000939</td>\n      <td>0.0576</td>\n      <td>0.757268</td>\n      <td>0.025192</td>\n      <td>0.039604</td>\n      <td>0.001040</td>\n      <td>0.646073</td>\n    </tr>\n    <tr>\n      <th>132928</th>\n      <td>0.895918</td>\n      <td>0.897436</td>\n      <td>0.857143</td>\n      <td>0.000000</td>\n      <td>0.897436</td>\n      <td>0.085413</td>\n      <td>0.059805</td>\n      <td>0.098039</td>\n      <td>0.016548</td>\n      <td>0.955056</td>\n      <td>...</td>\n      <td>0.000000</td>\n      <td>1.0</td>\n      <td>0.0554</td>\n      <td>0.910083</td>\n      <td>0.2488</td>\n      <td>0.873888</td>\n      <td>0.024493</td>\n      <td>0.075908</td>\n      <td>0.764380</td>\n      <td>0.642390</td>\n    </tr>\n    <tr>\n      <th>132929</th>\n      <td>0.850009</td>\n      <td>0.958087</td>\n      <td>0.920250</td>\n      <td>0.000000</td>\n      <td>0.958087</td>\n      <td>0.000000</td>\n      <td>0.074138</td>\n      <td>0.000000</td>\n      <td>0.000000</td>\n      <td>0.000000</td>\n      <td>...</td>\n      <td>0.050025</td>\n      <td>1.0</td>\n      <td>0.0591</td>\n      <td>0.000000</td>\n      <td>0.1952</td>\n      <td>0.740053</td>\n      <td>0.085374</td>\n      <td>0.089109</td>\n      <td>0.000000</td>\n      <td>0.643289</td>\n    </tr>\n    <tr>\n      <th>132930</th>\n      <td>0.863265</td>\n      <td>0.953918</td>\n      <td>0.934086</td>\n      <td>0.238095</td>\n      <td>0.949959</td>\n      <td>0.109405</td>\n      <td>0.056133</td>\n      <td>0.096886</td>\n      <td>0.021277</td>\n      <td>0.736842</td>\n      <td>...</td>\n      <td>0.139140</td>\n      <td>1.0</td>\n      <td>0.5850</td>\n      <td>0.004415</td>\n      <td>0.1624</td>\n      <td>0.754901</td>\n      <td>0.000000</td>\n      <td>0.027503</td>\n      <td>0.006092</td>\n      <td>0.646341</td>\n    </tr>\n    <tr>\n      <th>132931</th>\n      <td>0.758371</td>\n      <td>0.897436</td>\n      <td>0.857143</td>\n      <td>0.047619</td>\n      <td>0.897436</td>\n      <td>0.010557</td>\n      <td>0.085567</td>\n      <td>0.012687</td>\n      <td>0.011820</td>\n      <td>1.000000</td>\n      <td>...</td>\n      <td>0.000000</td>\n      <td>0.0</td>\n      <td>0.0703</td>\n      <td>0.001397</td>\n      <td>0.1696</td>\n      <td>0.659247</td>\n      <td>0.000000</td>\n      <td>0.116612</td>\n      <td>0.000896</td>\n      <td>0.642390</td>\n    </tr>\n  </tbody>\n</table>\n<p>132932 rows × 50 columns</p>\n</div>"
     },
     "execution_count": 34,
     "metadata": {},
     "output_type": "execute_result"
    }
   ],
   "source": [
    "X_train_reduced"
   ],
   "metadata": {
    "collapsed": false,
    "ExecuteTime": {
     "end_time": "2023-08-26T17:09:04.406977Z",
     "start_time": "2023-08-26T17:09:04.345726Z"
    }
   }
  },
  {
   "cell_type": "code",
   "execution_count": 35,
   "outputs": [],
   "source": [
    "#Scale data\n",
    "scaler_reduced = RobustScaler()\n",
    "X_train_scaled_reduced = scaler_reduced.fit_transform(X_train_reduced.copy())\n",
    "X_train_scaled_reduced = pd.DataFrame(X_train_scaled_reduced, columns=X_train_reduced.columns, index=y_train.index)\n",
    "\n",
    "X_test_scaled_reduced = scaler_reduced.transform(X_test_reduced.copy())\n",
    "X_test_scaled_reduced = pd.DataFrame(X_test_scaled_reduced, columns=X_test_reduced.columns, index=y_test.index)"
   ],
   "metadata": {
    "collapsed": false,
    "ExecuteTime": {
     "end_time": "2023-08-26T17:18:34.328012Z",
     "start_time": "2023-08-26T17:18:32.752011Z"
    }
   }
  },
  {
   "cell_type": "code",
   "execution_count": 38,
   "outputs": [
    {
     "data": {
      "text/plain": "feature_122    0\nfeature_199    0\nfeature_198    0\nfeature_171    0\nfeature_200    0\nfeature_68     0\nfeature_167    0\nfeature_69     0\nfeature_143    0\nfeature_70     0\nfeature_141    0\nfeature_72     0\nfeature_146    0\nfeature_79     0\nfeature_34     0\nfeature_142    0\nfeature_208    0\nfeature_78     0\nfeature_33     0\nfeature_210    0\nfeature_217    0\nfeature_214    0\nfeature_191    0\nfeature_58     0\nfeature_53     0\nfeature_22     0\nfeature_6      0\nfeature_164    0\nfeature_37     0\nfeature_16     0\nfeature_215    0\nfeature_160    0\nfeature_21     0\nfeature_51     0\nfeature_172    0\nfeature_52     0\nfeature_50     0\nfeature_187    0\nfeature_73     0\nfeature_48     0\nfeature_206    0\nfeature_44     0\nfeature_128    0\nfeature_175    0\nfeature_24     0\nfeature_8      0\nfeature_26     0\nfeature_40     0\nfeature_170    0\nfeature_202    0\ndtype: int64"
     },
     "execution_count": 38,
     "metadata": {},
     "output_type": "execute_result"
    }
   ],
   "source": [
    "X_train_scaled_reduced.isna().sum()"
   ],
   "metadata": {
    "collapsed": false,
    "ExecuteTime": {
     "end_time": "2023-08-26T17:19:25.988599Z",
     "start_time": "2023-08-26T17:19:25.927482Z"
    }
   }
  },
  {
   "cell_type": "code",
   "execution_count": 39,
   "outputs": [],
   "source": [
    "train_data_scaled_reduced = pd.concat([X_train_scaled_reduced, y_train], axis=1)\n",
    "test_data_scaled_reduced = pd.concat([X_test_scaled_reduced, y_test], axis=1)"
   ],
   "metadata": {
    "collapsed": false,
    "ExecuteTime": {
     "end_time": "2023-08-26T17:23:02.581671Z",
     "start_time": "2023-08-26T17:23:02.142657Z"
    }
   }
  },
  {
   "cell_type": "code",
   "execution_count": 43,
   "outputs": [
    {
     "data": {
      "text/plain": "feature_122    0\nfeature_199    0\nfeature_198    0\nfeature_171    0\nfeature_200    0\nfeature_68     0\nfeature_167    0\nfeature_69     0\nfeature_143    0\nfeature_70     0\nfeature_141    0\nfeature_72     0\nfeature_146    0\nfeature_79     0\nfeature_34     0\nfeature_142    0\nfeature_208    0\nfeature_78     0\nfeature_33     0\nfeature_210    0\nfeature_217    0\nfeature_214    0\nfeature_191    0\nfeature_58     0\nfeature_53     0\nfeature_22     0\nfeature_6      0\nfeature_164    0\nfeature_37     0\nfeature_16     0\nfeature_215    0\nfeature_160    0\nfeature_21     0\nfeature_51     0\nfeature_172    0\nfeature_52     0\nfeature_50     0\nfeature_187    0\nfeature_73     0\nfeature_48     0\nfeature_206    0\nfeature_44     0\nfeature_128    0\nfeature_175    0\nfeature_24     0\nfeature_8      0\nfeature_26     0\nfeature_40     0\nfeature_170    0\nfeature_202    0\ntarget         0\ndtype: int64"
     },
     "execution_count": 43,
     "metadata": {},
     "output_type": "execute_result"
    }
   ],
   "source": [
    "test_data_scaled_reduced.isna().sum()"
   ],
   "metadata": {
    "collapsed": false,
    "ExecuteTime": {
     "end_time": "2023-08-26T17:24:30.244286Z",
     "start_time": "2023-08-26T17:24:30.199198Z"
    }
   }
  },
  {
   "cell_type": "code",
   "execution_count": 44,
   "outputs": [],
   "source": [
    "train_data_scaled_reduced.to_csv(SAVE_PATH+'final/scaled_reduced_train_data.csv', index=False)\n",
    "test_data_scaled_reduced.to_csv(SAVE_PATH+'final/scaled_reduced_test_data.csv', index=False)"
   ],
   "metadata": {
    "collapsed": false,
    "ExecuteTime": {
     "end_time": "2023-08-26T17:26:08.781263Z",
     "start_time": "2023-08-26T17:25:37.596889Z"
    }
   }
  },
  {
   "cell_type": "code",
   "execution_count": 45,
   "outputs": [],
   "source": [
    "with open(EXPORT_PATH+'scaler_reduced.pkl', 'wb') as f:\n",
    "    pickle.dump(scaler_reduced, f)"
   ],
   "metadata": {
    "collapsed": false,
    "ExecuteTime": {
     "end_time": "2023-08-26T17:26:11.452735Z",
     "start_time": "2023-08-26T17:26:11.406052Z"
    }
   }
  },
  {
   "cell_type": "code",
   "execution_count": 46,
   "outputs": [],
   "source": [
    "train_data_reduced = pd.concat([X_train_reduced, y_train], axis=1)\n",
    "test_data_reduced = pd.concat([X_test_reduced, y_test], axis=1)"
   ],
   "metadata": {
    "collapsed": false,
    "ExecuteTime": {
     "end_time": "2023-08-26T17:26:55.437130Z",
     "start_time": "2023-08-26T17:26:54.690322Z"
    }
   }
  },
  {
   "cell_type": "code",
   "execution_count": 48,
   "outputs": [
    {
     "data": {
      "text/plain": "feature_122    0\nfeature_199    0\nfeature_198    0\nfeature_171    0\nfeature_200    0\nfeature_68     0\nfeature_167    0\nfeature_69     0\nfeature_143    0\nfeature_70     0\nfeature_141    0\nfeature_72     0\nfeature_146    0\nfeature_79     0\nfeature_34     0\nfeature_142    0\nfeature_208    0\nfeature_78     0\nfeature_33     0\nfeature_210    0\nfeature_217    0\nfeature_214    0\nfeature_191    0\nfeature_58     0\nfeature_53     0\nfeature_22     0\nfeature_6      0\nfeature_164    0\nfeature_37     0\nfeature_16     0\nfeature_215    0\nfeature_160    0\nfeature_21     0\nfeature_51     0\nfeature_172    0\nfeature_52     0\nfeature_50     0\nfeature_187    0\nfeature_73     0\nfeature_48     0\nfeature_206    0\nfeature_44     0\nfeature_128    0\nfeature_175    0\nfeature_24     0\nfeature_8      0\nfeature_26     0\nfeature_40     0\nfeature_170    0\nfeature_202    0\ntarget         0\ndtype: int64"
     },
     "execution_count": 48,
     "metadata": {},
     "output_type": "execute_result"
    }
   ],
   "source": [
    "train_data_reduced.isna().sum()"
   ],
   "metadata": {
    "collapsed": false,
    "ExecuteTime": {
     "end_time": "2023-08-26T17:27:09.041606Z",
     "start_time": "2023-08-26T17:27:08.971655Z"
    }
   }
  },
  {
   "cell_type": "code",
   "execution_count": 49,
   "outputs": [],
   "source": [
    "train_data_reduced.to_csv(SAVE_PATH+'final/reduced_train_data.csv', index=False)\n",
    "test_data_reduced.to_csv(SAVE_PATH+'final/reduced_test_data.csv', index=False)"
   ],
   "metadata": {
    "collapsed": false,
    "ExecuteTime": {
     "end_time": "2023-08-26T17:28:12.810582Z",
     "start_time": "2023-08-26T17:27:45.187736Z"
    }
   }
  },
  {
   "cell_type": "code",
   "execution_count": null,
   "outputs": [],
   "source": [],
   "metadata": {
    "collapsed": false
   }
  }
 ],
 "metadata": {
  "kernelspec": {
   "display_name": "Python 3",
   "language": "python",
   "name": "python3"
  },
  "language_info": {
   "codemirror_mode": {
    "name": "ipython",
    "version": 2
   },
   "file_extension": ".py",
   "mimetype": "text/x-python",
   "name": "python",
   "nbconvert_exporter": "python",
   "pygments_lexer": "ipython2",
   "version": "2.7.6"
  }
 },
 "nbformat": 4,
 "nbformat_minor": 0
}
