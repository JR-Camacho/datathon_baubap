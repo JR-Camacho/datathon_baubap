{
 "cells": [
  {
   "cell_type": "code",
   "execution_count": 2,
   "metadata": {
    "collapsed": true,
    "ExecuteTime": {
     "end_time": "2023-08-27T06:45:31.813346Z",
     "start_time": "2023-08-27T06:45:31.807109Z"
    }
   },
   "outputs": [],
   "source": [
    "import pandas as pd\n",
    "import pickle\n",
    "from src.utils.preprocess_data import preprocess_data"
   ]
  },
  {
   "cell_type": "code",
   "execution_count": 3,
   "outputs": [],
   "source": [
    "#Load the data\n",
    "DATASET_PATH = \"../../data/raw/nn_challenge_train.pkl\"\n",
    "df = pd.read_pickle(DATASET_PATH)"
   ],
   "metadata": {
    "collapsed": false,
    "ExecuteTime": {
     "end_time": "2023-08-27T06:45:36.141130Z",
     "start_time": "2023-08-27T06:45:32.093588Z"
    }
   }
  },
  {
   "cell_type": "code",
   "execution_count": 4,
   "outputs": [
    {
     "name": "stdout",
     "output_type": "stream",
     "text": [
      "66466\n",
      "405956\n"
     ]
    }
   ],
   "source": [
    "df_t_0 = df[df[\"target\"] == 0]\n",
    "df_t_1 = df[df[\"target\"] != 0]\n",
    "print(len(df_t_0))\n",
    "print(len(df_t_1))"
   ],
   "metadata": {
    "collapsed": false,
    "ExecuteTime": {
     "end_time": "2023-08-27T06:45:37.743295Z",
     "start_time": "2023-08-27T06:45:36.143Z"
    }
   }
  },
  {
   "cell_type": "code",
   "execution_count": 5,
   "outputs": [],
   "source": [
    "df_t_1_sub = df_t_1.sample(n=len(df_t_0)+30000, random_state=42)"
   ],
   "metadata": {
    "collapsed": false,
    "ExecuteTime": {
     "end_time": "2023-08-27T06:45:38.804324Z",
     "start_time": "2023-08-27T06:45:37.751104Z"
    }
   }
  },
  {
   "cell_type": "code",
   "execution_count": 6,
   "outputs": [],
   "source": [
    "balanced_df = pd.concat([df_t_0, df_t_1_sub])"
   ],
   "metadata": {
    "collapsed": false,
    "ExecuteTime": {
     "end_time": "2023-08-27T06:45:39.238109Z",
     "start_time": "2023-08-27T06:45:38.808993Z"
    }
   }
  },
  {
   "cell_type": "code",
   "execution_count": 7,
   "outputs": [
    {
     "data": {
      "text/plain": "        feature_1  feature_2  feature_3  feature_4  feature_5  feature_6  \\\n22       0.661364        1.0        0.0   0.000120   0.310606   0.009740   \n23       0.672847        0.5        0.0   0.000131   0.327720   0.035065   \n36       0.728351        0.5        0.0   0.000068   0.245778   0.001299   \n67       0.575738        0.5        0.0   0.000000   0.259794   0.011688   \n72       0.505637        0.0        0.0        NaN   0.332217   0.001948   \n...           ...        ...        ...        ...        ...        ...   \n429373   0.580473        0.5        0.0   0.000000   0.181268   0.001299   \n465382   0.481473        1.0        0.0   0.000099   0.364699   0.005195   \n271088   0.644856        0.5        0.0   0.000000   0.366731   0.034416   \n269843   0.495677        1.0        0.0        NaN   0.151923   0.001948   \n91747    0.539291        0.5        0.0   0.000057   0.225170   0.018182   \n\n        feature_7  feature_8  feature_9  feature_10  ...  feature_210  \\\n22       0.180457   0.752510   0.001050    0.500000  ...     0.000000   \n23       0.685714   0.777475   0.003627    0.000000  ...     0.054111   \n36       0.571429   0.712884   0.000604    0.000000  ...     0.000000   \n67       0.228571   0.624854   0.000986    0.000000  ...     0.000000   \n72       0.380914   0.847067   0.001845    0.666667  ...     0.055426   \n...           ...        ...        ...         ...  ...          ...   \n429373   0.228571   0.774486   0.000986    0.000000  ...     0.000000   \n465382   0.142857   0.753926   0.001782    0.750000  ...     0.038695   \n271088   0.175771   0.579792   0.001145    0.666667  ...     0.142921   \n269843   0.285714   0.703029   0.000636    0.666667  ...     0.024995   \n91747    0.190514   0.719306   0.001559    0.777778  ...     0.033050   \n\n        feature_211  feature_212  feature_213  feature_214  feature_215  \\\n22         0.000000     0.000000      0.00000     0.000000     0.000000   \n23         0.097624     0.005062      0.86365     0.033398     0.156841   \n36         0.000000     0.000000      0.00000     0.000000     0.000000   \n67         0.000000     0.000000      0.00000     0.000000     0.000000   \n72         0.058180     0.001687      0.75000     0.037872     0.134145   \n...             ...          ...          ...          ...          ...   \n429373     0.000000     0.000000      0.00000     0.000000     0.000000   \n465382     0.377841     0.001125      0.75000     0.036198     0.105289   \n271088     0.149654     0.001687      0.83335     0.068140     0.179926   \n269843     0.085543     0.001687      1.00000     0.025578     0.094812   \n91747      0.042041     0.003937      1.00000     0.027488     0.104243   \n\n       feature_216  feature_217  feature_218  target  \n22        0.000000     0.000000          1.0       0  \n23        0.025219     0.002243          0.0       0  \n36        0.000000     0.000000          1.0       0  \n67        0.000000     0.000000          0.0       0  \n72        0.020597     0.003380          0.0       0  \n...            ...          ...          ...     ...  \n429373    0.000000     0.000000          1.0       1  \n465382    0.377841     0.004434          1.0       1  \n271088    0.020597     0.002200          1.0       1  \n269843    0.085543     0.002970          1.0       1  \n91747     0.020597     0.001747          0.0       1  \n\n[162932 rows x 219 columns]",
      "text/html": "<div>\n<style scoped>\n    .dataframe tbody tr th:only-of-type {\n        vertical-align: middle;\n    }\n\n    .dataframe tbody tr th {\n        vertical-align: top;\n    }\n\n    .dataframe thead th {\n        text-align: right;\n    }\n</style>\n<table border=\"1\" class=\"dataframe\">\n  <thead>\n    <tr style=\"text-align: right;\">\n      <th></th>\n      <th>feature_1</th>\n      <th>feature_2</th>\n      <th>feature_3</th>\n      <th>feature_4</th>\n      <th>feature_5</th>\n      <th>feature_6</th>\n      <th>feature_7</th>\n      <th>feature_8</th>\n      <th>feature_9</th>\n      <th>feature_10</th>\n      <th>...</th>\n      <th>feature_210</th>\n      <th>feature_211</th>\n      <th>feature_212</th>\n      <th>feature_213</th>\n      <th>feature_214</th>\n      <th>feature_215</th>\n      <th>feature_216</th>\n      <th>feature_217</th>\n      <th>feature_218</th>\n      <th>target</th>\n    </tr>\n  </thead>\n  <tbody>\n    <tr>\n      <th>22</th>\n      <td>0.661364</td>\n      <td>1.0</td>\n      <td>0.0</td>\n      <td>0.000120</td>\n      <td>0.310606</td>\n      <td>0.009740</td>\n      <td>0.180457</td>\n      <td>0.752510</td>\n      <td>0.001050</td>\n      <td>0.500000</td>\n      <td>...</td>\n      <td>0.000000</td>\n      <td>0.000000</td>\n      <td>0.000000</td>\n      <td>0.00000</td>\n      <td>0.000000</td>\n      <td>0.000000</td>\n      <td>0.000000</td>\n      <td>0.000000</td>\n      <td>1.0</td>\n      <td>0</td>\n    </tr>\n    <tr>\n      <th>23</th>\n      <td>0.672847</td>\n      <td>0.5</td>\n      <td>0.0</td>\n      <td>0.000131</td>\n      <td>0.327720</td>\n      <td>0.035065</td>\n      <td>0.685714</td>\n      <td>0.777475</td>\n      <td>0.003627</td>\n      <td>0.000000</td>\n      <td>...</td>\n      <td>0.054111</td>\n      <td>0.097624</td>\n      <td>0.005062</td>\n      <td>0.86365</td>\n      <td>0.033398</td>\n      <td>0.156841</td>\n      <td>0.025219</td>\n      <td>0.002243</td>\n      <td>0.0</td>\n      <td>0</td>\n    </tr>\n    <tr>\n      <th>36</th>\n      <td>0.728351</td>\n      <td>0.5</td>\n      <td>0.0</td>\n      <td>0.000068</td>\n      <td>0.245778</td>\n      <td>0.001299</td>\n      <td>0.571429</td>\n      <td>0.712884</td>\n      <td>0.000604</td>\n      <td>0.000000</td>\n      <td>...</td>\n      <td>0.000000</td>\n      <td>0.000000</td>\n      <td>0.000000</td>\n      <td>0.00000</td>\n      <td>0.000000</td>\n      <td>0.000000</td>\n      <td>0.000000</td>\n      <td>0.000000</td>\n      <td>1.0</td>\n      <td>0</td>\n    </tr>\n    <tr>\n      <th>67</th>\n      <td>0.575738</td>\n      <td>0.5</td>\n      <td>0.0</td>\n      <td>0.000000</td>\n      <td>0.259794</td>\n      <td>0.011688</td>\n      <td>0.228571</td>\n      <td>0.624854</td>\n      <td>0.000986</td>\n      <td>0.000000</td>\n      <td>...</td>\n      <td>0.000000</td>\n      <td>0.000000</td>\n      <td>0.000000</td>\n      <td>0.00000</td>\n      <td>0.000000</td>\n      <td>0.000000</td>\n      <td>0.000000</td>\n      <td>0.000000</td>\n      <td>0.0</td>\n      <td>0</td>\n    </tr>\n    <tr>\n      <th>72</th>\n      <td>0.505637</td>\n      <td>0.0</td>\n      <td>0.0</td>\n      <td>NaN</td>\n      <td>0.332217</td>\n      <td>0.001948</td>\n      <td>0.380914</td>\n      <td>0.847067</td>\n      <td>0.001845</td>\n      <td>0.666667</td>\n      <td>...</td>\n      <td>0.055426</td>\n      <td>0.058180</td>\n      <td>0.001687</td>\n      <td>0.75000</td>\n      <td>0.037872</td>\n      <td>0.134145</td>\n      <td>0.020597</td>\n      <td>0.003380</td>\n      <td>0.0</td>\n      <td>0</td>\n    </tr>\n    <tr>\n      <th>...</th>\n      <td>...</td>\n      <td>...</td>\n      <td>...</td>\n      <td>...</td>\n      <td>...</td>\n      <td>...</td>\n      <td>...</td>\n      <td>...</td>\n      <td>...</td>\n      <td>...</td>\n      <td>...</td>\n      <td>...</td>\n      <td>...</td>\n      <td>...</td>\n      <td>...</td>\n      <td>...</td>\n      <td>...</td>\n      <td>...</td>\n      <td>...</td>\n      <td>...</td>\n      <td>...</td>\n    </tr>\n    <tr>\n      <th>429373</th>\n      <td>0.580473</td>\n      <td>0.5</td>\n      <td>0.0</td>\n      <td>0.000000</td>\n      <td>0.181268</td>\n      <td>0.001299</td>\n      <td>0.228571</td>\n      <td>0.774486</td>\n      <td>0.000986</td>\n      <td>0.000000</td>\n      <td>...</td>\n      <td>0.000000</td>\n      <td>0.000000</td>\n      <td>0.000000</td>\n      <td>0.00000</td>\n      <td>0.000000</td>\n      <td>0.000000</td>\n      <td>0.000000</td>\n      <td>0.000000</td>\n      <td>1.0</td>\n      <td>1</td>\n    </tr>\n    <tr>\n      <th>465382</th>\n      <td>0.481473</td>\n      <td>1.0</td>\n      <td>0.0</td>\n      <td>0.000099</td>\n      <td>0.364699</td>\n      <td>0.005195</td>\n      <td>0.142857</td>\n      <td>0.753926</td>\n      <td>0.001782</td>\n      <td>0.750000</td>\n      <td>...</td>\n      <td>0.038695</td>\n      <td>0.377841</td>\n      <td>0.001125</td>\n      <td>0.75000</td>\n      <td>0.036198</td>\n      <td>0.105289</td>\n      <td>0.377841</td>\n      <td>0.004434</td>\n      <td>1.0</td>\n      <td>1</td>\n    </tr>\n    <tr>\n      <th>271088</th>\n      <td>0.644856</td>\n      <td>0.5</td>\n      <td>0.0</td>\n      <td>0.000000</td>\n      <td>0.366731</td>\n      <td>0.034416</td>\n      <td>0.175771</td>\n      <td>0.579792</td>\n      <td>0.001145</td>\n      <td>0.666667</td>\n      <td>...</td>\n      <td>0.142921</td>\n      <td>0.149654</td>\n      <td>0.001687</td>\n      <td>0.83335</td>\n      <td>0.068140</td>\n      <td>0.179926</td>\n      <td>0.020597</td>\n      <td>0.002200</td>\n      <td>1.0</td>\n      <td>1</td>\n    </tr>\n    <tr>\n      <th>269843</th>\n      <td>0.495677</td>\n      <td>1.0</td>\n      <td>0.0</td>\n      <td>NaN</td>\n      <td>0.151923</td>\n      <td>0.001948</td>\n      <td>0.285714</td>\n      <td>0.703029</td>\n      <td>0.000636</td>\n      <td>0.666667</td>\n      <td>...</td>\n      <td>0.024995</td>\n      <td>0.085543</td>\n      <td>0.001687</td>\n      <td>1.00000</td>\n      <td>0.025578</td>\n      <td>0.094812</td>\n      <td>0.085543</td>\n      <td>0.002970</td>\n      <td>1.0</td>\n      <td>1</td>\n    </tr>\n    <tr>\n      <th>91747</th>\n      <td>0.539291</td>\n      <td>0.5</td>\n      <td>0.0</td>\n      <td>0.000057</td>\n      <td>0.225170</td>\n      <td>0.018182</td>\n      <td>0.190514</td>\n      <td>0.719306</td>\n      <td>0.001559</td>\n      <td>0.777778</td>\n      <td>...</td>\n      <td>0.033050</td>\n      <td>0.042041</td>\n      <td>0.003937</td>\n      <td>1.00000</td>\n      <td>0.027488</td>\n      <td>0.104243</td>\n      <td>0.020597</td>\n      <td>0.001747</td>\n      <td>0.0</td>\n      <td>1</td>\n    </tr>\n  </tbody>\n</table>\n<p>162932 rows × 219 columns</p>\n</div>"
     },
     "execution_count": 7,
     "metadata": {},
     "output_type": "execute_result"
    }
   ],
   "source": [
    "balanced_df"
   ],
   "metadata": {
    "collapsed": false,
    "ExecuteTime": {
     "end_time": "2023-08-27T06:45:39.438319Z",
     "start_time": "2023-08-27T06:45:39.231531Z"
    }
   }
  },
  {
   "cell_type": "code",
   "execution_count": 8,
   "outputs": [
    {
     "data": {
      "text/plain": "target\n1    96466\n0    66466\nName: count, dtype: int64"
     },
     "execution_count": 8,
     "metadata": {},
     "output_type": "execute_result"
    }
   ],
   "source": [
    "balanced_df[\"target\"].value_counts()"
   ],
   "metadata": {
    "collapsed": false,
    "ExecuteTime": {
     "end_time": "2023-08-27T06:45:39.453064Z",
     "start_time": "2023-08-27T06:45:39.441622Z"
    }
   }
  },
  {
   "cell_type": "code",
   "execution_count": 9,
   "outputs": [],
   "source": [
    "balanced_df = balanced_df.drop([\"feature_15\", \"feature_19\", \"feature_39\", \"feature_148\"], axis=1)"
   ],
   "metadata": {
    "collapsed": false,
    "ExecuteTime": {
     "end_time": "2023-08-27T06:45:39.815501Z",
     "start_time": "2023-08-27T06:45:39.554664Z"
    }
   }
  },
  {
   "cell_type": "code",
   "execution_count": 10,
   "outputs": [],
   "source": [
    "X = balanced_df.drop(\"target\", axis=1)\n",
    "y = balanced_df[\"target\"].copy()"
   ],
   "metadata": {
    "collapsed": false,
    "ExecuteTime": {
     "end_time": "2023-08-27T06:45:40.400188Z",
     "start_time": "2023-08-27T06:45:39.854078Z"
    }
   }
  },
  {
   "cell_type": "code",
   "execution_count": 11,
   "outputs": [],
   "source": [
    "category_columns = [\"feature_17\", \"feature_87\", \"feature_118\", \"feature_119\", \"feature_139\", \"feature_144\", \"feature_147\", \"feature_158\", \"feature_159\", \"feature_195\"]\n",
    "\n",
    "X_category = X[category_columns].copy()\n",
    "X_numeric = X.drop(category_columns, axis=1)"
   ],
   "metadata": {
    "collapsed": false,
    "ExecuteTime": {
     "end_time": "2023-08-27T06:45:42.641280Z",
     "start_time": "2023-08-27T06:45:42.253481Z"
    }
   }
  },
  {
   "cell_type": "code",
   "execution_count": 12,
   "outputs": [],
   "source": [
    "EXPORT_PATH = \"../../exports/\"\n",
    "\n",
    "with open(EXPORT_PATH+\"category_label_encoders.pkl\", 'rb') as file:\n",
    "    category_label_encoders = pickle.load(file)\n",
    "\n",
    "with open(EXPORT_PATH+\"category_imputer.pkl\", 'rb') as file:\n",
    "    category_imputer = pickle.load(file)\n",
    "\n",
    "with open(EXPORT_PATH+\"numeric_imputer.pkl\", 'rb') as file:\n",
    "    numeric_imputer = pickle.load(file)\n",
    "\n",
    "with open(EXPORT_PATH+\"scaler.pkl\", 'rb') as file:\n",
    "    scaler = pickle.load(file)"
   ],
   "metadata": {
    "collapsed": false,
    "ExecuteTime": {
     "end_time": "2023-08-27T06:45:44.072656Z",
     "start_time": "2023-08-27T06:45:43.809437Z"
    }
   }
  },
  {
   "cell_type": "code",
   "execution_count": 13,
   "outputs": [],
   "source": [
    "preprocessed_data = preprocess_data(X_numeric=X_numeric, X_category=X_category, numeric_transformer=numeric_imputer, category_transformer=category_imputer, label_encoders=category_label_encoders, index=y.index)"
   ],
   "metadata": {
    "collapsed": false,
    "ExecuteTime": {
     "end_time": "2023-08-27T06:45:48.078256Z",
     "start_time": "2023-08-27T06:45:45.619868Z"
    }
   }
  },
  {
   "cell_type": "code",
   "execution_count": 14,
   "outputs": [
    {
     "data": {
      "text/plain": "feature_1      0\nfeature_2      0\nfeature_3      0\nfeature_4      0\nfeature_5      0\n              ..\nfeature_144    0\nfeature_147    0\nfeature_158    0\nfeature_159    0\nfeature_195    0\nLength: 214, dtype: int64"
     },
     "execution_count": 14,
     "metadata": {},
     "output_type": "execute_result"
    }
   ],
   "source": [
    "preprocessed_data.isna().sum()"
   ],
   "metadata": {
    "collapsed": false,
    "ExecuteTime": {
     "end_time": "2023-08-27T06:45:48.875609Z",
     "start_time": "2023-08-27T06:45:48.707517Z"
    }
   }
  },
  {
   "cell_type": "code",
   "execution_count": 15,
   "outputs": [],
   "source": [
    "#Scale data\n",
    "scaled_data = scaler.transform(preprocessed_data.copy())\n",
    "scaled_data = pd.DataFrame(scaled_data, columns=preprocessed_data.columns, index=y.index)"
   ],
   "metadata": {
    "collapsed": false,
    "ExecuteTime": {
     "end_time": "2023-08-27T06:46:31.004431Z",
     "start_time": "2023-08-27T06:46:29.239610Z"
    }
   }
  },
  {
   "cell_type": "code",
   "execution_count": 16,
   "outputs": [],
   "source": [
    "data = pd.concat([scaled_data, y], axis=1)"
   ],
   "metadata": {
    "collapsed": false,
    "ExecuteTime": {
     "end_time": "2023-08-27T06:46:33.995279Z",
     "start_time": "2023-08-27T06:46:33.799937Z"
    }
   }
  },
  {
   "cell_type": "code",
   "execution_count": 17,
   "outputs": [
    {
     "data": {
      "text/plain": "feature_1      0\nfeature_2      0\nfeature_3      0\nfeature_4      0\nfeature_5      0\n              ..\nfeature_147    0\nfeature_158    0\nfeature_159    0\nfeature_195    0\ntarget         0\nLength: 215, dtype: int64"
     },
     "execution_count": 17,
     "metadata": {},
     "output_type": "execute_result"
    }
   ],
   "source": [
    "data.isna().sum()"
   ],
   "metadata": {
    "collapsed": false,
    "ExecuteTime": {
     "end_time": "2023-08-27T06:46:34.981269Z",
     "start_time": "2023-08-27T06:46:34.889403Z"
    }
   }
  },
  {
   "cell_type": "code",
   "execution_count": 18,
   "outputs": [
    {
     "data": {
      "text/plain": "        feature_1  feature_2  feature_3  feature_4  feature_5  feature_6  \\\n22       0.972384        1.0        0.0   0.534527   0.116966   0.208333   \n23       1.050953        0.0        0.0   0.618926   0.229877   1.833333   \n36       1.430725        0.0        0.0   0.144501  -0.310734  -0.333333   \n67       0.386520        0.0        0.0  -0.373402  -0.218263   0.333333   \n72      -0.093120       -1.0        0.0   0.000000   0.259550  -0.291667   \n...           ...        ...        ...        ...        ...        ...   \n429373   0.418921        0.0        0.0  -0.373402  -0.736338  -0.333333   \n465382  -0.258455        1.0        0.0   0.374680   0.473851  -0.083333   \n271088   0.859436        0.0        0.0  -0.373402   0.487252   1.791667   \n269843  -0.161271        1.0        0.0   0.000000  -0.929941  -0.291667   \n91747    0.137146        0.0        0.0   0.062660  -0.446695   0.750000   \n\n           feature_7  feature_8  feature_9  feature_10  ...  feature_87  \\\n22     -2.762467e-01   0.034810  -0.054054    0.000000  ...         1.0   \n23      2.624672e+00   0.202340   2.135135   -1.500000  ...        -1.0   \n36      1.968504e+00  -0.231107  -0.432432   -1.500000  ...         0.0   \n67      3.187156e-16  -0.821849  -0.108108   -1.500000  ...         0.0   \n72      8.746719e-01   0.669351   0.621622    0.500000  ...         0.0   \n...              ...        ...        ...         ...  ...         ...   \n429373  3.187156e-16   0.182283  -0.108108   -1.500000  ...         1.0   \n465382 -4.921261e-01   0.044310   0.567567    0.750000  ...         1.0   \n271088 -3.031496e-01  -1.124245   0.027027    0.500000  ...         1.0   \n269843  3.280839e-01  -0.297242  -0.405405    0.500000  ...         0.0   \n91747  -2.185039e-01  -0.188009   0.378378    0.833333  ...         1.0   \n\n        feature_118  feature_119  feature_139  feature_144  feature_147  \\\n22              0.0        -0.25    -0.833333          0.0          0.0   \n23             -1.0        -0.25    -0.833333         -1.0         -1.0   \n36              0.0         0.00    -0.166667          0.0          0.5   \n67              0.0         0.00    -0.666667         -0.5          1.0   \n72              0.0         1.00     0.333333          0.0         -0.5   \n...             ...          ...          ...          ...          ...   \n429373         -1.0         1.00     0.333333          0.0         -1.0   \n465382          1.0         1.00     0.333333         -1.0         -1.0   \n271088         -1.0         0.00     0.166667          0.0         -1.0   \n269843         -1.0         0.50    -0.166667          0.0         -1.0   \n91747           0.0         0.00     0.333333          0.0          0.5   \n\n        feature_158  feature_159  feature_195  target  \n22             0.50          0.6          2.0       0  \n23             0.75         -0.4          0.0       0  \n36             0.75          0.6          2.0       0  \n67            -0.75         -0.6          3.0       0  \n72            -0.50         -1.2         -1.0       0  \n...             ...          ...          ...     ...  \n429373         0.25         -0.2          4.0       1  \n465382        -0.75         -0.4          0.0       1  \n271088        -0.75         -0.2         -1.0       1  \n269843         0.25          0.0          0.0       1  \n91747         -0.75         -1.0         -1.0       1  \n\n[162932 rows x 215 columns]",
      "text/html": "<div>\n<style scoped>\n    .dataframe tbody tr th:only-of-type {\n        vertical-align: middle;\n    }\n\n    .dataframe tbody tr th {\n        vertical-align: top;\n    }\n\n    .dataframe thead th {\n        text-align: right;\n    }\n</style>\n<table border=\"1\" class=\"dataframe\">\n  <thead>\n    <tr style=\"text-align: right;\">\n      <th></th>\n      <th>feature_1</th>\n      <th>feature_2</th>\n      <th>feature_3</th>\n      <th>feature_4</th>\n      <th>feature_5</th>\n      <th>feature_6</th>\n      <th>feature_7</th>\n      <th>feature_8</th>\n      <th>feature_9</th>\n      <th>feature_10</th>\n      <th>...</th>\n      <th>feature_87</th>\n      <th>feature_118</th>\n      <th>feature_119</th>\n      <th>feature_139</th>\n      <th>feature_144</th>\n      <th>feature_147</th>\n      <th>feature_158</th>\n      <th>feature_159</th>\n      <th>feature_195</th>\n      <th>target</th>\n    </tr>\n  </thead>\n  <tbody>\n    <tr>\n      <th>22</th>\n      <td>0.972384</td>\n      <td>1.0</td>\n      <td>0.0</td>\n      <td>0.534527</td>\n      <td>0.116966</td>\n      <td>0.208333</td>\n      <td>-2.762467e-01</td>\n      <td>0.034810</td>\n      <td>-0.054054</td>\n      <td>0.000000</td>\n      <td>...</td>\n      <td>1.0</td>\n      <td>0.0</td>\n      <td>-0.25</td>\n      <td>-0.833333</td>\n      <td>0.0</td>\n      <td>0.0</td>\n      <td>0.50</td>\n      <td>0.6</td>\n      <td>2.0</td>\n      <td>0</td>\n    </tr>\n    <tr>\n      <th>23</th>\n      <td>1.050953</td>\n      <td>0.0</td>\n      <td>0.0</td>\n      <td>0.618926</td>\n      <td>0.229877</td>\n      <td>1.833333</td>\n      <td>2.624672e+00</td>\n      <td>0.202340</td>\n      <td>2.135135</td>\n      <td>-1.500000</td>\n      <td>...</td>\n      <td>-1.0</td>\n      <td>-1.0</td>\n      <td>-0.25</td>\n      <td>-0.833333</td>\n      <td>-1.0</td>\n      <td>-1.0</td>\n      <td>0.75</td>\n      <td>-0.4</td>\n      <td>0.0</td>\n      <td>0</td>\n    </tr>\n    <tr>\n      <th>36</th>\n      <td>1.430725</td>\n      <td>0.0</td>\n      <td>0.0</td>\n      <td>0.144501</td>\n      <td>-0.310734</td>\n      <td>-0.333333</td>\n      <td>1.968504e+00</td>\n      <td>-0.231107</td>\n      <td>-0.432432</td>\n      <td>-1.500000</td>\n      <td>...</td>\n      <td>0.0</td>\n      <td>0.0</td>\n      <td>0.00</td>\n      <td>-0.166667</td>\n      <td>0.0</td>\n      <td>0.5</td>\n      <td>0.75</td>\n      <td>0.6</td>\n      <td>2.0</td>\n      <td>0</td>\n    </tr>\n    <tr>\n      <th>67</th>\n      <td>0.386520</td>\n      <td>0.0</td>\n      <td>0.0</td>\n      <td>-0.373402</td>\n      <td>-0.218263</td>\n      <td>0.333333</td>\n      <td>3.187156e-16</td>\n      <td>-0.821849</td>\n      <td>-0.108108</td>\n      <td>-1.500000</td>\n      <td>...</td>\n      <td>0.0</td>\n      <td>0.0</td>\n      <td>0.00</td>\n      <td>-0.666667</td>\n      <td>-0.5</td>\n      <td>1.0</td>\n      <td>-0.75</td>\n      <td>-0.6</td>\n      <td>3.0</td>\n      <td>0</td>\n    </tr>\n    <tr>\n      <th>72</th>\n      <td>-0.093120</td>\n      <td>-1.0</td>\n      <td>0.0</td>\n      <td>0.000000</td>\n      <td>0.259550</td>\n      <td>-0.291667</td>\n      <td>8.746719e-01</td>\n      <td>0.669351</td>\n      <td>0.621622</td>\n      <td>0.500000</td>\n      <td>...</td>\n      <td>0.0</td>\n      <td>0.0</td>\n      <td>1.00</td>\n      <td>0.333333</td>\n      <td>0.0</td>\n      <td>-0.5</td>\n      <td>-0.50</td>\n      <td>-1.2</td>\n      <td>-1.0</td>\n      <td>0</td>\n    </tr>\n    <tr>\n      <th>...</th>\n      <td>...</td>\n      <td>...</td>\n      <td>...</td>\n      <td>...</td>\n      <td>...</td>\n      <td>...</td>\n      <td>...</td>\n      <td>...</td>\n      <td>...</td>\n      <td>...</td>\n      <td>...</td>\n      <td>...</td>\n      <td>...</td>\n      <td>...</td>\n      <td>...</td>\n      <td>...</td>\n      <td>...</td>\n      <td>...</td>\n      <td>...</td>\n      <td>...</td>\n      <td>...</td>\n    </tr>\n    <tr>\n      <th>429373</th>\n      <td>0.418921</td>\n      <td>0.0</td>\n      <td>0.0</td>\n      <td>-0.373402</td>\n      <td>-0.736338</td>\n      <td>-0.333333</td>\n      <td>3.187156e-16</td>\n      <td>0.182283</td>\n      <td>-0.108108</td>\n      <td>-1.500000</td>\n      <td>...</td>\n      <td>1.0</td>\n      <td>-1.0</td>\n      <td>1.00</td>\n      <td>0.333333</td>\n      <td>0.0</td>\n      <td>-1.0</td>\n      <td>0.25</td>\n      <td>-0.2</td>\n      <td>4.0</td>\n      <td>1</td>\n    </tr>\n    <tr>\n      <th>465382</th>\n      <td>-0.258455</td>\n      <td>1.0</td>\n      <td>0.0</td>\n      <td>0.374680</td>\n      <td>0.473851</td>\n      <td>-0.083333</td>\n      <td>-4.921261e-01</td>\n      <td>0.044310</td>\n      <td>0.567567</td>\n      <td>0.750000</td>\n      <td>...</td>\n      <td>1.0</td>\n      <td>1.0</td>\n      <td>1.00</td>\n      <td>0.333333</td>\n      <td>-1.0</td>\n      <td>-1.0</td>\n      <td>-0.75</td>\n      <td>-0.4</td>\n      <td>0.0</td>\n      <td>1</td>\n    </tr>\n    <tr>\n      <th>271088</th>\n      <td>0.859436</td>\n      <td>0.0</td>\n      <td>0.0</td>\n      <td>-0.373402</td>\n      <td>0.487252</td>\n      <td>1.791667</td>\n      <td>-3.031496e-01</td>\n      <td>-1.124245</td>\n      <td>0.027027</td>\n      <td>0.500000</td>\n      <td>...</td>\n      <td>1.0</td>\n      <td>-1.0</td>\n      <td>0.00</td>\n      <td>0.166667</td>\n      <td>0.0</td>\n      <td>-1.0</td>\n      <td>-0.75</td>\n      <td>-0.2</td>\n      <td>-1.0</td>\n      <td>1</td>\n    </tr>\n    <tr>\n      <th>269843</th>\n      <td>-0.161271</td>\n      <td>1.0</td>\n      <td>0.0</td>\n      <td>0.000000</td>\n      <td>-0.929941</td>\n      <td>-0.291667</td>\n      <td>3.280839e-01</td>\n      <td>-0.297242</td>\n      <td>-0.405405</td>\n      <td>0.500000</td>\n      <td>...</td>\n      <td>0.0</td>\n      <td>-1.0</td>\n      <td>0.50</td>\n      <td>-0.166667</td>\n      <td>0.0</td>\n      <td>-1.0</td>\n      <td>0.25</td>\n      <td>0.0</td>\n      <td>0.0</td>\n      <td>1</td>\n    </tr>\n    <tr>\n      <th>91747</th>\n      <td>0.137146</td>\n      <td>0.0</td>\n      <td>0.0</td>\n      <td>0.062660</td>\n      <td>-0.446695</td>\n      <td>0.750000</td>\n      <td>-2.185039e-01</td>\n      <td>-0.188009</td>\n      <td>0.378378</td>\n      <td>0.833333</td>\n      <td>...</td>\n      <td>1.0</td>\n      <td>0.0</td>\n      <td>0.00</td>\n      <td>0.333333</td>\n      <td>0.0</td>\n      <td>0.5</td>\n      <td>-0.75</td>\n      <td>-1.0</td>\n      <td>-1.0</td>\n      <td>1</td>\n    </tr>\n  </tbody>\n</table>\n<p>162932 rows × 215 columns</p>\n</div>"
     },
     "execution_count": 18,
     "metadata": {},
     "output_type": "execute_result"
    }
   ],
   "source": [
    "data"
   ],
   "metadata": {
    "collapsed": false,
    "ExecuteTime": {
     "end_time": "2023-08-27T06:46:53.168214Z",
     "start_time": "2023-08-27T06:46:53.030124Z"
    }
   }
  },
  {
   "cell_type": "code",
   "execution_count": 19,
   "outputs": [],
   "source": [
    "data.to_csv(\"../../data/processed/final/scaled_full_data.csv\", index=False)"
   ],
   "metadata": {
    "collapsed": false,
    "ExecuteTime": {
     "end_time": "2023-08-27T06:48:15.845707Z",
     "start_time": "2023-08-27T06:47:24.691923Z"
    }
   }
  },
  {
   "cell_type": "code",
   "execution_count": null,
   "outputs": [],
   "source": [],
   "metadata": {
    "collapsed": false
   }
  }
 ],
 "metadata": {
  "kernelspec": {
   "display_name": "Python 3",
   "language": "python",
   "name": "python3"
  },
  "language_info": {
   "codemirror_mode": {
    "name": "ipython",
    "version": 2
   },
   "file_extension": ".py",
   "mimetype": "text/x-python",
   "name": "python",
   "nbconvert_exporter": "python",
   "pygments_lexer": "ipython2",
   "version": "2.7.6"
  }
 },
 "nbformat": 4,
 "nbformat_minor": 0
}
