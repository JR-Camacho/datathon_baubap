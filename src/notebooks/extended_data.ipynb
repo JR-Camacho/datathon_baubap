{
 "cells": [
  {
   "cell_type": "code",
   "execution_count": 1,
   "metadata": {
    "collapsed": true,
    "ExecuteTime": {
     "end_time": "2023-08-27T17:59:35.706293Z",
     "start_time": "2023-08-27T17:59:35.268554Z"
    }
   },
   "outputs": [],
   "source": [
    "import pandas as pd\n",
    "import pickle\n",
    "from sklearn.impute import SimpleImputer\n",
    "from sklearn.preprocessing import LabelEncoder\n",
    "from sklearn.preprocessing import RobustScaler"
   ]
  },
  {
   "cell_type": "code",
   "execution_count": 2,
   "outputs": [],
   "source": [
    "#Load the data\n",
    "DATASET_PATH = \"../../data/raw/\"\n",
    "train_data = pd.read_pickle(DATASET_PATH+\"nn_challenge_train.pkl\")\n",
    "test_data = pd.read_pickle(DATASET_PATH+\"nn_challenge_test.pkl\")"
   ],
   "metadata": {
    "collapsed": false,
    "ExecuteTime": {
     "end_time": "2023-08-27T17:59:43.135226Z",
     "start_time": "2023-08-27T17:59:36.563313Z"
    }
   }
  },
  {
   "cell_type": "code",
   "execution_count": 3,
   "outputs": [],
   "source": [
    "combined_df = pd.concat([train_data, test_data], ignore_index=True)"
   ],
   "metadata": {
    "collapsed": false,
    "ExecuteTime": {
     "end_time": "2023-08-27T17:59:46.587832Z",
     "start_time": "2023-08-27T17:59:43.140561Z"
    }
   }
  },
  {
   "cell_type": "code",
   "execution_count": 4,
   "outputs": [
    {
     "data": {
      "text/plain": "        feature_1  feature_2  feature_3  feature_4  feature_5  feature_6  \\\n0        0.554222        1.0        0.0   0.000000   0.398189   0.000000   \n1        0.521013        0.5        0.0        NaN   0.299222   0.000649   \n2        0.545612        1.0        0.0   0.000102   0.248790   0.000000   \n3        0.593774        0.5        0.0   0.000000   0.412052   0.001299   \n4        0.278900        0.0        0.0   0.000000   0.160199   0.009740   \n...           ...        ...        ...        ...        ...        ...   \n743372   0.514214        0.0        0.0   0.000000   0.089995   0.019100   \n743373   0.405381        0.5        0.0   0.000105   0.249793   0.006139   \n743374   0.691027        0.5        0.0   0.000164   0.355698   0.003411   \n743375   0.712737        0.5        0.0   0.000000   0.231467   0.010914   \n743376   0.670764        0.0        0.0   0.000000   0.276833   0.004775   \n\n        feature_7  feature_8  feature_9  feature_10  ...  feature_210  \\\n0        0.190514   0.774141   0.004995    0.666667  ...     0.000000   \n1        0.000000   0.827157   0.000668    0.000000  ...     0.000000   \n2        0.571429   0.851531   0.000604    0.000000  ...     0.206293   \n3        0.087886   0.559571   0.002227    0.333333  ...     0.026009   \n4        0.134400   0.841197   0.000700    0.833333  ...     0.049540   \n...           ...        ...        ...         ...  ...          ...   \n743372   0.291681   0.440296   0.004814    0.333333  ...     0.000000   \n743373   0.116673   0.552868   0.002638    0.500000  ...     0.112360   \n743374   0.145841   0.869412   0.000890    0.666667  ...     0.064070   \n743375   0.291681   0.701853   0.000725    0.000000  ...     0.039394   \n743376   0.291681   0.615141   0.001187    0.000000  ...     0.045928   \n\n        feature_211  feature_212  feature_213  feature_214  feature_215  \\\n0          0.000000     0.000000      0.00000     0.000000     0.000000   \n1          0.000000     0.000000      0.00000     0.000000     0.000000   \n2          0.022686     0.000562      0.50000     0.116689     0.566809   \n3          0.074658     0.003375      1.00000     0.025595     0.097360   \n4          0.064444     0.003375      0.85715     0.032973     0.131737   \n...             ...          ...          ...          ...          ...   \n743372     0.000000     0.000000      0.00000     0.000000     0.000000   \n743373     0.020824     0.005284      0.85000     0.042598     0.207764   \n743374     0.030698     0.019815      0.92645     0.031424     0.221957   \n743375     0.112085     0.000661      0.50000     0.040467     0.110831   \n743376     0.059760     0.003303      0.90000     0.030159     0.125187   \n\n       feature_216  feature_217  feature_218  target  \n0         0.000000     0.000000          1.0       1  \n1         0.000000     0.000000          1.0       1  \n2         0.020597     0.020891          1.0       1  \n3         0.020597     0.002580          0.0       1  \n4         0.020597     0.002613          1.0       1  \n...            ...          ...          ...     ...  \n743372    0.000000     0.000000          1.0       1  \n743373    0.020597     0.003336          1.0       1  \n743374    0.020597     0.004713          0.0       1  \n743375    0.112085     0.001517          1.0       1  \n743376    0.023433     0.003758          1.0       1  \n\n[743377 rows x 219 columns]",
      "text/html": "<div>\n<style scoped>\n    .dataframe tbody tr th:only-of-type {\n        vertical-align: middle;\n    }\n\n    .dataframe tbody tr th {\n        vertical-align: top;\n    }\n\n    .dataframe thead th {\n        text-align: right;\n    }\n</style>\n<table border=\"1\" class=\"dataframe\">\n  <thead>\n    <tr style=\"text-align: right;\">\n      <th></th>\n      <th>feature_1</th>\n      <th>feature_2</th>\n      <th>feature_3</th>\n      <th>feature_4</th>\n      <th>feature_5</th>\n      <th>feature_6</th>\n      <th>feature_7</th>\n      <th>feature_8</th>\n      <th>feature_9</th>\n      <th>feature_10</th>\n      <th>...</th>\n      <th>feature_210</th>\n      <th>feature_211</th>\n      <th>feature_212</th>\n      <th>feature_213</th>\n      <th>feature_214</th>\n      <th>feature_215</th>\n      <th>feature_216</th>\n      <th>feature_217</th>\n      <th>feature_218</th>\n      <th>target</th>\n    </tr>\n  </thead>\n  <tbody>\n    <tr>\n      <th>0</th>\n      <td>0.554222</td>\n      <td>1.0</td>\n      <td>0.0</td>\n      <td>0.000000</td>\n      <td>0.398189</td>\n      <td>0.000000</td>\n      <td>0.190514</td>\n      <td>0.774141</td>\n      <td>0.004995</td>\n      <td>0.666667</td>\n      <td>...</td>\n      <td>0.000000</td>\n      <td>0.000000</td>\n      <td>0.000000</td>\n      <td>0.00000</td>\n      <td>0.000000</td>\n      <td>0.000000</td>\n      <td>0.000000</td>\n      <td>0.000000</td>\n      <td>1.0</td>\n      <td>1</td>\n    </tr>\n    <tr>\n      <th>1</th>\n      <td>0.521013</td>\n      <td>0.5</td>\n      <td>0.0</td>\n      <td>NaN</td>\n      <td>0.299222</td>\n      <td>0.000649</td>\n      <td>0.000000</td>\n      <td>0.827157</td>\n      <td>0.000668</td>\n      <td>0.000000</td>\n      <td>...</td>\n      <td>0.000000</td>\n      <td>0.000000</td>\n      <td>0.000000</td>\n      <td>0.00000</td>\n      <td>0.000000</td>\n      <td>0.000000</td>\n      <td>0.000000</td>\n      <td>0.000000</td>\n      <td>1.0</td>\n      <td>1</td>\n    </tr>\n    <tr>\n      <th>2</th>\n      <td>0.545612</td>\n      <td>1.0</td>\n      <td>0.0</td>\n      <td>0.000102</td>\n      <td>0.248790</td>\n      <td>0.000000</td>\n      <td>0.571429</td>\n      <td>0.851531</td>\n      <td>0.000604</td>\n      <td>0.000000</td>\n      <td>...</td>\n      <td>0.206293</td>\n      <td>0.022686</td>\n      <td>0.000562</td>\n      <td>0.50000</td>\n      <td>0.116689</td>\n      <td>0.566809</td>\n      <td>0.020597</td>\n      <td>0.020891</td>\n      <td>1.0</td>\n      <td>1</td>\n    </tr>\n    <tr>\n      <th>3</th>\n      <td>0.593774</td>\n      <td>0.5</td>\n      <td>0.0</td>\n      <td>0.000000</td>\n      <td>0.412052</td>\n      <td>0.001299</td>\n      <td>0.087886</td>\n      <td>0.559571</td>\n      <td>0.002227</td>\n      <td>0.333333</td>\n      <td>...</td>\n      <td>0.026009</td>\n      <td>0.074658</td>\n      <td>0.003375</td>\n      <td>1.00000</td>\n      <td>0.025595</td>\n      <td>0.097360</td>\n      <td>0.020597</td>\n      <td>0.002580</td>\n      <td>0.0</td>\n      <td>1</td>\n    </tr>\n    <tr>\n      <th>4</th>\n      <td>0.278900</td>\n      <td>0.0</td>\n      <td>0.0</td>\n      <td>0.000000</td>\n      <td>0.160199</td>\n      <td>0.009740</td>\n      <td>0.134400</td>\n      <td>0.841197</td>\n      <td>0.000700</td>\n      <td>0.833333</td>\n      <td>...</td>\n      <td>0.049540</td>\n      <td>0.064444</td>\n      <td>0.003375</td>\n      <td>0.85715</td>\n      <td>0.032973</td>\n      <td>0.131737</td>\n      <td>0.020597</td>\n      <td>0.002613</td>\n      <td>1.0</td>\n      <td>1</td>\n    </tr>\n    <tr>\n      <th>...</th>\n      <td>...</td>\n      <td>...</td>\n      <td>...</td>\n      <td>...</td>\n      <td>...</td>\n      <td>...</td>\n      <td>...</td>\n      <td>...</td>\n      <td>...</td>\n      <td>...</td>\n      <td>...</td>\n      <td>...</td>\n      <td>...</td>\n      <td>...</td>\n      <td>...</td>\n      <td>...</td>\n      <td>...</td>\n      <td>...</td>\n      <td>...</td>\n      <td>...</td>\n      <td>...</td>\n    </tr>\n    <tr>\n      <th>743372</th>\n      <td>0.514214</td>\n      <td>0.0</td>\n      <td>0.0</td>\n      <td>0.000000</td>\n      <td>0.089995</td>\n      <td>0.019100</td>\n      <td>0.291681</td>\n      <td>0.440296</td>\n      <td>0.004814</td>\n      <td>0.333333</td>\n      <td>...</td>\n      <td>0.000000</td>\n      <td>0.000000</td>\n      <td>0.000000</td>\n      <td>0.00000</td>\n      <td>0.000000</td>\n      <td>0.000000</td>\n      <td>0.000000</td>\n      <td>0.000000</td>\n      <td>1.0</td>\n      <td>1</td>\n    </tr>\n    <tr>\n      <th>743373</th>\n      <td>0.405381</td>\n      <td>0.5</td>\n      <td>0.0</td>\n      <td>0.000105</td>\n      <td>0.249793</td>\n      <td>0.006139</td>\n      <td>0.116673</td>\n      <td>0.552868</td>\n      <td>0.002638</td>\n      <td>0.500000</td>\n      <td>...</td>\n      <td>0.112360</td>\n      <td>0.020824</td>\n      <td>0.005284</td>\n      <td>0.85000</td>\n      <td>0.042598</td>\n      <td>0.207764</td>\n      <td>0.020597</td>\n      <td>0.003336</td>\n      <td>1.0</td>\n      <td>1</td>\n    </tr>\n    <tr>\n      <th>743374</th>\n      <td>0.691027</td>\n      <td>0.5</td>\n      <td>0.0</td>\n      <td>0.000164</td>\n      <td>0.355698</td>\n      <td>0.003411</td>\n      <td>0.145841</td>\n      <td>0.869412</td>\n      <td>0.000890</td>\n      <td>0.666667</td>\n      <td>...</td>\n      <td>0.064070</td>\n      <td>0.030698</td>\n      <td>0.019815</td>\n      <td>0.92645</td>\n      <td>0.031424</td>\n      <td>0.221957</td>\n      <td>0.020597</td>\n      <td>0.004713</td>\n      <td>0.0</td>\n      <td>1</td>\n    </tr>\n    <tr>\n      <th>743375</th>\n      <td>0.712737</td>\n      <td>0.5</td>\n      <td>0.0</td>\n      <td>0.000000</td>\n      <td>0.231467</td>\n      <td>0.010914</td>\n      <td>0.291681</td>\n      <td>0.701853</td>\n      <td>0.000725</td>\n      <td>0.000000</td>\n      <td>...</td>\n      <td>0.039394</td>\n      <td>0.112085</td>\n      <td>0.000661</td>\n      <td>0.50000</td>\n      <td>0.040467</td>\n      <td>0.110831</td>\n      <td>0.112085</td>\n      <td>0.001517</td>\n      <td>1.0</td>\n      <td>1</td>\n    </tr>\n    <tr>\n      <th>743376</th>\n      <td>0.670764</td>\n      <td>0.0</td>\n      <td>0.0</td>\n      <td>0.000000</td>\n      <td>0.276833</td>\n      <td>0.004775</td>\n      <td>0.291681</td>\n      <td>0.615141</td>\n      <td>0.001187</td>\n      <td>0.000000</td>\n      <td>...</td>\n      <td>0.045928</td>\n      <td>0.059760</td>\n      <td>0.003303</td>\n      <td>0.90000</td>\n      <td>0.030159</td>\n      <td>0.125187</td>\n      <td>0.023433</td>\n      <td>0.003758</td>\n      <td>1.0</td>\n      <td>1</td>\n    </tr>\n  </tbody>\n</table>\n<p>743377 rows × 219 columns</p>\n</div>"
     },
     "execution_count": 4,
     "metadata": {},
     "output_type": "execute_result"
    }
   ],
   "source": [
    "combined_df"
   ],
   "metadata": {
    "collapsed": false,
    "ExecuteTime": {
     "end_time": "2023-08-27T17:59:47.313132Z",
     "start_time": "2023-08-27T17:59:46.638588Z"
    }
   }
  },
  {
   "cell_type": "code",
   "execution_count": 5,
   "outputs": [
    {
     "name": "stdout",
     "output_type": "stream",
     "text": [
      "106672\n",
      "636705\n"
     ]
    }
   ],
   "source": [
    "df_t_0 = combined_df[combined_df[\"target\"] == 0]\n",
    "df_t_1 = combined_df[combined_df[\"target\"] != 0]\n",
    "print(len(df_t_0))\n",
    "print(len(df_t_1))"
   ],
   "metadata": {
    "collapsed": false,
    "ExecuteTime": {
     "end_time": "2023-08-27T17:59:52.437160Z",
     "start_time": "2023-08-27T17:59:47.310699Z"
    }
   }
  },
  {
   "cell_type": "code",
   "execution_count": 6,
   "outputs": [],
   "source": [
    "df_t_1_sub = df_t_1.sample(n=len(df_t_0)+40000, random_state=42)"
   ],
   "metadata": {
    "collapsed": false,
    "ExecuteTime": {
     "end_time": "2023-08-27T17:59:53.590175Z",
     "start_time": "2023-08-27T17:59:52.465282Z"
    }
   }
  },
  {
   "cell_type": "code",
   "execution_count": 7,
   "outputs": [],
   "source": [
    "df = pd.concat([df_t_0, df_t_1_sub])"
   ],
   "metadata": {
    "collapsed": false,
    "ExecuteTime": {
     "end_time": "2023-08-27T17:59:54.662915Z",
     "start_time": "2023-08-27T17:59:53.595382Z"
    }
   }
  },
  {
   "cell_type": "code",
   "execution_count": 8,
   "outputs": [
    {
     "data": {
      "text/plain": "        feature_1  feature_2  feature_3  feature_4  feature_5  feature_6  \\\n22       0.661364        1.0        0.0   0.000120   0.310606   0.009740   \n23       0.672847        0.5        0.0   0.000131   0.327720   0.035065   \n36       0.728351        0.5        0.0   0.000068   0.245778   0.001299   \n67       0.575738        0.5        0.0   0.000000   0.259794   0.011688   \n72       0.505637        0.0        0.0        NaN   0.332217   0.001948   \n...           ...        ...        ...        ...        ...        ...   \n481599   0.292576        1.0        0.0   0.000018   0.168198   0.020464   \n720781   0.694510        0.0        0.0   0.000000   0.179634   0.009550   \n241030   0.507253        0.0        0.0   0.000000   0.362271   0.002597   \n291022   0.527133        0.5        0.0        NaN   0.360982   0.001299   \n465914   0.458544        0.5        0.0   0.000000   0.477519   0.011039   \n\n        feature_7  feature_8  feature_9  feature_10  ...  feature_210  \\\n22       0.180457   0.752510   0.001050    0.500000  ...     0.000000   \n23       0.685714   0.777475   0.003627    0.000000  ...     0.054111   \n36       0.571429   0.712884   0.000604    0.000000  ...     0.000000   \n67       0.228571   0.624854   0.000986    0.000000  ...     0.000000   \n72       0.380914   0.847067   0.001845    0.666667  ...     0.055426   \n...           ...        ...        ...         ...  ...          ...   \n481599   0.083304   0.803959   0.003001    0.250000  ...     0.172988   \n720781   0.388869   0.631386   0.000890    0.500000  ...     0.084434   \n241030   0.685714   0.867208   0.000000         NaN  ...     0.000000   \n291022   0.163314   0.731153   0.000000         NaN  ...     0.046753   \n465914   0.142857   0.707900   0.000000         NaN  ...     0.101371   \n\n        feature_211  feature_212  feature_213  feature_214  feature_215  \\\n22         0.000000     0.000000      0.00000     0.000000     0.000000   \n23         0.097624     0.005062      0.86365     0.033398     0.156841   \n36         0.000000     0.000000      0.00000     0.000000     0.000000   \n67         0.000000     0.000000      0.00000     0.000000     0.000000   \n72         0.058180     0.001687      0.75000     0.037872     0.134145   \n...             ...          ...          ...          ...          ...   \n481599     0.760848     0.003303      0.90000     0.059885     0.207358   \n720781     0.025336     0.001982      0.66665     0.047200     0.215947   \n241030     0.000000     0.000000      0.00000     0.000000     0.000000   \n291022     0.083066     0.001687      0.75000     0.035938     0.121019   \n465914     0.039443     0.002812      0.75000     0.053451     0.229532   \n\n       feature_216  feature_217  feature_218  target  \n22        0.000000     0.000000          1.0       0  \n23        0.025219     0.002243          0.0       0  \n36        0.000000     0.000000          1.0       0  \n67        0.000000     0.000000          0.0       0  \n72        0.020597     0.003380          0.0       0  \n...            ...          ...          ...     ...  \n481599    0.760849     0.000991          1.0       1  \n720781    0.020597     0.004197          0.0       1  \n241030    0.000000     0.000000          0.0       1  \n291022    0.068166     0.003442          1.0       1  \n465914    0.039443     0.003235          1.0       1  \n\n[253344 rows x 219 columns]",
      "text/html": "<div>\n<style scoped>\n    .dataframe tbody tr th:only-of-type {\n        vertical-align: middle;\n    }\n\n    .dataframe tbody tr th {\n        vertical-align: top;\n    }\n\n    .dataframe thead th {\n        text-align: right;\n    }\n</style>\n<table border=\"1\" class=\"dataframe\">\n  <thead>\n    <tr style=\"text-align: right;\">\n      <th></th>\n      <th>feature_1</th>\n      <th>feature_2</th>\n      <th>feature_3</th>\n      <th>feature_4</th>\n      <th>feature_5</th>\n      <th>feature_6</th>\n      <th>feature_7</th>\n      <th>feature_8</th>\n      <th>feature_9</th>\n      <th>feature_10</th>\n      <th>...</th>\n      <th>feature_210</th>\n      <th>feature_211</th>\n      <th>feature_212</th>\n      <th>feature_213</th>\n      <th>feature_214</th>\n      <th>feature_215</th>\n      <th>feature_216</th>\n      <th>feature_217</th>\n      <th>feature_218</th>\n      <th>target</th>\n    </tr>\n  </thead>\n  <tbody>\n    <tr>\n      <th>22</th>\n      <td>0.661364</td>\n      <td>1.0</td>\n      <td>0.0</td>\n      <td>0.000120</td>\n      <td>0.310606</td>\n      <td>0.009740</td>\n      <td>0.180457</td>\n      <td>0.752510</td>\n      <td>0.001050</td>\n      <td>0.500000</td>\n      <td>...</td>\n      <td>0.000000</td>\n      <td>0.000000</td>\n      <td>0.000000</td>\n      <td>0.00000</td>\n      <td>0.000000</td>\n      <td>0.000000</td>\n      <td>0.000000</td>\n      <td>0.000000</td>\n      <td>1.0</td>\n      <td>0</td>\n    </tr>\n    <tr>\n      <th>23</th>\n      <td>0.672847</td>\n      <td>0.5</td>\n      <td>0.0</td>\n      <td>0.000131</td>\n      <td>0.327720</td>\n      <td>0.035065</td>\n      <td>0.685714</td>\n      <td>0.777475</td>\n      <td>0.003627</td>\n      <td>0.000000</td>\n      <td>...</td>\n      <td>0.054111</td>\n      <td>0.097624</td>\n      <td>0.005062</td>\n      <td>0.86365</td>\n      <td>0.033398</td>\n      <td>0.156841</td>\n      <td>0.025219</td>\n      <td>0.002243</td>\n      <td>0.0</td>\n      <td>0</td>\n    </tr>\n    <tr>\n      <th>36</th>\n      <td>0.728351</td>\n      <td>0.5</td>\n      <td>0.0</td>\n      <td>0.000068</td>\n      <td>0.245778</td>\n      <td>0.001299</td>\n      <td>0.571429</td>\n      <td>0.712884</td>\n      <td>0.000604</td>\n      <td>0.000000</td>\n      <td>...</td>\n      <td>0.000000</td>\n      <td>0.000000</td>\n      <td>0.000000</td>\n      <td>0.00000</td>\n      <td>0.000000</td>\n      <td>0.000000</td>\n      <td>0.000000</td>\n      <td>0.000000</td>\n      <td>1.0</td>\n      <td>0</td>\n    </tr>\n    <tr>\n      <th>67</th>\n      <td>0.575738</td>\n      <td>0.5</td>\n      <td>0.0</td>\n      <td>0.000000</td>\n      <td>0.259794</td>\n      <td>0.011688</td>\n      <td>0.228571</td>\n      <td>0.624854</td>\n      <td>0.000986</td>\n      <td>0.000000</td>\n      <td>...</td>\n      <td>0.000000</td>\n      <td>0.000000</td>\n      <td>0.000000</td>\n      <td>0.00000</td>\n      <td>0.000000</td>\n      <td>0.000000</td>\n      <td>0.000000</td>\n      <td>0.000000</td>\n      <td>0.0</td>\n      <td>0</td>\n    </tr>\n    <tr>\n      <th>72</th>\n      <td>0.505637</td>\n      <td>0.0</td>\n      <td>0.0</td>\n      <td>NaN</td>\n      <td>0.332217</td>\n      <td>0.001948</td>\n      <td>0.380914</td>\n      <td>0.847067</td>\n      <td>0.001845</td>\n      <td>0.666667</td>\n      <td>...</td>\n      <td>0.055426</td>\n      <td>0.058180</td>\n      <td>0.001687</td>\n      <td>0.75000</td>\n      <td>0.037872</td>\n      <td>0.134145</td>\n      <td>0.020597</td>\n      <td>0.003380</td>\n      <td>0.0</td>\n      <td>0</td>\n    </tr>\n    <tr>\n      <th>...</th>\n      <td>...</td>\n      <td>...</td>\n      <td>...</td>\n      <td>...</td>\n      <td>...</td>\n      <td>...</td>\n      <td>...</td>\n      <td>...</td>\n      <td>...</td>\n      <td>...</td>\n      <td>...</td>\n      <td>...</td>\n      <td>...</td>\n      <td>...</td>\n      <td>...</td>\n      <td>...</td>\n      <td>...</td>\n      <td>...</td>\n      <td>...</td>\n      <td>...</td>\n      <td>...</td>\n    </tr>\n    <tr>\n      <th>481599</th>\n      <td>0.292576</td>\n      <td>1.0</td>\n      <td>0.0</td>\n      <td>0.000018</td>\n      <td>0.168198</td>\n      <td>0.020464</td>\n      <td>0.083304</td>\n      <td>0.803959</td>\n      <td>0.003001</td>\n      <td>0.250000</td>\n      <td>...</td>\n      <td>0.172988</td>\n      <td>0.760848</td>\n      <td>0.003303</td>\n      <td>0.90000</td>\n      <td>0.059885</td>\n      <td>0.207358</td>\n      <td>0.760849</td>\n      <td>0.000991</td>\n      <td>1.0</td>\n      <td>1</td>\n    </tr>\n    <tr>\n      <th>720781</th>\n      <td>0.694510</td>\n      <td>0.0</td>\n      <td>0.0</td>\n      <td>0.000000</td>\n      <td>0.179634</td>\n      <td>0.009550</td>\n      <td>0.388869</td>\n      <td>0.631386</td>\n      <td>0.000890</td>\n      <td>0.500000</td>\n      <td>...</td>\n      <td>0.084434</td>\n      <td>0.025336</td>\n      <td>0.001982</td>\n      <td>0.66665</td>\n      <td>0.047200</td>\n      <td>0.215947</td>\n      <td>0.020597</td>\n      <td>0.004197</td>\n      <td>0.0</td>\n      <td>1</td>\n    </tr>\n    <tr>\n      <th>241030</th>\n      <td>0.507253</td>\n      <td>0.0</td>\n      <td>0.0</td>\n      <td>0.000000</td>\n      <td>0.362271</td>\n      <td>0.002597</td>\n      <td>0.685714</td>\n      <td>0.867208</td>\n      <td>0.000000</td>\n      <td>NaN</td>\n      <td>...</td>\n      <td>0.000000</td>\n      <td>0.000000</td>\n      <td>0.000000</td>\n      <td>0.00000</td>\n      <td>0.000000</td>\n      <td>0.000000</td>\n      <td>0.000000</td>\n      <td>0.000000</td>\n      <td>0.0</td>\n      <td>1</td>\n    </tr>\n    <tr>\n      <th>291022</th>\n      <td>0.527133</td>\n      <td>0.5</td>\n      <td>0.0</td>\n      <td>NaN</td>\n      <td>0.360982</td>\n      <td>0.001299</td>\n      <td>0.163314</td>\n      <td>0.731153</td>\n      <td>0.000000</td>\n      <td>NaN</td>\n      <td>...</td>\n      <td>0.046753</td>\n      <td>0.083066</td>\n      <td>0.001687</td>\n      <td>0.75000</td>\n      <td>0.035938</td>\n      <td>0.121019</td>\n      <td>0.068166</td>\n      <td>0.003442</td>\n      <td>1.0</td>\n      <td>1</td>\n    </tr>\n    <tr>\n      <th>465914</th>\n      <td>0.458544</td>\n      <td>0.5</td>\n      <td>0.0</td>\n      <td>0.000000</td>\n      <td>0.477519</td>\n      <td>0.011039</td>\n      <td>0.142857</td>\n      <td>0.707900</td>\n      <td>0.000000</td>\n      <td>NaN</td>\n      <td>...</td>\n      <td>0.101371</td>\n      <td>0.039443</td>\n      <td>0.002812</td>\n      <td>0.75000</td>\n      <td>0.053451</td>\n      <td>0.229532</td>\n      <td>0.039443</td>\n      <td>0.003235</td>\n      <td>1.0</td>\n      <td>1</td>\n    </tr>\n  </tbody>\n</table>\n<p>253344 rows × 219 columns</p>\n</div>"
     },
     "execution_count": 8,
     "metadata": {},
     "output_type": "execute_result"
    }
   ],
   "source": [
    "df"
   ],
   "metadata": {
    "collapsed": false,
    "ExecuteTime": {
     "end_time": "2023-08-27T17:59:54.823535Z",
     "start_time": "2023-08-27T17:59:54.702599Z"
    }
   }
  },
  {
   "cell_type": "code",
   "execution_count": 9,
   "outputs": [
    {
     "data": {
      "text/plain": "target\n1    146672\n0    106672\nName: count, dtype: int64"
     },
     "execution_count": 9,
     "metadata": {},
     "output_type": "execute_result"
    }
   ],
   "source": [
    "df[\"target\"].value_counts()"
   ],
   "metadata": {
    "collapsed": false,
    "ExecuteTime": {
     "end_time": "2023-08-27T17:59:54.885792Z",
     "start_time": "2023-08-27T17:59:54.845773Z"
    }
   }
  },
  {
   "cell_type": "code",
   "execution_count": 10,
   "outputs": [],
   "source": [
    "df = df.drop([\"feature_148\"], axis=1)"
   ],
   "metadata": {
    "collapsed": false,
    "ExecuteTime": {
     "end_time": "2023-08-27T18:00:04.182040Z",
     "start_time": "2023-08-27T18:00:03.007999Z"
    }
   }
  },
  {
   "cell_type": "code",
   "execution_count": 11,
   "outputs": [
    {
     "data": {
      "text/plain": "feature_1          0\nfeature_2          1\nfeature_3        344\nfeature_4      19156\nfeature_5          0\n               ...  \nfeature_215        3\nfeature_216        3\nfeature_217        3\nfeature_218      344\ntarget             0\nLength: 218, dtype: int64"
     },
     "execution_count": 11,
     "metadata": {},
     "output_type": "execute_result"
    }
   ],
   "source": [
    "df.isna().sum()"
   ],
   "metadata": {
    "collapsed": false,
    "ExecuteTime": {
     "end_time": "2023-08-27T18:00:07.854815Z",
     "start_time": "2023-08-27T18:00:07.698387Z"
    }
   }
  },
  {
   "cell_type": "code",
   "execution_count": 12,
   "outputs": [],
   "source": [
    "null_counts = df.isnull().sum()\n",
    "columns_with_many_nulls = null_counts[null_counts > 18000].index.tolist()"
   ],
   "metadata": {
    "collapsed": false,
    "ExecuteTime": {
     "end_time": "2023-08-27T18:00:13.686159Z",
     "start_time": "2023-08-27T18:00:13.544931Z"
    }
   }
  },
  {
   "cell_type": "code",
   "execution_count": 13,
   "outputs": [
    {
     "data": {
      "text/plain": "['feature_4',\n 'feature_15',\n 'feature_90',\n 'feature_91',\n 'feature_92',\n 'feature_119',\n 'feature_131',\n 'feature_132',\n 'feature_133',\n 'feature_134',\n 'feature_139',\n 'feature_149',\n 'feature_151',\n 'feature_153',\n 'feature_154',\n 'feature_169',\n 'feature_170',\n 'feature_172',\n 'feature_173',\n 'feature_174',\n 'feature_175',\n 'feature_176',\n 'feature_177',\n 'feature_178',\n 'feature_179',\n 'feature_180',\n 'feature_181',\n 'feature_182',\n 'feature_183',\n 'feature_184',\n 'feature_185',\n 'feature_186',\n 'feature_188',\n 'feature_190']"
     },
     "execution_count": 13,
     "metadata": {},
     "output_type": "execute_result"
    }
   ],
   "source": [
    "columns_with_many_nulls"
   ],
   "metadata": {
    "collapsed": false,
    "ExecuteTime": {
     "end_time": "2023-08-27T18:00:15.857551Z",
     "start_time": "2023-08-27T18:00:15.838789Z"
    }
   }
  },
  {
   "cell_type": "code",
   "execution_count": 14,
   "outputs": [],
   "source": [
    "df = df.drop(columns_with_many_nulls, axis=1)"
   ],
   "metadata": {
    "collapsed": false,
    "ExecuteTime": {
     "end_time": "2023-08-27T18:00:17.261817Z",
     "start_time": "2023-08-27T18:00:16.561139Z"
    }
   }
  },
  {
   "cell_type": "code",
   "execution_count": 15,
   "outputs": [],
   "source": [
    "X = df.drop(\"target\", axis=1)\n",
    "y = df[\"target\"].copy()"
   ],
   "metadata": {
    "collapsed": false,
    "ExecuteTime": {
     "end_time": "2023-08-27T18:00:19.162887Z",
     "start_time": "2023-08-27T18:00:18.672730Z"
    }
   }
  },
  {
   "cell_type": "code",
   "execution_count": 16,
   "outputs": [],
   "source": [
    "column_data_types = X.dtypes\n",
    "category_columns = column_data_types[column_data_types == 'category'].index.tolist()\n",
    "\n",
    "X_category = X[category_columns].copy()\n",
    "X_numeric = X.drop(category_columns, axis=1)"
   ],
   "metadata": {
    "collapsed": false,
    "ExecuteTime": {
     "end_time": "2023-08-27T18:00:21.817389Z",
     "start_time": "2023-08-27T18:00:21.458857Z"
    }
   }
  },
  {
   "cell_type": "code",
   "execution_count": 17,
   "outputs": [],
   "source": [
    "#Null values are padded\n",
    "numeric_imputer = SimpleImputer(strategy='median')\n",
    "X_numeric_padded = numeric_imputer.fit_transform(X_numeric)"
   ],
   "metadata": {
    "collapsed": false,
    "ExecuteTime": {
     "end_time": "2023-08-27T18:00:38.839963Z",
     "start_time": "2023-08-27T18:00:23.492631Z"
    }
   }
  },
  {
   "cell_type": "code",
   "execution_count": 18,
   "outputs": [],
   "source": [
    "#Null values are padded\n",
    "category_imputer = SimpleImputer(strategy='most_frequent')\n",
    "X_category_padded = category_imputer.fit_transform(X_category)"
   ],
   "metadata": {
    "collapsed": false,
    "ExecuteTime": {
     "end_time": "2023-08-27T18:00:39.762753Z",
     "start_time": "2023-08-27T18:00:38.877287Z"
    }
   }
  },
  {
   "cell_type": "code",
   "execution_count": 19,
   "outputs": [],
   "source": [
    "X_numeric_df = pd.DataFrame(X_numeric_padded, columns=X_numeric.columns, index=y.index)\n",
    "X_category_df = pd.DataFrame(X_category_padded, columns=X_category.columns, index=y.index)"
   ],
   "metadata": {
    "collapsed": false,
    "ExecuteTime": {
     "end_time": "2023-08-27T18:00:49.531561Z",
     "start_time": "2023-08-27T18:00:49.514414Z"
    }
   }
  },
  {
   "cell_type": "code",
   "execution_count": 20,
   "outputs": [],
   "source": [
    "#Encoding category features\n",
    "X_category_encoded = pd.DataFrame(index=y.index)\n",
    "\n",
    "encoders = {}\n",
    "\n",
    "for column in X_category_df.columns:\n",
    "    encoder = LabelEncoder()\n",
    "    X_category_encoded[column] = encoder.fit_transform(X_category_df[column])\n",
    "    encoders[column] = encoder"
   ],
   "metadata": {
    "collapsed": false,
    "ExecuteTime": {
     "end_time": "2023-08-27T18:00:52.934526Z",
     "start_time": "2023-08-27T18:00:52.288358Z"
    }
   }
  },
  {
   "cell_type": "code",
   "execution_count": 21,
   "outputs": [],
   "source": [
    "X_processed = pd.concat([X_numeric_df, X_category_encoded], axis=1)"
   ],
   "metadata": {
    "collapsed": false,
    "ExecuteTime": {
     "end_time": "2023-08-27T18:00:57.051323Z",
     "start_time": "2023-08-27T18:00:56.533359Z"
    }
   }
  },
  {
   "cell_type": "code",
   "execution_count": 22,
   "outputs": [
    {
     "data": {
      "text/plain": "feature_1      0\nfeature_2      0\nfeature_3      0\nfeature_5      0\nfeature_6      0\n              ..\nfeature_144    0\nfeature_147    0\nfeature_158    0\nfeature_159    0\nfeature_195    0\nLength: 183, dtype: int64"
     },
     "execution_count": 22,
     "metadata": {},
     "output_type": "execute_result"
    }
   ],
   "source": [
    "X_processed.isna().sum()"
   ],
   "metadata": {
    "collapsed": false,
    "ExecuteTime": {
     "end_time": "2023-08-27T18:00:58.845175Z",
     "start_time": "2023-08-27T18:00:58.718324Z"
    }
   }
  },
  {
   "cell_type": "code",
   "execution_count": 23,
   "outputs": [],
   "source": [
    "#Scale data\n",
    "scaler = RobustScaler()\n",
    "scaled_data = scaler.fit_transform(X_processed.copy())\n",
    "X_scaled = pd.DataFrame(scaled_data, columns=X_processed.columns, index=y.index)"
   ],
   "metadata": {
    "collapsed": false,
    "ExecuteTime": {
     "end_time": "2023-08-27T18:01:31.021396Z",
     "start_time": "2023-08-27T18:01:25.439799Z"
    }
   }
  },
  {
   "cell_type": "code",
   "execution_count": 24,
   "outputs": [],
   "source": [
    "data = pd.concat([X_scaled, y], axis=1)"
   ],
   "metadata": {
    "collapsed": false,
    "ExecuteTime": {
     "end_time": "2023-08-27T18:01:32.754251Z",
     "start_time": "2023-08-27T18:01:32.116647Z"
    }
   }
  },
  {
   "cell_type": "code",
   "execution_count": 25,
   "outputs": [
    {
     "data": {
      "text/plain": "feature_1      0\nfeature_2      0\nfeature_3      0\nfeature_5      0\nfeature_6      0\n              ..\nfeature_147    0\nfeature_158    0\nfeature_159    0\nfeature_195    0\ntarget         0\nLength: 184, dtype: int64"
     },
     "execution_count": 25,
     "metadata": {},
     "output_type": "execute_result"
    }
   ],
   "source": [
    "data.isna().sum()"
   ],
   "metadata": {
    "collapsed": false,
    "ExecuteTime": {
     "end_time": "2023-08-27T18:01:34.531220Z",
     "start_time": "2023-08-27T18:01:34.306852Z"
    }
   }
  },
  {
   "cell_type": "code",
   "execution_count": 26,
   "outputs": [
    {
     "data": {
      "text/plain": "        feature_1  feature_2  feature_3  feature_5  feature_6  feature_7  \\\n22       0.975499        1.0        0.0   0.220813   0.208333  -0.311070   \n23       1.056871        0.0        0.0   0.331827   1.833333   2.660698   \n36       1.450197        0.0        0.0  -0.199704  -0.333333   1.988504   \n67       0.368725        0.0        0.0  -0.108786   0.333333  -0.028077   \n72      -0.128034       -1.0        0.0   0.361002  -0.291667   0.867957   \n...           ...        ...        ...        ...        ...        ...   \n481599  -1.637860        1.0        0.0  -0.702940   0.896430  -0.882494   \n720781   1.210387       -1.0        0.0  -0.628763   0.196112   0.914747   \n241030  -0.116581       -1.0        0.0   0.555950  -0.250000   2.660698   \n291022   0.024294        0.0        0.0   0.547588  -0.333333  -0.411899   \n465914  -0.461754        0.0        0.0   1.303531   0.291667  -0.532222   \n\n        feature_8  feature_9  feature_10  feature_11  ...  feature_218  \\\n22       0.063563  -0.080829        0.00   -0.081081  ...          0.0   \n23       0.226794   2.101560       -1.50    2.108108  ...         -1.0   \n36      -0.195528  -0.458032       -1.50   -0.459459  ...          0.0   \n67      -0.771109  -0.134715       -1.50   -0.135135  ...         -1.0   \n72       0.681819   0.592748        0.50    0.594595  ...         -1.0   \n...           ...        ...         ...         ...  ...          ...   \n481599   0.399961   1.571288       -0.75    1.519748  ...          0.0   \n720781  -0.728401  -0.215957        0.00   -0.216754  ...         -1.0   \n241030   0.813509  -0.969951        0.00   -0.972973  ...         -1.0   \n291022  -0.076080  -0.969951        0.00   -0.972973  ...          0.0   \n465914  -0.228120  -0.969951        0.00   -0.972973  ...          0.0   \n\n        feature_17  feature_87  feature_118  feature_144  feature_147  \\\n22             4.0         1.0          0.0          0.0          0.0   \n23             1.0        -1.0         -1.0         -1.0         -1.0   \n36             3.0         0.0          0.0          0.0          0.5   \n67             0.0         0.0          0.0         -0.5          1.0   \n72             0.0         0.0          0.0          0.0         -0.5   \n...            ...         ...          ...          ...          ...   \n481599         0.0         0.0          0.0          0.0          1.0   \n720781         0.0         1.0          0.0          0.0         -1.5   \n241030        -3.0        -1.0         -1.0          0.0         -1.5   \n291022        -1.0         0.0         -1.0          0.0         -1.5   \n465914        -3.0         0.0         -1.0         -1.0         -1.5   \n\n        feature_158  feature_159  feature_195  target  \n22             0.50     0.500000          2.0       0  \n23             0.75    -0.333333          0.0       0  \n36             0.75     0.500000          2.0       0  \n67            -0.75    -0.500000          3.0       0  \n72            -0.50    -1.000000         -1.0       0  \n...             ...          ...          ...     ...  \n481599         0.75     0.500000          0.0       1  \n720781         0.50     1.333333         -1.0       1  \n241030        -0.50    -0.166667          3.0       1  \n291022        -0.25     1.000000          0.0       1  \n465914        -0.75     1.000000          0.0       1  \n\n[253344 rows x 184 columns]",
      "text/html": "<div>\n<style scoped>\n    .dataframe tbody tr th:only-of-type {\n        vertical-align: middle;\n    }\n\n    .dataframe tbody tr th {\n        vertical-align: top;\n    }\n\n    .dataframe thead th {\n        text-align: right;\n    }\n</style>\n<table border=\"1\" class=\"dataframe\">\n  <thead>\n    <tr style=\"text-align: right;\">\n      <th></th>\n      <th>feature_1</th>\n      <th>feature_2</th>\n      <th>feature_3</th>\n      <th>feature_5</th>\n      <th>feature_6</th>\n      <th>feature_7</th>\n      <th>feature_8</th>\n      <th>feature_9</th>\n      <th>feature_10</th>\n      <th>feature_11</th>\n      <th>...</th>\n      <th>feature_218</th>\n      <th>feature_17</th>\n      <th>feature_87</th>\n      <th>feature_118</th>\n      <th>feature_144</th>\n      <th>feature_147</th>\n      <th>feature_158</th>\n      <th>feature_159</th>\n      <th>feature_195</th>\n      <th>target</th>\n    </tr>\n  </thead>\n  <tbody>\n    <tr>\n      <th>22</th>\n      <td>0.975499</td>\n      <td>1.0</td>\n      <td>0.0</td>\n      <td>0.220813</td>\n      <td>0.208333</td>\n      <td>-0.311070</td>\n      <td>0.063563</td>\n      <td>-0.080829</td>\n      <td>0.00</td>\n      <td>-0.081081</td>\n      <td>...</td>\n      <td>0.0</td>\n      <td>4.0</td>\n      <td>1.0</td>\n      <td>0.0</td>\n      <td>0.0</td>\n      <td>0.0</td>\n      <td>0.50</td>\n      <td>0.500000</td>\n      <td>2.0</td>\n      <td>0</td>\n    </tr>\n    <tr>\n      <th>23</th>\n      <td>1.056871</td>\n      <td>0.0</td>\n      <td>0.0</td>\n      <td>0.331827</td>\n      <td>1.833333</td>\n      <td>2.660698</td>\n      <td>0.226794</td>\n      <td>2.101560</td>\n      <td>-1.50</td>\n      <td>2.108108</td>\n      <td>...</td>\n      <td>-1.0</td>\n      <td>1.0</td>\n      <td>-1.0</td>\n      <td>-1.0</td>\n      <td>-1.0</td>\n      <td>-1.0</td>\n      <td>0.75</td>\n      <td>-0.333333</td>\n      <td>0.0</td>\n      <td>0</td>\n    </tr>\n    <tr>\n      <th>36</th>\n      <td>1.450197</td>\n      <td>0.0</td>\n      <td>0.0</td>\n      <td>-0.199704</td>\n      <td>-0.333333</td>\n      <td>1.988504</td>\n      <td>-0.195528</td>\n      <td>-0.458032</td>\n      <td>-1.50</td>\n      <td>-0.459459</td>\n      <td>...</td>\n      <td>0.0</td>\n      <td>3.0</td>\n      <td>0.0</td>\n      <td>0.0</td>\n      <td>0.0</td>\n      <td>0.5</td>\n      <td>0.75</td>\n      <td>0.500000</td>\n      <td>2.0</td>\n      <td>0</td>\n    </tr>\n    <tr>\n      <th>67</th>\n      <td>0.368725</td>\n      <td>0.0</td>\n      <td>0.0</td>\n      <td>-0.108786</td>\n      <td>0.333333</td>\n      <td>-0.028077</td>\n      <td>-0.771109</td>\n      <td>-0.134715</td>\n      <td>-1.50</td>\n      <td>-0.135135</td>\n      <td>...</td>\n      <td>-1.0</td>\n      <td>0.0</td>\n      <td>0.0</td>\n      <td>0.0</td>\n      <td>-0.5</td>\n      <td>1.0</td>\n      <td>-0.75</td>\n      <td>-0.500000</td>\n      <td>3.0</td>\n      <td>0</td>\n    </tr>\n    <tr>\n      <th>72</th>\n      <td>-0.128034</td>\n      <td>-1.0</td>\n      <td>0.0</td>\n      <td>0.361002</td>\n      <td>-0.291667</td>\n      <td>0.867957</td>\n      <td>0.681819</td>\n      <td>0.592748</td>\n      <td>0.50</td>\n      <td>0.594595</td>\n      <td>...</td>\n      <td>-1.0</td>\n      <td>0.0</td>\n      <td>0.0</td>\n      <td>0.0</td>\n      <td>0.0</td>\n      <td>-0.5</td>\n      <td>-0.50</td>\n      <td>-1.000000</td>\n      <td>-1.0</td>\n      <td>0</td>\n    </tr>\n    <tr>\n      <th>...</th>\n      <td>...</td>\n      <td>...</td>\n      <td>...</td>\n      <td>...</td>\n      <td>...</td>\n      <td>...</td>\n      <td>...</td>\n      <td>...</td>\n      <td>...</td>\n      <td>...</td>\n      <td>...</td>\n      <td>...</td>\n      <td>...</td>\n      <td>...</td>\n      <td>...</td>\n      <td>...</td>\n      <td>...</td>\n      <td>...</td>\n      <td>...</td>\n      <td>...</td>\n      <td>...</td>\n    </tr>\n    <tr>\n      <th>481599</th>\n      <td>-1.637860</td>\n      <td>1.0</td>\n      <td>0.0</td>\n      <td>-0.702940</td>\n      <td>0.896430</td>\n      <td>-0.882494</td>\n      <td>0.399961</td>\n      <td>1.571288</td>\n      <td>-0.75</td>\n      <td>1.519748</td>\n      <td>...</td>\n      <td>0.0</td>\n      <td>0.0</td>\n      <td>0.0</td>\n      <td>0.0</td>\n      <td>0.0</td>\n      <td>1.0</td>\n      <td>0.75</td>\n      <td>0.500000</td>\n      <td>0.0</td>\n      <td>1</td>\n    </tr>\n    <tr>\n      <th>720781</th>\n      <td>1.210387</td>\n      <td>-1.0</td>\n      <td>0.0</td>\n      <td>-0.628763</td>\n      <td>0.196112</td>\n      <td>0.914747</td>\n      <td>-0.728401</td>\n      <td>-0.215957</td>\n      <td>0.00</td>\n      <td>-0.216754</td>\n      <td>...</td>\n      <td>-1.0</td>\n      <td>0.0</td>\n      <td>1.0</td>\n      <td>0.0</td>\n      <td>0.0</td>\n      <td>-1.5</td>\n      <td>0.50</td>\n      <td>1.333333</td>\n      <td>-1.0</td>\n      <td>1</td>\n    </tr>\n    <tr>\n      <th>241030</th>\n      <td>-0.116581</td>\n      <td>-1.0</td>\n      <td>0.0</td>\n      <td>0.555950</td>\n      <td>-0.250000</td>\n      <td>2.660698</td>\n      <td>0.813509</td>\n      <td>-0.969951</td>\n      <td>0.00</td>\n      <td>-0.972973</td>\n      <td>...</td>\n      <td>-1.0</td>\n      <td>-3.0</td>\n      <td>-1.0</td>\n      <td>-1.0</td>\n      <td>0.0</td>\n      <td>-1.5</td>\n      <td>-0.50</td>\n      <td>-0.166667</td>\n      <td>3.0</td>\n      <td>1</td>\n    </tr>\n    <tr>\n      <th>291022</th>\n      <td>0.024294</td>\n      <td>0.0</td>\n      <td>0.0</td>\n      <td>0.547588</td>\n      <td>-0.333333</td>\n      <td>-0.411899</td>\n      <td>-0.076080</td>\n      <td>-0.969951</td>\n      <td>0.00</td>\n      <td>-0.972973</td>\n      <td>...</td>\n      <td>0.0</td>\n      <td>-1.0</td>\n      <td>0.0</td>\n      <td>-1.0</td>\n      <td>0.0</td>\n      <td>-1.5</td>\n      <td>-0.25</td>\n      <td>1.000000</td>\n      <td>0.0</td>\n      <td>1</td>\n    </tr>\n    <tr>\n      <th>465914</th>\n      <td>-0.461754</td>\n      <td>0.0</td>\n      <td>0.0</td>\n      <td>1.303531</td>\n      <td>0.291667</td>\n      <td>-0.532222</td>\n      <td>-0.228120</td>\n      <td>-0.969951</td>\n      <td>0.00</td>\n      <td>-0.972973</td>\n      <td>...</td>\n      <td>0.0</td>\n      <td>-3.0</td>\n      <td>0.0</td>\n      <td>-1.0</td>\n      <td>-1.0</td>\n      <td>-1.5</td>\n      <td>-0.75</td>\n      <td>1.000000</td>\n      <td>0.0</td>\n      <td>1</td>\n    </tr>\n  </tbody>\n</table>\n<p>253344 rows × 184 columns</p>\n</div>"
     },
     "execution_count": 26,
     "metadata": {},
     "output_type": "execute_result"
    }
   ],
   "source": [
    "data"
   ],
   "metadata": {
    "collapsed": false,
    "ExecuteTime": {
     "end_time": "2023-08-27T18:01:49.183154Z",
     "start_time": "2023-08-27T18:01:49.050839Z"
    }
   }
  },
  {
   "cell_type": "code",
   "execution_count": 27,
   "outputs": [],
   "source": [
    "#Save the transformers\n",
    "EXPORT_PATH = \"../../exports/\"\n",
    "\n",
    "with open(EXPORT_PATH+'category_label_encoders_extended.pkl', 'wb') as f:\n",
    "    pickle.dump(encoders, f)\n",
    "\n",
    "with open(EXPORT_PATH+'category_imputer_extended.pkl', 'wb') as f:\n",
    "    pickle.dump(category_imputer, f)\n",
    "\n",
    "with open(EXPORT_PATH+'numeric_imputer_extended.pkl', 'wb') as f:\n",
    "    pickle.dump(numeric_imputer, f)\n",
    "\n",
    "with open(EXPORT_PATH+'scaler_extended.pkl', 'wb') as f:\n",
    "    pickle.dump(scaler, f)"
   ],
   "metadata": {
    "collapsed": false,
    "ExecuteTime": {
     "end_time": "2023-08-27T18:04:02.195536Z",
     "start_time": "2023-08-27T18:04:02.100643Z"
    }
   }
  },
  {
   "cell_type": "code",
   "execution_count": 28,
   "outputs": [],
   "source": [
    "data.to_pickle(\"../../data/processed/final/scaled_extended_data.pkt\")"
   ],
   "metadata": {
    "collapsed": false,
    "ExecuteTime": {
     "end_time": "2023-08-27T18:04:18.217122Z",
     "start_time": "2023-08-27T18:04:16.867356Z"
    }
   }
  },
  {
   "cell_type": "code",
   "execution_count": 29,
   "outputs": [
    {
     "data": {
      "text/plain": "        feature_1  feature_2  feature_3  feature_5  feature_6  feature_7  \\\n22       0.975499        1.0        0.0   0.220813   0.208333  -0.311070   \n23       1.056871        0.0        0.0   0.331827   1.833333   2.660698   \n36       1.450197        0.0        0.0  -0.199704  -0.333333   1.988504   \n67       0.368725        0.0        0.0  -0.108786   0.333333  -0.028077   \n72      -0.128034       -1.0        0.0   0.361002  -0.291667   0.867957   \n...           ...        ...        ...        ...        ...        ...   \n481599  -1.637860        1.0        0.0  -0.702940   0.896430  -0.882494   \n720781   1.210387       -1.0        0.0  -0.628763   0.196112   0.914747   \n241030  -0.116581       -1.0        0.0   0.555950  -0.250000   2.660698   \n291022   0.024294        0.0        0.0   0.547588  -0.333333  -0.411899   \n465914  -0.461754        0.0        0.0   1.303531   0.291667  -0.532222   \n\n        feature_8  feature_9  feature_10  feature_11  ...  feature_218  \\\n22       0.063563  -0.080829        0.00   -0.081081  ...          0.0   \n23       0.226794   2.101560       -1.50    2.108108  ...         -1.0   \n36      -0.195528  -0.458032       -1.50   -0.459459  ...          0.0   \n67      -0.771109  -0.134715       -1.50   -0.135135  ...         -1.0   \n72       0.681819   0.592748        0.50    0.594595  ...         -1.0   \n...           ...        ...         ...         ...  ...          ...   \n481599   0.399961   1.571288       -0.75    1.519748  ...          0.0   \n720781  -0.728401  -0.215957        0.00   -0.216754  ...         -1.0   \n241030   0.813509  -0.969951        0.00   -0.972973  ...         -1.0   \n291022  -0.076080  -0.969951        0.00   -0.972973  ...          0.0   \n465914  -0.228120  -0.969951        0.00   -0.972973  ...          0.0   \n\n        feature_17  feature_87  feature_118  feature_144  feature_147  \\\n22             4.0         1.0          0.0          0.0          0.0   \n23             1.0        -1.0         -1.0         -1.0         -1.0   \n36             3.0         0.0          0.0          0.0          0.5   \n67             0.0         0.0          0.0         -0.5          1.0   \n72             0.0         0.0          0.0          0.0         -0.5   \n...            ...         ...          ...          ...          ...   \n481599         0.0         0.0          0.0          0.0          1.0   \n720781         0.0         1.0          0.0          0.0         -1.5   \n241030        -3.0        -1.0         -1.0          0.0         -1.5   \n291022        -1.0         0.0         -1.0          0.0         -1.5   \n465914        -3.0         0.0         -1.0         -1.0         -1.5   \n\n        feature_158  feature_159  feature_195  target  \n22             0.50     0.500000          2.0       0  \n23             0.75    -0.333333          0.0       0  \n36             0.75     0.500000          2.0       0  \n67            -0.75    -0.500000          3.0       0  \n72            -0.50    -1.000000         -1.0       0  \n...             ...          ...          ...     ...  \n481599         0.75     0.500000          0.0       1  \n720781         0.50     1.333333         -1.0       1  \n241030        -0.50    -0.166667          3.0       1  \n291022        -0.25     1.000000          0.0       1  \n465914        -0.75     1.000000          0.0       1  \n\n[253344 rows x 184 columns]",
      "text/html": "<div>\n<style scoped>\n    .dataframe tbody tr th:only-of-type {\n        vertical-align: middle;\n    }\n\n    .dataframe tbody tr th {\n        vertical-align: top;\n    }\n\n    .dataframe thead th {\n        text-align: right;\n    }\n</style>\n<table border=\"1\" class=\"dataframe\">\n  <thead>\n    <tr style=\"text-align: right;\">\n      <th></th>\n      <th>feature_1</th>\n      <th>feature_2</th>\n      <th>feature_3</th>\n      <th>feature_5</th>\n      <th>feature_6</th>\n      <th>feature_7</th>\n      <th>feature_8</th>\n      <th>feature_9</th>\n      <th>feature_10</th>\n      <th>feature_11</th>\n      <th>...</th>\n      <th>feature_218</th>\n      <th>feature_17</th>\n      <th>feature_87</th>\n      <th>feature_118</th>\n      <th>feature_144</th>\n      <th>feature_147</th>\n      <th>feature_158</th>\n      <th>feature_159</th>\n      <th>feature_195</th>\n      <th>target</th>\n    </tr>\n  </thead>\n  <tbody>\n    <tr>\n      <th>22</th>\n      <td>0.975499</td>\n      <td>1.0</td>\n      <td>0.0</td>\n      <td>0.220813</td>\n      <td>0.208333</td>\n      <td>-0.311070</td>\n      <td>0.063563</td>\n      <td>-0.080829</td>\n      <td>0.00</td>\n      <td>-0.081081</td>\n      <td>...</td>\n      <td>0.0</td>\n      <td>4.0</td>\n      <td>1.0</td>\n      <td>0.0</td>\n      <td>0.0</td>\n      <td>0.0</td>\n      <td>0.50</td>\n      <td>0.500000</td>\n      <td>2.0</td>\n      <td>0</td>\n    </tr>\n    <tr>\n      <th>23</th>\n      <td>1.056871</td>\n      <td>0.0</td>\n      <td>0.0</td>\n      <td>0.331827</td>\n      <td>1.833333</td>\n      <td>2.660698</td>\n      <td>0.226794</td>\n      <td>2.101560</td>\n      <td>-1.50</td>\n      <td>2.108108</td>\n      <td>...</td>\n      <td>-1.0</td>\n      <td>1.0</td>\n      <td>-1.0</td>\n      <td>-1.0</td>\n      <td>-1.0</td>\n      <td>-1.0</td>\n      <td>0.75</td>\n      <td>-0.333333</td>\n      <td>0.0</td>\n      <td>0</td>\n    </tr>\n    <tr>\n      <th>36</th>\n      <td>1.450197</td>\n      <td>0.0</td>\n      <td>0.0</td>\n      <td>-0.199704</td>\n      <td>-0.333333</td>\n      <td>1.988504</td>\n      <td>-0.195528</td>\n      <td>-0.458032</td>\n      <td>-1.50</td>\n      <td>-0.459459</td>\n      <td>...</td>\n      <td>0.0</td>\n      <td>3.0</td>\n      <td>0.0</td>\n      <td>0.0</td>\n      <td>0.0</td>\n      <td>0.5</td>\n      <td>0.75</td>\n      <td>0.500000</td>\n      <td>2.0</td>\n      <td>0</td>\n    </tr>\n    <tr>\n      <th>67</th>\n      <td>0.368725</td>\n      <td>0.0</td>\n      <td>0.0</td>\n      <td>-0.108786</td>\n      <td>0.333333</td>\n      <td>-0.028077</td>\n      <td>-0.771109</td>\n      <td>-0.134715</td>\n      <td>-1.50</td>\n      <td>-0.135135</td>\n      <td>...</td>\n      <td>-1.0</td>\n      <td>0.0</td>\n      <td>0.0</td>\n      <td>0.0</td>\n      <td>-0.5</td>\n      <td>1.0</td>\n      <td>-0.75</td>\n      <td>-0.500000</td>\n      <td>3.0</td>\n      <td>0</td>\n    </tr>\n    <tr>\n      <th>72</th>\n      <td>-0.128034</td>\n      <td>-1.0</td>\n      <td>0.0</td>\n      <td>0.361002</td>\n      <td>-0.291667</td>\n      <td>0.867957</td>\n      <td>0.681819</td>\n      <td>0.592748</td>\n      <td>0.50</td>\n      <td>0.594595</td>\n      <td>...</td>\n      <td>-1.0</td>\n      <td>0.0</td>\n      <td>0.0</td>\n      <td>0.0</td>\n      <td>0.0</td>\n      <td>-0.5</td>\n      <td>-0.50</td>\n      <td>-1.000000</td>\n      <td>-1.0</td>\n      <td>0</td>\n    </tr>\n    <tr>\n      <th>...</th>\n      <td>...</td>\n      <td>...</td>\n      <td>...</td>\n      <td>...</td>\n      <td>...</td>\n      <td>...</td>\n      <td>...</td>\n      <td>...</td>\n      <td>...</td>\n      <td>...</td>\n      <td>...</td>\n      <td>...</td>\n      <td>...</td>\n      <td>...</td>\n      <td>...</td>\n      <td>...</td>\n      <td>...</td>\n      <td>...</td>\n      <td>...</td>\n      <td>...</td>\n      <td>...</td>\n    </tr>\n    <tr>\n      <th>481599</th>\n      <td>-1.637860</td>\n      <td>1.0</td>\n      <td>0.0</td>\n      <td>-0.702940</td>\n      <td>0.896430</td>\n      <td>-0.882494</td>\n      <td>0.399961</td>\n      <td>1.571288</td>\n      <td>-0.75</td>\n      <td>1.519748</td>\n      <td>...</td>\n      <td>0.0</td>\n      <td>0.0</td>\n      <td>0.0</td>\n      <td>0.0</td>\n      <td>0.0</td>\n      <td>1.0</td>\n      <td>0.75</td>\n      <td>0.500000</td>\n      <td>0.0</td>\n      <td>1</td>\n    </tr>\n    <tr>\n      <th>720781</th>\n      <td>1.210387</td>\n      <td>-1.0</td>\n      <td>0.0</td>\n      <td>-0.628763</td>\n      <td>0.196112</td>\n      <td>0.914747</td>\n      <td>-0.728401</td>\n      <td>-0.215957</td>\n      <td>0.00</td>\n      <td>-0.216754</td>\n      <td>...</td>\n      <td>-1.0</td>\n      <td>0.0</td>\n      <td>1.0</td>\n      <td>0.0</td>\n      <td>0.0</td>\n      <td>-1.5</td>\n      <td>0.50</td>\n      <td>1.333333</td>\n      <td>-1.0</td>\n      <td>1</td>\n    </tr>\n    <tr>\n      <th>241030</th>\n      <td>-0.116581</td>\n      <td>-1.0</td>\n      <td>0.0</td>\n      <td>0.555950</td>\n      <td>-0.250000</td>\n      <td>2.660698</td>\n      <td>0.813509</td>\n      <td>-0.969951</td>\n      <td>0.00</td>\n      <td>-0.972973</td>\n      <td>...</td>\n      <td>-1.0</td>\n      <td>-3.0</td>\n      <td>-1.0</td>\n      <td>-1.0</td>\n      <td>0.0</td>\n      <td>-1.5</td>\n      <td>-0.50</td>\n      <td>-0.166667</td>\n      <td>3.0</td>\n      <td>1</td>\n    </tr>\n    <tr>\n      <th>291022</th>\n      <td>0.024294</td>\n      <td>0.0</td>\n      <td>0.0</td>\n      <td>0.547588</td>\n      <td>-0.333333</td>\n      <td>-0.411899</td>\n      <td>-0.076080</td>\n      <td>-0.969951</td>\n      <td>0.00</td>\n      <td>-0.972973</td>\n      <td>...</td>\n      <td>0.0</td>\n      <td>-1.0</td>\n      <td>0.0</td>\n      <td>-1.0</td>\n      <td>0.0</td>\n      <td>-1.5</td>\n      <td>-0.25</td>\n      <td>1.000000</td>\n      <td>0.0</td>\n      <td>1</td>\n    </tr>\n    <tr>\n      <th>465914</th>\n      <td>-0.461754</td>\n      <td>0.0</td>\n      <td>0.0</td>\n      <td>1.303531</td>\n      <td>0.291667</td>\n      <td>-0.532222</td>\n      <td>-0.228120</td>\n      <td>-0.969951</td>\n      <td>0.00</td>\n      <td>-0.972973</td>\n      <td>...</td>\n      <td>0.0</td>\n      <td>-3.0</td>\n      <td>0.0</td>\n      <td>-1.0</td>\n      <td>-1.0</td>\n      <td>-1.5</td>\n      <td>-0.75</td>\n      <td>1.000000</td>\n      <td>0.0</td>\n      <td>1</td>\n    </tr>\n  </tbody>\n</table>\n<p>253344 rows × 184 columns</p>\n</div>"
     },
     "execution_count": 29,
     "metadata": {},
     "output_type": "execute_result"
    }
   ],
   "source": [
    "pd.read_pickle('../../data/processed/final/scaled_extended_data.pkt')"
   ],
   "metadata": {
    "collapsed": false,
    "ExecuteTime": {
     "end_time": "2023-08-27T18:04:21.406903Z",
     "start_time": "2023-08-27T18:04:20.107460Z"
    }
   }
  },
  {
   "cell_type": "code",
   "execution_count": null,
   "outputs": [],
   "source": [],
   "metadata": {
    "collapsed": false
   }
  }
 ],
 "metadata": {
  "kernelspec": {
   "display_name": "Python 3",
   "language": "python",
   "name": "python3"
  },
  "language_info": {
   "codemirror_mode": {
    "name": "ipython",
    "version": 2
   },
   "file_extension": ".py",
   "mimetype": "text/x-python",
   "name": "python",
   "nbconvert_exporter": "python",
   "pygments_lexer": "ipython2",
   "version": "2.7.6"
  }
 },
 "nbformat": 4,
 "nbformat_minor": 0
}
