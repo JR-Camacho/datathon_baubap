{
 "cells": [
  {
   "cell_type": "markdown",
   "source": [
    "Feature engineering"
   ],
   "metadata": {
    "collapsed": false
   }
  },
  {
   "cell_type": "code",
   "execution_count": 34,
   "outputs": [],
   "source": [
    "#Import libraries\n",
    "import numpy as np\n",
    "import pandas as pd\n",
    "from sklearn.ensemble import RandomForestClassifier\n",
    "from sklearn.model_selection import RandomizedSearchCV\n",
    "from sklearn.metrics import f1_score\n",
    "from sklearn.utils import shuffle\n",
    "from scipy.stats import randint\n",
    "\n",
    "from src.utils.split_data import train_val_split, split_features"
   ],
   "metadata": {
    "collapsed": false,
    "ExecuteTime": {
     "end_time": "2023-08-26T14:40:32.490336Z",
     "start_time": "2023-08-26T14:40:32.483415Z"
    }
   }
  },
  {
   "cell_type": "code",
   "execution_count": 2,
   "outputs": [],
   "source": [
    "#Load the data\n",
    "DATA_PATH = \"../../data/processed/\"\n",
    "\n",
    "df = pd.read_csv(DATA_PATH+\"processed_data.csv\")"
   ],
   "metadata": {
    "collapsed": false,
    "ExecuteTime": {
     "end_time": "2023-08-26T14:07:36.003706Z",
     "start_time": "2023-08-26T14:07:15.382894Z"
    }
   }
  },
  {
   "cell_type": "code",
   "execution_count": 3,
   "outputs": [
    {
     "data": {
      "text/plain": "        feature_1  feature_2  feature_3  feature_4  feature_5  feature_6  \\\n0        0.661364        1.0        0.0   0.000120   0.310606   0.009740   \n1        0.672847        0.5        0.0   0.000131   0.327720   0.035065   \n2        0.728351        0.5        0.0   0.000068   0.245778   0.001299   \n3        0.575738        0.5        0.0   0.000000   0.259794   0.011688   \n4        0.505637        0.0        0.0   0.000049   0.332217   0.001948   \n...           ...        ...        ...        ...        ...        ...   \n132927   0.532182        1.0        0.0   0.000031   0.203233   0.001299   \n132928   0.607332        1.0        0.0   0.000106   0.404031   0.023377   \n132929   0.677294        0.0        0.0   0.000000   0.200944   0.001948   \n132930   0.607917        1.0        0.0   0.001009   0.278486   0.012987   \n132931   0.479491        1.0        0.0   0.000277   0.615271   0.002597   \n\n        feature_7  feature_8  feature_9  feature_10  ...  feature_87  \\\n0        0.180457   0.752510   0.001050    0.500000  ...           2   \n1        0.685714   0.777475   0.003627    0.000000  ...           0   \n2        0.571429   0.712884   0.000604    0.000000  ...           1   \n3        0.228571   0.624854   0.000986    0.000000  ...           1   \n4        0.380914   0.847067   0.001845    0.666667  ...           1   \n...           ...        ...        ...         ...  ...         ...   \n132927   0.000000   0.757268   0.000000    0.500000  ...           0   \n132928   0.285714   0.873888   0.002322    0.000000  ...           2   \n132929   0.190514   0.740053   0.001559    0.500000  ...           0   \n132930   0.380914   0.754901   0.001145    1.000000  ...           0   \n132931   0.457143   0.659247   0.001145    0.000000  ...           4   \n\n        feature_118  feature_119  feature_139  feature_144  feature_147  \\\n0                 1            0            0            3            3   \n1                 0            0            0            1            1   \n2                 1            1            4            3            4   \n3                 1            1            1            2            5   \n4                 1            5            7            3            2   \n...             ...          ...          ...          ...          ...   \n132927            0            2            1            1            5   \n132928            0            5            0            1            1   \n132929            0            3            7            3            4   \n132930            2            4            7            3            0   \n132931            0            2            1            1            2   \n\n        feature_158  feature_159  feature_195  target  \n0                 5           11            4       0  \n1                 6            6            2       0  \n2                 6           11            4       0  \n3                 0            5            5       0  \n4                 1            2            1       0  \n...             ...          ...          ...     ...  \n132927            3            6            2       1  \n132928            5            6            4       1  \n132929            0           13            2       1  \n132930            1            7            1       1  \n132931            3            3            4       1  \n\n[132932 rows x 215 columns]",
      "text/html": "<div>\n<style scoped>\n    .dataframe tbody tr th:only-of-type {\n        vertical-align: middle;\n    }\n\n    .dataframe tbody tr th {\n        vertical-align: top;\n    }\n\n    .dataframe thead th {\n        text-align: right;\n    }\n</style>\n<table border=\"1\" class=\"dataframe\">\n  <thead>\n    <tr style=\"text-align: right;\">\n      <th></th>\n      <th>feature_1</th>\n      <th>feature_2</th>\n      <th>feature_3</th>\n      <th>feature_4</th>\n      <th>feature_5</th>\n      <th>feature_6</th>\n      <th>feature_7</th>\n      <th>feature_8</th>\n      <th>feature_9</th>\n      <th>feature_10</th>\n      <th>...</th>\n      <th>feature_87</th>\n      <th>feature_118</th>\n      <th>feature_119</th>\n      <th>feature_139</th>\n      <th>feature_144</th>\n      <th>feature_147</th>\n      <th>feature_158</th>\n      <th>feature_159</th>\n      <th>feature_195</th>\n      <th>target</th>\n    </tr>\n  </thead>\n  <tbody>\n    <tr>\n      <th>0</th>\n      <td>0.661364</td>\n      <td>1.0</td>\n      <td>0.0</td>\n      <td>0.000120</td>\n      <td>0.310606</td>\n      <td>0.009740</td>\n      <td>0.180457</td>\n      <td>0.752510</td>\n      <td>0.001050</td>\n      <td>0.500000</td>\n      <td>...</td>\n      <td>2</td>\n      <td>1</td>\n      <td>0</td>\n      <td>0</td>\n      <td>3</td>\n      <td>3</td>\n      <td>5</td>\n      <td>11</td>\n      <td>4</td>\n      <td>0</td>\n    </tr>\n    <tr>\n      <th>1</th>\n      <td>0.672847</td>\n      <td>0.5</td>\n      <td>0.0</td>\n      <td>0.000131</td>\n      <td>0.327720</td>\n      <td>0.035065</td>\n      <td>0.685714</td>\n      <td>0.777475</td>\n      <td>0.003627</td>\n      <td>0.000000</td>\n      <td>...</td>\n      <td>0</td>\n      <td>0</td>\n      <td>0</td>\n      <td>0</td>\n      <td>1</td>\n      <td>1</td>\n      <td>6</td>\n      <td>6</td>\n      <td>2</td>\n      <td>0</td>\n    </tr>\n    <tr>\n      <th>2</th>\n      <td>0.728351</td>\n      <td>0.5</td>\n      <td>0.0</td>\n      <td>0.000068</td>\n      <td>0.245778</td>\n      <td>0.001299</td>\n      <td>0.571429</td>\n      <td>0.712884</td>\n      <td>0.000604</td>\n      <td>0.000000</td>\n      <td>...</td>\n      <td>1</td>\n      <td>1</td>\n      <td>1</td>\n      <td>4</td>\n      <td>3</td>\n      <td>4</td>\n      <td>6</td>\n      <td>11</td>\n      <td>4</td>\n      <td>0</td>\n    </tr>\n    <tr>\n      <th>3</th>\n      <td>0.575738</td>\n      <td>0.5</td>\n      <td>0.0</td>\n      <td>0.000000</td>\n      <td>0.259794</td>\n      <td>0.011688</td>\n      <td>0.228571</td>\n      <td>0.624854</td>\n      <td>0.000986</td>\n      <td>0.000000</td>\n      <td>...</td>\n      <td>1</td>\n      <td>1</td>\n      <td>1</td>\n      <td>1</td>\n      <td>2</td>\n      <td>5</td>\n      <td>0</td>\n      <td>5</td>\n      <td>5</td>\n      <td>0</td>\n    </tr>\n    <tr>\n      <th>4</th>\n      <td>0.505637</td>\n      <td>0.0</td>\n      <td>0.0</td>\n      <td>0.000049</td>\n      <td>0.332217</td>\n      <td>0.001948</td>\n      <td>0.380914</td>\n      <td>0.847067</td>\n      <td>0.001845</td>\n      <td>0.666667</td>\n      <td>...</td>\n      <td>1</td>\n      <td>1</td>\n      <td>5</td>\n      <td>7</td>\n      <td>3</td>\n      <td>2</td>\n      <td>1</td>\n      <td>2</td>\n      <td>1</td>\n      <td>0</td>\n    </tr>\n    <tr>\n      <th>...</th>\n      <td>...</td>\n      <td>...</td>\n      <td>...</td>\n      <td>...</td>\n      <td>...</td>\n      <td>...</td>\n      <td>...</td>\n      <td>...</td>\n      <td>...</td>\n      <td>...</td>\n      <td>...</td>\n      <td>...</td>\n      <td>...</td>\n      <td>...</td>\n      <td>...</td>\n      <td>...</td>\n      <td>...</td>\n      <td>...</td>\n      <td>...</td>\n      <td>...</td>\n      <td>...</td>\n    </tr>\n    <tr>\n      <th>132927</th>\n      <td>0.532182</td>\n      <td>1.0</td>\n      <td>0.0</td>\n      <td>0.000031</td>\n      <td>0.203233</td>\n      <td>0.001299</td>\n      <td>0.000000</td>\n      <td>0.757268</td>\n      <td>0.000000</td>\n      <td>0.500000</td>\n      <td>...</td>\n      <td>0</td>\n      <td>0</td>\n      <td>2</td>\n      <td>1</td>\n      <td>1</td>\n      <td>5</td>\n      <td>3</td>\n      <td>6</td>\n      <td>2</td>\n      <td>1</td>\n    </tr>\n    <tr>\n      <th>132928</th>\n      <td>0.607332</td>\n      <td>1.0</td>\n      <td>0.0</td>\n      <td>0.000106</td>\n      <td>0.404031</td>\n      <td>0.023377</td>\n      <td>0.285714</td>\n      <td>0.873888</td>\n      <td>0.002322</td>\n      <td>0.000000</td>\n      <td>...</td>\n      <td>2</td>\n      <td>0</td>\n      <td>5</td>\n      <td>0</td>\n      <td>1</td>\n      <td>1</td>\n      <td>5</td>\n      <td>6</td>\n      <td>4</td>\n      <td>1</td>\n    </tr>\n    <tr>\n      <th>132929</th>\n      <td>0.677294</td>\n      <td>0.0</td>\n      <td>0.0</td>\n      <td>0.000000</td>\n      <td>0.200944</td>\n      <td>0.001948</td>\n      <td>0.190514</td>\n      <td>0.740053</td>\n      <td>0.001559</td>\n      <td>0.500000</td>\n      <td>...</td>\n      <td>0</td>\n      <td>0</td>\n      <td>3</td>\n      <td>7</td>\n      <td>3</td>\n      <td>4</td>\n      <td>0</td>\n      <td>13</td>\n      <td>2</td>\n      <td>1</td>\n    </tr>\n    <tr>\n      <th>132930</th>\n      <td>0.607917</td>\n      <td>1.0</td>\n      <td>0.0</td>\n      <td>0.001009</td>\n      <td>0.278486</td>\n      <td>0.012987</td>\n      <td>0.380914</td>\n      <td>0.754901</td>\n      <td>0.001145</td>\n      <td>1.000000</td>\n      <td>...</td>\n      <td>0</td>\n      <td>2</td>\n      <td>4</td>\n      <td>7</td>\n      <td>3</td>\n      <td>0</td>\n      <td>1</td>\n      <td>7</td>\n      <td>1</td>\n      <td>1</td>\n    </tr>\n    <tr>\n      <th>132931</th>\n      <td>0.479491</td>\n      <td>1.0</td>\n      <td>0.0</td>\n      <td>0.000277</td>\n      <td>0.615271</td>\n      <td>0.002597</td>\n      <td>0.457143</td>\n      <td>0.659247</td>\n      <td>0.001145</td>\n      <td>0.000000</td>\n      <td>...</td>\n      <td>4</td>\n      <td>0</td>\n      <td>2</td>\n      <td>1</td>\n      <td>1</td>\n      <td>2</td>\n      <td>3</td>\n      <td>3</td>\n      <td>4</td>\n      <td>1</td>\n    </tr>\n  </tbody>\n</table>\n<p>132932 rows × 215 columns</p>\n</div>"
     },
     "execution_count": 3,
     "metadata": {},
     "output_type": "execute_result"
    }
   ],
   "source": [
    "df"
   ],
   "metadata": {
    "collapsed": false,
    "ExecuteTime": {
     "end_time": "2023-08-26T14:07:39.995437Z",
     "start_time": "2023-08-26T14:07:39.744351Z"
    }
   }
  },
  {
   "cell_type": "code",
   "execution_count": 4,
   "outputs": [],
   "source": [
    "#Split the train,and validation set\n",
    "train_set, val_set = train_val_split(df)"
   ],
   "metadata": {
    "collapsed": false,
    "ExecuteTime": {
     "end_time": "2023-08-26T14:07:42.879214Z",
     "start_time": "2023-08-26T14:07:41.439605Z"
    }
   }
  },
  {
   "cell_type": "code",
   "execution_count": 5,
   "outputs": [],
   "source": [
    "X_train, y_train = split_features(train_set, \"target\")\n",
    "X_val, y_val = split_features(val_set, \"target\")"
   ],
   "metadata": {
    "collapsed": false,
    "ExecuteTime": {
     "end_time": "2023-08-26T14:07:54.254420Z",
     "start_time": "2023-08-26T14:07:54.212424Z"
    }
   }
  },
  {
   "cell_type": "code",
   "execution_count": 27,
   "outputs": [
    {
     "data": {
      "text/plain": "RandomForestClassifier(n_estimators=50, n_jobs=-1, random_state=42)",
      "text/html": "<style>#sk-container-id-3 {color: black;}#sk-container-id-3 pre{padding: 0;}#sk-container-id-3 div.sk-toggleable {background-color: white;}#sk-container-id-3 label.sk-toggleable__label {cursor: pointer;display: block;width: 100%;margin-bottom: 0;padding: 0.3em;box-sizing: border-box;text-align: center;}#sk-container-id-3 label.sk-toggleable__label-arrow:before {content: \"▸\";float: left;margin-right: 0.25em;color: #696969;}#sk-container-id-3 label.sk-toggleable__label-arrow:hover:before {color: black;}#sk-container-id-3 div.sk-estimator:hover label.sk-toggleable__label-arrow:before {color: black;}#sk-container-id-3 div.sk-toggleable__content {max-height: 0;max-width: 0;overflow: hidden;text-align: left;background-color: #f0f8ff;}#sk-container-id-3 div.sk-toggleable__content pre {margin: 0.2em;color: black;border-radius: 0.25em;background-color: #f0f8ff;}#sk-container-id-3 input.sk-toggleable__control:checked~div.sk-toggleable__content {max-height: 200px;max-width: 100%;overflow: auto;}#sk-container-id-3 input.sk-toggleable__control:checked~label.sk-toggleable__label-arrow:before {content: \"▾\";}#sk-container-id-3 div.sk-estimator input.sk-toggleable__control:checked~label.sk-toggleable__label {background-color: #d4ebff;}#sk-container-id-3 div.sk-label input.sk-toggleable__control:checked~label.sk-toggleable__label {background-color: #d4ebff;}#sk-container-id-3 input.sk-hidden--visually {border: 0;clip: rect(1px 1px 1px 1px);clip: rect(1px, 1px, 1px, 1px);height: 1px;margin: -1px;overflow: hidden;padding: 0;position: absolute;width: 1px;}#sk-container-id-3 div.sk-estimator {font-family: monospace;background-color: #f0f8ff;border: 1px dotted black;border-radius: 0.25em;box-sizing: border-box;margin-bottom: 0.5em;}#sk-container-id-3 div.sk-estimator:hover {background-color: #d4ebff;}#sk-container-id-3 div.sk-parallel-item::after {content: \"\";width: 100%;border-bottom: 1px solid gray;flex-grow: 1;}#sk-container-id-3 div.sk-label:hover label.sk-toggleable__label {background-color: #d4ebff;}#sk-container-id-3 div.sk-serial::before {content: \"\";position: absolute;border-left: 1px solid gray;box-sizing: border-box;top: 0;bottom: 0;left: 50%;z-index: 0;}#sk-container-id-3 div.sk-serial {display: flex;flex-direction: column;align-items: center;background-color: white;padding-right: 0.2em;padding-left: 0.2em;position: relative;}#sk-container-id-3 div.sk-item {position: relative;z-index: 1;}#sk-container-id-3 div.sk-parallel {display: flex;align-items: stretch;justify-content: center;background-color: white;position: relative;}#sk-container-id-3 div.sk-item::before, #sk-container-id-3 div.sk-parallel-item::before {content: \"\";position: absolute;border-left: 1px solid gray;box-sizing: border-box;top: 0;bottom: 0;left: 50%;z-index: -1;}#sk-container-id-3 div.sk-parallel-item {display: flex;flex-direction: column;z-index: 1;position: relative;background-color: white;}#sk-container-id-3 div.sk-parallel-item:first-child::after {align-self: flex-end;width: 50%;}#sk-container-id-3 div.sk-parallel-item:last-child::after {align-self: flex-start;width: 50%;}#sk-container-id-3 div.sk-parallel-item:only-child::after {width: 0;}#sk-container-id-3 div.sk-dashed-wrapped {border: 1px dashed gray;margin: 0 0.4em 0.5em 0.4em;box-sizing: border-box;padding-bottom: 0.4em;background-color: white;}#sk-container-id-3 div.sk-label label {font-family: monospace;font-weight: bold;display: inline-block;line-height: 1.2em;}#sk-container-id-3 div.sk-label-container {text-align: center;}#sk-container-id-3 div.sk-container {/* jupyter's `normalize.less` sets `[hidden] { display: none; }` but bootstrap.min.css set `[hidden] { display: none !important; }` so we also need the `!important` here to be able to override the default hidden behavior on the sphinx rendered scikit-learn.org. See: https://github.com/scikit-learn/scikit-learn/issues/21755 */display: inline-block !important;position: relative;}#sk-container-id-3 div.sk-text-repr-fallback {display: none;}</style><div id=\"sk-container-id-3\" class=\"sk-top-container\"><div class=\"sk-text-repr-fallback\"><pre>RandomForestClassifier(n_estimators=50, n_jobs=-1, random_state=42)</pre><b>In a Jupyter environment, please rerun this cell to show the HTML representation or trust the notebook. <br />On GitHub, the HTML representation is unable to render, please try loading this page with nbviewer.org.</b></div><div class=\"sk-container\" hidden><div class=\"sk-item\"><div class=\"sk-estimator sk-toggleable\"><input class=\"sk-toggleable__control sk-hidden--visually\" id=\"sk-estimator-id-5\" type=\"checkbox\" checked><label for=\"sk-estimator-id-5\" class=\"sk-toggleable__label sk-toggleable__label-arrow\">RandomForestClassifier</label><div class=\"sk-toggleable__content\"><pre>RandomForestClassifier(n_estimators=50, n_jobs=-1, random_state=42)</pre></div></div></div></div></div>"
     },
     "execution_count": 27,
     "metadata": {},
     "output_type": "execute_result"
    }
   ],
   "source": [
    "#A random forest is trained for the selection of characteristics\n",
    "clf_rnd = RandomForestClassifier(n_estimators=50, random_state=42, n_jobs=-1)\n",
    "clf_rnd.fit(X_train, y_train)"
   ],
   "metadata": {
    "collapsed": false,
    "ExecuteTime": {
     "end_time": "2023-08-26T06:13:50.859758Z",
     "start_time": "2023-08-26T06:13:14.276801Z"
    }
   }
  },
  {
   "cell_type": "code",
   "execution_count": 28,
   "outputs": [
    {
     "name": "stdout",
     "output_type": "stream",
     "text": [
      "F1 score train: 0.9999911459762889\n",
      "F1 score val: 0.5984588149536604\n"
     ]
    }
   ],
   "source": [
    "# Evaluate model\n",
    "y_train_pred = clf_rnd.predict(X_train)\n",
    "y_val_pred = clf_rnd.predict(X_val)\n",
    "\n",
    "print(\"F1 score train:\", f1_score(y_train_pred, y_train, pos_label=1))\n",
    "print(\"F1 score val:\", f1_score(y_val_pred, y_val, pos_label=1))"
   ],
   "metadata": {
    "collapsed": false,
    "ExecuteTime": {
     "end_time": "2023-08-26T06:14:11.744255Z",
     "start_time": "2023-08-26T06:14:09.907542Z"
    }
   }
  },
  {
   "cell_type": "code",
   "execution_count": 11,
   "outputs": [
    {
     "name": "stderr",
     "output_type": "stream",
     "text": [
      "/Users/josecamacho/Desktop/Projects/datathon_baubap/venv/lib/python3.11/site-packages/sklearn/model_selection/_validation.py:425: FitFailedWarning: \n",
      "4 fits failed out of a total of 32.\n",
      "The score on these train-test partitions for these parameters will be set to nan.\n",
      "If these failures are not expected, you can try to debug them by setting error_score='raise'.\n",
      "\n",
      "Below are more details about the failures:\n",
      "--------------------------------------------------------------------------------\n",
      "4 fits failed with the following error:\n",
      "Traceback (most recent call last):\n",
      "  File \"/Users/josecamacho/Desktop/Projects/datathon_baubap/venv/lib/python3.11/site-packages/sklearn/model_selection/_validation.py\", line 732, in _fit_and_score\n",
      "    estimator.fit(X_train, y_train, **fit_params)\n",
      "  File \"/Users/josecamacho/Desktop/Projects/datathon_baubap/venv/lib/python3.11/site-packages/sklearn/base.py\", line 1144, in wrapper\n",
      "    estimator._validate_params()\n",
      "  File \"/Users/josecamacho/Desktop/Projects/datathon_baubap/venv/lib/python3.11/site-packages/sklearn/base.py\", line 637, in _validate_params\n",
      "    validate_parameter_constraints(\n",
      "  File \"/Users/josecamacho/Desktop/Projects/datathon_baubap/venv/lib/python3.11/site-packages/sklearn/utils/_param_validation.py\", line 95, in validate_parameter_constraints\n",
      "    raise InvalidParameterError(\n",
      "sklearn.utils._param_validation.InvalidParameterError: The 'min_samples_split' parameter of RandomForestClassifier must be an int in the range [2, inf) or a float in the range (0.0, 1.0]. Got 1 instead.\n",
      "\n",
      "  warnings.warn(some_fits_failed_message, FitFailedWarning)\n",
      "/Users/josecamacho/Desktop/Projects/datathon_baubap/venv/lib/python3.11/site-packages/sklearn/model_selection/_search.py:976: UserWarning: One or more of the test scores are non-finite: [0.61379079 0.62053371 0.6129966  0.62347772 0.60372817        nan\n",
      " 0.62249178 0.59745705]\n",
      "  warnings.warn(\n"
     ]
    },
    {
     "data": {
      "text/plain": "RandomizedSearchCV(cv=4, estimator=RandomForestClassifier(), n_iter=8,\n                   param_distributions={'max_depth': [None, 10, 20, 30],\n                                        'min_samples_split': <scipy.stats._distn_infrastructure.rv_discrete_frozen object at 0x11e7e5e90>,\n                                        'n_estimators': <scipy.stats._distn_infrastructure.rv_discrete_frozen object at 0x11d596cd0>},\n                   scoring='f1_weighted')",
      "text/html": "<style>#sk-container-id-2 {color: black;}#sk-container-id-2 pre{padding: 0;}#sk-container-id-2 div.sk-toggleable {background-color: white;}#sk-container-id-2 label.sk-toggleable__label {cursor: pointer;display: block;width: 100%;margin-bottom: 0;padding: 0.3em;box-sizing: border-box;text-align: center;}#sk-container-id-2 label.sk-toggleable__label-arrow:before {content: \"▸\";float: left;margin-right: 0.25em;color: #696969;}#sk-container-id-2 label.sk-toggleable__label-arrow:hover:before {color: black;}#sk-container-id-2 div.sk-estimator:hover label.sk-toggleable__label-arrow:before {color: black;}#sk-container-id-2 div.sk-toggleable__content {max-height: 0;max-width: 0;overflow: hidden;text-align: left;background-color: #f0f8ff;}#sk-container-id-2 div.sk-toggleable__content pre {margin: 0.2em;color: black;border-radius: 0.25em;background-color: #f0f8ff;}#sk-container-id-2 input.sk-toggleable__control:checked~div.sk-toggleable__content {max-height: 200px;max-width: 100%;overflow: auto;}#sk-container-id-2 input.sk-toggleable__control:checked~label.sk-toggleable__label-arrow:before {content: \"▾\";}#sk-container-id-2 div.sk-estimator input.sk-toggleable__control:checked~label.sk-toggleable__label {background-color: #d4ebff;}#sk-container-id-2 div.sk-label input.sk-toggleable__control:checked~label.sk-toggleable__label {background-color: #d4ebff;}#sk-container-id-2 input.sk-hidden--visually {border: 0;clip: rect(1px 1px 1px 1px);clip: rect(1px, 1px, 1px, 1px);height: 1px;margin: -1px;overflow: hidden;padding: 0;position: absolute;width: 1px;}#sk-container-id-2 div.sk-estimator {font-family: monospace;background-color: #f0f8ff;border: 1px dotted black;border-radius: 0.25em;box-sizing: border-box;margin-bottom: 0.5em;}#sk-container-id-2 div.sk-estimator:hover {background-color: #d4ebff;}#sk-container-id-2 div.sk-parallel-item::after {content: \"\";width: 100%;border-bottom: 1px solid gray;flex-grow: 1;}#sk-container-id-2 div.sk-label:hover label.sk-toggleable__label {background-color: #d4ebff;}#sk-container-id-2 div.sk-serial::before {content: \"\";position: absolute;border-left: 1px solid gray;box-sizing: border-box;top: 0;bottom: 0;left: 50%;z-index: 0;}#sk-container-id-2 div.sk-serial {display: flex;flex-direction: column;align-items: center;background-color: white;padding-right: 0.2em;padding-left: 0.2em;position: relative;}#sk-container-id-2 div.sk-item {position: relative;z-index: 1;}#sk-container-id-2 div.sk-parallel {display: flex;align-items: stretch;justify-content: center;background-color: white;position: relative;}#sk-container-id-2 div.sk-item::before, #sk-container-id-2 div.sk-parallel-item::before {content: \"\";position: absolute;border-left: 1px solid gray;box-sizing: border-box;top: 0;bottom: 0;left: 50%;z-index: -1;}#sk-container-id-2 div.sk-parallel-item {display: flex;flex-direction: column;z-index: 1;position: relative;background-color: white;}#sk-container-id-2 div.sk-parallel-item:first-child::after {align-self: flex-end;width: 50%;}#sk-container-id-2 div.sk-parallel-item:last-child::after {align-self: flex-start;width: 50%;}#sk-container-id-2 div.sk-parallel-item:only-child::after {width: 0;}#sk-container-id-2 div.sk-dashed-wrapped {border: 1px dashed gray;margin: 0 0.4em 0.5em 0.4em;box-sizing: border-box;padding-bottom: 0.4em;background-color: white;}#sk-container-id-2 div.sk-label label {font-family: monospace;font-weight: bold;display: inline-block;line-height: 1.2em;}#sk-container-id-2 div.sk-label-container {text-align: center;}#sk-container-id-2 div.sk-container {/* jupyter's `normalize.less` sets `[hidden] { display: none; }` but bootstrap.min.css set `[hidden] { display: none !important; }` so we also need the `!important` here to be able to override the default hidden behavior on the sphinx rendered scikit-learn.org. See: https://github.com/scikit-learn/scikit-learn/issues/21755 */display: inline-block !important;position: relative;}#sk-container-id-2 div.sk-text-repr-fallback {display: none;}</style><div id=\"sk-container-id-2\" class=\"sk-top-container\"><div class=\"sk-text-repr-fallback\"><pre>RandomizedSearchCV(cv=4, estimator=RandomForestClassifier(), n_iter=8,\n                   param_distributions={&#x27;max_depth&#x27;: [None, 10, 20, 30],\n                                        &#x27;min_samples_split&#x27;: &lt;scipy.stats._distn_infrastructure.rv_discrete_frozen object at 0x11e7e5e90&gt;,\n                                        &#x27;n_estimators&#x27;: &lt;scipy.stats._distn_infrastructure.rv_discrete_frozen object at 0x11d596cd0&gt;},\n                   scoring=&#x27;f1_weighted&#x27;)</pre><b>In a Jupyter environment, please rerun this cell to show the HTML representation or trust the notebook. <br />On GitHub, the HTML representation is unable to render, please try loading this page with nbviewer.org.</b></div><div class=\"sk-container\" hidden><div class=\"sk-item sk-dashed-wrapped\"><div class=\"sk-label-container\"><div class=\"sk-label sk-toggleable\"><input class=\"sk-toggleable__control sk-hidden--visually\" id=\"sk-estimator-id-2\" type=\"checkbox\" ><label for=\"sk-estimator-id-2\" class=\"sk-toggleable__label sk-toggleable__label-arrow\">RandomizedSearchCV</label><div class=\"sk-toggleable__content\"><pre>RandomizedSearchCV(cv=4, estimator=RandomForestClassifier(), n_iter=8,\n                   param_distributions={&#x27;max_depth&#x27;: [None, 10, 20, 30],\n                                        &#x27;min_samples_split&#x27;: &lt;scipy.stats._distn_infrastructure.rv_discrete_frozen object at 0x11e7e5e90&gt;,\n                                        &#x27;n_estimators&#x27;: &lt;scipy.stats._distn_infrastructure.rv_discrete_frozen object at 0x11d596cd0&gt;},\n                   scoring=&#x27;f1_weighted&#x27;)</pre></div></div></div><div class=\"sk-parallel\"><div class=\"sk-parallel-item\"><div class=\"sk-item\"><div class=\"sk-label-container\"><div class=\"sk-label sk-toggleable\"><input class=\"sk-toggleable__control sk-hidden--visually\" id=\"sk-estimator-id-3\" type=\"checkbox\" ><label for=\"sk-estimator-id-3\" class=\"sk-toggleable__label sk-toggleable__label-arrow\">estimator: RandomForestClassifier</label><div class=\"sk-toggleable__content\"><pre>RandomForestClassifier()</pre></div></div></div><div class=\"sk-serial\"><div class=\"sk-item\"><div class=\"sk-estimator sk-toggleable\"><input class=\"sk-toggleable__control sk-hidden--visually\" id=\"sk-estimator-id-4\" type=\"checkbox\" ><label for=\"sk-estimator-id-4\" class=\"sk-toggleable__label sk-toggleable__label-arrow\">RandomForestClassifier</label><div class=\"sk-toggleable__content\"><pre>RandomForestClassifier()</pre></div></div></div></div></div></div></div></div></div></div>"
     },
     "execution_count": 11,
     "metadata": {},
     "output_type": "execute_result"
    }
   ],
   "source": [
    "#Model selection\n",
    "param_distribs = {\n",
    "    'min_samples_split': [2, 5, 10],\n",
    "    'n_estimators': randint(low=8, high=50),\n",
    "    'max_depth': [None, 10, 20, 30],\n",
    "}\n",
    "\n",
    "clf_rnd_test = RandomForestClassifier()\n",
    "\n",
    "rnd_search = RandomizedSearchCV(clf_rnd_test, param_distributions=param_distribs,\n",
    "n_iter=8, cv=4, scoring='f1_weighted')\n",
    "rnd_search.fit(X_train, y_train)"
   ],
   "metadata": {
    "collapsed": false,
    "ExecuteTime": {
     "end_time": "2023-08-26T05:51:04.626008Z",
     "start_time": "2023-08-26T05:40:04.887770Z"
    }
   }
  },
  {
   "cell_type": "code",
   "execution_count": 12,
   "outputs": [
    {
     "data": {
      "text/plain": "{'max_depth': 10, 'min_samples_split': 5, 'n_estimators': 34}"
     },
     "execution_count": 12,
     "metadata": {},
     "output_type": "execute_result"
    }
   ],
   "source": [
    "rnd_search.best_params_"
   ],
   "metadata": {
    "collapsed": false,
    "ExecuteTime": {
     "end_time": "2023-08-26T05:53:58.586739Z",
     "start_time": "2023-08-26T05:53:58.525448Z"
    }
   }
  },
  {
   "cell_type": "code",
   "execution_count": 14,
   "outputs": [],
   "source": [
    "#Chose the best model\n",
    "clf_rnd_optimized = rnd_search.best_estimator_"
   ],
   "metadata": {
    "collapsed": false,
    "ExecuteTime": {
     "end_time": "2023-08-26T05:54:44.566769Z",
     "start_time": "2023-08-26T05:54:44.560813Z"
    }
   }
  },
  {
   "cell_type": "code",
   "execution_count": 6,
   "outputs": [
    {
     "data": {
      "text/plain": "RandomForestClassifier(max_depth=10, min_samples_split=5, n_estimators=34,\n                       n_jobs=-1, random_state=42)",
      "text/html": "<style>#sk-container-id-1 {color: black;}#sk-container-id-1 pre{padding: 0;}#sk-container-id-1 div.sk-toggleable {background-color: white;}#sk-container-id-1 label.sk-toggleable__label {cursor: pointer;display: block;width: 100%;margin-bottom: 0;padding: 0.3em;box-sizing: border-box;text-align: center;}#sk-container-id-1 label.sk-toggleable__label-arrow:before {content: \"▸\";float: left;margin-right: 0.25em;color: #696969;}#sk-container-id-1 label.sk-toggleable__label-arrow:hover:before {color: black;}#sk-container-id-1 div.sk-estimator:hover label.sk-toggleable__label-arrow:before {color: black;}#sk-container-id-1 div.sk-toggleable__content {max-height: 0;max-width: 0;overflow: hidden;text-align: left;background-color: #f0f8ff;}#sk-container-id-1 div.sk-toggleable__content pre {margin: 0.2em;color: black;border-radius: 0.25em;background-color: #f0f8ff;}#sk-container-id-1 input.sk-toggleable__control:checked~div.sk-toggleable__content {max-height: 200px;max-width: 100%;overflow: auto;}#sk-container-id-1 input.sk-toggleable__control:checked~label.sk-toggleable__label-arrow:before {content: \"▾\";}#sk-container-id-1 div.sk-estimator input.sk-toggleable__control:checked~label.sk-toggleable__label {background-color: #d4ebff;}#sk-container-id-1 div.sk-label input.sk-toggleable__control:checked~label.sk-toggleable__label {background-color: #d4ebff;}#sk-container-id-1 input.sk-hidden--visually {border: 0;clip: rect(1px 1px 1px 1px);clip: rect(1px, 1px, 1px, 1px);height: 1px;margin: -1px;overflow: hidden;padding: 0;position: absolute;width: 1px;}#sk-container-id-1 div.sk-estimator {font-family: monospace;background-color: #f0f8ff;border: 1px dotted black;border-radius: 0.25em;box-sizing: border-box;margin-bottom: 0.5em;}#sk-container-id-1 div.sk-estimator:hover {background-color: #d4ebff;}#sk-container-id-1 div.sk-parallel-item::after {content: \"\";width: 100%;border-bottom: 1px solid gray;flex-grow: 1;}#sk-container-id-1 div.sk-label:hover label.sk-toggleable__label {background-color: #d4ebff;}#sk-container-id-1 div.sk-serial::before {content: \"\";position: absolute;border-left: 1px solid gray;box-sizing: border-box;top: 0;bottom: 0;left: 50%;z-index: 0;}#sk-container-id-1 div.sk-serial {display: flex;flex-direction: column;align-items: center;background-color: white;padding-right: 0.2em;padding-left: 0.2em;position: relative;}#sk-container-id-1 div.sk-item {position: relative;z-index: 1;}#sk-container-id-1 div.sk-parallel {display: flex;align-items: stretch;justify-content: center;background-color: white;position: relative;}#sk-container-id-1 div.sk-item::before, #sk-container-id-1 div.sk-parallel-item::before {content: \"\";position: absolute;border-left: 1px solid gray;box-sizing: border-box;top: 0;bottom: 0;left: 50%;z-index: -1;}#sk-container-id-1 div.sk-parallel-item {display: flex;flex-direction: column;z-index: 1;position: relative;background-color: white;}#sk-container-id-1 div.sk-parallel-item:first-child::after {align-self: flex-end;width: 50%;}#sk-container-id-1 div.sk-parallel-item:last-child::after {align-self: flex-start;width: 50%;}#sk-container-id-1 div.sk-parallel-item:only-child::after {width: 0;}#sk-container-id-1 div.sk-dashed-wrapped {border: 1px dashed gray;margin: 0 0.4em 0.5em 0.4em;box-sizing: border-box;padding-bottom: 0.4em;background-color: white;}#sk-container-id-1 div.sk-label label {font-family: monospace;font-weight: bold;display: inline-block;line-height: 1.2em;}#sk-container-id-1 div.sk-label-container {text-align: center;}#sk-container-id-1 div.sk-container {/* jupyter's `normalize.less` sets `[hidden] { display: none; }` but bootstrap.min.css set `[hidden] { display: none !important; }` so we also need the `!important` here to be able to override the default hidden behavior on the sphinx rendered scikit-learn.org. See: https://github.com/scikit-learn/scikit-learn/issues/21755 */display: inline-block !important;position: relative;}#sk-container-id-1 div.sk-text-repr-fallback {display: none;}</style><div id=\"sk-container-id-1\" class=\"sk-top-container\"><div class=\"sk-text-repr-fallback\"><pre>RandomForestClassifier(max_depth=10, min_samples_split=5, n_estimators=34,\n                       n_jobs=-1, random_state=42)</pre><b>In a Jupyter environment, please rerun this cell to show the HTML representation or trust the notebook. <br />On GitHub, the HTML representation is unable to render, please try loading this page with nbviewer.org.</b></div><div class=\"sk-container\" hidden><div class=\"sk-item\"><div class=\"sk-estimator sk-toggleable\"><input class=\"sk-toggleable__control sk-hidden--visually\" id=\"sk-estimator-id-1\" type=\"checkbox\" checked><label for=\"sk-estimator-id-1\" class=\"sk-toggleable__label sk-toggleable__label-arrow\">RandomForestClassifier</label><div class=\"sk-toggleable__content\"><pre>RandomForestClassifier(max_depth=10, min_samples_split=5, n_estimators=34,\n                       n_jobs=-1, random_state=42)</pre></div></div></div></div></div>"
     },
     "execution_count": 6,
     "metadata": {},
     "output_type": "execute_result"
    }
   ],
   "source": [
    "clf_rnd_optimized = RandomForestClassifier(n_estimators=34, max_depth=10, min_samples_split=5, random_state=42, n_jobs=-1)\n",
    "clf_rnd_optimized.fit(X_train, y_train)"
   ],
   "metadata": {
    "collapsed": false,
    "ExecuteTime": {
     "end_time": "2023-08-26T14:14:12.257543Z",
     "start_time": "2023-08-26T14:13:59.075762Z"
    }
   }
  },
  {
   "cell_type": "code",
   "execution_count": 7,
   "outputs": [
    {
     "name": "stdout",
     "output_type": "stream",
     "text": [
      "F1 score train: 0.687891743052788\n",
      "F1 score val: 0.6135838595410442\n"
     ]
    }
   ],
   "source": [
    "# Evaluate model\n",
    "y_train_pred = clf_rnd_optimized.predict(X_train)\n",
    "y_val_pred = clf_rnd_optimized.predict(X_val)\n",
    "\n",
    "print(\"F1 score train:\", f1_score(y_train_pred, y_train, pos_label=1))\n",
    "print(\"F1 score val:\", f1_score(y_val_pred, y_val, pos_label=1))"
   ],
   "metadata": {
    "collapsed": false,
    "ExecuteTime": {
     "end_time": "2023-08-26T14:14:18.946680Z",
     "start_time": "2023-08-26T14:14:17.576481Z"
    }
   }
  },
  {
   "cell_type": "code",
   "execution_count": 8,
   "outputs": [
    {
     "data": {
      "text/plain": "feature_122    0.163251\nfeature_199    0.040870\nfeature_198    0.038044\nfeature_171    0.029051\nfeature_200    0.023264\n                 ...   \nfeature_41     0.000258\nfeature_102    0.000214\nfeature_110    0.000183\nfeature_35     0.000092\nfeature_115    0.000017\nLength: 214, dtype: float64"
     },
     "execution_count": 8,
     "metadata": {},
     "output_type": "execute_result"
    }
   ],
   "source": [
    "#Get the most important feactures\n",
    "feature_importance = {name: score for name, score in zip(list(df), clf_rnd_optimized.feature_importances_)}\n",
    "feature_importance_sorted = pd.Series(feature_importance).sort_values(ascending=False)\n",
    "feature_importance_sorted"
   ],
   "metadata": {
    "collapsed": false,
    "ExecuteTime": {
     "end_time": "2023-08-26T14:14:38.173127Z",
     "start_time": "2023-08-26T14:14:38.038992Z"
    }
   }
  },
  {
   "cell_type": "code",
   "execution_count": 9,
   "outputs": [
    {
     "data": {
      "text/plain": "['feature_122',\n 'feature_199',\n 'feature_198',\n 'feature_171',\n 'feature_200',\n 'feature_68',\n 'feature_167',\n 'feature_69',\n 'feature_143',\n 'feature_70',\n 'feature_141',\n 'feature_72',\n 'feature_146',\n 'feature_79',\n 'feature_34',\n 'feature_142',\n 'feature_208',\n 'feature_78',\n 'feature_33',\n 'feature_210',\n 'feature_217',\n 'feature_214',\n 'feature_191',\n 'feature_58',\n 'feature_53',\n 'feature_22',\n 'feature_6',\n 'feature_164',\n 'feature_37',\n 'feature_16',\n 'feature_215',\n 'feature_160',\n 'feature_21',\n 'feature_51',\n 'feature_172',\n 'feature_52',\n 'feature_50',\n 'feature_187',\n 'feature_73',\n 'feature_48',\n 'feature_206',\n 'feature_44',\n 'feature_128',\n 'feature_175',\n 'feature_24',\n 'feature_8',\n 'feature_26',\n 'feature_40',\n 'feature_170',\n 'feature_202']"
     },
     "execution_count": 9,
     "metadata": {},
     "output_type": "execute_result"
    }
   ],
   "source": [
    "#The most 50 important feacture\n",
    "columns = list(feature_importance_sorted.head(50).index)\n",
    "columns"
   ],
   "metadata": {
    "collapsed": false,
    "ExecuteTime": {
     "end_time": "2023-08-26T14:14:40.535153Z",
     "start_time": "2023-08-26T14:14:40.517841Z"
    }
   }
  },
  {
   "cell_type": "code",
   "execution_count": 10,
   "outputs": [],
   "source": [
    "#Reduce dataset to the most important feactures\n",
    "X_train_reduced = X_train[columns].copy()\n",
    "X_val_reduced = X_val[columns].copy()"
   ],
   "metadata": {
    "collapsed": false,
    "ExecuteTime": {
     "end_time": "2023-08-26T14:14:42.995454Z",
     "start_time": "2023-08-26T14:14:42.890178Z"
    }
   }
  },
  {
   "cell_type": "code",
   "execution_count": 11,
   "outputs": [
    {
     "data": {
      "text/plain": "        feature_122  feature_199  feature_198  feature_171  feature_200  \\\n74162      0.848317     0.954067     0.939043     0.000000     0.952651   \n23928      0.860013     0.897436     0.857143     0.095238     0.897436   \n52526      0.894873     0.897436     0.857143     0.000000     0.897436   \n96286      0.777969     0.897436     0.857143     0.095238     0.897436   \n128858     0.937397     0.948718     0.935671     0.142857     0.947010   \n...             ...          ...          ...          ...          ...   \n110268     0.926747     0.954036     0.933214     0.095238     0.954036   \n119879     0.879609     0.953067     0.934629     0.047619     0.953067   \n103694     0.887663     0.897436     0.857143     0.095238     0.897436   \n131932     0.936765     0.954554     0.936700     0.047619     0.954554   \n121958     0.899852     0.955667     0.940986     0.238095     0.957631   \n\n        feature_68  feature_167  feature_69  feature_143  feature_70  ...  \\\n74162     0.022073     0.099188    0.025375     0.002364    0.956522  ...   \n23928     0.023992     0.043231    0.027682     0.000000    0.960000  ...   \n52526     0.035509     0.111079    0.042676     0.002364    1.000000  ...   \n96286     0.024952     0.066732    0.023068     0.018913    0.769231  ...   \n128858    0.117083     0.098076    0.114187     0.007092    0.811475  ...   \n...            ...          ...         ...          ...         ...  ...   \n110268    0.036468     0.128104    0.042676     0.000000    0.973684  ...   \n119879    0.063340     0.143389    0.057670     0.004728    0.757576  ...   \n103694    0.039347     0.197140    0.042676     0.007092    0.902439  ...   \n131932    0.023992     0.168032    0.027682     0.000000    0.960000  ...   \n121958    0.043186     0.047187    0.027682     0.000000    0.533333  ...   \n\n        feature_206  feature_44  feature_128  feature_175  feature_24  \\\n74162      0.070730         1.0       0.2215     0.370730      0.3200   \n23928      0.000000         0.0       0.7797     0.416139      0.2024   \n52526      0.000000         0.0       0.0964     0.002461      0.0864   \n96286      0.023511         0.0       0.1795     0.000000      0.2400   \n128858     0.247605         0.0       0.1904     0.004415      0.2200   \n...             ...         ...          ...          ...         ...   \n110268     0.030846         0.0       0.0524     0.003098      0.2112   \n119879     0.313143         0.0       0.0790     0.000824      0.3104   \n103694     0.000000         0.0       0.1400     0.048946      0.2520   \n131932     0.104641         1.0       0.0661     0.778283      0.1896   \n121958     0.070025         0.0       0.0227     0.003678      0.2872   \n\n        feature_8  feature_26  feature_40  feature_170  feature_202  \n74162    0.727612    0.055983    0.176018     0.496934     0.643334  \n23928    0.773332    0.096571    0.050605     0.358278     0.642390  \n52526    0.695802    0.075577    0.024202     0.001951     0.642390  \n96286    0.634308    0.104969    0.082508     0.000000     0.639257  \n128858   0.771397    0.214136    0.067107     0.006092     0.650236  \n...           ...         ...         ...          ...          ...  \n110268   0.885799    0.083975    0.079208     0.025429     0.643044  \n119879   0.848689    0.041987    0.099010     0.004346     0.642528  \n103694   0.570190    0.044087    0.069307     0.108922     0.642390  \n131932   0.774389    0.332400    0.064906     0.878663     0.642528  \n121958   0.814213    0.031491    0.099010     0.003968     0.643017  \n\n[112992 rows x 50 columns]",
      "text/html": "<div>\n<style scoped>\n    .dataframe tbody tr th:only-of-type {\n        vertical-align: middle;\n    }\n\n    .dataframe tbody tr th {\n        vertical-align: top;\n    }\n\n    .dataframe thead th {\n        text-align: right;\n    }\n</style>\n<table border=\"1\" class=\"dataframe\">\n  <thead>\n    <tr style=\"text-align: right;\">\n      <th></th>\n      <th>feature_122</th>\n      <th>feature_199</th>\n      <th>feature_198</th>\n      <th>feature_171</th>\n      <th>feature_200</th>\n      <th>feature_68</th>\n      <th>feature_167</th>\n      <th>feature_69</th>\n      <th>feature_143</th>\n      <th>feature_70</th>\n      <th>...</th>\n      <th>feature_206</th>\n      <th>feature_44</th>\n      <th>feature_128</th>\n      <th>feature_175</th>\n      <th>feature_24</th>\n      <th>feature_8</th>\n      <th>feature_26</th>\n      <th>feature_40</th>\n      <th>feature_170</th>\n      <th>feature_202</th>\n    </tr>\n  </thead>\n  <tbody>\n    <tr>\n      <th>74162</th>\n      <td>0.848317</td>\n      <td>0.954067</td>\n      <td>0.939043</td>\n      <td>0.000000</td>\n      <td>0.952651</td>\n      <td>0.022073</td>\n      <td>0.099188</td>\n      <td>0.025375</td>\n      <td>0.002364</td>\n      <td>0.956522</td>\n      <td>...</td>\n      <td>0.070730</td>\n      <td>1.0</td>\n      <td>0.2215</td>\n      <td>0.370730</td>\n      <td>0.3200</td>\n      <td>0.727612</td>\n      <td>0.055983</td>\n      <td>0.176018</td>\n      <td>0.496934</td>\n      <td>0.643334</td>\n    </tr>\n    <tr>\n      <th>23928</th>\n      <td>0.860013</td>\n      <td>0.897436</td>\n      <td>0.857143</td>\n      <td>0.095238</td>\n      <td>0.897436</td>\n      <td>0.023992</td>\n      <td>0.043231</td>\n      <td>0.027682</td>\n      <td>0.000000</td>\n      <td>0.960000</td>\n      <td>...</td>\n      <td>0.000000</td>\n      <td>0.0</td>\n      <td>0.7797</td>\n      <td>0.416139</td>\n      <td>0.2024</td>\n      <td>0.773332</td>\n      <td>0.096571</td>\n      <td>0.050605</td>\n      <td>0.358278</td>\n      <td>0.642390</td>\n    </tr>\n    <tr>\n      <th>52526</th>\n      <td>0.894873</td>\n      <td>0.897436</td>\n      <td>0.857143</td>\n      <td>0.000000</td>\n      <td>0.897436</td>\n      <td>0.035509</td>\n      <td>0.111079</td>\n      <td>0.042676</td>\n      <td>0.002364</td>\n      <td>1.000000</td>\n      <td>...</td>\n      <td>0.000000</td>\n      <td>0.0</td>\n      <td>0.0964</td>\n      <td>0.002461</td>\n      <td>0.0864</td>\n      <td>0.695802</td>\n      <td>0.075577</td>\n      <td>0.024202</td>\n      <td>0.001951</td>\n      <td>0.642390</td>\n    </tr>\n    <tr>\n      <th>96286</th>\n      <td>0.777969</td>\n      <td>0.897436</td>\n      <td>0.857143</td>\n      <td>0.095238</td>\n      <td>0.897436</td>\n      <td>0.024952</td>\n      <td>0.066732</td>\n      <td>0.023068</td>\n      <td>0.018913</td>\n      <td>0.769231</td>\n      <td>...</td>\n      <td>0.023511</td>\n      <td>0.0</td>\n      <td>0.1795</td>\n      <td>0.000000</td>\n      <td>0.2400</td>\n      <td>0.634308</td>\n      <td>0.104969</td>\n      <td>0.082508</td>\n      <td>0.000000</td>\n      <td>0.639257</td>\n    </tr>\n    <tr>\n      <th>128858</th>\n      <td>0.937397</td>\n      <td>0.948718</td>\n      <td>0.935671</td>\n      <td>0.142857</td>\n      <td>0.947010</td>\n      <td>0.117083</td>\n      <td>0.098076</td>\n      <td>0.114187</td>\n      <td>0.007092</td>\n      <td>0.811475</td>\n      <td>...</td>\n      <td>0.247605</td>\n      <td>0.0</td>\n      <td>0.1904</td>\n      <td>0.004415</td>\n      <td>0.2200</td>\n      <td>0.771397</td>\n      <td>0.214136</td>\n      <td>0.067107</td>\n      <td>0.006092</td>\n      <td>0.650236</td>\n    </tr>\n    <tr>\n      <th>...</th>\n      <td>...</td>\n      <td>...</td>\n      <td>...</td>\n      <td>...</td>\n      <td>...</td>\n      <td>...</td>\n      <td>...</td>\n      <td>...</td>\n      <td>...</td>\n      <td>...</td>\n      <td>...</td>\n      <td>...</td>\n      <td>...</td>\n      <td>...</td>\n      <td>...</td>\n      <td>...</td>\n      <td>...</td>\n      <td>...</td>\n      <td>...</td>\n      <td>...</td>\n      <td>...</td>\n    </tr>\n    <tr>\n      <th>110268</th>\n      <td>0.926747</td>\n      <td>0.954036</td>\n      <td>0.933214</td>\n      <td>0.095238</td>\n      <td>0.954036</td>\n      <td>0.036468</td>\n      <td>0.128104</td>\n      <td>0.042676</td>\n      <td>0.000000</td>\n      <td>0.973684</td>\n      <td>...</td>\n      <td>0.030846</td>\n      <td>0.0</td>\n      <td>0.0524</td>\n      <td>0.003098</td>\n      <td>0.2112</td>\n      <td>0.885799</td>\n      <td>0.083975</td>\n      <td>0.079208</td>\n      <td>0.025429</td>\n      <td>0.643044</td>\n    </tr>\n    <tr>\n      <th>119879</th>\n      <td>0.879609</td>\n      <td>0.953067</td>\n      <td>0.934629</td>\n      <td>0.047619</td>\n      <td>0.953067</td>\n      <td>0.063340</td>\n      <td>0.143389</td>\n      <td>0.057670</td>\n      <td>0.004728</td>\n      <td>0.757576</td>\n      <td>...</td>\n      <td>0.313143</td>\n      <td>0.0</td>\n      <td>0.0790</td>\n      <td>0.000824</td>\n      <td>0.3104</td>\n      <td>0.848689</td>\n      <td>0.041987</td>\n      <td>0.099010</td>\n      <td>0.004346</td>\n      <td>0.642528</td>\n    </tr>\n    <tr>\n      <th>103694</th>\n      <td>0.887663</td>\n      <td>0.897436</td>\n      <td>0.857143</td>\n      <td>0.095238</td>\n      <td>0.897436</td>\n      <td>0.039347</td>\n      <td>0.197140</td>\n      <td>0.042676</td>\n      <td>0.007092</td>\n      <td>0.902439</td>\n      <td>...</td>\n      <td>0.000000</td>\n      <td>0.0</td>\n      <td>0.1400</td>\n      <td>0.048946</td>\n      <td>0.2520</td>\n      <td>0.570190</td>\n      <td>0.044087</td>\n      <td>0.069307</td>\n      <td>0.108922</td>\n      <td>0.642390</td>\n    </tr>\n    <tr>\n      <th>131932</th>\n      <td>0.936765</td>\n      <td>0.954554</td>\n      <td>0.936700</td>\n      <td>0.047619</td>\n      <td>0.954554</td>\n      <td>0.023992</td>\n      <td>0.168032</td>\n      <td>0.027682</td>\n      <td>0.000000</td>\n      <td>0.960000</td>\n      <td>...</td>\n      <td>0.104641</td>\n      <td>1.0</td>\n      <td>0.0661</td>\n      <td>0.778283</td>\n      <td>0.1896</td>\n      <td>0.774389</td>\n      <td>0.332400</td>\n      <td>0.064906</td>\n      <td>0.878663</td>\n      <td>0.642528</td>\n    </tr>\n    <tr>\n      <th>121958</th>\n      <td>0.899852</td>\n      <td>0.955667</td>\n      <td>0.940986</td>\n      <td>0.238095</td>\n      <td>0.957631</td>\n      <td>0.043186</td>\n      <td>0.047187</td>\n      <td>0.027682</td>\n      <td>0.000000</td>\n      <td>0.533333</td>\n      <td>...</td>\n      <td>0.070025</td>\n      <td>0.0</td>\n      <td>0.0227</td>\n      <td>0.003678</td>\n      <td>0.2872</td>\n      <td>0.814213</td>\n      <td>0.031491</td>\n      <td>0.099010</td>\n      <td>0.003968</td>\n      <td>0.643017</td>\n    </tr>\n  </tbody>\n</table>\n<p>112992 rows × 50 columns</p>\n</div>"
     },
     "execution_count": 11,
     "metadata": {},
     "output_type": "execute_result"
    }
   ],
   "source": [
    "X_train_reduced"
   ],
   "metadata": {
    "collapsed": false,
    "ExecuteTime": {
     "end_time": "2023-08-26T14:14:43.674061Z",
     "start_time": "2023-08-26T14:14:43.609220Z"
    }
   }
  },
  {
   "cell_type": "code",
   "execution_count": 12,
   "outputs": [],
   "source": [
    "from sklearn.svm import SVC\n",
    "from sklearn.naive_bayes import BernoulliNB"
   ],
   "metadata": {
    "collapsed": false,
    "ExecuteTime": {
     "end_time": "2023-08-26T14:14:48.581391Z",
     "start_time": "2023-08-26T14:14:48.532653Z"
    }
   }
  },
  {
   "cell_type": "code",
   "execution_count": null,
   "outputs": [],
   "source": [
    "# #Train the model\n",
    "# rbf_kernel_svm_clf = SVC(kernel=\"rbf\", gamma=0.05, C=1000)\n",
    "# rbf_kernel_svm_clf.fit(X_train_reduced, y_train)"
   ],
   "metadata": {
    "collapsed": false,
    "ExecuteTime": {
     "start_time": "2023-08-26T12:23:43.916338Z"
    }
   }
  },
  {
   "cell_type": "code",
   "execution_count": null,
   "outputs": [],
   "source": [
    "# # Evaluate model\n",
    "# y_train_pred = rbf_kernel_svm_clf.predict(X_train_reduced)\n",
    "# y_val_pred = rbf_kernel_svm_clf.predict(X_val_reduced)\n",
    "#\n",
    "# print(\"F1 score train:\", f1_score(y_train_pred, y_train, pos_label=1))\n",
    "# print(\"F1 score val:\", f1_score(y_val_pred, y_val, pos_label=1))"
   ],
   "metadata": {
    "collapsed": false
   }
  },
  {
   "cell_type": "code",
   "execution_count": 14,
   "outputs": [
    {
     "data": {
      "text/plain": "BernoulliNB(alpha=1e-10)",
      "text/html": "<style>#sk-container-id-3 {color: black;}#sk-container-id-3 pre{padding: 0;}#sk-container-id-3 div.sk-toggleable {background-color: white;}#sk-container-id-3 label.sk-toggleable__label {cursor: pointer;display: block;width: 100%;margin-bottom: 0;padding: 0.3em;box-sizing: border-box;text-align: center;}#sk-container-id-3 label.sk-toggleable__label-arrow:before {content: \"▸\";float: left;margin-right: 0.25em;color: #696969;}#sk-container-id-3 label.sk-toggleable__label-arrow:hover:before {color: black;}#sk-container-id-3 div.sk-estimator:hover label.sk-toggleable__label-arrow:before {color: black;}#sk-container-id-3 div.sk-toggleable__content {max-height: 0;max-width: 0;overflow: hidden;text-align: left;background-color: #f0f8ff;}#sk-container-id-3 div.sk-toggleable__content pre {margin: 0.2em;color: black;border-radius: 0.25em;background-color: #f0f8ff;}#sk-container-id-3 input.sk-toggleable__control:checked~div.sk-toggleable__content {max-height: 200px;max-width: 100%;overflow: auto;}#sk-container-id-3 input.sk-toggleable__control:checked~label.sk-toggleable__label-arrow:before {content: \"▾\";}#sk-container-id-3 div.sk-estimator input.sk-toggleable__control:checked~label.sk-toggleable__label {background-color: #d4ebff;}#sk-container-id-3 div.sk-label input.sk-toggleable__control:checked~label.sk-toggleable__label {background-color: #d4ebff;}#sk-container-id-3 input.sk-hidden--visually {border: 0;clip: rect(1px 1px 1px 1px);clip: rect(1px, 1px, 1px, 1px);height: 1px;margin: -1px;overflow: hidden;padding: 0;position: absolute;width: 1px;}#sk-container-id-3 div.sk-estimator {font-family: monospace;background-color: #f0f8ff;border: 1px dotted black;border-radius: 0.25em;box-sizing: border-box;margin-bottom: 0.5em;}#sk-container-id-3 div.sk-estimator:hover {background-color: #d4ebff;}#sk-container-id-3 div.sk-parallel-item::after {content: \"\";width: 100%;border-bottom: 1px solid gray;flex-grow: 1;}#sk-container-id-3 div.sk-label:hover label.sk-toggleable__label {background-color: #d4ebff;}#sk-container-id-3 div.sk-serial::before {content: \"\";position: absolute;border-left: 1px solid gray;box-sizing: border-box;top: 0;bottom: 0;left: 50%;z-index: 0;}#sk-container-id-3 div.sk-serial {display: flex;flex-direction: column;align-items: center;background-color: white;padding-right: 0.2em;padding-left: 0.2em;position: relative;}#sk-container-id-3 div.sk-item {position: relative;z-index: 1;}#sk-container-id-3 div.sk-parallel {display: flex;align-items: stretch;justify-content: center;background-color: white;position: relative;}#sk-container-id-3 div.sk-item::before, #sk-container-id-3 div.sk-parallel-item::before {content: \"\";position: absolute;border-left: 1px solid gray;box-sizing: border-box;top: 0;bottom: 0;left: 50%;z-index: -1;}#sk-container-id-3 div.sk-parallel-item {display: flex;flex-direction: column;z-index: 1;position: relative;background-color: white;}#sk-container-id-3 div.sk-parallel-item:first-child::after {align-self: flex-end;width: 50%;}#sk-container-id-3 div.sk-parallel-item:last-child::after {align-self: flex-start;width: 50%;}#sk-container-id-3 div.sk-parallel-item:only-child::after {width: 0;}#sk-container-id-3 div.sk-dashed-wrapped {border: 1px dashed gray;margin: 0 0.4em 0.5em 0.4em;box-sizing: border-box;padding-bottom: 0.4em;background-color: white;}#sk-container-id-3 div.sk-label label {font-family: monospace;font-weight: bold;display: inline-block;line-height: 1.2em;}#sk-container-id-3 div.sk-label-container {text-align: center;}#sk-container-id-3 div.sk-container {/* jupyter's `normalize.less` sets `[hidden] { display: none; }` but bootstrap.min.css set `[hidden] { display: none !important; }` so we also need the `!important` here to be able to override the default hidden behavior on the sphinx rendered scikit-learn.org. See: https://github.com/scikit-learn/scikit-learn/issues/21755 */display: inline-block !important;position: relative;}#sk-container-id-3 div.sk-text-repr-fallback {display: none;}</style><div id=\"sk-container-id-3\" class=\"sk-top-container\"><div class=\"sk-text-repr-fallback\"><pre>BernoulliNB(alpha=1e-10)</pre><b>In a Jupyter environment, please rerun this cell to show the HTML representation or trust the notebook. <br />On GitHub, the HTML representation is unable to render, please try loading this page with nbviewer.org.</b></div><div class=\"sk-container\" hidden><div class=\"sk-item\"><div class=\"sk-estimator sk-toggleable\"><input class=\"sk-toggleable__control sk-hidden--visually\" id=\"sk-estimator-id-3\" type=\"checkbox\" checked><label for=\"sk-estimator-id-3\" class=\"sk-toggleable__label sk-toggleable__label-arrow\">BernoulliNB</label><div class=\"sk-toggleable__content\"><pre>BernoulliNB(alpha=1e-10)</pre></div></div></div></div></div>"
     },
     "execution_count": 14,
     "metadata": {},
     "output_type": "execute_result"
    }
   ],
   "source": [
    "#Define model and train\n",
    "nb_clf = BernoulliNB(alpha=1.0e-10)\n",
    "nb_clf.fit(X_train_reduced, y_train)"
   ],
   "metadata": {
    "collapsed": false,
    "ExecuteTime": {
     "end_time": "2023-08-26T14:17:44.290127Z",
     "start_time": "2023-08-26T14:17:44.059604Z"
    }
   }
  },
  {
   "cell_type": "code",
   "execution_count": 15,
   "outputs": [
    {
     "name": "stdout",
     "output_type": "stream",
     "text": [
      "F1 score train: 0.5466918582274938\n",
      "F1 score val: 0.5423019431988043\n"
     ]
    }
   ],
   "source": [
    "# Evaluate model\n",
    "y_train_pred = nb_clf.predict(X_train_reduced)\n",
    "y_val_pred = nb_clf.predict(X_val_reduced)\n",
    "\n",
    "print(\"F1 score train:\", f1_score(y_train_pred, y_train, pos_label=1))\n",
    "print(\"F1 score val:\", f1_score(y_val_pred, y_val, pos_label=1))"
   ],
   "metadata": {
    "collapsed": false,
    "ExecuteTime": {
     "end_time": "2023-08-26T14:17:55.748392Z",
     "start_time": "2023-08-26T14:17:55.561Z"
    }
   }
  },
  {
   "cell_type": "code",
   "execution_count": 32,
   "outputs": [
    {
     "data": {
      "text/plain": "RandomForestClassifier(max_depth=12, min_samples_split=8, n_estimators=45,\n                       n_jobs=-1, random_state=42)",
      "text/html": "<style>#sk-container-id-12 {color: black;}#sk-container-id-12 pre{padding: 0;}#sk-container-id-12 div.sk-toggleable {background-color: white;}#sk-container-id-12 label.sk-toggleable__label {cursor: pointer;display: block;width: 100%;margin-bottom: 0;padding: 0.3em;box-sizing: border-box;text-align: center;}#sk-container-id-12 label.sk-toggleable__label-arrow:before {content: \"▸\";float: left;margin-right: 0.25em;color: #696969;}#sk-container-id-12 label.sk-toggleable__label-arrow:hover:before {color: black;}#sk-container-id-12 div.sk-estimator:hover label.sk-toggleable__label-arrow:before {color: black;}#sk-container-id-12 div.sk-toggleable__content {max-height: 0;max-width: 0;overflow: hidden;text-align: left;background-color: #f0f8ff;}#sk-container-id-12 div.sk-toggleable__content pre {margin: 0.2em;color: black;border-radius: 0.25em;background-color: #f0f8ff;}#sk-container-id-12 input.sk-toggleable__control:checked~div.sk-toggleable__content {max-height: 200px;max-width: 100%;overflow: auto;}#sk-container-id-12 input.sk-toggleable__control:checked~label.sk-toggleable__label-arrow:before {content: \"▾\";}#sk-container-id-12 div.sk-estimator input.sk-toggleable__control:checked~label.sk-toggleable__label {background-color: #d4ebff;}#sk-container-id-12 div.sk-label input.sk-toggleable__control:checked~label.sk-toggleable__label {background-color: #d4ebff;}#sk-container-id-12 input.sk-hidden--visually {border: 0;clip: rect(1px 1px 1px 1px);clip: rect(1px, 1px, 1px, 1px);height: 1px;margin: -1px;overflow: hidden;padding: 0;position: absolute;width: 1px;}#sk-container-id-12 div.sk-estimator {font-family: monospace;background-color: #f0f8ff;border: 1px dotted black;border-radius: 0.25em;box-sizing: border-box;margin-bottom: 0.5em;}#sk-container-id-12 div.sk-estimator:hover {background-color: #d4ebff;}#sk-container-id-12 div.sk-parallel-item::after {content: \"\";width: 100%;border-bottom: 1px solid gray;flex-grow: 1;}#sk-container-id-12 div.sk-label:hover label.sk-toggleable__label {background-color: #d4ebff;}#sk-container-id-12 div.sk-serial::before {content: \"\";position: absolute;border-left: 1px solid gray;box-sizing: border-box;top: 0;bottom: 0;left: 50%;z-index: 0;}#sk-container-id-12 div.sk-serial {display: flex;flex-direction: column;align-items: center;background-color: white;padding-right: 0.2em;padding-left: 0.2em;position: relative;}#sk-container-id-12 div.sk-item {position: relative;z-index: 1;}#sk-container-id-12 div.sk-parallel {display: flex;align-items: stretch;justify-content: center;background-color: white;position: relative;}#sk-container-id-12 div.sk-item::before, #sk-container-id-12 div.sk-parallel-item::before {content: \"\";position: absolute;border-left: 1px solid gray;box-sizing: border-box;top: 0;bottom: 0;left: 50%;z-index: -1;}#sk-container-id-12 div.sk-parallel-item {display: flex;flex-direction: column;z-index: 1;position: relative;background-color: white;}#sk-container-id-12 div.sk-parallel-item:first-child::after {align-self: flex-end;width: 50%;}#sk-container-id-12 div.sk-parallel-item:last-child::after {align-self: flex-start;width: 50%;}#sk-container-id-12 div.sk-parallel-item:only-child::after {width: 0;}#sk-container-id-12 div.sk-dashed-wrapped {border: 1px dashed gray;margin: 0 0.4em 0.5em 0.4em;box-sizing: border-box;padding-bottom: 0.4em;background-color: white;}#sk-container-id-12 div.sk-label label {font-family: monospace;font-weight: bold;display: inline-block;line-height: 1.2em;}#sk-container-id-12 div.sk-label-container {text-align: center;}#sk-container-id-12 div.sk-container {/* jupyter's `normalize.less` sets `[hidden] { display: none; }` but bootstrap.min.css set `[hidden] { display: none !important; }` so we also need the `!important` here to be able to override the default hidden behavior on the sphinx rendered scikit-learn.org. See: https://github.com/scikit-learn/scikit-learn/issues/21755 */display: inline-block !important;position: relative;}#sk-container-id-12 div.sk-text-repr-fallback {display: none;}</style><div id=\"sk-container-id-12\" class=\"sk-top-container\"><div class=\"sk-text-repr-fallback\"><pre>RandomForestClassifier(max_depth=12, min_samples_split=8, n_estimators=45,\n                       n_jobs=-1, random_state=42)</pre><b>In a Jupyter environment, please rerun this cell to show the HTML representation or trust the notebook. <br />On GitHub, the HTML representation is unable to render, please try loading this page with nbviewer.org.</b></div><div class=\"sk-container\" hidden><div class=\"sk-item\"><div class=\"sk-estimator sk-toggleable\"><input class=\"sk-toggleable__control sk-hidden--visually\" id=\"sk-estimator-id-12\" type=\"checkbox\" checked><label for=\"sk-estimator-id-12\" class=\"sk-toggleable__label sk-toggleable__label-arrow\">RandomForestClassifier</label><div class=\"sk-toggleable__content\"><pre>RandomForestClassifier(max_depth=12, min_samples_split=8, n_estimators=45,\n                       n_jobs=-1, random_state=42)</pre></div></div></div></div></div>"
     },
     "execution_count": 32,
     "metadata": {},
     "output_type": "execute_result"
    }
   ],
   "source": [
    "clf_rnd_wr = RandomForestClassifier(n_estimators=45, max_depth=12, min_samples_split=8, random_state=42, n_jobs=-1)\n",
    "clf_rnd_wr.fit(X_train_reduced, y_train)"
   ],
   "metadata": {
    "collapsed": false,
    "ExecuteTime": {
     "end_time": "2023-08-26T14:29:07.187272Z",
     "start_time": "2023-08-26T14:28:58.532405Z"
    }
   }
  },
  {
   "cell_type": "code",
   "execution_count": 33,
   "outputs": [
    {
     "name": "stdout",
     "output_type": "stream",
     "text": [
      "F1 score train: 0.7042996335031732\n",
      "F1 score val: 0.6250189998480011\n"
     ]
    }
   ],
   "source": [
    "# Evaluate model\n",
    "y_train_pred = clf_rnd_wr.predict(X_train_reduced)\n",
    "y_val_pred = clf_rnd_wr.predict(X_val_reduced)\n",
    "\n",
    "print(\"F1 score train:\", f1_score(y_train_pred, y_train, pos_label=1))\n",
    "print(\"F1 score val:\", f1_score(y_val_pred, y_val, pos_label=1))"
   ],
   "metadata": {
    "collapsed": false,
    "ExecuteTime": {
     "end_time": "2023-08-26T14:29:07.664427Z",
     "start_time": "2023-08-26T14:29:07.192174Z"
    }
   }
  },
  {
   "cell_type": "code",
   "execution_count": 35,
   "outputs": [],
   "source": [
    "X_shuffled, y_shuffled = shuffle(X_train_reduced, y_train, random_state=42)"
   ],
   "metadata": {
    "collapsed": false,
    "ExecuteTime": {
     "end_time": "2023-08-26T14:40:51.687672Z",
     "start_time": "2023-08-26T14:40:51.504318Z"
    }
   }
  },
  {
   "cell_type": "code",
   "execution_count": 36,
   "outputs": [
    {
     "data": {
      "text/plain": "RandomForestClassifier(max_depth=12, min_samples_split=8, n_estimators=45,\n                       n_jobs=-1, random_state=42)",
      "text/html": "<style>#sk-container-id-13 {color: black;}#sk-container-id-13 pre{padding: 0;}#sk-container-id-13 div.sk-toggleable {background-color: white;}#sk-container-id-13 label.sk-toggleable__label {cursor: pointer;display: block;width: 100%;margin-bottom: 0;padding: 0.3em;box-sizing: border-box;text-align: center;}#sk-container-id-13 label.sk-toggleable__label-arrow:before {content: \"▸\";float: left;margin-right: 0.25em;color: #696969;}#sk-container-id-13 label.sk-toggleable__label-arrow:hover:before {color: black;}#sk-container-id-13 div.sk-estimator:hover label.sk-toggleable__label-arrow:before {color: black;}#sk-container-id-13 div.sk-toggleable__content {max-height: 0;max-width: 0;overflow: hidden;text-align: left;background-color: #f0f8ff;}#sk-container-id-13 div.sk-toggleable__content pre {margin: 0.2em;color: black;border-radius: 0.25em;background-color: #f0f8ff;}#sk-container-id-13 input.sk-toggleable__control:checked~div.sk-toggleable__content {max-height: 200px;max-width: 100%;overflow: auto;}#sk-container-id-13 input.sk-toggleable__control:checked~label.sk-toggleable__label-arrow:before {content: \"▾\";}#sk-container-id-13 div.sk-estimator input.sk-toggleable__control:checked~label.sk-toggleable__label {background-color: #d4ebff;}#sk-container-id-13 div.sk-label input.sk-toggleable__control:checked~label.sk-toggleable__label {background-color: #d4ebff;}#sk-container-id-13 input.sk-hidden--visually {border: 0;clip: rect(1px 1px 1px 1px);clip: rect(1px, 1px, 1px, 1px);height: 1px;margin: -1px;overflow: hidden;padding: 0;position: absolute;width: 1px;}#sk-container-id-13 div.sk-estimator {font-family: monospace;background-color: #f0f8ff;border: 1px dotted black;border-radius: 0.25em;box-sizing: border-box;margin-bottom: 0.5em;}#sk-container-id-13 div.sk-estimator:hover {background-color: #d4ebff;}#sk-container-id-13 div.sk-parallel-item::after {content: \"\";width: 100%;border-bottom: 1px solid gray;flex-grow: 1;}#sk-container-id-13 div.sk-label:hover label.sk-toggleable__label {background-color: #d4ebff;}#sk-container-id-13 div.sk-serial::before {content: \"\";position: absolute;border-left: 1px solid gray;box-sizing: border-box;top: 0;bottom: 0;left: 50%;z-index: 0;}#sk-container-id-13 div.sk-serial {display: flex;flex-direction: column;align-items: center;background-color: white;padding-right: 0.2em;padding-left: 0.2em;position: relative;}#sk-container-id-13 div.sk-item {position: relative;z-index: 1;}#sk-container-id-13 div.sk-parallel {display: flex;align-items: stretch;justify-content: center;background-color: white;position: relative;}#sk-container-id-13 div.sk-item::before, #sk-container-id-13 div.sk-parallel-item::before {content: \"\";position: absolute;border-left: 1px solid gray;box-sizing: border-box;top: 0;bottom: 0;left: 50%;z-index: -1;}#sk-container-id-13 div.sk-parallel-item {display: flex;flex-direction: column;z-index: 1;position: relative;background-color: white;}#sk-container-id-13 div.sk-parallel-item:first-child::after {align-self: flex-end;width: 50%;}#sk-container-id-13 div.sk-parallel-item:last-child::after {align-self: flex-start;width: 50%;}#sk-container-id-13 div.sk-parallel-item:only-child::after {width: 0;}#sk-container-id-13 div.sk-dashed-wrapped {border: 1px dashed gray;margin: 0 0.4em 0.5em 0.4em;box-sizing: border-box;padding-bottom: 0.4em;background-color: white;}#sk-container-id-13 div.sk-label label {font-family: monospace;font-weight: bold;display: inline-block;line-height: 1.2em;}#sk-container-id-13 div.sk-label-container {text-align: center;}#sk-container-id-13 div.sk-container {/* jupyter's `normalize.less` sets `[hidden] { display: none; }` but bootstrap.min.css set `[hidden] { display: none !important; }` so we also need the `!important` here to be able to override the default hidden behavior on the sphinx rendered scikit-learn.org. See: https://github.com/scikit-learn/scikit-learn/issues/21755 */display: inline-block !important;position: relative;}#sk-container-id-13 div.sk-text-repr-fallback {display: none;}</style><div id=\"sk-container-id-13\" class=\"sk-top-container\"><div class=\"sk-text-repr-fallback\"><pre>RandomForestClassifier(max_depth=12, min_samples_split=8, n_estimators=45,\n                       n_jobs=-1, random_state=42)</pre><b>In a Jupyter environment, please rerun this cell to show the HTML representation or trust the notebook. <br />On GitHub, the HTML representation is unable to render, please try loading this page with nbviewer.org.</b></div><div class=\"sk-container\" hidden><div class=\"sk-item\"><div class=\"sk-estimator sk-toggleable\"><input class=\"sk-toggleable__control sk-hidden--visually\" id=\"sk-estimator-id-13\" type=\"checkbox\" checked><label for=\"sk-estimator-id-13\" class=\"sk-toggleable__label sk-toggleable__label-arrow\">RandomForestClassifier</label><div class=\"sk-toggleable__content\"><pre>RandomForestClassifier(max_depth=12, min_samples_split=8, n_estimators=45,\n                       n_jobs=-1, random_state=42)</pre></div></div></div></div></div>"
     },
     "execution_count": 36,
     "metadata": {},
     "output_type": "execute_result"
    }
   ],
   "source": [
    "clf_rnd_wr = RandomForestClassifier(n_estimators=45, max_depth=12, min_samples_split=8, random_state=42, n_jobs=-1)\n",
    "clf_rnd_wr.fit(X_shuffled, y_shuffled)"
   ],
   "metadata": {
    "collapsed": false,
    "ExecuteTime": {
     "end_time": "2023-08-26T14:41:28.090804Z",
     "start_time": "2023-08-26T14:41:19.143274Z"
    }
   }
  },
  {
   "cell_type": "code",
   "execution_count": 38,
   "outputs": [
    {
     "name": "stdout",
     "output_type": "stream",
     "text": [
      "F1 score train: 0.7070918746585708\n",
      "F1 score val: 0.6205527561459765\n"
     ]
    }
   ],
   "source": [
    "# Evaluate model\n",
    "y_train_pred = clf_rnd_wr.predict(X_shuffled)\n",
    "y_val_pred = clf_rnd_wr.predict(X_val_reduced)\n",
    "\n",
    "print(\"F1 score train:\", f1_score(y_train_pred, y_shuffled, pos_label=1))\n",
    "print(\"F1 score val:\", f1_score(y_val_pred, y_val, pos_label=1))"
   ],
   "metadata": {
    "collapsed": false,
    "ExecuteTime": {
     "end_time": "2023-08-26T14:47:40.247193Z",
     "start_time": "2023-08-26T14:47:39.425654Z"
    }
   }
  },
  {
   "cell_type": "code",
   "execution_count": 39,
   "outputs": [],
   "source": [
    "X = df.drop(\"target\", axis=1)\n",
    "y = df[\"target\"].copy()"
   ],
   "metadata": {
    "collapsed": false,
    "ExecuteTime": {
     "end_time": "2023-08-26T14:54:50.443689Z",
     "start_time": "2023-08-26T14:54:49.250991Z"
    }
   }
  },
  {
   "cell_type": "code",
   "execution_count": null,
   "outputs": [],
   "source": [],
   "metadata": {
    "collapsed": false
   }
  }
 ],
 "metadata": {
  "kernelspec": {
   "display_name": "Python 3",
   "language": "python",
   "name": "python3"
  },
  "language_info": {
   "codemirror_mode": {
    "name": "ipython",
    "version": 2
   },
   "file_extension": ".py",
   "mimetype": "text/x-python",
   "name": "python",
   "nbconvert_exporter": "python",
   "pygments_lexer": "ipython2",
   "version": "2.7.6"
  }
 },
 "nbformat": 4,
 "nbformat_minor": 0
}
