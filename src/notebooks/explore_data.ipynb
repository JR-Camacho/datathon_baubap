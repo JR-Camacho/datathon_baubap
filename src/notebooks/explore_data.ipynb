{
 "cells": [
  {
   "cell_type": "markdown",
   "source": [
    "Explore the data"
   ],
   "metadata": {
    "collapsed": false
   }
  },
  {
   "cell_type": "code",
   "execution_count": 22,
   "outputs": [],
   "source": [
    "#Import libraries\n",
    "import pandas as pd\n",
    "import numpy as np\n",
    "import matplotlib.pyplot as plt\n",
    "import matplotlib.gridspec as gridspec\n",
    "import seaborn as sns"
   ],
   "metadata": {
    "collapsed": false,
    "ExecuteTime": {
     "end_time": "2023-08-25T21:18:40.814829Z",
     "start_time": "2023-08-25T21:18:40.754393Z"
    }
   }
  },
  {
   "cell_type": "code",
   "execution_count": 23,
   "outputs": [],
   "source": [
    "#Load the data\n",
    "DATASET_PATH = \"../../data/raw/nn_challenge_train.pkl\"\n",
    "df = pd.read_pickle(DATASET_PATH)"
   ],
   "metadata": {
    "collapsed": false,
    "ExecuteTime": {
     "end_time": "2023-08-25T21:18:47.036354Z",
     "start_time": "2023-08-25T21:18:42.070433Z"
    }
   }
  },
  {
   "cell_type": "code",
   "execution_count": 24,
   "outputs": [
    {
     "data": {
      "text/plain": "        feature_1  feature_2  feature_3  feature_4  feature_5  feature_6  \\\n0        0.554222        1.0        0.0   0.000000   0.398189   0.000000   \n1        0.521013        0.5        0.0        NaN   0.299222   0.000649   \n2        0.545612        1.0        0.0   0.000102   0.248790   0.000000   \n3        0.593774        0.5        0.0   0.000000   0.412052   0.001299   \n4        0.278900        0.0        0.0   0.000000   0.160199   0.009740   \n...           ...        ...        ...        ...        ...        ...   \n472417   0.423788        0.0        0.0   0.000000   0.485636   0.018182   \n472418   0.539659        0.5        0.0   0.000105   0.158255   0.005844   \n472419   0.435566        0.5        0.0   0.000164   0.423629   0.003247   \n472420   0.395057        0.5        0.0   0.000000   0.340654   0.010390   \n472421   0.340031        0.0        0.0   0.000000   0.383177   0.004545   \n\n        feature_7  feature_8  feature_9  feature_10  ...  feature_210  \\\n0        0.190514   0.774141   0.004995    0.666667  ...     0.000000   \n1        0.000000   0.827157   0.000668    0.000000  ...     0.000000   \n2        0.571429   0.851531   0.000604    0.000000  ...     0.206293   \n3        0.087886   0.559571   0.002227    0.333333  ...     0.026009   \n4        0.134400   0.841197   0.000700    0.833333  ...     0.049540   \n...           ...        ...        ...         ...  ...          ...   \n472417   0.285714   0.792730   0.004645    0.333333  ...     0.000000   \n472418   0.114286   0.517002   0.002545    0.500000  ...     0.112360   \n472419   0.142857   0.801128   0.000859    0.666667  ...     0.064070   \n472420   0.285714   0.731666   0.000700    0.000000  ...     0.039394   \n472421   0.285714   0.877686   0.001145    0.000000  ...     0.045928   \n\n        feature_211  feature_212  feature_213  feature_214  feature_215  \\\n0          0.000000     0.000000      0.00000     0.000000     0.000000   \n1          0.000000     0.000000      0.00000     0.000000     0.000000   \n2          0.022686     0.000562      0.50000     0.116689     0.566809   \n3          0.074658     0.003375      1.00000     0.025595     0.097360   \n4          0.064444     0.003375      0.85715     0.032973     0.131737   \n...             ...          ...          ...          ...          ...   \n472417     0.000000     0.000000      0.00000     0.000000     0.000000   \n472418     0.020824     0.004499      0.85000     0.042598     0.189578   \n472419     0.030698     0.016873      0.92645     0.031424     0.202529   \n472420     0.112085     0.000562      0.50000     0.040467     0.101130   \n472421     0.059760     0.002812      0.90000     0.030159     0.114229   \n\n       feature_216  feature_217  feature_218  target  \n0         0.000000     0.000000          1.0       1  \n1         0.000000     0.000000          1.0       1  \n2         0.020597     0.020891          1.0       1  \n3         0.020597     0.002580          0.0       1  \n4         0.020597     0.002613          1.0       1  \n...            ...          ...          ...     ...  \n472417    0.000000     0.000000          1.0       1  \n472418    0.020597     0.003336          1.0       1  \n472419    0.020597     0.004713          0.0       1  \n472420    0.112085     0.001517          1.0       1  \n472421    0.023433     0.003758          1.0       1  \n\n[472422 rows x 219 columns]",
      "text/html": "<div>\n<style scoped>\n    .dataframe tbody tr th:only-of-type {\n        vertical-align: middle;\n    }\n\n    .dataframe tbody tr th {\n        vertical-align: top;\n    }\n\n    .dataframe thead th {\n        text-align: right;\n    }\n</style>\n<table border=\"1\" class=\"dataframe\">\n  <thead>\n    <tr style=\"text-align: right;\">\n      <th></th>\n      <th>feature_1</th>\n      <th>feature_2</th>\n      <th>feature_3</th>\n      <th>feature_4</th>\n      <th>feature_5</th>\n      <th>feature_6</th>\n      <th>feature_7</th>\n      <th>feature_8</th>\n      <th>feature_9</th>\n      <th>feature_10</th>\n      <th>...</th>\n      <th>feature_210</th>\n      <th>feature_211</th>\n      <th>feature_212</th>\n      <th>feature_213</th>\n      <th>feature_214</th>\n      <th>feature_215</th>\n      <th>feature_216</th>\n      <th>feature_217</th>\n      <th>feature_218</th>\n      <th>target</th>\n    </tr>\n  </thead>\n  <tbody>\n    <tr>\n      <th>0</th>\n      <td>0.554222</td>\n      <td>1.0</td>\n      <td>0.0</td>\n      <td>0.000000</td>\n      <td>0.398189</td>\n      <td>0.000000</td>\n      <td>0.190514</td>\n      <td>0.774141</td>\n      <td>0.004995</td>\n      <td>0.666667</td>\n      <td>...</td>\n      <td>0.000000</td>\n      <td>0.000000</td>\n      <td>0.000000</td>\n      <td>0.00000</td>\n      <td>0.000000</td>\n      <td>0.000000</td>\n      <td>0.000000</td>\n      <td>0.000000</td>\n      <td>1.0</td>\n      <td>1</td>\n    </tr>\n    <tr>\n      <th>1</th>\n      <td>0.521013</td>\n      <td>0.5</td>\n      <td>0.0</td>\n      <td>NaN</td>\n      <td>0.299222</td>\n      <td>0.000649</td>\n      <td>0.000000</td>\n      <td>0.827157</td>\n      <td>0.000668</td>\n      <td>0.000000</td>\n      <td>...</td>\n      <td>0.000000</td>\n      <td>0.000000</td>\n      <td>0.000000</td>\n      <td>0.00000</td>\n      <td>0.000000</td>\n      <td>0.000000</td>\n      <td>0.000000</td>\n      <td>0.000000</td>\n      <td>1.0</td>\n      <td>1</td>\n    </tr>\n    <tr>\n      <th>2</th>\n      <td>0.545612</td>\n      <td>1.0</td>\n      <td>0.0</td>\n      <td>0.000102</td>\n      <td>0.248790</td>\n      <td>0.000000</td>\n      <td>0.571429</td>\n      <td>0.851531</td>\n      <td>0.000604</td>\n      <td>0.000000</td>\n      <td>...</td>\n      <td>0.206293</td>\n      <td>0.022686</td>\n      <td>0.000562</td>\n      <td>0.50000</td>\n      <td>0.116689</td>\n      <td>0.566809</td>\n      <td>0.020597</td>\n      <td>0.020891</td>\n      <td>1.0</td>\n      <td>1</td>\n    </tr>\n    <tr>\n      <th>3</th>\n      <td>0.593774</td>\n      <td>0.5</td>\n      <td>0.0</td>\n      <td>0.000000</td>\n      <td>0.412052</td>\n      <td>0.001299</td>\n      <td>0.087886</td>\n      <td>0.559571</td>\n      <td>0.002227</td>\n      <td>0.333333</td>\n      <td>...</td>\n      <td>0.026009</td>\n      <td>0.074658</td>\n      <td>0.003375</td>\n      <td>1.00000</td>\n      <td>0.025595</td>\n      <td>0.097360</td>\n      <td>0.020597</td>\n      <td>0.002580</td>\n      <td>0.0</td>\n      <td>1</td>\n    </tr>\n    <tr>\n      <th>4</th>\n      <td>0.278900</td>\n      <td>0.0</td>\n      <td>0.0</td>\n      <td>0.000000</td>\n      <td>0.160199</td>\n      <td>0.009740</td>\n      <td>0.134400</td>\n      <td>0.841197</td>\n      <td>0.000700</td>\n      <td>0.833333</td>\n      <td>...</td>\n      <td>0.049540</td>\n      <td>0.064444</td>\n      <td>0.003375</td>\n      <td>0.85715</td>\n      <td>0.032973</td>\n      <td>0.131737</td>\n      <td>0.020597</td>\n      <td>0.002613</td>\n      <td>1.0</td>\n      <td>1</td>\n    </tr>\n    <tr>\n      <th>...</th>\n      <td>...</td>\n      <td>...</td>\n      <td>...</td>\n      <td>...</td>\n      <td>...</td>\n      <td>...</td>\n      <td>...</td>\n      <td>...</td>\n      <td>...</td>\n      <td>...</td>\n      <td>...</td>\n      <td>...</td>\n      <td>...</td>\n      <td>...</td>\n      <td>...</td>\n      <td>...</td>\n      <td>...</td>\n      <td>...</td>\n      <td>...</td>\n      <td>...</td>\n      <td>...</td>\n    </tr>\n    <tr>\n      <th>472417</th>\n      <td>0.423788</td>\n      <td>0.0</td>\n      <td>0.0</td>\n      <td>0.000000</td>\n      <td>0.485636</td>\n      <td>0.018182</td>\n      <td>0.285714</td>\n      <td>0.792730</td>\n      <td>0.004645</td>\n      <td>0.333333</td>\n      <td>...</td>\n      <td>0.000000</td>\n      <td>0.000000</td>\n      <td>0.000000</td>\n      <td>0.00000</td>\n      <td>0.000000</td>\n      <td>0.000000</td>\n      <td>0.000000</td>\n      <td>0.000000</td>\n      <td>1.0</td>\n      <td>1</td>\n    </tr>\n    <tr>\n      <th>472418</th>\n      <td>0.539659</td>\n      <td>0.5</td>\n      <td>0.0</td>\n      <td>0.000105</td>\n      <td>0.158255</td>\n      <td>0.005844</td>\n      <td>0.114286</td>\n      <td>0.517002</td>\n      <td>0.002545</td>\n      <td>0.500000</td>\n      <td>...</td>\n      <td>0.112360</td>\n      <td>0.020824</td>\n      <td>0.004499</td>\n      <td>0.85000</td>\n      <td>0.042598</td>\n      <td>0.189578</td>\n      <td>0.020597</td>\n      <td>0.003336</td>\n      <td>1.0</td>\n      <td>1</td>\n    </tr>\n    <tr>\n      <th>472419</th>\n      <td>0.435566</td>\n      <td>0.5</td>\n      <td>0.0</td>\n      <td>0.000164</td>\n      <td>0.423629</td>\n      <td>0.003247</td>\n      <td>0.142857</td>\n      <td>0.801128</td>\n      <td>0.000859</td>\n      <td>0.666667</td>\n      <td>...</td>\n      <td>0.064070</td>\n      <td>0.030698</td>\n      <td>0.016873</td>\n      <td>0.92645</td>\n      <td>0.031424</td>\n      <td>0.202529</td>\n      <td>0.020597</td>\n      <td>0.004713</td>\n      <td>0.0</td>\n      <td>1</td>\n    </tr>\n    <tr>\n      <th>472420</th>\n      <td>0.395057</td>\n      <td>0.5</td>\n      <td>0.0</td>\n      <td>0.000000</td>\n      <td>0.340654</td>\n      <td>0.010390</td>\n      <td>0.285714</td>\n      <td>0.731666</td>\n      <td>0.000700</td>\n      <td>0.000000</td>\n      <td>...</td>\n      <td>0.039394</td>\n      <td>0.112085</td>\n      <td>0.000562</td>\n      <td>0.50000</td>\n      <td>0.040467</td>\n      <td>0.101130</td>\n      <td>0.112085</td>\n      <td>0.001517</td>\n      <td>1.0</td>\n      <td>1</td>\n    </tr>\n    <tr>\n      <th>472421</th>\n      <td>0.340031</td>\n      <td>0.0</td>\n      <td>0.0</td>\n      <td>0.000000</td>\n      <td>0.383177</td>\n      <td>0.004545</td>\n      <td>0.285714</td>\n      <td>0.877686</td>\n      <td>0.001145</td>\n      <td>0.000000</td>\n      <td>...</td>\n      <td>0.045928</td>\n      <td>0.059760</td>\n      <td>0.002812</td>\n      <td>0.90000</td>\n      <td>0.030159</td>\n      <td>0.114229</td>\n      <td>0.023433</td>\n      <td>0.003758</td>\n      <td>1.0</td>\n      <td>1</td>\n    </tr>\n  </tbody>\n</table>\n<p>472422 rows × 219 columns</p>\n</div>"
     },
     "execution_count": 24,
     "metadata": {},
     "output_type": "execute_result"
    }
   ],
   "source": [
    "df"
   ],
   "metadata": {
    "collapsed": false,
    "ExecuteTime": {
     "end_time": "2023-08-25T21:18:47.500604Z",
     "start_time": "2023-08-25T21:18:47.055058Z"
    }
   }
  },
  {
   "cell_type": "code",
   "execution_count": 25,
   "outputs": [
    {
     "data": {
      "text/plain": "           feature_1      feature_2      feature_3      feature_4  \\\ncount  472422.000000  472420.000000  471254.000000  435576.000000   \nmean        0.518669       0.544020       0.004611       0.000691   \nstd         0.108863       0.324083       0.018434       0.010233   \nmin         0.000000       0.000000       0.000000       0.000000   \n25%         0.445342       0.500000       0.000000       0.000000   \n50%         0.518781       0.500000       0.000000       0.000051   \n75%         0.592213       1.000000       0.000000       0.000147   \nmax         1.000000       1.000000       1.000000       1.000000   \n\n           feature_5      feature_6      feature_7      feature_8  \\\ncount  472422.000000  471256.000000  472422.000000  472422.000000   \nmean        0.312839       0.015258       0.249711       0.727841   \nstd         0.112954       0.025510       0.145240       0.110845   \nmin         0.000000       0.000000       0.000000       0.000000   \n25%         0.227816       0.001948       0.152343       0.662139   \n50%         0.293266       0.006494       0.228571       0.747226   \n75%         0.379608       0.018182       0.326514       0.811302   \nmax         1.000000       1.000000       1.000000       1.000000   \n\n           feature_9     feature_10  ...    feature_210    feature_211  \\\ncount  471256.000000  449700.000000  ...  472420.000000  472420.000000   \nmean        0.001884       0.513358  ...       0.080568       0.091190   \nstd         0.006095       0.318793  ...       0.089586       0.115406   \nmin         0.000000       0.000000  ...       0.000000       0.000000   \n25%         0.000732       0.333333  ...       0.023898       0.020597   \n50%         0.001145       0.500000  ...       0.058742       0.049828   \n75%         0.001909       0.750000  ...       0.110885       0.123073   \nmax         1.000000       1.000000  ...       1.000000       1.000000   \n\n         feature_212    feature_213    feature_214    feature_215  \\\ncount  472420.000000  472420.000000  472420.000000  472420.000000   \nmean        0.003238       0.584832       0.040472       0.154438   \nstd         0.009128       0.358869       0.043787       0.123564   \nmin         0.000000       0.000000       0.000000       0.000000   \n25%         0.000562       0.500000       0.024305       0.093145   \n50%         0.001687       0.727250       0.035991       0.143492   \n75%         0.003937       0.852950       0.051146       0.225993   \nmax         1.000000       1.000000       1.000000       1.000000   \n\n         feature_216    feature_217    feature_218         target  \ncount  472420.000000  472420.000000  471255.000000  472422.000000  \nmean        0.057250       0.004895       0.653336       0.859308  \nstd         0.103643       0.016048       0.475908       0.347704  \nmin         0.000000       0.000000       0.000000       0.000000  \n25%         0.020597       0.001184       0.000000       1.000000  \n50%         0.020597       0.002420       1.000000       1.000000  \n75%         0.037407       0.004468       1.000000       1.000000  \nmax         1.000000       1.000000       1.000000       1.000000  \n\n[8 rows x 208 columns]",
      "text/html": "<div>\n<style scoped>\n    .dataframe tbody tr th:only-of-type {\n        vertical-align: middle;\n    }\n\n    .dataframe tbody tr th {\n        vertical-align: top;\n    }\n\n    .dataframe thead th {\n        text-align: right;\n    }\n</style>\n<table border=\"1\" class=\"dataframe\">\n  <thead>\n    <tr style=\"text-align: right;\">\n      <th></th>\n      <th>feature_1</th>\n      <th>feature_2</th>\n      <th>feature_3</th>\n      <th>feature_4</th>\n      <th>feature_5</th>\n      <th>feature_6</th>\n      <th>feature_7</th>\n      <th>feature_8</th>\n      <th>feature_9</th>\n      <th>feature_10</th>\n      <th>...</th>\n      <th>feature_210</th>\n      <th>feature_211</th>\n      <th>feature_212</th>\n      <th>feature_213</th>\n      <th>feature_214</th>\n      <th>feature_215</th>\n      <th>feature_216</th>\n      <th>feature_217</th>\n      <th>feature_218</th>\n      <th>target</th>\n    </tr>\n  </thead>\n  <tbody>\n    <tr>\n      <th>count</th>\n      <td>472422.000000</td>\n      <td>472420.000000</td>\n      <td>471254.000000</td>\n      <td>435576.000000</td>\n      <td>472422.000000</td>\n      <td>471256.000000</td>\n      <td>472422.000000</td>\n      <td>472422.000000</td>\n      <td>471256.000000</td>\n      <td>449700.000000</td>\n      <td>...</td>\n      <td>472420.000000</td>\n      <td>472420.000000</td>\n      <td>472420.000000</td>\n      <td>472420.000000</td>\n      <td>472420.000000</td>\n      <td>472420.000000</td>\n      <td>472420.000000</td>\n      <td>472420.000000</td>\n      <td>471255.000000</td>\n      <td>472422.000000</td>\n    </tr>\n    <tr>\n      <th>mean</th>\n      <td>0.518669</td>\n      <td>0.544020</td>\n      <td>0.004611</td>\n      <td>0.000691</td>\n      <td>0.312839</td>\n      <td>0.015258</td>\n      <td>0.249711</td>\n      <td>0.727841</td>\n      <td>0.001884</td>\n      <td>0.513358</td>\n      <td>...</td>\n      <td>0.080568</td>\n      <td>0.091190</td>\n      <td>0.003238</td>\n      <td>0.584832</td>\n      <td>0.040472</td>\n      <td>0.154438</td>\n      <td>0.057250</td>\n      <td>0.004895</td>\n      <td>0.653336</td>\n      <td>0.859308</td>\n    </tr>\n    <tr>\n      <th>std</th>\n      <td>0.108863</td>\n      <td>0.324083</td>\n      <td>0.018434</td>\n      <td>0.010233</td>\n      <td>0.112954</td>\n      <td>0.025510</td>\n      <td>0.145240</td>\n      <td>0.110845</td>\n      <td>0.006095</td>\n      <td>0.318793</td>\n      <td>...</td>\n      <td>0.089586</td>\n      <td>0.115406</td>\n      <td>0.009128</td>\n      <td>0.358869</td>\n      <td>0.043787</td>\n      <td>0.123564</td>\n      <td>0.103643</td>\n      <td>0.016048</td>\n      <td>0.475908</td>\n      <td>0.347704</td>\n    </tr>\n    <tr>\n      <th>min</th>\n      <td>0.000000</td>\n      <td>0.000000</td>\n      <td>0.000000</td>\n      <td>0.000000</td>\n      <td>0.000000</td>\n      <td>0.000000</td>\n      <td>0.000000</td>\n      <td>0.000000</td>\n      <td>0.000000</td>\n      <td>0.000000</td>\n      <td>...</td>\n      <td>0.000000</td>\n      <td>0.000000</td>\n      <td>0.000000</td>\n      <td>0.000000</td>\n      <td>0.000000</td>\n      <td>0.000000</td>\n      <td>0.000000</td>\n      <td>0.000000</td>\n      <td>0.000000</td>\n      <td>0.000000</td>\n    </tr>\n    <tr>\n      <th>25%</th>\n      <td>0.445342</td>\n      <td>0.500000</td>\n      <td>0.000000</td>\n      <td>0.000000</td>\n      <td>0.227816</td>\n      <td>0.001948</td>\n      <td>0.152343</td>\n      <td>0.662139</td>\n      <td>0.000732</td>\n      <td>0.333333</td>\n      <td>...</td>\n      <td>0.023898</td>\n      <td>0.020597</td>\n      <td>0.000562</td>\n      <td>0.500000</td>\n      <td>0.024305</td>\n      <td>0.093145</td>\n      <td>0.020597</td>\n      <td>0.001184</td>\n      <td>0.000000</td>\n      <td>1.000000</td>\n    </tr>\n    <tr>\n      <th>50%</th>\n      <td>0.518781</td>\n      <td>0.500000</td>\n      <td>0.000000</td>\n      <td>0.000051</td>\n      <td>0.293266</td>\n      <td>0.006494</td>\n      <td>0.228571</td>\n      <td>0.747226</td>\n      <td>0.001145</td>\n      <td>0.500000</td>\n      <td>...</td>\n      <td>0.058742</td>\n      <td>0.049828</td>\n      <td>0.001687</td>\n      <td>0.727250</td>\n      <td>0.035991</td>\n      <td>0.143492</td>\n      <td>0.020597</td>\n      <td>0.002420</td>\n      <td>1.000000</td>\n      <td>1.000000</td>\n    </tr>\n    <tr>\n      <th>75%</th>\n      <td>0.592213</td>\n      <td>1.000000</td>\n      <td>0.000000</td>\n      <td>0.000147</td>\n      <td>0.379608</td>\n      <td>0.018182</td>\n      <td>0.326514</td>\n      <td>0.811302</td>\n      <td>0.001909</td>\n      <td>0.750000</td>\n      <td>...</td>\n      <td>0.110885</td>\n      <td>0.123073</td>\n      <td>0.003937</td>\n      <td>0.852950</td>\n      <td>0.051146</td>\n      <td>0.225993</td>\n      <td>0.037407</td>\n      <td>0.004468</td>\n      <td>1.000000</td>\n      <td>1.000000</td>\n    </tr>\n    <tr>\n      <th>max</th>\n      <td>1.000000</td>\n      <td>1.000000</td>\n      <td>1.000000</td>\n      <td>1.000000</td>\n      <td>1.000000</td>\n      <td>1.000000</td>\n      <td>1.000000</td>\n      <td>1.000000</td>\n      <td>1.000000</td>\n      <td>1.000000</td>\n      <td>...</td>\n      <td>1.000000</td>\n      <td>1.000000</td>\n      <td>1.000000</td>\n      <td>1.000000</td>\n      <td>1.000000</td>\n      <td>1.000000</td>\n      <td>1.000000</td>\n      <td>1.000000</td>\n      <td>1.000000</td>\n      <td>1.000000</td>\n    </tr>\n  </tbody>\n</table>\n<p>8 rows × 208 columns</p>\n</div>"
     },
     "execution_count": 25,
     "metadata": {},
     "output_type": "execute_result"
    }
   ],
   "source": [
    "df.describe()"
   ],
   "metadata": {
    "collapsed": false,
    "ExecuteTime": {
     "end_time": "2023-08-25T21:19:00.985850Z",
     "start_time": "2023-08-25T21:18:51.952400Z"
    }
   }
  },
  {
   "cell_type": "code",
   "execution_count": 26,
   "outputs": [
    {
     "data": {
      "text/plain": "array([1, 0], dtype=int32)"
     },
     "execution_count": 26,
     "metadata": {},
     "output_type": "execute_result"
    }
   ],
   "source": [
    "#Cheking the target values\n",
    "df['target'].unique()"
   ],
   "metadata": {
    "collapsed": false,
    "ExecuteTime": {
     "end_time": "2023-08-25T21:19:00.989386Z",
     "start_time": "2023-08-25T21:19:00.971460Z"
    }
   }
  },
  {
   "cell_type": "code",
   "execution_count": 52,
   "outputs": [
    {
     "data": {
      "text/plain": "feature_1      float64\nfeature_2      float32\nfeature_3      float32\nfeature_4      float32\nfeature_5      float64\n                ...   \nfeature_215    float32\nfeature_216    float32\nfeature_217    float32\nfeature_218    float32\ntarget           int32\nLength: 219, dtype: object"
     },
     "execution_count": 52,
     "metadata": {},
     "output_type": "execute_result"
    }
   ],
   "source": [
    "df.dtypes"
   ],
   "metadata": {
    "collapsed": false,
    "ExecuteTime": {
     "end_time": "2023-08-27T17:38:33.496544Z",
     "start_time": "2023-08-27T17:38:33.178814Z"
    }
   }
  },
  {
   "cell_type": "code",
   "execution_count": 53,
   "outputs": [
    {
     "name": "stdout",
     "output_type": "stream",
     "text": [
      "<class 'pandas.core.frame.DataFrame'>\n",
      "Index: 472422 entries, 0 to 472421\n",
      "Columns: 219 entries, feature_1 to target\n",
      "dtypes: category(10), float32(197), float64(10), int32(1), object(1)\n",
      "memory usage: 404.6+ MB\n"
     ]
    }
   ],
   "source": [
    "df.info()"
   ],
   "metadata": {
    "collapsed": false,
    "ExecuteTime": {
     "end_time": "2023-08-27T17:38:44.486448Z",
     "start_time": "2023-08-27T17:38:44.057814Z"
    }
   }
  },
  {
   "cell_type": "code",
   "execution_count": 29,
   "outputs": [
    {
     "data": {
      "text/plain": "target\n1    405956\n0     66466\nName: count, dtype: int64"
     },
     "execution_count": 29,
     "metadata": {},
     "output_type": "execute_result"
    }
   ],
   "source": [
    "#Count the targets label\n",
    "df[\"target\"].value_counts()"
   ],
   "metadata": {
    "collapsed": false,
    "ExecuteTime": {
     "end_time": "2023-08-25T21:19:01.192390Z",
     "start_time": "2023-08-25T21:19:01.020448Z"
    }
   }
  },
  {
   "cell_type": "code",
   "execution_count": 54,
   "outputs": [
    {
     "data": {
      "text/plain": "feature_2      True\nfeature_3      True\nfeature_4      True\nfeature_6      True\nfeature_9      True\n               ... \nfeature_214    True\nfeature_215    True\nfeature_216    True\nfeature_217    True\nfeature_218    True\nLength: 183, dtype: bool"
     },
     "execution_count": 54,
     "metadata": {},
     "output_type": "execute_result"
    }
   ],
   "source": [
    "# Check for null values\n",
    "is_null = df.isna().any()\n",
    "is_null[is_null]"
   ],
   "metadata": {
    "collapsed": false,
    "ExecuteTime": {
     "end_time": "2023-08-27T17:38:56.523366Z",
     "start_time": "2023-08-27T17:38:50.304556Z"
    }
   }
  },
  {
   "cell_type": "code",
   "execution_count": 55,
   "outputs": [
    {
     "data": {
      "text/plain": "feature_1          0\nfeature_2          2\nfeature_3       1168\nfeature_4      36846\nfeature_5          0\n               ...  \nfeature_215        2\nfeature_216        2\nfeature_217        2\nfeature_218     1167\ntarget             0\nLength: 219, dtype: int64"
     },
     "execution_count": 55,
     "metadata": {},
     "output_type": "execute_result"
    }
   ],
   "source": [
    "df.isna().sum()"
   ],
   "metadata": {
    "collapsed": false,
    "ExecuteTime": {
     "end_time": "2023-08-27T17:39:05.883887Z",
     "start_time": "2023-08-27T17:39:05.515683Z"
    }
   }
  },
  {
   "cell_type": "code",
   "execution_count": 50,
   "outputs": [
    {
     "data": {
      "text/plain": "feature_1         0\nfeature_2         1\nfeature_3       121\nfeature_4      4734\nfeature_5         0\n               ... \nfeature_215       1\nfeature_216       1\nfeature_217       1\nfeature_218     121\ntarget            0\nLength: 219, dtype: int64"
     },
     "execution_count": 50,
     "metadata": {},
     "output_type": "execute_result"
    }
   ],
   "source": [
    "df[df[\"target\"] == 0].isna().sum()"
   ],
   "metadata": {
    "collapsed": false,
    "ExecuteTime": {
     "end_time": "2023-08-25T22:58:11.153774Z",
     "start_time": "2023-08-25T22:58:08.961287Z"
    }
   }
  },
  {
   "cell_type": "code",
   "execution_count": 56,
   "outputs": [
    {
     "data": {
      "text/plain": "Series([], dtype: bool)"
     },
     "execution_count": 56,
     "metadata": {},
     "output_type": "execute_result"
    }
   ],
   "source": [
    "# Check for infinite values\n",
    "is_inf = df.isin([np.inf, -np.inf]).any()\n",
    "is_inf[is_inf]"
   ],
   "metadata": {
    "collapsed": false,
    "ExecuteTime": {
     "end_time": "2023-08-27T17:41:35.371993Z",
     "start_time": "2023-08-27T17:40:09.878871Z"
    }
   }
  },
  {
   "cell_type": "code",
   "execution_count": 39,
   "outputs": [
    {
     "data": {
      "text/plain": "feature_17\n(!q4.0800.54     264952\n!!j2.0270.36      83721\nF!p3.0830.72      56525\nH!k2.0340.45      24927\n*!s4.5900.54      19522\n!!l3.0370.36      11638\nJ/m2.0580.63       5048\n!!k3.0280.27       1193\nBBy4.52141.18      1108\nName: count, dtype: int64"
     },
     "execution_count": 39,
     "metadata": {},
     "output_type": "execute_result"
    }
   ],
   "source": [
    "df['feature_17'].value_counts()"
   ],
   "metadata": {
    "collapsed": false,
    "ExecuteTime": {
     "end_time": "2023-08-25T21:48:09.085819Z",
     "start_time": "2023-08-25T21:48:09.026082Z"
    }
   }
  },
  {
   "cell_type": "code",
   "execution_count": 40,
   "outputs": [
    {
     "data": {
      "text/plain": "feature_87\n[!q2.51140.71    210505\n[!p3.0990.64     159168\nYbs3.51260.71     85493\n\\!p2.5950.64       8359\neet4.51410.71      7213\nName: count, dtype: int64"
     },
     "execution_count": 40,
     "metadata": {},
     "output_type": "execute_result"
    }
   ],
   "source": [
    "df['feature_87'].value_counts()"
   ],
   "metadata": {
    "collapsed": false,
    "ExecuteTime": {
     "end_time": "2023-08-25T21:49:39.489786Z",
     "start_time": "2023-08-25T21:49:39.458135Z"
    }
   }
  },
  {
   "cell_type": "code",
   "execution_count": 41,
   "outputs": [
    {
     "data": {
      "text/plain": "feature_118\nccl2.0570.53     221937\nR!g1.0180.30     169667\npZv4.01770.92     78966\nName: count, dtype: int64"
     },
     "execution_count": 41,
     "metadata": {},
     "output_type": "execute_result"
    }
   ],
   "source": [
    "df['feature_118'].value_counts()"
   ],
   "metadata": {
    "collapsed": false,
    "ExecuteTime": {
     "end_time": "2023-08-25T21:50:56.225789Z",
     "start_time": "2023-08-25T21:50:56.175168Z"
    }
   }
  },
  {
   "cell_type": "code",
   "execution_count": 42,
   "outputs": [
    {
     "data": {
      "text/plain": "feature_119\naOn2.0890.6     165766\nw@k2.0440.4     144496\n:Ui1.5220.26     39679\nd!j2.0330.33     38669\nm6k1.5540.46     23987\npZl2.5490.4       8677\nName: count, dtype: int64"
     },
     "execution_count": 42,
     "metadata": {},
     "output_type": "execute_result"
    }
   ],
   "source": [
    "df['feature_119'].value_counts()"
   ],
   "metadata": {
    "collapsed": false,
    "ExecuteTime": {
     "end_time": "2023-08-25T21:51:08.295695Z",
     "start_time": "2023-08-25T21:51:08.270045Z"
    }
   }
  },
  {
   "cell_type": "code",
   "execution_count": 43,
   "outputs": [
    {
     "data": {
      "text/plain": "feature_139\nfPo2.5940.40     160283\n:Ui1.5220.18      97259\naOo2.5940.40      78431\nP!g1.5140.13      42915\ncct3.51690.54     22967\nccw4.02300.63      6607\nXXq3.01180.45      2056\nXXz5.02750.68      1747\nName: count, dtype: int64"
     },
     "execution_count": 43,
     "metadata": {},
     "output_type": "execute_result"
    }
   ],
   "source": [
    "df['feature_139'].value_counts()"
   ],
   "metadata": {
    "collapsed": false,
    "ExecuteTime": {
     "end_time": "2023-08-25T21:51:55.355914Z",
     "start_time": "2023-08-25T21:51:55.322960Z"
    }
   }
  },
  {
   "cell_type": "markdown",
   "source": [
    "Plots"
   ],
   "metadata": {
    "collapsed": false
   }
  },
  {
   "cell_type": "code",
   "execution_count": 44,
   "outputs": [
    {
     "data": {
      "text/plain": "feature_144\ni!y5.02200.72    292630\nbYz5.02470.77    132490\ni!v4.01770.66     47216\nYbo2.5780.44         86\nName: count, dtype: int64"
     },
     "execution_count": 44,
     "metadata": {},
     "output_type": "execute_result"
    }
   ],
   "source": [
    "df['feature_144'].value_counts()"
   ],
   "metadata": {
    "collapsed": false,
    "ExecuteTime": {
     "end_time": "2023-08-25T21:52:05.148116Z",
     "start_time": "2023-08-25T21:52:05.115618Z"
    }
   }
  },
  {
   "cell_type": "code",
   "execution_count": 45,
   "outputs": [
    {
     "data": {
      "text/plain": "feature_147\nYby5.52060.70    119252\nZ!h1.5210.23     107595\n^1a5.02760.88     82160\nccp3.5890.47      60797\nYbs3.51460.64     60150\nMMp3.01010.52     41295\nName: count, dtype: int64"
     },
     "execution_count": 45,
     "metadata": {},
     "output_type": "execute_result"
    }
   ],
   "source": [
    "df['feature_147'].value_counts()"
   ],
   "metadata": {
    "collapsed": false,
    "ExecuteTime": {
     "end_time": "2023-08-25T21:52:22.502894Z",
     "start_time": "2023-08-25T21:52:22.478112Z"
    }
   }
  },
  {
   "cell_type": "code",
   "execution_count": 46,
   "outputs": [
    {
     "data": {
      "text/plain": "feature_158\nMMl2.0450.37     74226\nT0n2.5630.43     72037\nWNq3.01000.56    69522\nT0n2.0730.5      66196\nF!l2.0450.37     65922\nS&p3.0830.5      62558\nS&l2.0450.37     60794\nName: count, dtype: int64"
     },
     "execution_count": 46,
     "metadata": {},
     "output_type": "execute_result"
    }
   ],
   "source": [
    "df['feature_158'].value_counts()"
   ],
   "metadata": {
    "collapsed": false,
    "ExecuteTime": {
     "end_time": "2023-08-25T21:52:48.933814Z",
     "start_time": "2023-08-25T21:52:48.916881Z"
    }
   }
  },
  {
   "cell_type": "code",
   "execution_count": 47,
   "outputs": [
    {
     "data": {
      "text/plain": "feature_159\neeq3.51060.56    73056\n_;w4.02040.81    72339\nh&h7.04251.12    68745\n](r3.01190.62    67578\nYba5.52580.87    60967\naOv4.01770.75    36907\ng;t3.51470.68    20269\nXXv4.01770.75    12016\nfPy4.52380.87    11536\nkag1.0180.25     10578\naOw4.52100.81     8532\n\\!v4.01770.75     7412\nNWr3.01190.62     6609\nh&j2.0330.31      4983\njuq3.01000.56     4649\nccq3.01000.56     3029\nVDq3.01000.56     1555\nYbv4.01770.75      489\nName: count, dtype: int64"
     },
     "execution_count": 47,
     "metadata": {},
     "output_type": "execute_result"
    }
   ],
   "source": [
    "df['feature_159'].value_counts()"
   ],
   "metadata": {
    "collapsed": false,
    "ExecuteTime": {
     "end_time": "2023-08-25T21:52:59.761068Z",
     "start_time": "2023-08-25T21:52:59.742933Z"
    }
   }
  },
  {
   "cell_type": "code",
   "execution_count": 48,
   "outputs": [
    {
     "data": {
      "text/plain": "feature_195\n^1s7.58460.9     204258\n^1w8.59900.96    152138\neec5.03120.53     43697\ncck7.05400.7      36615\nYby5.02200.43     24485\nm6z5.02470.46     10954\n_;n8.55530.66       230\npZu9.07960.83        43\nName: count, dtype: int64"
     },
     "execution_count": 48,
     "metadata": {},
     "output_type": "execute_result"
    }
   ],
   "source": [
    "df['feature_195'].value_counts()"
   ],
   "metadata": {
    "collapsed": false,
    "ExecuteTime": {
     "end_time": "2023-08-25T21:54:17.681376Z",
     "start_time": "2023-08-25T21:54:17.650457Z"
    }
   }
  },
  {
   "cell_type": "code",
   "execution_count": 51,
   "outputs": [
    {
     "data": {
      "text/plain": "feature_148\nGeralt                                     41876\nLink_Ned_Leia                              36687\nKratos_Ned_Leia                            33308\nMario_Ned_Leia                             29369\nKratos_Jon                                 25306\nLink_Jon                                   23388\nMasterChief_Ned_Leia                       21842\nCrashBandicoot_Ned_Leia                    20523\nLink_Arya_Leia                             18946\nJoel_Ned_Leia                              18544\nMario_Jon                                  16964\nKratos_Arya_Leia                           15932\nMario_Arya_Leia                            14391\nJoel_Jon                                   14276\nCrashBandicoot_Jon                         14215\nMasterChief_Jon                            13601\nMasterChief_Arya_Leia                      10892\nCrashBandicoot_Arya_Leia                    9760\nLink_Daenerys                               9263\nKratos_Daenerys                             8566\nJoel_Arya_Leia                              8495\nMario_Daenerys                              7223\nJoel_Daenerys                               6941\nMasterChief_Daenerys                        5666\nLink_Cersei_Han_Aragorn                     5556\nCrashBandicoot_Daenerys                     5251\nKratos_Cersei_Han_Aragorn                   4483\nMario_Cersei_Han_Aragorn                    4379\nMasterChief_Cersei_Han_Aragorn              3157\nCrashBandicoot_Cersei_Han_Aragorn           2772\nJoel_Cersei_Han_Aragorn                     2620\nKratos_Tyrion                               1908\nLink_Tyrion                                 1716\nLink_Cersei_Luke_Aragorn                    1566\nMario_Cersei_Luke_Aragorn                   1303\nKratos_Cersei_Luke_Aragorn                  1209\nCrashBandicoot_Tyrion                       1147\nMario_Tyrion                                1126\nJoel_Tyrion                                 1023\nMasterChief_Cersei_Luke_Aragorn              898\nMasterChief_Tyrion                           893\nJoel_Cersei_Luke_Aragorn                     861\nCrashBandicoot_Cersei_Luke_Aragorn           768\nLink_Cersei_Yoda_Frodo                       485\nLink_Cersei_Vader_Gandalf_Dog                402\nMario_Cersei_Yoda_Frodo                      390\nKratos_Cersei_Yoda_Frodo                     385\nMario_Cersei_Vader_Gandalf_Dog               338\nKratos_Cersei_Vader_Gandalf_Dog              315\nMasterChief_Cersei_Yoda_Frodo                282\nMasterChief_Cersei_Vader_Gandalf_Dog         272\nJoel_Cersei_Yoda_Frodo                       262\nCrashBandicoot_Cersei_Yoda_Frodo             252\nJoel_Cersei_Vader_Gandalf_Dog                217\nCrashBandicoot_Cersei_Vader_Gandalf_Dog      203\nSonic_Ned_Leia                                 4\nSonic_Arya_Leia                                3\nSonic_Daenerys                                 2\nName: count, dtype: int64"
     },
     "execution_count": 51,
     "metadata": {},
     "output_type": "execute_result"
    }
   ],
   "source": [
    "df['feature_148'].value_counts()"
   ],
   "metadata": {
    "collapsed": false,
    "ExecuteTime": {
     "end_time": "2023-08-26T00:08:42.973365Z",
     "start_time": "2023-08-26T00:08:42.633029Z"
    }
   }
  },
  {
   "cell_type": "code",
   "execution_count": 36,
   "outputs": [],
   "source": [
    "# #Plot the features\n",
    "# plt.figure(figsize=(15, 20))\n",
    "#\n",
    "# # Enumerate to get both feature name and index\n",
    "# for index, feature in enumerate(df.columns, start=1):\n",
    "#     plt.subplot(104, 2, index)\n",
    "#     sns.histplot(x=feature, data=df, kde=True)\n",
    "#     plt.title(feature)\n",
    "#\n",
    "# plt.tight_layout()\n",
    "# plt.show()"
   ],
   "metadata": {
    "collapsed": false,
    "ExecuteTime": {
     "end_time": "2023-08-25T21:34:47.677635Z",
     "start_time": "2023-08-25T21:34:47.586371Z"
    }
   }
  },
  {
   "cell_type": "code",
   "execution_count": 33,
   "outputs": [
    {
     "data": {
      "text/plain": "<Figure size 800x500 with 1 Axes>",
      "image/png": "[encoded data removed]"
     },
     "metadata": {},
     "output_type": "display_data"
    }
   ],
   "source": [
    "#Plot based in the target\n",
    "target = df['target'].value_counts()\n",
    "\n",
    "plt.figure(figsize=(8, 5))\n",
    "sns.barplot(x=target.index, y=target.values)\n",
    "plt.xticks(rotation=90)\n",
    "plt.ylabel('Count')\n",
    "plt.show()"
   ],
   "metadata": {
    "collapsed": false,
    "ExecuteTime": {
     "end_time": "2023-08-25T21:19:46.459531Z",
     "start_time": "2023-08-25T21:19:46.030288Z"
    }
   }
  },
  {
   "cell_type": "code",
   "execution_count": 37,
   "outputs": [],
   "source": [
    "# features = df.drop(\"target\", axis=1)\n",
    "#\n",
    "# plt.figure(figsize=(12,32))\n",
    "# gs = gridspec.GridSpec(10, 2)\n",
    "# gs.update(hspace=0.8)\n",
    "#\n",
    "# for i, f in enumerate(features):\n",
    "#     ax = plt.subplot(gs[i])\n",
    "#     sns.distplot(df[f][df[\"target\"] == 1])\n",
    "#     sns.distplot(df[f][df[\"target\"] == 0])\n",
    "#     ax.set_xlabel('')\n",
    "#     ax.set_title('feature: ' + str(f))\n",
    "#\n",
    "# plt.show()"
   ],
   "metadata": {
    "collapsed": false,
    "ExecuteTime": {
     "end_time": "2023-08-25T21:34:50.244726Z",
     "start_time": "2023-08-25T21:34:50.233438Z"
    }
   }
  },
  {
   "cell_type": "code",
   "execution_count": null,
   "outputs": [],
   "source": [],
   "metadata": {
    "collapsed": false
   }
  }
 ],
 "metadata": {
  "kernelspec": {
   "display_name": "Python 3",
   "language": "python",
   "name": "python3"
  },
  "language_info": {
   "codemirror_mode": {
    "name": "ipython",
    "version": 2
   },
   "file_extension": ".py",
   "mimetype": "text/x-python",
   "name": "python",
   "nbconvert_exporter": "python",
   "pygments_lexer": "ipython2",
   "version": "2.7.6"
  }
 },
 "nbformat": 4,
 "nbformat_minor": 0
}
